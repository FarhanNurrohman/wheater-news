{
  "nbformat": 4,
  "nbformat_minor": 0,
  "metadata": {
    "colab": {
      "provenance": []
    },
    "kernelspec": {
      "name": "python3",
      "display_name": "Python 3"
    },
    "language_info": {
      "name": "python"
    }
  },
  "cells": [
    {
      "cell_type": "markdown",
      "source": [
        "## Helper Function"
      ],
      "metadata": {
        "id": "DEUOXg4PXE4S"
      }
    },
    {
      "cell_type": "code",
      "execution_count": null,
      "metadata": {
        "id": "j_Ao8S8lOrbB"
      },
      "outputs": [],
      "source": [
        "def create_tensorboard_callback(dir_name, experiment_name):\n",
        "  \"\"\"\n",
        "  Creates a TensorBoard callback instand to store log files.\n",
        "\n",
        "  Stores log files with the filepath:\n",
        "    \"dir_name/experiment_name/current_datetime/\"\n",
        "\n",
        "  Args:\n",
        "    dir_name: target directory to store TensorBoard log files\n",
        "    experiment_name: name of experiment directory (e.g. efficientnet_model_1)\n",
        "  \"\"\"\n",
        "  log_dir = dir_name + \"/\" + experiment_name + \"/\" + datetime.datetime.now().strftime(\"%Y%m%d-%H%M%S\")\n",
        "  tensorboard_callback = tf.keras.callbacks.TensorBoard(\n",
        "      log_dir=log_dir\n",
        "  )\n",
        "  print(f\"Saving TensorBoard log files to: {log_dir}\")\n",
        "  return tensorboard_callback\n",
        "\n",
        "\n",
        "import matplotlib.pyplot as plt\n",
        "\n",
        "def plot_loss_curves(history):\n",
        "  \"\"\"\n",
        "  Returns separate loss curves for training and validation metrics.\n",
        "\n",
        "  Args:\n",
        "    history: TensorFlow model History object (see: https://www.tensorflow.org/api_docs/python/tf/keras/callbacks/History)\n",
        "  \"\"\"\n",
        "  loss = history.history['loss']\n",
        "  val_loss = history.history['val_loss']\n",
        "\n",
        "  accuracy = history.history['accuracy']\n",
        "  val_accuracy = history.history['val_accuracy']\n",
        "\n",
        "  epochs = range(len(history.history['loss']))\n",
        "\n",
        "\n",
        "  plt.plot(epochs, loss, label='training_loss')\n",
        "  plt.plot(epochs, val_loss, label='val_loss')\n",
        "  plt.title('Loss')\n",
        "  plt.xlabel('Epochs')\n",
        "  plt.legend()\n",
        "\n",
        "\n",
        "  plt.figure()\n",
        "  plt.plot(epochs, accuracy, label='training_accuracy')\n",
        "  plt.plot(epochs, val_accuracy, label='val_accuracy')\n",
        "  plt.title('Accuracy')\n",
        "  plt.xlabel('Epochs')\n",
        "  plt.legend();\n",
        "\n",
        "def compare_historys(original_history, new_history, initial_epochs=5):\n",
        "    \"\"\"\n",
        "    Compares two TensorFlow model History objects.\n",
        "\n",
        "    Args:\n",
        "      original_history: History object from original model (before new_history)\n",
        "      new_history: History object from continued model training (after original_history)\n",
        "      initial_epochs: Number of epochs in original_history (new_history plot starts from here)\n",
        "    \"\"\"\n",
        "\n",
        "    # Get original history measurements\n",
        "    acc = original_history.history[\"accuracy\"]\n",
        "    loss = original_history.history[\"loss\"]\n",
        "\n",
        "    val_acc = original_history.history[\"val_accuracy\"]\n",
        "    val_loss = original_history.history[\"val_loss\"]\n",
        "\n",
        "    # Combine original history with new history\n",
        "    total_acc = acc + new_history.history[\"accuracy\"]\n",
        "    total_loss = loss + new_history.history[\"loss\"]\n",
        "\n",
        "    total_val_acc = val_acc + new_history.history[\"val_accuracy\"]\n",
        "    total_val_loss = val_loss + new_history.history[\"val_loss\"]\n",
        "\n",
        "    # Make plots\n",
        "    plt.figure(figsize=(8, 8))\n",
        "    plt.subplot(2, 1, 1)\n",
        "    plt.plot(total_acc, label='Training Accuracy')\n",
        "    plt.plot(total_val_acc, label='Validation Accuracy')\n",
        "    plt.plot([initial_epochs-1, initial_epochs-1],\n",
        "              plt.ylim(), label='Start Fine Tuning') # reshift plot around epochs\n",
        "    plt.legend(loc='lower right')\n",
        "    plt.title('Training and Validation Accuracy')\n",
        "\n",
        "    plt.subplot(2, 1, 2)\n",
        "    plt.plot(total_loss, label='Training Loss')\n",
        "    plt.plot(total_val_loss, label='Validation Loss')\n",
        "    plt.plot([initial_epochs-1, initial_epochs-1],\n",
        "              plt.ylim(), label='Start Fine Tuning') # reshift plot around epochs\n",
        "    plt.legend(loc='upper right')\n",
        "    plt.title('Training and Validation Loss')\n",
        "    plt.xlabel('epoch')\n",
        "    plt.show()\n",
        "\n",
        "# Create function to unzip a zipfile into current working directory\n",
        "# (since we're going to be downloading and unzipping a few files)\n",
        "import zipfile\n",
        "\n",
        "def unzip_data(filename):\n",
        "  \"\"\"\n",
        "  Unzips filename into the current working directory.\n",
        "\n",
        "  Args:\n",
        "    filename (str): a filepath to a target zip folder to be unzipped.\n",
        "  \"\"\"\n",
        "  zip_ref = zipfile.ZipFile(filename, \"r\")\n",
        "  zip_ref.extractall()\n",
        "  zip_ref.close()\n",
        "\n",
        "# Walk through an image classification directory and find out how many files (images)\n",
        "# are in each subdirectory.\n",
        "import os\n",
        "\n",
        "def walk_through_dir(dir_path):\n",
        "  \"\"\"\n",
        "  Walks through dir_path returning its contents.\n",
        "\n",
        "  Args:\n",
        "    dir_path (str): target directory\n",
        "\n",
        "  Returns:\n",
        "    A print out of:\n",
        "      number of subdiretories in dir_path\n",
        "      number of images (files) in each subdirectory\n",
        "      name of each subdirectory\n",
        "  \"\"\"\n",
        "  for dirpath, dirnames, filenames in os.walk(dir_path):\n",
        "    print(f\"There are {len(dirnames)} directories and {len(filenames)} images in '{dirpath}'.\")\n",
        "\n",
        "# Function to evaluate: accuracy, precision, recall, f1-score\n",
        "from sklearn.metrics import accuracy_score, precision_recall_fscore_support\n",
        "\n",
        "def calculate_results(y_true, y_pred):\n",
        "  \"\"\"\n",
        "  Calculates model accuracy, precision, recall and f1 score of a binary classification model.\n",
        "\n",
        "  Args:\n",
        "      y_true: true labels in the form of a 1D array\n",
        "      y_pred: predicted labels in the form of a 1D array\n",
        "\n",
        "  Returns a dictionary of accuracy, precision, recall, f1-score.\n",
        "  \"\"\"\n",
        "  # Calculate model accuracy\n",
        "  model_accuracy = accuracy_score(y_true, y_pred) * 100\n",
        "  # Calculate model precision, recall and f1 score using \"weighted average\n",
        "  model_precision, model_recall, model_f1, _ = precision_recall_fscore_support(y_true, y_pred, average=\"weighted\")\n",
        "  model_results = {\"accuracy\": model_accuracy,\n",
        "                  \"precision\": model_precision,\n",
        "                  \"recall\": model_recall,\n",
        "                  \"f1\": model_f1}\n",
        "  return model_results"
      ]
    },
    {
      "cell_type": "markdown",
      "source": [
        "## Get text datasets"
      ],
      "metadata": {
        "id": "ehlZP_D-YIfS"
      }
    },
    {
      "cell_type": "code",
      "source": [
        "import tensorflow as tf\n",
        "import itertools\n",
        "import matplotlib.pyplot as plt\n",
        "import numpy as np\n",
        "from sklearn.metrics import confusion_matrix\n",
        "import datetime\n"
      ],
      "metadata": {
        "id": "zAnIADjlXfIy"
      },
      "execution_count": null,
      "outputs": []
    },
    {
      "cell_type": "code",
      "source": [
        "!wget https://storage.googleapis.com/ztm_tf_course/nlp_getting_started.zip"
      ],
      "metadata": {
        "colab": {
          "base_uri": "https://localhost:8080/"
        },
        "id": "8BZdV7iZXdc1",
        "outputId": "24040bc3-7cf3-4076-b404-5b6ee44128f3"
      },
      "execution_count": null,
      "outputs": [
        {
          "output_type": "stream",
          "name": "stdout",
          "text": [
            "--2024-12-29 09:58:42--  https://storage.googleapis.com/ztm_tf_course/nlp_getting_started.zip\n",
            "Resolving storage.googleapis.com (storage.googleapis.com)... 173.194.215.207, 173.194.216.207, 173.194.217.207, ...\n",
            "Connecting to storage.googleapis.com (storage.googleapis.com)|173.194.215.207|:443... connected.\n",
            "HTTP request sent, awaiting response... 200 OK\n",
            "Length: 607343 (593K) [application/zip]\n",
            "Saving to: ‘nlp_getting_started.zip’\n",
            "\n",
            "nlp_getting_started 100%[===================>] 593.11K  --.-KB/s    in 0.008s  \n",
            "\n",
            "2024-12-29 09:58:42 (70.0 MB/s) - ‘nlp_getting_started.zip’ saved [607343/607343]\n",
            "\n"
          ]
        }
      ]
    },
    {
      "cell_type": "code",
      "source": [
        "unzip_data(\"nlp_getting_started.zip\")"
      ],
      "metadata": {
        "id": "Ug9vqAxwYj4v"
      },
      "execution_count": null,
      "outputs": []
    },
    {
      "cell_type": "markdown",
      "source": [
        "## Visualizing the dataset"
      ],
      "metadata": {
        "id": "Ow0366CvYpKX"
      }
    },
    {
      "cell_type": "code",
      "source": [
        "import pandas as pd"
      ],
      "metadata": {
        "id": "3l7KhuESZXTO"
      },
      "execution_count": null,
      "outputs": []
    },
    {
      "cell_type": "code",
      "source": [
        "train_df = pd.read_csv(\"train.csv\")\n",
        "test_df = pd.read_csv(\"test.csv\")"
      ],
      "metadata": {
        "id": "PmBoHbjSPCBi"
      },
      "execution_count": null,
      "outputs": []
    },
    {
      "cell_type": "code",
      "source": [
        "train_df.head()"
      ],
      "metadata": {
        "colab": {
          "base_uri": "https://localhost:8080/",
          "height": 206
        },
        "id": "Boegsj_DPLIE",
        "outputId": "27ceaabe-a0d8-4ff3-a30b-ff59bc6ecc84"
      },
      "execution_count": null,
      "outputs": [
        {
          "output_type": "execute_result",
          "data": {
            "text/plain": [
              "   id keyword location                                               text  \\\n",
              "0   1     NaN      NaN  Our Deeds are the Reason of this #earthquake M...   \n",
              "1   4     NaN      NaN             Forest fire near La Ronge Sask. Canada   \n",
              "2   5     NaN      NaN  All residents asked to 'shelter in place' are ...   \n",
              "3   6     NaN      NaN  13,000 people receive #wildfires evacuation or...   \n",
              "4   7     NaN      NaN  Just got sent this photo from Ruby #Alaska as ...   \n",
              "\n",
              "   target  \n",
              "0       1  \n",
              "1       1  \n",
              "2       1  \n",
              "3       1  \n",
              "4       1  "
            ],
            "text/html": [
              "\n",
              "  <div id=\"df-a0c6da98-05b0-42ba-9a47-893304d6786e\" class=\"colab-df-container\">\n",
              "    <div>\n",
              "<style scoped>\n",
              "    .dataframe tbody tr th:only-of-type {\n",
              "        vertical-align: middle;\n",
              "    }\n",
              "\n",
              "    .dataframe tbody tr th {\n",
              "        vertical-align: top;\n",
              "    }\n",
              "\n",
              "    .dataframe thead th {\n",
              "        text-align: right;\n",
              "    }\n",
              "</style>\n",
              "<table border=\"1\" class=\"dataframe\">\n",
              "  <thead>\n",
              "    <tr style=\"text-align: right;\">\n",
              "      <th></th>\n",
              "      <th>id</th>\n",
              "      <th>keyword</th>\n",
              "      <th>location</th>\n",
              "      <th>text</th>\n",
              "      <th>target</th>\n",
              "    </tr>\n",
              "  </thead>\n",
              "  <tbody>\n",
              "    <tr>\n",
              "      <th>0</th>\n",
              "      <td>1</td>\n",
              "      <td>NaN</td>\n",
              "      <td>NaN</td>\n",
              "      <td>Our Deeds are the Reason of this #earthquake M...</td>\n",
              "      <td>1</td>\n",
              "    </tr>\n",
              "    <tr>\n",
              "      <th>1</th>\n",
              "      <td>4</td>\n",
              "      <td>NaN</td>\n",
              "      <td>NaN</td>\n",
              "      <td>Forest fire near La Ronge Sask. Canada</td>\n",
              "      <td>1</td>\n",
              "    </tr>\n",
              "    <tr>\n",
              "      <th>2</th>\n",
              "      <td>5</td>\n",
              "      <td>NaN</td>\n",
              "      <td>NaN</td>\n",
              "      <td>All residents asked to 'shelter in place' are ...</td>\n",
              "      <td>1</td>\n",
              "    </tr>\n",
              "    <tr>\n",
              "      <th>3</th>\n",
              "      <td>6</td>\n",
              "      <td>NaN</td>\n",
              "      <td>NaN</td>\n",
              "      <td>13,000 people receive #wildfires evacuation or...</td>\n",
              "      <td>1</td>\n",
              "    </tr>\n",
              "    <tr>\n",
              "      <th>4</th>\n",
              "      <td>7</td>\n",
              "      <td>NaN</td>\n",
              "      <td>NaN</td>\n",
              "      <td>Just got sent this photo from Ruby #Alaska as ...</td>\n",
              "      <td>1</td>\n",
              "    </tr>\n",
              "  </tbody>\n",
              "</table>\n",
              "</div>\n",
              "    <div class=\"colab-df-buttons\">\n",
              "\n",
              "  <div class=\"colab-df-container\">\n",
              "    <button class=\"colab-df-convert\" onclick=\"convertToInteractive('df-a0c6da98-05b0-42ba-9a47-893304d6786e')\"\n",
              "            title=\"Convert this dataframe to an interactive table.\"\n",
              "            style=\"display:none;\">\n",
              "\n",
              "  <svg xmlns=\"http://www.w3.org/2000/svg\" height=\"24px\" viewBox=\"0 -960 960 960\">\n",
              "    <path d=\"M120-120v-720h720v720H120Zm60-500h600v-160H180v160Zm220 220h160v-160H400v160Zm0 220h160v-160H400v160ZM180-400h160v-160H180v160Zm440 0h160v-160H620v160ZM180-180h160v-160H180v160Zm440 0h160v-160H620v160Z\"/>\n",
              "  </svg>\n",
              "    </button>\n",
              "\n",
              "  <style>\n",
              "    .colab-df-container {\n",
              "      display:flex;\n",
              "      gap: 12px;\n",
              "    }\n",
              "\n",
              "    .colab-df-convert {\n",
              "      background-color: #E8F0FE;\n",
              "      border: none;\n",
              "      border-radius: 50%;\n",
              "      cursor: pointer;\n",
              "      display: none;\n",
              "      fill: #1967D2;\n",
              "      height: 32px;\n",
              "      padding: 0 0 0 0;\n",
              "      width: 32px;\n",
              "    }\n",
              "\n",
              "    .colab-df-convert:hover {\n",
              "      background-color: #E2EBFA;\n",
              "      box-shadow: 0px 1px 2px rgba(60, 64, 67, 0.3), 0px 1px 3px 1px rgba(60, 64, 67, 0.15);\n",
              "      fill: #174EA6;\n",
              "    }\n",
              "\n",
              "    .colab-df-buttons div {\n",
              "      margin-bottom: 4px;\n",
              "    }\n",
              "\n",
              "    [theme=dark] .colab-df-convert {\n",
              "      background-color: #3B4455;\n",
              "      fill: #D2E3FC;\n",
              "    }\n",
              "\n",
              "    [theme=dark] .colab-df-convert:hover {\n",
              "      background-color: #434B5C;\n",
              "      box-shadow: 0px 1px 3px 1px rgba(0, 0, 0, 0.15);\n",
              "      filter: drop-shadow(0px 1px 2px rgba(0, 0, 0, 0.3));\n",
              "      fill: #FFFFFF;\n",
              "    }\n",
              "  </style>\n",
              "\n",
              "    <script>\n",
              "      const buttonEl =\n",
              "        document.querySelector('#df-a0c6da98-05b0-42ba-9a47-893304d6786e button.colab-df-convert');\n",
              "      buttonEl.style.display =\n",
              "        google.colab.kernel.accessAllowed ? 'block' : 'none';\n",
              "\n",
              "      async function convertToInteractive(key) {\n",
              "        const element = document.querySelector('#df-a0c6da98-05b0-42ba-9a47-893304d6786e');\n",
              "        const dataTable =\n",
              "          await google.colab.kernel.invokeFunction('convertToInteractive',\n",
              "                                                    [key], {});\n",
              "        if (!dataTable) return;\n",
              "\n",
              "        const docLinkHtml = 'Like what you see? Visit the ' +\n",
              "          '<a target=\"_blank\" href=https://colab.research.google.com/notebooks/data_table.ipynb>data table notebook</a>'\n",
              "          + ' to learn more about interactive tables.';\n",
              "        element.innerHTML = '';\n",
              "        dataTable['output_type'] = 'display_data';\n",
              "        await google.colab.output.renderOutput(dataTable, element);\n",
              "        const docLink = document.createElement('div');\n",
              "        docLink.innerHTML = docLinkHtml;\n",
              "        element.appendChild(docLink);\n",
              "      }\n",
              "    </script>\n",
              "  </div>\n",
              "\n",
              "\n",
              "<div id=\"df-ee55a220-4fab-4b03-bf4e-6351ad971207\">\n",
              "  <button class=\"colab-df-quickchart\" onclick=\"quickchart('df-ee55a220-4fab-4b03-bf4e-6351ad971207')\"\n",
              "            title=\"Suggest charts\"\n",
              "            style=\"display:none;\">\n",
              "\n",
              "<svg xmlns=\"http://www.w3.org/2000/svg\" height=\"24px\"viewBox=\"0 0 24 24\"\n",
              "     width=\"24px\">\n",
              "    <g>\n",
              "        <path d=\"M19 3H5c-1.1 0-2 .9-2 2v14c0 1.1.9 2 2 2h14c1.1 0 2-.9 2-2V5c0-1.1-.9-2-2-2zM9 17H7v-7h2v7zm4 0h-2V7h2v10zm4 0h-2v-4h2v4z\"/>\n",
              "    </g>\n",
              "</svg>\n",
              "  </button>\n",
              "\n",
              "<style>\n",
              "  .colab-df-quickchart {\n",
              "      --bg-color: #E8F0FE;\n",
              "      --fill-color: #1967D2;\n",
              "      --hover-bg-color: #E2EBFA;\n",
              "      --hover-fill-color: #174EA6;\n",
              "      --disabled-fill-color: #AAA;\n",
              "      --disabled-bg-color: #DDD;\n",
              "  }\n",
              "\n",
              "  [theme=dark] .colab-df-quickchart {\n",
              "      --bg-color: #3B4455;\n",
              "      --fill-color: #D2E3FC;\n",
              "      --hover-bg-color: #434B5C;\n",
              "      --hover-fill-color: #FFFFFF;\n",
              "      --disabled-bg-color: #3B4455;\n",
              "      --disabled-fill-color: #666;\n",
              "  }\n",
              "\n",
              "  .colab-df-quickchart {\n",
              "    background-color: var(--bg-color);\n",
              "    border: none;\n",
              "    border-radius: 50%;\n",
              "    cursor: pointer;\n",
              "    display: none;\n",
              "    fill: var(--fill-color);\n",
              "    height: 32px;\n",
              "    padding: 0;\n",
              "    width: 32px;\n",
              "  }\n",
              "\n",
              "  .colab-df-quickchart:hover {\n",
              "    background-color: var(--hover-bg-color);\n",
              "    box-shadow: 0 1px 2px rgba(60, 64, 67, 0.3), 0 1px 3px 1px rgba(60, 64, 67, 0.15);\n",
              "    fill: var(--button-hover-fill-color);\n",
              "  }\n",
              "\n",
              "  .colab-df-quickchart-complete:disabled,\n",
              "  .colab-df-quickchart-complete:disabled:hover {\n",
              "    background-color: var(--disabled-bg-color);\n",
              "    fill: var(--disabled-fill-color);\n",
              "    box-shadow: none;\n",
              "  }\n",
              "\n",
              "  .colab-df-spinner {\n",
              "    border: 2px solid var(--fill-color);\n",
              "    border-color: transparent;\n",
              "    border-bottom-color: var(--fill-color);\n",
              "    animation:\n",
              "      spin 1s steps(1) infinite;\n",
              "  }\n",
              "\n",
              "  @keyframes spin {\n",
              "    0% {\n",
              "      border-color: transparent;\n",
              "      border-bottom-color: var(--fill-color);\n",
              "      border-left-color: var(--fill-color);\n",
              "    }\n",
              "    20% {\n",
              "      border-color: transparent;\n",
              "      border-left-color: var(--fill-color);\n",
              "      border-top-color: var(--fill-color);\n",
              "    }\n",
              "    30% {\n",
              "      border-color: transparent;\n",
              "      border-left-color: var(--fill-color);\n",
              "      border-top-color: var(--fill-color);\n",
              "      border-right-color: var(--fill-color);\n",
              "    }\n",
              "    40% {\n",
              "      border-color: transparent;\n",
              "      border-right-color: var(--fill-color);\n",
              "      border-top-color: var(--fill-color);\n",
              "    }\n",
              "    60% {\n",
              "      border-color: transparent;\n",
              "      border-right-color: var(--fill-color);\n",
              "    }\n",
              "    80% {\n",
              "      border-color: transparent;\n",
              "      border-right-color: var(--fill-color);\n",
              "      border-bottom-color: var(--fill-color);\n",
              "    }\n",
              "    90% {\n",
              "      border-color: transparent;\n",
              "      border-bottom-color: var(--fill-color);\n",
              "    }\n",
              "  }\n",
              "</style>\n",
              "\n",
              "  <script>\n",
              "    async function quickchart(key) {\n",
              "      const quickchartButtonEl =\n",
              "        document.querySelector('#' + key + ' button');\n",
              "      quickchartButtonEl.disabled = true;  // To prevent multiple clicks.\n",
              "      quickchartButtonEl.classList.add('colab-df-spinner');\n",
              "      try {\n",
              "        const charts = await google.colab.kernel.invokeFunction(\n",
              "            'suggestCharts', [key], {});\n",
              "      } catch (error) {\n",
              "        console.error('Error during call to suggestCharts:', error);\n",
              "      }\n",
              "      quickchartButtonEl.classList.remove('colab-df-spinner');\n",
              "      quickchartButtonEl.classList.add('colab-df-quickchart-complete');\n",
              "    }\n",
              "    (() => {\n",
              "      let quickchartButtonEl =\n",
              "        document.querySelector('#df-ee55a220-4fab-4b03-bf4e-6351ad971207 button');\n",
              "      quickchartButtonEl.style.display =\n",
              "        google.colab.kernel.accessAllowed ? 'block' : 'none';\n",
              "    })();\n",
              "  </script>\n",
              "</div>\n",
              "\n",
              "    </div>\n",
              "  </div>\n"
            ],
            "application/vnd.google.colaboratory.intrinsic+json": {
              "type": "dataframe",
              "variable_name": "train_df",
              "summary": "{\n  \"name\": \"train_df\",\n  \"rows\": 7613,\n  \"fields\": [\n    {\n      \"column\": \"id\",\n      \"properties\": {\n        \"dtype\": \"number\",\n        \"std\": 3137,\n        \"min\": 1,\n        \"max\": 10873,\n        \"num_unique_values\": 7613,\n        \"samples\": [\n          3796,\n          3185,\n          7769\n        ],\n        \"semantic_type\": \"\",\n        \"description\": \"\"\n      }\n    },\n    {\n      \"column\": \"keyword\",\n      \"properties\": {\n        \"dtype\": \"category\",\n        \"num_unique_values\": 221,\n        \"samples\": [\n          \"injury\",\n          \"nuclear%20reactor\",\n          \"engulfed\"\n        ],\n        \"semantic_type\": \"\",\n        \"description\": \"\"\n      }\n    },\n    {\n      \"column\": \"location\",\n      \"properties\": {\n        \"dtype\": \"category\",\n        \"num_unique_values\": 3341,\n        \"samples\": [\n          \"Oklahoma\",\n          \"Starling City\",\n          \"Trinidad and Tobago\"\n        ],\n        \"semantic_type\": \"\",\n        \"description\": \"\"\n      }\n    },\n    {\n      \"column\": \"text\",\n      \"properties\": {\n        \"dtype\": \"string\",\n        \"num_unique_values\": 7503,\n        \"samples\": [\n          \"Three Homes Demolished in Unrecognized Arab Village - International Middle East Media Center http://t.co/ik8m4Yi9T4\",\n          \"Reid Lake fire prompts campground evacuation order http://t.co/jBODKM6rBU\",\n          \"FAAN orders evacuation of abandoned aircraft at MMA http://t.co/dEvYbnVXGQ via @todayng\"\n        ],\n        \"semantic_type\": \"\",\n        \"description\": \"\"\n      }\n    },\n    {\n      \"column\": \"target\",\n      \"properties\": {\n        \"dtype\": \"number\",\n        \"std\": 0,\n        \"min\": 0,\n        \"max\": 1,\n        \"num_unique_values\": 2,\n        \"samples\": [\n          0,\n          1\n        ],\n        \"semantic_type\": \"\",\n        \"description\": \"\"\n      }\n    }\n  ]\n}"
            }
          },
          "metadata": {},
          "execution_count": 7
        }
      ]
    },
    {
      "cell_type": "code",
      "source": [
        "train_df_shuffled = train_df.sample(frac=1, random_state=42)\n",
        "train_df_shuffled.head()"
      ],
      "metadata": {
        "colab": {
          "base_uri": "https://localhost:8080/",
          "height": 206
        },
        "id": "H3V-GHRrPN6-",
        "outputId": "ab50f3a8-c046-4799-c0dc-63ec3e773de0"
      },
      "execution_count": null,
      "outputs": [
        {
          "output_type": "execute_result",
          "data": {
            "text/plain": [
              "        id      keyword               location  \\\n",
              "2644  3796  destruction                    NaN   \n",
              "2227  3185       deluge                    NaN   \n",
              "5448  7769       police                     UK   \n",
              "132    191   aftershock                    NaN   \n",
              "6845  9810       trauma  Montgomery County, MD   \n",
              "\n",
              "                                                   text  target  \n",
              "2644  So you have a new weapon that can cause un-ima...       1  \n",
              "2227  The f$&amp;@ing things I do for #GISHWHES Just...       0  \n",
              "5448  DT @georgegalloway: RT @Galloway4Mayor: ÛÏThe...       1  \n",
              "132   Aftershock back to school kick off was great. ...       0  \n",
              "6845  in response to trauma Children of Addicts deve...       0  "
            ],
            "text/html": [
              "\n",
              "  <div id=\"df-2052f625-68bd-4fe0-89a9-479dd04ff680\" class=\"colab-df-container\">\n",
              "    <div>\n",
              "<style scoped>\n",
              "    .dataframe tbody tr th:only-of-type {\n",
              "        vertical-align: middle;\n",
              "    }\n",
              "\n",
              "    .dataframe tbody tr th {\n",
              "        vertical-align: top;\n",
              "    }\n",
              "\n",
              "    .dataframe thead th {\n",
              "        text-align: right;\n",
              "    }\n",
              "</style>\n",
              "<table border=\"1\" class=\"dataframe\">\n",
              "  <thead>\n",
              "    <tr style=\"text-align: right;\">\n",
              "      <th></th>\n",
              "      <th>id</th>\n",
              "      <th>keyword</th>\n",
              "      <th>location</th>\n",
              "      <th>text</th>\n",
              "      <th>target</th>\n",
              "    </tr>\n",
              "  </thead>\n",
              "  <tbody>\n",
              "    <tr>\n",
              "      <th>2644</th>\n",
              "      <td>3796</td>\n",
              "      <td>destruction</td>\n",
              "      <td>NaN</td>\n",
              "      <td>So you have a new weapon that can cause un-ima...</td>\n",
              "      <td>1</td>\n",
              "    </tr>\n",
              "    <tr>\n",
              "      <th>2227</th>\n",
              "      <td>3185</td>\n",
              "      <td>deluge</td>\n",
              "      <td>NaN</td>\n",
              "      <td>The f$&amp;amp;@ing things I do for #GISHWHES Just...</td>\n",
              "      <td>0</td>\n",
              "    </tr>\n",
              "    <tr>\n",
              "      <th>5448</th>\n",
              "      <td>7769</td>\n",
              "      <td>police</td>\n",
              "      <td>UK</td>\n",
              "      <td>DT @georgegalloway: RT @Galloway4Mayor: ÛÏThe...</td>\n",
              "      <td>1</td>\n",
              "    </tr>\n",
              "    <tr>\n",
              "      <th>132</th>\n",
              "      <td>191</td>\n",
              "      <td>aftershock</td>\n",
              "      <td>NaN</td>\n",
              "      <td>Aftershock back to school kick off was great. ...</td>\n",
              "      <td>0</td>\n",
              "    </tr>\n",
              "    <tr>\n",
              "      <th>6845</th>\n",
              "      <td>9810</td>\n",
              "      <td>trauma</td>\n",
              "      <td>Montgomery County, MD</td>\n",
              "      <td>in response to trauma Children of Addicts deve...</td>\n",
              "      <td>0</td>\n",
              "    </tr>\n",
              "  </tbody>\n",
              "</table>\n",
              "</div>\n",
              "    <div class=\"colab-df-buttons\">\n",
              "\n",
              "  <div class=\"colab-df-container\">\n",
              "    <button class=\"colab-df-convert\" onclick=\"convertToInteractive('df-2052f625-68bd-4fe0-89a9-479dd04ff680')\"\n",
              "            title=\"Convert this dataframe to an interactive table.\"\n",
              "            style=\"display:none;\">\n",
              "\n",
              "  <svg xmlns=\"http://www.w3.org/2000/svg\" height=\"24px\" viewBox=\"0 -960 960 960\">\n",
              "    <path d=\"M120-120v-720h720v720H120Zm60-500h600v-160H180v160Zm220 220h160v-160H400v160Zm0 220h160v-160H400v160ZM180-400h160v-160H180v160Zm440 0h160v-160H620v160ZM180-180h160v-160H180v160Zm440 0h160v-160H620v160Z\"/>\n",
              "  </svg>\n",
              "    </button>\n",
              "\n",
              "  <style>\n",
              "    .colab-df-container {\n",
              "      display:flex;\n",
              "      gap: 12px;\n",
              "    }\n",
              "\n",
              "    .colab-df-convert {\n",
              "      background-color: #E8F0FE;\n",
              "      border: none;\n",
              "      border-radius: 50%;\n",
              "      cursor: pointer;\n",
              "      display: none;\n",
              "      fill: #1967D2;\n",
              "      height: 32px;\n",
              "      padding: 0 0 0 0;\n",
              "      width: 32px;\n",
              "    }\n",
              "\n",
              "    .colab-df-convert:hover {\n",
              "      background-color: #E2EBFA;\n",
              "      box-shadow: 0px 1px 2px rgba(60, 64, 67, 0.3), 0px 1px 3px 1px rgba(60, 64, 67, 0.15);\n",
              "      fill: #174EA6;\n",
              "    }\n",
              "\n",
              "    .colab-df-buttons div {\n",
              "      margin-bottom: 4px;\n",
              "    }\n",
              "\n",
              "    [theme=dark] .colab-df-convert {\n",
              "      background-color: #3B4455;\n",
              "      fill: #D2E3FC;\n",
              "    }\n",
              "\n",
              "    [theme=dark] .colab-df-convert:hover {\n",
              "      background-color: #434B5C;\n",
              "      box-shadow: 0px 1px 3px 1px rgba(0, 0, 0, 0.15);\n",
              "      filter: drop-shadow(0px 1px 2px rgba(0, 0, 0, 0.3));\n",
              "      fill: #FFFFFF;\n",
              "    }\n",
              "  </style>\n",
              "\n",
              "    <script>\n",
              "      const buttonEl =\n",
              "        document.querySelector('#df-2052f625-68bd-4fe0-89a9-479dd04ff680 button.colab-df-convert');\n",
              "      buttonEl.style.display =\n",
              "        google.colab.kernel.accessAllowed ? 'block' : 'none';\n",
              "\n",
              "      async function convertToInteractive(key) {\n",
              "        const element = document.querySelector('#df-2052f625-68bd-4fe0-89a9-479dd04ff680');\n",
              "        const dataTable =\n",
              "          await google.colab.kernel.invokeFunction('convertToInteractive',\n",
              "                                                    [key], {});\n",
              "        if (!dataTable) return;\n",
              "\n",
              "        const docLinkHtml = 'Like what you see? Visit the ' +\n",
              "          '<a target=\"_blank\" href=https://colab.research.google.com/notebooks/data_table.ipynb>data table notebook</a>'\n",
              "          + ' to learn more about interactive tables.';\n",
              "        element.innerHTML = '';\n",
              "        dataTable['output_type'] = 'display_data';\n",
              "        await google.colab.output.renderOutput(dataTable, element);\n",
              "        const docLink = document.createElement('div');\n",
              "        docLink.innerHTML = docLinkHtml;\n",
              "        element.appendChild(docLink);\n",
              "      }\n",
              "    </script>\n",
              "  </div>\n",
              "\n",
              "\n",
              "<div id=\"df-9a0892f8-d675-42cf-b0b2-97799a784c3c\">\n",
              "  <button class=\"colab-df-quickchart\" onclick=\"quickchart('df-9a0892f8-d675-42cf-b0b2-97799a784c3c')\"\n",
              "            title=\"Suggest charts\"\n",
              "            style=\"display:none;\">\n",
              "\n",
              "<svg xmlns=\"http://www.w3.org/2000/svg\" height=\"24px\"viewBox=\"0 0 24 24\"\n",
              "     width=\"24px\">\n",
              "    <g>\n",
              "        <path d=\"M19 3H5c-1.1 0-2 .9-2 2v14c0 1.1.9 2 2 2h14c1.1 0 2-.9 2-2V5c0-1.1-.9-2-2-2zM9 17H7v-7h2v7zm4 0h-2V7h2v10zm4 0h-2v-4h2v4z\"/>\n",
              "    </g>\n",
              "</svg>\n",
              "  </button>\n",
              "\n",
              "<style>\n",
              "  .colab-df-quickchart {\n",
              "      --bg-color: #E8F0FE;\n",
              "      --fill-color: #1967D2;\n",
              "      --hover-bg-color: #E2EBFA;\n",
              "      --hover-fill-color: #174EA6;\n",
              "      --disabled-fill-color: #AAA;\n",
              "      --disabled-bg-color: #DDD;\n",
              "  }\n",
              "\n",
              "  [theme=dark] .colab-df-quickchart {\n",
              "      --bg-color: #3B4455;\n",
              "      --fill-color: #D2E3FC;\n",
              "      --hover-bg-color: #434B5C;\n",
              "      --hover-fill-color: #FFFFFF;\n",
              "      --disabled-bg-color: #3B4455;\n",
              "      --disabled-fill-color: #666;\n",
              "  }\n",
              "\n",
              "  .colab-df-quickchart {\n",
              "    background-color: var(--bg-color);\n",
              "    border: none;\n",
              "    border-radius: 50%;\n",
              "    cursor: pointer;\n",
              "    display: none;\n",
              "    fill: var(--fill-color);\n",
              "    height: 32px;\n",
              "    padding: 0;\n",
              "    width: 32px;\n",
              "  }\n",
              "\n",
              "  .colab-df-quickchart:hover {\n",
              "    background-color: var(--hover-bg-color);\n",
              "    box-shadow: 0 1px 2px rgba(60, 64, 67, 0.3), 0 1px 3px 1px rgba(60, 64, 67, 0.15);\n",
              "    fill: var(--button-hover-fill-color);\n",
              "  }\n",
              "\n",
              "  .colab-df-quickchart-complete:disabled,\n",
              "  .colab-df-quickchart-complete:disabled:hover {\n",
              "    background-color: var(--disabled-bg-color);\n",
              "    fill: var(--disabled-fill-color);\n",
              "    box-shadow: none;\n",
              "  }\n",
              "\n",
              "  .colab-df-spinner {\n",
              "    border: 2px solid var(--fill-color);\n",
              "    border-color: transparent;\n",
              "    border-bottom-color: var(--fill-color);\n",
              "    animation:\n",
              "      spin 1s steps(1) infinite;\n",
              "  }\n",
              "\n",
              "  @keyframes spin {\n",
              "    0% {\n",
              "      border-color: transparent;\n",
              "      border-bottom-color: var(--fill-color);\n",
              "      border-left-color: var(--fill-color);\n",
              "    }\n",
              "    20% {\n",
              "      border-color: transparent;\n",
              "      border-left-color: var(--fill-color);\n",
              "      border-top-color: var(--fill-color);\n",
              "    }\n",
              "    30% {\n",
              "      border-color: transparent;\n",
              "      border-left-color: var(--fill-color);\n",
              "      border-top-color: var(--fill-color);\n",
              "      border-right-color: var(--fill-color);\n",
              "    }\n",
              "    40% {\n",
              "      border-color: transparent;\n",
              "      border-right-color: var(--fill-color);\n",
              "      border-top-color: var(--fill-color);\n",
              "    }\n",
              "    60% {\n",
              "      border-color: transparent;\n",
              "      border-right-color: var(--fill-color);\n",
              "    }\n",
              "    80% {\n",
              "      border-color: transparent;\n",
              "      border-right-color: var(--fill-color);\n",
              "      border-bottom-color: var(--fill-color);\n",
              "    }\n",
              "    90% {\n",
              "      border-color: transparent;\n",
              "      border-bottom-color: var(--fill-color);\n",
              "    }\n",
              "  }\n",
              "</style>\n",
              "\n",
              "  <script>\n",
              "    async function quickchart(key) {\n",
              "      const quickchartButtonEl =\n",
              "        document.querySelector('#' + key + ' button');\n",
              "      quickchartButtonEl.disabled = true;  // To prevent multiple clicks.\n",
              "      quickchartButtonEl.classList.add('colab-df-spinner');\n",
              "      try {\n",
              "        const charts = await google.colab.kernel.invokeFunction(\n",
              "            'suggestCharts', [key], {});\n",
              "      } catch (error) {\n",
              "        console.error('Error during call to suggestCharts:', error);\n",
              "      }\n",
              "      quickchartButtonEl.classList.remove('colab-df-spinner');\n",
              "      quickchartButtonEl.classList.add('colab-df-quickchart-complete');\n",
              "    }\n",
              "    (() => {\n",
              "      let quickchartButtonEl =\n",
              "        document.querySelector('#df-9a0892f8-d675-42cf-b0b2-97799a784c3c button');\n",
              "      quickchartButtonEl.style.display =\n",
              "        google.colab.kernel.accessAllowed ? 'block' : 'none';\n",
              "    })();\n",
              "  </script>\n",
              "</div>\n",
              "\n",
              "    </div>\n",
              "  </div>\n"
            ],
            "application/vnd.google.colaboratory.intrinsic+json": {
              "type": "dataframe",
              "variable_name": "train_df_shuffled",
              "summary": "{\n  \"name\": \"train_df_shuffled\",\n  \"rows\": 7613,\n  \"fields\": [\n    {\n      \"column\": \"id\",\n      \"properties\": {\n        \"dtype\": \"number\",\n        \"std\": 3137,\n        \"min\": 1,\n        \"max\": 10873,\n        \"num_unique_values\": 7613,\n        \"samples\": [\n          7061,\n          843,\n          10603\n        ],\n        \"semantic_type\": \"\",\n        \"description\": \"\"\n      }\n    },\n    {\n      \"column\": \"keyword\",\n      \"properties\": {\n        \"dtype\": \"category\",\n        \"num_unique_values\": 221,\n        \"samples\": [\n          \"blazing\",\n          \"emergency\",\n          \"rescue\"\n        ],\n        \"semantic_type\": \"\",\n        \"description\": \"\"\n      }\n    },\n    {\n      \"column\": \"location\",\n      \"properties\": {\n        \"dtype\": \"category\",\n        \"num_unique_values\": 3341,\n        \"samples\": [\n          \"617-BTOWN-BEATDOWN\",\n          \"Newcastle Upon Tyne, England\",\n          \"Federal Capital Territory\"\n        ],\n        \"semantic_type\": \"\",\n        \"description\": \"\"\n      }\n    },\n    {\n      \"column\": \"text\",\n      \"properties\": {\n        \"dtype\": \"string\",\n        \"num_unique_values\": 7503,\n        \"samples\": [\n          \"This week first responders and DART members are participating in a four day intensive Technical Large Animal... http://t.co/tL93AOd3ER\",\n          \"My mom is watching a show about bridges breaking/falling and the people on them drowning in their cars aka one of my biggest fears ????\",\n          \"@NickLee8  i went to school in a bombed out East End of London3 families to one house no bathroom outside loo &amp; poor so whats yr point\"\n        ],\n        \"semantic_type\": \"\",\n        \"description\": \"\"\n      }\n    },\n    {\n      \"column\": \"target\",\n      \"properties\": {\n        \"dtype\": \"number\",\n        \"std\": 0,\n        \"min\": 0,\n        \"max\": 1,\n        \"num_unique_values\": 2,\n        \"samples\": [\n          0,\n          1\n        ],\n        \"semantic_type\": \"\",\n        \"description\": \"\"\n      }\n    }\n  ]\n}"
            }
          },
          "metadata": {},
          "execution_count": 8
        }
      ]
    },
    {
      "cell_type": "code",
      "source": [
        "test_df.head()"
      ],
      "metadata": {
        "colab": {
          "base_uri": "https://localhost:8080/",
          "height": 206
        },
        "id": "2kKI0kwsPxAI",
        "outputId": "f2adb5e6-e616-4420-d5f2-0f628cedf90b"
      },
      "execution_count": null,
      "outputs": [
        {
          "output_type": "execute_result",
          "data": {
            "text/plain": [
              "   id keyword location                                               text\n",
              "0   0     NaN      NaN                 Just happened a terrible car crash\n",
              "1   2     NaN      NaN  Heard about #earthquake is different cities, s...\n",
              "2   3     NaN      NaN  there is a forest fire at spot pond, geese are...\n",
              "3   9     NaN      NaN           Apocalypse lighting. #Spokane #wildfires\n",
              "4  11     NaN      NaN      Typhoon Soudelor kills 28 in China and Taiwan"
            ],
            "text/html": [
              "\n",
              "  <div id=\"df-e07b2c2f-34b2-48a6-9608-5e4e0c7aa5cf\" class=\"colab-df-container\">\n",
              "    <div>\n",
              "<style scoped>\n",
              "    .dataframe tbody tr th:only-of-type {\n",
              "        vertical-align: middle;\n",
              "    }\n",
              "\n",
              "    .dataframe tbody tr th {\n",
              "        vertical-align: top;\n",
              "    }\n",
              "\n",
              "    .dataframe thead th {\n",
              "        text-align: right;\n",
              "    }\n",
              "</style>\n",
              "<table border=\"1\" class=\"dataframe\">\n",
              "  <thead>\n",
              "    <tr style=\"text-align: right;\">\n",
              "      <th></th>\n",
              "      <th>id</th>\n",
              "      <th>keyword</th>\n",
              "      <th>location</th>\n",
              "      <th>text</th>\n",
              "    </tr>\n",
              "  </thead>\n",
              "  <tbody>\n",
              "    <tr>\n",
              "      <th>0</th>\n",
              "      <td>0</td>\n",
              "      <td>NaN</td>\n",
              "      <td>NaN</td>\n",
              "      <td>Just happened a terrible car crash</td>\n",
              "    </tr>\n",
              "    <tr>\n",
              "      <th>1</th>\n",
              "      <td>2</td>\n",
              "      <td>NaN</td>\n",
              "      <td>NaN</td>\n",
              "      <td>Heard about #earthquake is different cities, s...</td>\n",
              "    </tr>\n",
              "    <tr>\n",
              "      <th>2</th>\n",
              "      <td>3</td>\n",
              "      <td>NaN</td>\n",
              "      <td>NaN</td>\n",
              "      <td>there is a forest fire at spot pond, geese are...</td>\n",
              "    </tr>\n",
              "    <tr>\n",
              "      <th>3</th>\n",
              "      <td>9</td>\n",
              "      <td>NaN</td>\n",
              "      <td>NaN</td>\n",
              "      <td>Apocalypse lighting. #Spokane #wildfires</td>\n",
              "    </tr>\n",
              "    <tr>\n",
              "      <th>4</th>\n",
              "      <td>11</td>\n",
              "      <td>NaN</td>\n",
              "      <td>NaN</td>\n",
              "      <td>Typhoon Soudelor kills 28 in China and Taiwan</td>\n",
              "    </tr>\n",
              "  </tbody>\n",
              "</table>\n",
              "</div>\n",
              "    <div class=\"colab-df-buttons\">\n",
              "\n",
              "  <div class=\"colab-df-container\">\n",
              "    <button class=\"colab-df-convert\" onclick=\"convertToInteractive('df-e07b2c2f-34b2-48a6-9608-5e4e0c7aa5cf')\"\n",
              "            title=\"Convert this dataframe to an interactive table.\"\n",
              "            style=\"display:none;\">\n",
              "\n",
              "  <svg xmlns=\"http://www.w3.org/2000/svg\" height=\"24px\" viewBox=\"0 -960 960 960\">\n",
              "    <path d=\"M120-120v-720h720v720H120Zm60-500h600v-160H180v160Zm220 220h160v-160H400v160Zm0 220h160v-160H400v160ZM180-400h160v-160H180v160Zm440 0h160v-160H620v160ZM180-180h160v-160H180v160Zm440 0h160v-160H620v160Z\"/>\n",
              "  </svg>\n",
              "    </button>\n",
              "\n",
              "  <style>\n",
              "    .colab-df-container {\n",
              "      display:flex;\n",
              "      gap: 12px;\n",
              "    }\n",
              "\n",
              "    .colab-df-convert {\n",
              "      background-color: #E8F0FE;\n",
              "      border: none;\n",
              "      border-radius: 50%;\n",
              "      cursor: pointer;\n",
              "      display: none;\n",
              "      fill: #1967D2;\n",
              "      height: 32px;\n",
              "      padding: 0 0 0 0;\n",
              "      width: 32px;\n",
              "    }\n",
              "\n",
              "    .colab-df-convert:hover {\n",
              "      background-color: #E2EBFA;\n",
              "      box-shadow: 0px 1px 2px rgba(60, 64, 67, 0.3), 0px 1px 3px 1px rgba(60, 64, 67, 0.15);\n",
              "      fill: #174EA6;\n",
              "    }\n",
              "\n",
              "    .colab-df-buttons div {\n",
              "      margin-bottom: 4px;\n",
              "    }\n",
              "\n",
              "    [theme=dark] .colab-df-convert {\n",
              "      background-color: #3B4455;\n",
              "      fill: #D2E3FC;\n",
              "    }\n",
              "\n",
              "    [theme=dark] .colab-df-convert:hover {\n",
              "      background-color: #434B5C;\n",
              "      box-shadow: 0px 1px 3px 1px rgba(0, 0, 0, 0.15);\n",
              "      filter: drop-shadow(0px 1px 2px rgba(0, 0, 0, 0.3));\n",
              "      fill: #FFFFFF;\n",
              "    }\n",
              "  </style>\n",
              "\n",
              "    <script>\n",
              "      const buttonEl =\n",
              "        document.querySelector('#df-e07b2c2f-34b2-48a6-9608-5e4e0c7aa5cf button.colab-df-convert');\n",
              "      buttonEl.style.display =\n",
              "        google.colab.kernel.accessAllowed ? 'block' : 'none';\n",
              "\n",
              "      async function convertToInteractive(key) {\n",
              "        const element = document.querySelector('#df-e07b2c2f-34b2-48a6-9608-5e4e0c7aa5cf');\n",
              "        const dataTable =\n",
              "          await google.colab.kernel.invokeFunction('convertToInteractive',\n",
              "                                                    [key], {});\n",
              "        if (!dataTable) return;\n",
              "\n",
              "        const docLinkHtml = 'Like what you see? Visit the ' +\n",
              "          '<a target=\"_blank\" href=https://colab.research.google.com/notebooks/data_table.ipynb>data table notebook</a>'\n",
              "          + ' to learn more about interactive tables.';\n",
              "        element.innerHTML = '';\n",
              "        dataTable['output_type'] = 'display_data';\n",
              "        await google.colab.output.renderOutput(dataTable, element);\n",
              "        const docLink = document.createElement('div');\n",
              "        docLink.innerHTML = docLinkHtml;\n",
              "        element.appendChild(docLink);\n",
              "      }\n",
              "    </script>\n",
              "  </div>\n",
              "\n",
              "\n",
              "<div id=\"df-5de5ae7d-e84b-4b05-b31a-ec49ff70e1fd\">\n",
              "  <button class=\"colab-df-quickchart\" onclick=\"quickchart('df-5de5ae7d-e84b-4b05-b31a-ec49ff70e1fd')\"\n",
              "            title=\"Suggest charts\"\n",
              "            style=\"display:none;\">\n",
              "\n",
              "<svg xmlns=\"http://www.w3.org/2000/svg\" height=\"24px\"viewBox=\"0 0 24 24\"\n",
              "     width=\"24px\">\n",
              "    <g>\n",
              "        <path d=\"M19 3H5c-1.1 0-2 .9-2 2v14c0 1.1.9 2 2 2h14c1.1 0 2-.9 2-2V5c0-1.1-.9-2-2-2zM9 17H7v-7h2v7zm4 0h-2V7h2v10zm4 0h-2v-4h2v4z\"/>\n",
              "    </g>\n",
              "</svg>\n",
              "  </button>\n",
              "\n",
              "<style>\n",
              "  .colab-df-quickchart {\n",
              "      --bg-color: #E8F0FE;\n",
              "      --fill-color: #1967D2;\n",
              "      --hover-bg-color: #E2EBFA;\n",
              "      --hover-fill-color: #174EA6;\n",
              "      --disabled-fill-color: #AAA;\n",
              "      --disabled-bg-color: #DDD;\n",
              "  }\n",
              "\n",
              "  [theme=dark] .colab-df-quickchart {\n",
              "      --bg-color: #3B4455;\n",
              "      --fill-color: #D2E3FC;\n",
              "      --hover-bg-color: #434B5C;\n",
              "      --hover-fill-color: #FFFFFF;\n",
              "      --disabled-bg-color: #3B4455;\n",
              "      --disabled-fill-color: #666;\n",
              "  }\n",
              "\n",
              "  .colab-df-quickchart {\n",
              "    background-color: var(--bg-color);\n",
              "    border: none;\n",
              "    border-radius: 50%;\n",
              "    cursor: pointer;\n",
              "    display: none;\n",
              "    fill: var(--fill-color);\n",
              "    height: 32px;\n",
              "    padding: 0;\n",
              "    width: 32px;\n",
              "  }\n",
              "\n",
              "  .colab-df-quickchart:hover {\n",
              "    background-color: var(--hover-bg-color);\n",
              "    box-shadow: 0 1px 2px rgba(60, 64, 67, 0.3), 0 1px 3px 1px rgba(60, 64, 67, 0.15);\n",
              "    fill: var(--button-hover-fill-color);\n",
              "  }\n",
              "\n",
              "  .colab-df-quickchart-complete:disabled,\n",
              "  .colab-df-quickchart-complete:disabled:hover {\n",
              "    background-color: var(--disabled-bg-color);\n",
              "    fill: var(--disabled-fill-color);\n",
              "    box-shadow: none;\n",
              "  }\n",
              "\n",
              "  .colab-df-spinner {\n",
              "    border: 2px solid var(--fill-color);\n",
              "    border-color: transparent;\n",
              "    border-bottom-color: var(--fill-color);\n",
              "    animation:\n",
              "      spin 1s steps(1) infinite;\n",
              "  }\n",
              "\n",
              "  @keyframes spin {\n",
              "    0% {\n",
              "      border-color: transparent;\n",
              "      border-bottom-color: var(--fill-color);\n",
              "      border-left-color: var(--fill-color);\n",
              "    }\n",
              "    20% {\n",
              "      border-color: transparent;\n",
              "      border-left-color: var(--fill-color);\n",
              "      border-top-color: var(--fill-color);\n",
              "    }\n",
              "    30% {\n",
              "      border-color: transparent;\n",
              "      border-left-color: var(--fill-color);\n",
              "      border-top-color: var(--fill-color);\n",
              "      border-right-color: var(--fill-color);\n",
              "    }\n",
              "    40% {\n",
              "      border-color: transparent;\n",
              "      border-right-color: var(--fill-color);\n",
              "      border-top-color: var(--fill-color);\n",
              "    }\n",
              "    60% {\n",
              "      border-color: transparent;\n",
              "      border-right-color: var(--fill-color);\n",
              "    }\n",
              "    80% {\n",
              "      border-color: transparent;\n",
              "      border-right-color: var(--fill-color);\n",
              "      border-bottom-color: var(--fill-color);\n",
              "    }\n",
              "    90% {\n",
              "      border-color: transparent;\n",
              "      border-bottom-color: var(--fill-color);\n",
              "    }\n",
              "  }\n",
              "</style>\n",
              "\n",
              "  <script>\n",
              "    async function quickchart(key) {\n",
              "      const quickchartButtonEl =\n",
              "        document.querySelector('#' + key + ' button');\n",
              "      quickchartButtonEl.disabled = true;  // To prevent multiple clicks.\n",
              "      quickchartButtonEl.classList.add('colab-df-spinner');\n",
              "      try {\n",
              "        const charts = await google.colab.kernel.invokeFunction(\n",
              "            'suggestCharts', [key], {});\n",
              "      } catch (error) {\n",
              "        console.error('Error during call to suggestCharts:', error);\n",
              "      }\n",
              "      quickchartButtonEl.classList.remove('colab-df-spinner');\n",
              "      quickchartButtonEl.classList.add('colab-df-quickchart-complete');\n",
              "    }\n",
              "    (() => {\n",
              "      let quickchartButtonEl =\n",
              "        document.querySelector('#df-5de5ae7d-e84b-4b05-b31a-ec49ff70e1fd button');\n",
              "      quickchartButtonEl.style.display =\n",
              "        google.colab.kernel.accessAllowed ? 'block' : 'none';\n",
              "    })();\n",
              "  </script>\n",
              "</div>\n",
              "\n",
              "    </div>\n",
              "  </div>\n"
            ],
            "application/vnd.google.colaboratory.intrinsic+json": {
              "type": "dataframe",
              "variable_name": "test_df",
              "summary": "{\n  \"name\": \"test_df\",\n  \"rows\": 3263,\n  \"fields\": [\n    {\n      \"column\": \"id\",\n      \"properties\": {\n        \"dtype\": \"number\",\n        \"std\": 3146,\n        \"min\": 0,\n        \"max\": 10875,\n        \"num_unique_values\": 3263,\n        \"samples\": [\n          8051,\n          425,\n          1330\n        ],\n        \"semantic_type\": \"\",\n        \"description\": \"\"\n      }\n    },\n    {\n      \"column\": \"keyword\",\n      \"properties\": {\n        \"dtype\": \"category\",\n        \"num_unique_values\": 221,\n        \"samples\": [\n          \"injury\",\n          \"nuclear%20reactor\",\n          \"engulfed\"\n        ],\n        \"semantic_type\": \"\",\n        \"description\": \"\"\n      }\n    },\n    {\n      \"column\": \"location\",\n      \"properties\": {\n        \"dtype\": \"category\",\n        \"num_unique_values\": 1602,\n        \"samples\": [\n          \"UAE\",\n          \"Tokio / Tokyo\",\n          \"Texas\"\n        ],\n        \"semantic_type\": \"\",\n        \"description\": \"\"\n      }\n    },\n    {\n      \"column\": \"text\",\n      \"properties\": {\n        \"dtype\": \"string\",\n        \"num_unique_values\": 3243,\n        \"samples\": [\n          \"Latest: USA: Huge sinkhole swallows up Brooklyn intersection http://t.co/vspKHg3nZy\",\n          \"I liked a @YouTube video http://t.co/a5YTAw9Vih S.O.S. Rona Guide - The Red Whirlwind\",\n          \"HitchBot travels Europe and greeted with open arms. Gets destroyed after two weeks in america. There's a lesson to be learned here.\"\n        ],\n        \"semantic_type\": \"\",\n        \"description\": \"\"\n      }\n    }\n  ]\n}"
            }
          },
          "metadata": {},
          "execution_count": 9
        }
      ]
    },
    {
      "cell_type": "code",
      "source": [
        "train_df.target.value_counts()"
      ],
      "metadata": {
        "colab": {
          "base_uri": "https://localhost:8080/",
          "height": 178
        },
        "id": "WVDXrwt6P5Bk",
        "outputId": "274c1bdd-4249-47ad-fadb-ae4b958963f5"
      },
      "execution_count": null,
      "outputs": [
        {
          "output_type": "execute_result",
          "data": {
            "text/plain": [
              "target\n",
              "0    4342\n",
              "1    3271\n",
              "Name: count, dtype: int64"
            ],
            "text/html": [
              "<div>\n",
              "<style scoped>\n",
              "    .dataframe tbody tr th:only-of-type {\n",
              "        vertical-align: middle;\n",
              "    }\n",
              "\n",
              "    .dataframe tbody tr th {\n",
              "        vertical-align: top;\n",
              "    }\n",
              "\n",
              "    .dataframe thead th {\n",
              "        text-align: right;\n",
              "    }\n",
              "</style>\n",
              "<table border=\"1\" class=\"dataframe\">\n",
              "  <thead>\n",
              "    <tr style=\"text-align: right;\">\n",
              "      <th></th>\n",
              "      <th>count</th>\n",
              "    </tr>\n",
              "    <tr>\n",
              "      <th>target</th>\n",
              "      <th></th>\n",
              "    </tr>\n",
              "  </thead>\n",
              "  <tbody>\n",
              "    <tr>\n",
              "      <th>0</th>\n",
              "      <td>4342</td>\n",
              "    </tr>\n",
              "    <tr>\n",
              "      <th>1</th>\n",
              "      <td>3271</td>\n",
              "    </tr>\n",
              "  </tbody>\n",
              "</table>\n",
              "</div><br><label><b>dtype:</b> int64</label>"
            ]
          },
          "metadata": {},
          "execution_count": 10
        }
      ]
    },
    {
      "cell_type": "code",
      "source": [
        "len(train_df), len(test_df)"
      ],
      "metadata": {
        "colab": {
          "base_uri": "https://localhost:8080/"
        },
        "id": "fB1hHqlgQE8i",
        "outputId": "11037e7b-f8bb-486c-95d5-37a63d1f47c3"
      },
      "execution_count": null,
      "outputs": [
        {
          "output_type": "execute_result",
          "data": {
            "text/plain": [
              "(7613, 3263)"
            ]
          },
          "metadata": {},
          "execution_count": 11
        }
      ]
    },
    {
      "cell_type": "code",
      "source": [
        "import random\n",
        "random_index = random.randint(0, len(train_df)-5)\n",
        "for row in train_df_shuffled[[\"text\", \"target\"]][random_index:random_index+5].itertuples():\n",
        "  _, text, target = row\n",
        "  print(f\"Target: {target}\", \" (real diseaster)\" if target > 0 else \" (fake diseaster)\")\n",
        "  print(f\"Text:\\n{text}\")"
      ],
      "metadata": {
        "colab": {
          "base_uri": "https://localhost:8080/"
        },
        "id": "VMXI9sebQ1PL",
        "outputId": "435a0591-3014-43c3-f8d7-a241df0d4afb"
      },
      "execution_count": null,
      "outputs": [
        {
          "output_type": "stream",
          "name": "stdout",
          "text": [
            "Target: 1  (real diseaster)\n",
            "Text:\n",
            "150-Foot Sinkhole Opens in Lowndes County Residential Area\n",
            "WCTV-35 minutes ago\n",
            "Target: 1  (real diseaster)\n",
            "Text:\n",
            "Reddit Will Now QuarantineÛ_ http://t.co/pkUAMXw6pm #onlinecommunities #reddit #amageddon #freespeech #Business http://t.co/PAWvNJ4sAP\n",
            "Target: 1  (real diseaster)\n",
            "Text:\n",
            "A better look at what this catastrophic rain and flooding has done to ourÛ_ https://t.co/5yRBegzafX\n",
            "Target: 1  (real diseaster)\n",
            "Text:\n",
            "suddenly it's off &amp; on gloomy &amp; thunder so loud it shakes the windows? Not ever on the Bay Area. Miss me w/that lol http://t.co/x4eCGGvnSN\n",
            "Target: 1  (real diseaster)\n",
            "Text:\n",
            "Heat wave adding to the misery of internally-displaced Gazans http://t.co/jW3hN9ewFT via @PressTV http://t.co/NYWrkRQ7Kn\n"
          ]
        }
      ]
    },
    {
      "cell_type": "markdown",
      "source": [
        "## Split data into training and Validation set"
      ],
      "metadata": {
        "id": "qMAR6RRVTLkL"
      }
    },
    {
      "cell_type": "code",
      "source": [
        "from sklearn.model_selection import train_test_split\n",
        "train_sentences, val_sentences, train_target, val_target = train_test_split(train_df_shuffled['text'].to_numpy(), train_df_shuffled['target'].to_numpy(), test_size=0.1, random_state=42)"
      ],
      "metadata": {
        "id": "Gr6dyfMbUdap"
      },
      "execution_count": null,
      "outputs": []
    },
    {
      "cell_type": "code",
      "source": [
        "len(train_sentences), len(val_sentences), len(train_target), len(val_target)"
      ],
      "metadata": {
        "colab": {
          "base_uri": "https://localhost:8080/"
        },
        "id": "OL_leuWDV6ov",
        "outputId": "df57514a-1201-4027-b99d-585ed6d5dd18"
      },
      "execution_count": null,
      "outputs": [
        {
          "output_type": "execute_result",
          "data": {
            "text/plain": [
              "(6851, 762, 6851, 762)"
            ]
          },
          "metadata": {},
          "execution_count": 14
        }
      ]
    },
    {
      "cell_type": "markdown",
      "source": [
        "## Preprosessing the data for the baseline model"
      ],
      "metadata": {
        "id": "vPZZXmTo15y3"
      }
    },
    {
      "cell_type": "code",
      "source": [
        "import tensorflow as tf\n",
        "from tensorflow.keras.layers import TextVectorization"
      ],
      "metadata": {
        "id": "nw9Wrw3ZWHHt"
      },
      "execution_count": null,
      "outputs": []
    },
    {
      "cell_type": "code",
      "source": [
        "round(sum([len(i.split()) for i in train_sentences])/len(train_sentences))"
      ],
      "metadata": {
        "colab": {
          "base_uri": "https://localhost:8080/"
        },
        "id": "hlM2ZlmU9S_b",
        "outputId": "82bd8842-84dd-4d52-fa43-5f8539f05be8"
      },
      "execution_count": null,
      "outputs": [
        {
          "output_type": "execute_result",
          "data": {
            "text/plain": [
              "15"
            ]
          },
          "metadata": {},
          "execution_count": 16
        }
      ]
    },
    {
      "cell_type": "code",
      "source": [
        "max_vocab_length = 100000\n",
        "max_length = 15\n",
        "text_vectorization = TextVectorization(max_tokens=max_vocab_length, standardize=\"lower_and_strip_punctuation\", split=\"whitespace\", ngrams=None, output_mode=\"int\", output_sequence_length=max_length, pad_to_max_tokens=True)"
      ],
      "metadata": {
        "id": "M353R1XJ2Hiz"
      },
      "execution_count": null,
      "outputs": []
    },
    {
      "cell_type": "code",
      "source": [
        "text_vectorization.adapt(train_sentences)"
      ],
      "metadata": {
        "id": "EtcKY2JC-Suv"
      },
      "execution_count": null,
      "outputs": []
    },
    {
      "cell_type": "code",
      "source": [
        "sentences = 'Excited not only about the next 6 years of school and ensuing student debt but also catastrophic climate change in my lifetime'\n",
        "text_vectorization([sentences])"
      ],
      "metadata": {
        "colab": {
          "base_uri": "https://localhost:8080/"
        },
        "id": "6E9KwOudRak9",
        "outputId": "588ed234-b589-4f43-fee1-afbe6f3ba5f0"
      },
      "execution_count": null,
      "outputs": [
        {
          "output_type": "execute_result",
          "data": {
            "text/plain": [
              "<tf.Tensor: shape=(1, 15), dtype=int64, numpy=\n",
              "array([[5695,   34,  126,   54,    2,  274,  560,  141,    6,  185,    7,\n",
              "           1, 4514, 2500,   30]])>"
            ]
          },
          "metadata": {},
          "execution_count": 19
        }
      ]
    },
    {
      "cell_type": "code",
      "source": [
        "vocabularies = text_vectorization.get_vocabulary()\n",
        "print(vocabularies)"
      ],
      "metadata": {
        "colab": {
          "base_uri": "https://localhost:8080/"
        },
        "id": "zgrHppb5SEUr",
        "outputId": "82523bf6-84eb-4d48-d09a-d0dec3681162"
      },
      "execution_count": null,
      "outputs": [
        {
          "output_type": "stream",
          "name": "stdout",
          "text": [
            "['', '[UNK]', 'the', 'a', 'in', 'to', 'of', 'and', 'i', 'is', 'for', 'on', 'you', 'my', 'with', 'it', 'that', 'at', 'by', 'this', 'from', 'be', 'are', 'was', 'have', 'like', 'as', 'up', 'so', 'just', 'but', 'me', 'im', 'your', 'not', 'amp', 'out', 'its', 'will', 'an', 'no', 'has', 'fire', 'after', 'all', 'when', 'we', 'if', 'now', 'via', 'new', 'more', 'get', 'or', 'about', 'what', 'he', 'people', 'news', 'been', 'over', 'one', 'how', 'dont', 'they', 'who', 'into', 'were', 'do', 'us', '2', 'can', 'video', 'emergency', 'there', 'disaster', 'than', 'police', 'would', 'his', 'still', 'her', 'some', 'body', 'storm', 'crash', 'burning', 'suicide', 'back', 'man', 'california', 'why', 'time', 'them', 'had', 'buildings', 'rt', 'first', 'cant', 'see', 'got', 'day', 'off', 'our', 'going', 'nuclear', 'know', 'world', 'bomb', 'fires', 'love', 'killed', 'go', 'attack', 'youtube', 'dead', 'two', 'families', '3', 'train', 'full', 'being', 'war', 'many', 'today', 'think', 'only', 'car', 'accident', 'life', 'hiroshima', 'their', 'say', 'may', 'down', 'watch', 'good', 'could', 'want', 'last', 'here', 'years', 'u', 'then', 'make', 'did', 'wildfire', 'way', 'help', 'best', 'too', 'even', 'because', 'home', 'death', 'collapse', 'bombing', 'mass', 'him', 'black', 'am', 'those', 'need', 'fatal', 'army', 'another', 'work', 'take', 'should', 'really', 'please', 'mh370', 'youre', 'look', 'lol', 'hot', 'pm', 'legionnaires', '4', 'right', '5', 'let', 'city', 'year', 'wreck', 'school', 'northern', 'much', 'forest', 'bomber', 'water', 'she', 'never', 'read', 'latest', 'homes', 'great', 'every', '1', 'live', 'god', 'fear', 'any', '\\x89Û', 'under', 'said', 'old', 'floods', '2015', 'getting', 'atomic', 'while', 'top', 'obama', 'feel', 'thats', 'since', 'near', 'flames', 'ever', 'come', 'where', 'these', 'military', 'japan', 'found', 'content', 'ass', 'without', 'weather', 'most', 'flooding', 'flood', 'damage', 'which', 'shit', 's', 'hope', 'everyone', 'before', 'stop', 'plan', 'malaysia', 'injured', 'hit', 'evacuation', 'during', 'debris', 'cross', 'coming', 'wild', 'well', 'times', 'sinking', 'oil', 'fucking', 'check', 'cause', 'weapons', 'truck', 'food', 'bloody', 'always', 'weapon', 'theres', 'state', 'little', 'injuries', 'free', 'wounded', 'summer', 'smoke', 'severe', 'reddit', 'next', 'movie', 'ive', 'hes', 'fall', 'evacuate', 'confirmed', 'bad', 'again', 'thunderstorm', 'set', 'night', 'natural', 'looks', 'heat', 'face', 'earthquake', 'boy', 'whole', 'until', 'thunder', 'through', 'says', 'panic', 'outbreak', 'made', 'lightning', 'fatalities', 'family', 'explosion', 'end', 'destroy', 'derailment', 'air', 'w', 'terrorist', 'survive', 'screaming', 'saudi', 'refugees', 'rain', 'murder', 'loud', 'liked', 'house', 'gonna', 'failure', 'collided', 'bag', 'attacked', 'ambulance', '70', 'wind', 'services', 'save', 'report', 'migrants', 'head', 'explode', 'charged', 'change', 'big', 'also', 'wrecked', 'warning', 'update', 'run', 'rescuers', 'released', 'photo', 'massacre', 'injury', 'hurricane', 'high', 'hail', 'fuck', 'does', 'destroyed', 'bus', 'blood', '40', '\\x89ÛÒ', 'wreckage', 'violent', 'twister', 'trauma', 'tragedy', 'terrorism', 'survivors', 'survived', 'sinkhole', 'sandstorm', 'road', 'rioting', 'red', 'real', 'put', 'post', 'national', 'missing', 'landslide', 'keep', 'girl', 'drought', 'curfew', 'breaking', 'bags', 'white', 'twitter', 'tonight', 'structural', 'spill', 'service', 'screamed', 'rescued', 'rescue', 'phone', 'ok', 'oh', 'mosque', 'lives', 'horrible', 'harm', 'game', 'dust', 'destruction', 'deluge', 'deaths', 'crashed', 'cliff', 'catastrophe', 'boat', 'away', 'august', 'area', 'apocalypse', 'woman', 'whirlwind', 'traumatised', 'stock', 'saw', 'ruin', 'riot', 'quarantine', 'kills', 'island', 'investigators', 'ill', 'hostages', 'hazard', 'danger', 'call', '15', 'women', 'windstorm', 'things', 'suspect', 'show', 'reunion', 'quarantined', 'lava', 'heart', 'engulfed', 'detonate', 'crush', 'collapsed', 'came', 'better', 'battle', 'armageddon', 'airplane', 'against', 'affected', 'use', 'trapped', 'thank', 'sunk', 'story', 'send', 'part', 'other', 'must', 'mudslide', 'market', 'iran', 'famine', 'exploded', 'electrocuted', 'ebay', 'displaced', 'derailed', 'derail', 'burned', 'bombed', 'blown', 'baby', 'around', 'zone', 'wave', 'wanna', 'sure', 'someone', 'screams', 'razed', 'power', 'obliterated', 'long', 'land', 'hundreds', 'heard', 'group', 'flattened', 'drown', 'doing', 'care', 'bridge', 'bagging', '9', 'went', 'used', 'typhoon', 'trouble', 'tornado', 'thought', 'thing', 'river', 'responders', 'past', 'pandemonium', 'officials', 'meltdown', 'lot', 'least', 'inundated', 'id', 'hostage', 'hijacking', 'hazardous', 'goes', 'drowning', 'didnt', 'devastation', 'demolish', 'collide', 'casualties', 'calgary', 'bang', 'anniversary', 'yet', 'wounds', 'volcano', 'tsunami', 'sue', 'st', 'song', 'something', 'shoulder', 'security', 'prebreak', 'possible', 'pkk', 'panicking', 'obliteration', 'obliterate', 'murderer', 'minute', 'light', 'lets', 'kill', 'isis', 'india', 'hijacker', 'hellfire', 'government', 'few', 'evacuated', 'due', 'detonated', 'desolation', 'crushed', 'chemical', 'blew', 'blazing', 'blast', 'annihilated', 'airport', '6', 'week', 'upheaval', 'trying', 'three', 'thanks', 'sound', 'soon', 'sirens', 'rainstorm', 'plane', 'music', 'making', 'kids', 'issues', 'half', 'guys', 'fedex', 'done', 'died', 'detonation', 'days', 'cyclone', 'county', 'collision', 'caused', 'catastrophic', 'bleeding', 'beautiful', '8', 'words', 'very', 'traffic', 'south', 'remember', 'policy', 'place', 'nothing', 'north', 'mp', 'longer', 'left', 'israeli', 'hell', 'fun', 'drowned', 'demolished', 'cool', 'both', 'bioterror', 'believe', 'avalanche', 'arson', 'turkey', 'snowstorm', 'site', 'shot', 'shooting', 'pic', 'nowplaying', 'media', 'islam', 'inside', 'hijack', 'helicopter', 'fight', 'fatality', 'fan', 'electrocute', 'doesnt', 'building', 'brown', 'bc', 'actually', '16yr', 'yes', 'watching', 'wait', 'ur', 'tell', 'swallowed', 'seismic', 'second', 'rubble', 're\\x89Û', 'plans', 'men', 'memories', 'line', 'la', 'horror', 'health', 'having', 'find', 'eyewitness', 'deluged', 'children', 'bush', 'anything', 'already', 'almost', 'aircraft', 'yourself', 'yeah', 'whats', 'tomorrow', 'such', 'start', 'side', 'searching', 'saved', 'reactor', 'probably', 'play', 'person', 'peace', 'outside', 'officer', 'nearby', 'n', 'maybe', 'lost', 'literally', 'hours', 'hear', 'far', 'die', 'demolition', 'data', 'crews', 'conclusively', 'business', 'american', '20', '\\x89ÛÓ', 'west', 'waves', 'team', 'street', 'stay', 'soudelor', 'reuters', 'manslaughter', 'leather', 'job', 'history', 'hey', 'feeling', 'eyes', 'everything', 'declares', 'deal', 'casualty', 'bodies', 'amid', 'ablaze', '7', '50', '30', '12', 'youth', 'wont', 'wake', 'theyre', 'support', 'stretcher', 'same', 'rise', 'picking', 'photos', 'own', 'others', 'order', 'omg', 'okay', 'name', 'myself', 'money', 'makes', 'leave', 'lab', 'gt', 'gets', 'flag', 'desolate', 'crisis', 'center', 'book', 'blight', 'blaze', 'ago', 'abc', '11yearold', 'womens', 'typhoondevastated', 'tv', 'trench', 'trains', 'texas', 'space', 'siren', 'shes', 'self', 'saipan', 'reason', 'rd', 'pretty', 'pick', 'offensive', 'move', 'meek', 'major', 'm', 'low', 'lord', 'huge', 'hat', 'flash', 'feared', 'fast', 'effect', 'course', 'country', 'control', 'class', 'child', 'chance', 'caught', 'called', 'bioterrorism', 'bestnaijamade', 'become', 'bar', 'banned', 'ball', 'aug', 'annihilation', 'wrong', 'win', 'usa', 'united', 'town', 'totally', 'toddler', 'though', 'temple', 'taken', 'stand', 'spot', 'signs', 'ship', 'pakistan', 'online', 'level', 'ladies', 'jobs', 'isnt', 'happy', 'hailstorm', 'friends', 'disea', 'damn', 'couple', 'case', 'blue', 'bigger', 'america', 'across', '10', 'yours', 'village', 'try', 'transport', 'talk', 'seen', 'russian', 'radio', 'projected', 'once', 'official', 'needs', 'nearly', 'mount', 'might', 'mayhem', 'instead', 'hollywood', 'haha', 'guy', 'gun', 'green', 'front', 'finally', 'favorite', 'experts', 'entire', 'east', 'daily', 'crazy', 'computers', 'coaches', 'christian', 'china', 'blizzard', 'anyone', 'aint', 'action', '25', 'virgin', 'vehicle', 'truth', 'trust', 'takes', 't', 'star', 'sorry', 'running', 'refugio', 'reddits', 'poor', 'pain', 'mom', 'miners', 'marks', 'looking', 'knock', 'issued', 'insurance', 'ignition', 'houses', 'heavy', 'hate', 'hard', 'happened', 'global', 'giant', 'gbbo', 'flight', 'eye', 'emmerdale', 'driver', 'devastated', 'd', 'costlier', 'cnn', 'cars', 'camp', 'beach', 'arsonist', 'angry', 'alone', 'added', '05', 'york', 'wonder', 'uk', 'turn', 'taking', 'subreddits', 'sounds', 'scared', 'russia', 'rly', 'reports', 'ready', 'quiz', 'public', 'property', 'pradesh', 'ppl', 'playing', 'pay', 'parole', 'pamela', 'pakistani', 'outrage', 'niggas', 'nagasaki', 'myanmar', 'muslims', 'mop', 'madhya', 'mad', 'lmao', 'learn', 'large', 'govt', 'give', 'gems', 'gave', 'funtenna', 'fukushima', 'former', 'film', 'earth', 'drive', 'downtown', 'dog', 'comes', 'closed', 'cake', 'british', 'bring', 'bbc', 'b', 'appears', 'aftershock', '13', '11', 'young', 'wow', 'worst', 'waving', 'washington', 'wanted', 'vs', 'view', 'upon', 'tweet', 'tree', 'tote', 'thousands', 'thinking', 'theater', 'soul', 'sky', 'sign', 'shows', 'shift', 'seeing', 'sea', 'scene', 'safety', 'rules', 'rock', 'reported', 'r', 'pray', 'playlist', 'patience', 'passengers', 'park', 'nws', 'nigerian', 'morning', 'moment', 'mode', 'listen', 'likely', 'libya', 'led', 'israel', 'human', 'hiring', 'handbag', 'hand', 'gop', 'geller', 'gas', 'galactic', 'friend', 'france', 'following', 'follow', 'fashion', 'enough', 'else', 'driving', 'drake', 'don\\x89Ûªt', 'disease', 'declaration', 'cut', 'colorado', 'chinas', 'chile', 'centre', 'businesses', 'biggest', 'behind', 'bed', 'bayelsa', 'awesome', 'arrested', 'apollo', 'ancient', '70th', '100', 'x', 'working', 'wednesday', 'wasnt', 'unconfirmed', 'twelve', 'turned', 'tried', 'thursday', 'terror', 'super', 'sex', 'secret', 'sad', 'risk', 'recount', 'problem', 'potus', 'planned', 'parents', 'occurred', 'number', 'neighbours', 'mph', 'militants', 'middle', 'link', 'landing', 'lamp', 'info', 'idea', 'holding', 'governor', 'glad', 'germs', 'firefighters', 'escape', 'ebola', 'early', 'dude', 'deep', 'date', 'cree', 'claims', 'cdt', 'break', 'ave', 'art', 'anthrax', '60', '16', '12000', 'worse', 'worlds', 'western', 'wants', 'wall', 'walk', 'using', 'true', 'till', 'started', 'spring', 'small', 'silver', 'serious', 'provoke', 'played', 'party', 'nice', 'mountain', 'months', 'mod', 'miss', 'mishaps', 'metal', 'med', 'lies', 'lake', 'lady', 'japanese', 'involving', 'investigating', 'internet', 'hour', 'helping', 'havent', 'gtgt', 'funny', 'force', 'financial', 'faux', 'falling', 'expected', 'download', 'direction', 'department', 'denver', 'delivers', 'crematoria', 'coast', 'climate', 'ca', 'buy', 'bombs', 'album', 'alarm', 'ahead', 'account', 'aba', '\\x89ÛÏwhen', 'youll', 'wish', 'wedding', 'victims', 'udhampur', 'turkish', 'travel', 'took', 'told', 'together', 'todays', 'threat', 'sun', 'stories', 'sick', 'shots', 'share', 'series', 'sense', 'season', 'saying', 'salt', 'room', 'record', 'purse', 'prepare', 'plunging', 'philippines', 'pass', 'p', 'offroad', 'nigga', 'members', 'means', 'louis', 'london', 'living', 'linked', 'king', 'join', 'international', 'information', 'horse', 'hasnt', 'happening', 'guide', 'guess', 'ground', 'future', 'friday', 'four', 'feat', 'fact', 'expect', 'etc', 'door', 'different', 'dies', 'de', 'company', 'comment', 'causes', 'career', 'cameroon', 'begin', 'australia', 'arent', 'answer', 'along', 'allows', 'alabama', 'airlines', 'act', '600', '2014', '17', 'wtf', 'worry', 'wife', 'weekend', 'walking', 'victim', 'v', 'utc20150805', 'trump', 'tho', 'text', 'test', 'teen', 'taiwan', 'tablet', 'syrian', 'strike', 'straight', 'states', 'short', 'ships', 'shape', 'setting', 'sensorsenso', 'search', 'rocky', 'research', 'reading', 'rather', 'rate', 'press', 'piece', 'phoenix', 'orders', 'ones', 'nyc', 'minutes', 'million', 'michael', 'mean', 'map', 'lucky', 'killing', 'jonathan', 'islamic', 'internally', 'interesting', 'indian', 'hero', 'happens', 'happen', 'hair', 'giving', 'girls', 'general', 'freak', 'fighting', 'felt', 'feels', 'fat', 'fans', 'episode', 'enugu', 'effects', 'each', 'e', 'drunk', 'double', 'dogs', 'destroys', 'desires', 'dc', 'dance', 'dan', 'cover', 'court', 'complete', 'cold', 'close', 'changes', 'carrying', 'captures', 'cable', 'buses', 'brooklyn', 'board', 'blocked', 'bit', 'between', 'ban', 'ashes', 'arianagrande', 'apc', 'animal', 'amazon', 'alive', 'agree', 'africa', 'absolutely', '2nd', '24', '2013', '1st', '19', '18', '0', 'yall', 'wrought', 'worth', 'winds', 'vote', 'version', 'upset', 'un', 'trent', 'trees', 'training', 'tracks', 'total', 'technology', 'suspected', 'strong', 'standard', 'stadium', 'specially', 'special', 'sometimes', 'soldiers', 'snow', 'smaug', 'sleeping', 'single', 'sh', 'selfimage', 'route', 'ross', 'roosevelt', 'response', 'repatriated', 'remove', 'radiation', 'queen', 'program', 'prevent', 'population', 'picture', 'petition', 'palestinian', 'office', 'nc', 'navy', 'moving', 'millions', 'metro', 'meet', 'mediterranean', 'marians', 'leaving', 'lead', 'late', 'kit', 'killer', 'image', 'hold', 'hobo', 'hello', 'handbags', 'gunman', 'grows', 'gotta', 'gone', 'gold', 'games', 'fully', 'french', 'foxnews', 'feet', 'express', 'examining', 'event', 'evening', 'either', 'dr', 'dangerous', 'dad', 'currently', 'cranes', 'cops', 'colour', 'chicago', 'central', 'causing', 'cat', 'cannot', 'canada', 'calls', 'brother', 'broke', 'box', 'beyond', 'beat', 'based', 'avoid', 'anymore', 'afghanistan', 'able', 'abandoned', '22', '1980', '14', '06', 'yyc', 'wwii', 'word', 'won', 'woke', 'videos', 'usgs', 'usatoday', 'updates', 'tribal', 'trfc', 'totaling', 'thunderstorms', 'tension', 'tears', 'target', 'talking', 'supposed', 'sunday', 'stuff', 'students', 'struggles', 'starts', 'stage', 'squad', 'spos', 'spaceship', 'son', 'sitting', 'sismo', 'shut', 'shouldnt', 'shall', 'seeks', 'seek', 'screen', 'saving', 'san', 'runs', 'relief', 'region', 'reasons', 're', 'question', 'president', 'point', 'pile', 'perfect', 'percent', 'pdp', 'paul', 'open', 'municipal', 'motorcyclist', 'month', 'modified', 'match', 'main', 'lots', 'lose', 'lie', 'less', 'leading', 'later', 'kinda', 'keeps', 'insurer', 'industry', 'imagine', 'ice', 'hunt', 'hospital', 'honestly', 'hilarious', 'ft', 'forever', 'forecast', 'football', 'fleets', 'five', 'fears', 'extreme', 'everywhere', 'emotional', 'drink', 'dream', 'damaged', 'da', 'cruz', 'crime', 'create', 'cook', 'confirms', 'completely', 'community', 'combo', 'coffee', 'cancer', 'c130', 'brought', 'broken', 'boys', 'books', 'block', 'began', 'bay', 'babies', 'attacks', 'ask', 'apply', 'ap', 'antioch', 'among', 'allah', 'according', '911', '4000', '31', '2011', 'yo', 'worldnews', 'wmata', 'wired', 'welcome', 'watched', 'wars', 'waiting', 'usually', 'units', 'understand', 'tropical', 'tram', 'tonto', 'tips', 'time20150806', 'tickets', 'thx', 'terrorists', 'system', 'streets', 'stream', 'stopped', 'sports', 'spent', 'sir', 'simple', 'signed', 'shower', 'shares', 'shame', 'sent', 'seems', 'secrets', 'seconds', 'seattle', 'saturday', 'satellite', 'rule', 'round', 'rip', 'ridge', 'richmond', 'review', 'return', 'repair', 'rea\\x89Û', 'quite', 'pressure', 'practice', 'potential', 'pool', 'plus', 'pilot', 'pics', 'parenthood', 'owner', 'outlook', 'original', 'opens', 'opening', 'onto', 'oklahoma', 'ocean', 'o784', 'o', 'nursing', 'nah', 'mortal', 'mix', 'mine', 'mention', 'mediterran', 'matter', 'massive', 'mary', 'lt', 'loving', 'loved', 'list', 'limited', 'lil', 'leads', 'leader', 'kombat', 'kid', 'kick', 'justinbieber', 'issue', 'irandeal', 'inner', 'incident', 'impact', 'humanity', 'hobbit', 'hits', 'himself', 'highway', 'hi', 'heres', 'hawaii', 'hands', 'guns', 'grill', 'greatest', 'gov', 'gm', 'gay', 'forget', 'firefighter', 'fine', 'final', 'false', 'facebook', 'faan', 'exploration', 'exit', 'exchanging', 'epic', 'el', 'edm', 'earlier', 'drinking', 'disco', 'directioners', 'deadly', 'david', 'dark', 'crying', 'cost', 'continue', 'concerned', 'companies', 'common', 'civilians', 'civilian', 'character', 'cases', 'careful', 'canyon', 'calling', 'burn', 'build', 'browser', 'bro', 'bringing', 'bought', 'blog', 'birthday', 'bin', 'bicyclist', 'ben', 'battlefield', 'arrived', 'ar', 'amazing', 'afternoon', 'acres', 'accidents', 'abstorm', '90', '500', '26', 'you\\x89Ûªve', 'youve', 'yesterday', 'wx', 'writing', 'worked', 'within', 'wildfires', 'weird', 'ways', 'warnings', 'wa', 'vuitton', 'voice', 'visit', 'vietnam', 'unless', 'universe', 'trip', 'township', 'tongue', 'toilet', 'thomas', 'tent', 'tank', 'syria', 'survival', 'stupid', 'stone', 'steve', 'starting', 'sport', 'somalia', 'social', 'smh', 'sleep', 'situation', 'shoes', 'seven', 'sensor', 'sees', 'seat', 'science', 'sadly', 'rubber', 'roof', 'roads', 'result', 'respond', 'replace', 'remains', 'related', 'reduce', 'recovery', 'realise', 'rare', 'rail', 'quote', 'quickly', 'quick', 'pussy', 'protect', 'problems', 'price', 'preparedness', 'powerful', 'posts', 'portland', 'pop', 'political', 'points', 'player', 'photography', 'pathogens', 'officers', 'none', 'needed', 'nature', 'mumbai', 'ms', 'mr', 'moments', 'missed', 'minecraft', 'mill', 'mile', 'md', 'mayan', 'manchester', 'malaysian', 'loss', 'loose', 'listening', 'lion', 'linkury', 'lights', 'lifted', 'laden', 'knew', 'kindle', 'jeb', 'it\\x89Ûªs', 'italian', 'iraq', 'invoices', 'inundation', 'inj', 'including', 'illegal', 'i5', 'hwy', 'hwo', 'httptcoqew4c5m1xd', 'hill', 'hearing', 'headed', 'ha', 'guardian', 'gods', 'glass', 'genocide', 'gaza', 'freakiest', 'fort', 'forces', 'fog', 'fish', 'feminists', 'fell', 'fantasy', 'falls', 'f', 'experience', 'exchange', 'except', 'equipment', 'epicentre', 'ep', 'ended', 'em', 'economy', 'economic', 'dropped', 'dozens', 'disney', 'discovered', 'di', 'created', 'continues', 'conference', 'computer', 'clutch', 'church', 'choice', 'china\\x89Ûªs', 'chief', 'cheese', 'charity', 'canaanites', 'burns', 'bruh', 'broadway', 'brain', 'bout', 'bombings', 'beyhive', 'bet', 'baseball', 'bank', 'automatic', 'audio', 'attention', 'asking', 'asked', 'articles', 'areas', 'arabia', 'angel', 'al', 'ah', 'add', 'access', '4x4', '3g', '1000', 'zombie', 'yrs', 'ya', 'xd', 'write', 'wouldnt', 'wins', 'wings', 'window', 'wheavenly', 'weeks', 'wed', 'waste', 'vinyl', 'vine', 'veterans', 'van', 'valley', 'utc', 'updated', 'unlocked', 'unit', 'type', 'twice', 'tweets', 'tube', 'troops', 'triggered', 'trailer', 'tour', 'tough', 'touch', 'toronto', 'tom', 'toll', 'tired', 'threatens', 'thoughts', 'theatre', 'terrible', 'ten', 'tcot', 'swallows', 'sw', 'surrounded', 'surprise', 'sunset', 'subject', 'style', 'struck', 'storms', 'store', 'stops', 'steps', 'steel', 'stealing', 'stars', 'standuser', 'sparked', 'soundcloud', 'somebody', 'society', 'snap', 'slightly', 'skin', 'size', 'sit', 'sinjar', 'sidelines', 'sicily', 'shelter', 'shadow', 'several', 'september', 'senior', 'senator', 'se', 'scary', 'satchel', 'santa', 'salem', 'sale', 'safe', 'runway', 'row', 'root', 'rocks', 'rn', 'rising', 'riots', 'residents', 'republicans', 'reminds', 'remembering', 'releases', 'release', 'relatives', 'ran', 'quran', 'questions', 'putin', 'prosecuted', 'prophetmuhammad', 'project', 'prime', 'powerlines', 'poll', 'pipe', 'pilots', 'pc', 'patient', 'passing', 'parleys', 'parker', 'page', 'operation', 'officially', 'nytimes', 'ny', 'notices', 'nine', 'nashville', 'murdered', 'mt', 'movies', 'moon', 'mood', 'monogram', 'mma', 'mission', 'minister', 'mining', 'mini', 'mind', 'mikeparractor', 'mets', 'message', 'mentions', 'meeting', 'medical', 'meatloving', 'maximum', 'max', 'markets', 'maintenance', 'madinah', 'mac', 'lt3', 'lovely', 'loop', 'local', 'library', 'levels', 'legacy', 'learning', 'laws', 'lane', 'lack', 'knows', 'knee', 'kisii', 'kidnapped', 'john', 'joe', 'jackson', 'jack', 'i\\x89Ûªm', 'itunes', 'interview', 'intensity', 'indeed', 'incredible', 'ii', 'ie', 'ideas', 'hurts', 'hunters', 'humans', 'httptcoq2eblokeve', 'httptcoencmhz6y34', 'homeless', 'heroes', 'held', 'heads', 'h', 'gunfire', 'gta', 'gotten', 'given', 'girlfriend', 'german', 'fruit', 'fr', 'foxtrot', 'forced', 'followers', 'focus', 'florida', 'floor', 'flat', 'fix', 'fired', 'female', 'feed', 'failed', 'fail', 'exp', 'executives', 'evil', 'everyday', 'estimate', 'entertainment', 'enjoy', 'england', 'enemy', 'electronic', 'edt', 'edition', 'eat', 'dying', 'dubstep', 'drone', 'drill', 'dollar', 'documents', 'dnb', 'distance', 'destiny', 'defense', 'debate', 'cuz', 'cute', 'curved', 'criminals', 'crap', 'cramer', 'couldnt', 'costs', 'cop', 'consider', 'congress', 'conditions', 'concert', 'complex', 'co', 'club', 'click', 'chinese', 'charging', 'ceo', 'carry', 'card', 'capsizes', 'can\\x89Ûªt', 'calories', 'calm', 'calif', 'c', 'by\\x89Û', 'button', 'butter', 'burst', 'budget', 'broad', 'brazil', 'boston', 'blvd', 'blk', 'blessings', 'blessed', 'blamed', 'bells', 'bear', 'awful', 'avoiding', 'authorities', 'australian', 'associated', 'arrive', 'arms', 'apparently', 'app', 'animalrescue', 'amsterdam', 'aka', 'aim', 'af', 'advisory', 'adult', 'actions', 'accidentally', 'above', '5km', '53inch', '4wd', '35', '300w', '1945', 'zionist', 'z10', 'youngheroesid', 'youd', 'yobe', 'yay', 'xbox', 'ww1', 'written', 'wouldve', 'worried', 'workers', 'wondering', 'wonderful', 'wo', 'williams', 'whos', 'whether', 'wet', 'weed', 'wearing', 'wealth', 'warship', 'warns', 'viralspell', 'violence', 'vehicles', 'usual', 'users', 'upper', 'unveiled', 'ultimate', 'ugh', 'twia', 'tryna', 'truly', 'treatment', 'treat', 'trapmusic', 'trap', 'traditional', 'track', 'towel', 'toward', 'tornadoes', 'title', 'thus', 'throwing', 'thriller', 'threatening', 'theyll', 'tennessee', 'tempered', 'ted', 'tech', 'teams', 'tea', 'tbt', 'tax', 'tag', 'sydney', 'swim', 'sweet', 'surprised', 'stuart', 'structures', 'structure', 'streak', 'strategy', 'strange', 'stranded', 'status', 'statement', 'staff', 'springs', 'spirit', 'spider', 'spanish', 'somehow', 'solution', 'solar', 'socialnews', 'smoking', 'sister', 'singing', 'sing', 'shop', 'shipping', 'shepherd', 'sharp', 'sexual', 'served', 'seriously', 'serial', 'sentinel', 'sarah', 'sac', 'rÌ©union', 'romance', 'roll', 'revealed', 'results', 'restore', 'rest', 'responsible', 'responds', 'respect', 'residential', 'reporting', 'reno', 'remain', 'register', 'reduced', 'rear', 'realized', 'read\\x89Û', 'ray', 'rape', 'rally', 'rains', 'quest', 'quality', 'putting', 'purple', 'pump', 'protector', 'prophet', 'profile', 'prices', 'pres', 'pov', 'port', 'politics', 'plug', 'plot', 'playoffs', 'planet', 'plains', 'plague', 'places', 'piling', 'picked', 'physical', 'philly', 'persons', 'personal', 'peanut', 'patrick', 'parts', 'paper', 'pantherattack', 'pak', 'owners', 'option', 'okwx', 'of\\x89Û', 'offer', 'numbers', 'nuke', 'normal', 'newest', 'nd', 'naved', 'nation', 'nasahurricane', 'named', 'museum', 'murderous', 'moves', 'moved', 'motor', 'mo', 'mlb', 'miles', 'migrant', 'mido', 'microlight', 'mhtw4fnet', 'mess', 'memory', 'memorial', 'maria', 'mansehra', 'manager', 'management', 'mail', 'lungs', 'luck', 'lowndes', 'lower', 'loves', 'lorries', 'looting', 'looked', 'let\\x89Ûªs', 'legal', 'law', 'laughing', 'larger', 'justice', 'july', 'judge', 'jewish', 'jet', 'jamaica', 'jam', 'jacksonville', 'itself', 'italy', 'ir', 'iphone', 'insane', 'injuryi495', 'increased', 'iii', 'igers', 'ices\\x89Û', 'icemoon', 'i77', 'hungry', 'httptcovvplfqv58p', 'httptcoksawlyux02', 'housing', 'hotel', 'hopefully', 'hip', 'hearts', 'hd', 'guillermo', 'gtgtgt', 'grow', 'grey', 'grade', 'grace', 'google', 'golf', 'goal', 'germany', 'george', 'generation', 'gang', 'gabon', 'fresh', 'freedom', 'fox', 'finnish', 'fighters', 'field', 'festival', 'fav', 'fake', 'faced', 'extremely', 'extra', 'external', 'explosionproof', 'experiments', 'exactly', 'everyones', 'estimated', 'especially', 'eruption', 'error', 'energy', 'ends', 'ems', 'elephant', 'electrical', 'effort', 'education', 'easy', 'dvd', 'duty', 'dutch', 'drug', 'drop', 'drones', 'drawn', 'dramatic', 'djicemoon', 'diving', 'disrupts', 'disneys', 'diet', 'details', 'depth', 'demand', 'degrees', 'decided', 'debt', 'deals', 'darude', 'dare', 'damages', 'cry', 'crossed', 'cream', 'covers', 'covered', 'countries', 'copilot', 'considering', 'conflict', 'confirm', 'combined', 'collisionno', 'collection', 'clip', 'clear', 'clean', 'classic', 'civil', 'cities', 'cinema', 'cia', 'christmas', 'christians', 'charge', 'characters', 'certain', 'campaign', 'built', 'buffalo', 'bride', 'brakes', 'bowl', 'boss', 'bob', 'blind', 'blackberry', 'bjp', 'bitch', 'be\\x89Û', 'below', 'beginning', 'becomes', 'became', 'beam', 'bb17', 'bat', 'bargain', 'b4', 'australias', 'asap', 'article', 'approaches', 'anyway', 'anti', 'annual', 'animals', 'anchorage', 'amongst', 'americans', 'alps', 'allow', 'aid', 'age', 'afterlife', 'afraid', 'afghan', 'advance', 'address', 'acts', 'activity', 'activated', 'abuse', 'abcnews', '97georgia', '731', '3d', '33', '320', '300', '101', 'åÊ', '\\x89Û÷politics', '\\x89ÛÏthe', '\\x89ÛÏa', 'zouma', 'z', 'yr', 'yazidis', 'y', 'xp', 'wy', 'writer', 'wound', 'worstsummerjob', 'wood', 'wither', 'wit', 'wireless', 'wire', 'winston', 'windows', 'wheres', 'whao', 'weve', 'werent', 'website', 'wash', 'warfighting', 'wanting', 'walmart', 'waimate', 'vulnerable', 'votejkt48id', 'vintage', 'vets', 'values', 'val', 'vacant', 'va', 'utterly', 'utter', 'uses', 'usagov', 'uribe', 'unsuckdcmetro', 'unlocking', 'university', 'union', 'understanding', 'ugly', 'uganda', 'twin', 'tutorial', 'turns', 'turbine', 'tubestrike', 'trucks', 'trolley', 'tripledigit', 'tribune', 'trial', 'transit', 'tracking', 'tools', 'tons', 'todd', 'time20150805', 'throw', 'thousand', 'theyve', 'theory', 'themselves', 'th', 'temporary300', 'telling', 'taste', 'targeting', 'tampa', 'table', 'swimming', 'swansea', 'supreme', 'summerfate', 'suffer', 'sucks', 'success', 'subs', 'sub', 'study', 'stress', 'strategicpatience', 'stir', 'stereo', 'station', 'starter', 'stands', 'stabbing', 'stab', 'sprinter', 'spend', 'speaking', 'speaker', 'sparks', 'spain', 'sp', 'southern', 'southeast', 'southampton', 'sources', 'source', 'soup', 'sophie', 'someones', 'smithsonian', 'smile', 'slow', 'slide', 'slanglucci', 'skinny', 'sixth', 'six', 'sisters', 'simulate', 'silence', 'shell', 'sets', 'senate', 'selfie', 'section', 'sean', 'scott', 'score', 'scientists', 'schools', 'scheme', 'schedule', 'sat', 'sandiego', 'sanctions', 'safer', 'sa', 'rs', 'rose', 'rolling', 'rohingya', 'rockyfire', 'rockin', 'rocket', 'robots', 'robert', 'rob', 'rises', 'ring', 'rights', 'ridiculous', 'rider', 'ride', 'richard', 'reward', 'reveals', 'responsibility', 'republican', 'reportedly', 'replacing', 'remembered', 'regular', 'refugee', 'redlight', 'recommend', 'recognize', 'recently', 'recent', 'recall', 'reap', 'realize', 'reality', 'reaching', 'reach', 'rapidly', 'raining', 'rage', 'radar', 'racist', 'race', 'pulls', 'pulled', 'ps', 'providence', 'protest', 'prompts', 'promises', 'promise', 'progress', 'produced', 'probe', 'pro', 'prison', 'prior', 'print', 'prince', 'primary', 'previously', 'prepared', 'pregnant', 'predicted', 'predict', 'precipitation', 'prabhu', 'poverty', 'posted', 'positive', 'pls', 'players', 'plate', 'planted', 'plant', 'plaguing', 'pitch', 'pipeline', 'photoshop', 'phones', 'perhaps', 'pepper', 'pbban', 'path', 'passenger', 'parking', 'palms', 'palestinians', 'palestine', 'painting', 'packs', 'pacific', 'pace', 'overnight', 'outdoor', 'otrametlife', 'oppressions', 'opposite', 'opinion', 'opened', 'oops', 'omfg', 'olympic', 'okanagan', 'often', 'offers', 'occasion', 'nw', 'nurse', 'nu', 'np', 'notice', 'nobody', 'nigeria', 'nicki', 'newyork', 'newlyweds', 'network', 'nema', 'negative', 'nb', 'nasa', 'mystery', 'muslim', 'muscle', 'multiple', 'mtvhottest', 'mourning', 'mountains', 'motorcycle', 'mother', 'morgan', 'monsoon', 'minds', 'min', 'michigan', 'michael5sos', 'miami', 'mexico', 'messenger', 'mens', 'memes', 'measurement', 'meant', 'meals', 'materials', 'maryland', 'marked', 'mark', 'mansion', 'mama', 'mall', 'majority', 'magic', 'machine', 'lunch', 'lulgzimbestpicts', 'lowly', 'losses', 'losing', 'los', 'longest', 'lonely', 'logo', 'location', 'loan', 'load', 'lmfao', 'listed', 'lip', 'lightening', 'lez', 'leveled', 'letting', 'letters', 'lethal', 'legit', 'leaves', 'league', 'leaders', 'largest', 'kyle', 'known', 'kind', 'kerricktrial', 'kept', 'kca', 'karymsky', 'jst', 'joy', 'jordan', 'jeans', 'japÌn', 'i\\x89Û', 'iranian', 'invalid', 'internal', 'intern', 'interested', 'interest', 'insurers', 'instagram', 'innocent', 'include', 'impossible', 'images', 'ig', 'idp', 'idk', 'idfire', 'hurt', 'huh', 'hughes', 'huffman', 'httptcozujwuiomb3', 'httptcowvj39a3bgm', 'httptcoviwxy1xdyk', 'httptcothoyhrhkfj', 'httptcolvlh3w3awo', 'httpstcomoll5vd8yd', 'hosting', 'host', 'horses', 'horrific', 'hop', 'honors', 'holy', 'holland', 'holiday', 'hole', 'hitting', 'hills', 'highest', 'hieroglyphics', 'here\\x89Ûªs', 'heights', 'heaven', 'headphones', 'heading', 'haunting', 'hated', 'harry', 'harbor', 'haram', 'gusty', 'gusts', 'groups', 'grief\\x89Ûª', 'grenade', 'grazed', 'grateful', 'grab', 'gift', 'garden', 'gained', 'g', 'fwy', 'further', 'fund', 'fuel', 'fucked', 'frontline', 'forward', 'forgotten', 'forgot', 'forbes', 'follows', 'fly', 'floyds', 'flooded', 'flew', 'flags', 'fits', 'fingers', 'finds', 'fights', 'fifth', 'fettilootch', 'feeding', 'fbi', 'father', 'fate', 'faster', 'farrakhan', 'fantastic', 'famous', 'falcon', 'faith', 'factory', 'explains', 'expert', 'exist', 'ex', 'eventually', 'events', 'europe', 'estate', 'equal', 'epilepsy', 'entered', 'enter', 'enjoying', 'english', 'emotions', 'elevated', 'elem', 'electric', 'election', 'efforts', 'edinburgh', 'eden', 'ebike', 'eating', 'easily', 'earrings', 'earners', 'dtn', 'dry', 'drugs', 'drove', 'driven', 'dress', 'dragon', 'doubt', 'dk', 'diss', 'dinner', 'diamond', 'detectado', 'desire', 'designs', 'design', 'description', 'derails', 'deputies', 'dependency', 'democracy', 'delays', 'degree', 'defend', 'decisions', 'decision', 'decide', 'dear', 'daughters', 'daughter', 'dam', 'dallas', 'cyclist', 'current', 'cupcake', 'cup', 'crowd', 'crater', 'crashes', 'cr', 'cousin', 'couples', 'counselor', 'cotton', 'cos', 'cord', 'copycat', 'constantly', 'concerns', 'concern', 'compliant', 'communities', 'commercial', 'comments', 'collapses', 'cofounder', 'cock', 'clouds', 'cloud', 'clinton', 'client', 'cleveland', 'clev', 'clearly', 'cleanup', 'clash', 'claim', 'chill', 'childhood', 'chicagoarea', 'chelsea', 'charts', 'charlie', 'charles', 'channel', 'challenge', 'certainly', 'cell', 'cdc', 'caution', 'cats', 'catch', 'cast', 'carryi', 'captured', 'capture', 'captain', 'capacity', 'cancel', 'campus', 'californias', 'calamity', 'bulletin', 'bug', 'buckle', 'brutally', 'brothers', 'brings', 'braking', 'boxer', 'bound', 'boot', 'bluetooth', 'bluejays', 'blows', 'blocking', 'bless', 'bitches', 'bid', 'bff', 'beyonce', 'benefits', 'bell', 'begins', 'bees', 'beer', 'bedroom', 'beats', 'bears', 'battling', 'battery', 'bathroom', 'base', 'bands', 'bake', 'averted', 'average', 'av', 'auth', 'aussie', 'auctions', 'attacking', 'atlanta', 'assistance', 'asian', 'asia', 'arabian', 'apple', 'anybody', 'answers', 'ankle', 'angeles', 'analysis', 'america\\x89Ûªs', 'americas', 'allowed', 'alleged', 'alert', 'alcohol', 'alberta', 'alaska', 'agreed', 'admits', 'active', 'activates', 'accuses', 'ability', 'abbswinston', '852015', '80s', '800', '6aug', '5pm', '5000', '48', '3rd', '39', '370', '360wisenews', '34', '2pm', '2pcs', '29072015', '23', '21', '2030', '2009', '18w', '13000', '125', '1200', '10th', '02', 'å¨', '\\x89Û÷extremely', '\\x89ÛÏwe', '\\x89ÛÏrichmond', '\\x89ÛÏhatchet', 'zayn', 'yugvani', 'yorker', 'yep', 'yemen', 'yea', 'yahoonews', 'yahoo', 'xxx', 'wwi', 'wrapup', 'worldnetdaily', 'wom', 'wnd', 'witter', 'winter', 'willing', 'widespread', 'wicked', 'wi', 'wht', 'whales', 'weight', 'wee', 'weathernetwork', 'wear', 'weak', 'waterways', 'waterresistant', 'washed', 'warships', 'warned', 'warne', 'warn', 'warcraft', 'wannabe', 'walls', 'walker', 'voter', 'volga', 'vladimir', 'visited', 'virus', 'virgil', 'vip', 'villages', 'villagers', 'vid', 'vet', 'vest', 'vermont', 'verdict', 'venezuela', 'vegetarian', 'vegas', 'variety', 'vampiro', 'vacation', 'usnwsgov', 'urgent', 'unsafe', 'unknown', 'uniform', 'underway', 'undercover', 'unawares', 'unavoidable', 'ud', 'uber', 'tyre', 'ty', 'twins', 'turning', 'tunnel', 'tune', 'ts', 'trubgme', 'trs', 'triple', 'tries', 'trials', 'transporting', 'transformation', 'transfer', 'trafford', 'tr', 'towards', 'torch', 'tooth', 'tool', 'tonights', 'tomorrows', 'tmp', 'titan', 'tinyjecht', 'timeline', 'tilnow', 'til', 'tied', 'tie', 'ticket', 'thru', 'threats', 'third', 'thinks', 'thin', 'thick', 'the\\x89Û', 'theyd', 'therapy', 'that\\x89Ûªs', 'tflbusalerts', 'tf', 'tested', 'terrifying', 'terms', 'temper', 'tells', 'telegraph', 'teaching', 'teachers', 'tdp', 'tb', 'taxiways', 'targets', 'talks', 'talent', 'taco', 'tab\\x89Û', 'systems', 'sympathy', 'swing', 'swells', 'sweden', 'suv', 'survivor', 'surge', 'surface', 'surf', 'surely', 'surah', 'supervisor', 'superhero', 'suffering', 'suffered', 'stylish', 'stuck', 'strikes', 'stressed', 'stomach', 'stewart', 'stepped', 'stephen', 'step', 'steam', 'stays', 'startup', 'starring', 'standing', 'stamp', 'spinningbot', 'spinning', 'speed', 'specimens', 'specific', 'specif', 'spears', 'souls', 'songs', 'soldier', 'socialism', 'smoky', 'sm', 'slowly', 'slower', 'slip', 'slate', 'skirt', 'skills', 'sized', 'sittwe', 'sitting\\x89Û', 'sites', 'sink', 'silvergray', 'silent', 'significant', 'sight', 'showcase', 'shoulders', 'shook', 'shocked', 'shock', 'shitty', 'shirt', 'shipwreck', 'shelby', 'shedding', 'shared', 'shanghai', 'sexy', 'settlement', 'sends', 'sending', 'seemed', 'seasons', 'screenshots', 'scotland', 'scoopit', 'scifi', 'schiphol', 'scars', 'sb', 'savebees', 'sassy', 'sand', 'sampling', 'salvation', 'salmon', 'safely', 'saddlebrooke', 'rwy', 'rworldnews', 'runner', 'ruined', 'royal', 'rome', 'roller', 'role', 'robotrainstorm', 'robinson', 'roberts', 'roanoke', 'ripped', 'rid', 'rickperry', 'rexyy', 'revolution', 'reviews', 'revenues', 'returns', 'returned', 'retail', 'resulted', 'restaurant', 'responded', 'republic', 'repeat', 'reopening', 'reminder', 'relax', 'regret', 'registered', 'regarding', 'refused', 'reflect', 'referring', 'recycling', 'recover', 'recipes', 'recalls', 'realtime', 'realmandyrain', 'realdonaldtrump', 'raynbowaffair', 'range', 'ramag', 'rainfall', 'raid', 'radioactive', 'quotes', 'queens', 'purchase', 'pun', 'pull', 'ptsdchat', 'ptsd', 'psychological', 'psychiatric', 'provide', 'protests', 'propertycasualty', 'prompted', 'profit', 'proceeds', 'procedures', 'private', 'preview', 'present', 'premium', 'premature', 'prefer', 'prayers', 'posting', 'possibly', 'portion', 'porn', 'popular', 'pond', 'poland', 'pockets', 'plays', 'planning', 'pizza', 'pisgah', 'pillow', 'pieces', 'photographer', 'pets', 'period', 'peoples', 'penalties', 'peaceful', 'pattern', 'patched', 'patch', 'passed', 'panel', 'pam', 'palin', 'pack', 'outflow', 'os', 'ornament', 'origin', 'orange', 'oral', 'opus', 'options', 'ops', 'opposition', 'oper', 'openly', 'ooh', 'ontario', 'omars', 'olive', 'older', 'olap', 'ohio', 'offensiveåÊcontent', 'offensive\\x89Ûª', 'odeon', 'odds', 'odd', 'occurs', 'occupants', 'oc', 'oak', 'nyt', 'numbered', 'nuggets', 'nsfw', 'ns', 'nri', 'noticed', 'note', 'nose', 'noncompliant', 'non', 'noise', 'nm', 'nike', 'niece', 'nickcannon', 'nfl', 'newsintweets', 'neither', 'needle', 'necessary', 'nbcnews', 'navbl', 'nations', 'nasty', 'nap', 'musician', 'multiplayer', 'mullah', 'msf', 'movement', 'mountaineering', 'moth', 'moral', 'modiministry', 'modi', 'models', 'model', 'mnpdnashville', 'mkx', 'mitt\\x89Û\\x9d', 'mitigation', 'mistake', 'mirage', 'mins', 'minority', 'minor', 'minaj', 'milkshake', 'milk', 'militant', 'mike', 'mfs', 'mf', 'metrofmtalk', 'metrics', 'method', 'mercy', 'mercury', 'mentioned', 'mentally', 'mental', 'memphis', 'member', 'melt', 'mega', 'meat', 'mcilroy', 'mcdonalds', 'mattson', 'matters', 'mate', 'matches', 'marvel', 'marker', 'marine', 'marijuana', 'manmade', 'maj', 'magnum', 'ma', 'm194', 'luis', 'lrt', 'lover', 'loses', 'lonewolffur', 'log', 'locker', 'locke', 'lock', 'local\\x89Û', 'localarsonist', 'listenlive', 'listenbuy', 'limit', 'lighting', 'lgbt', 'lessons', 'lesbian', 'leo', 'len', 'leisure', 'lego', 'legion', 'legendary', 'leg', 'leadership', 'lay', 'launch', 'laugh', 'lately', 'las', 'languages', 'langley', 'landfall', 'laid', 'l', 'kuwait', 'kurtschlichter', 'kurdish', 'korea', 'komen', 'knoxville', 'kingdom', 'kiernan', 'kicked', 'key', 'kenya', 'karachi', 'kalle', 'just\\x89Û', 'jupiters', 'julie', 'journalist', 'jon', 'joke', 'joining', 'johnson', 'johannesburg', 'joel', 'jimmyfallon', 'jesus', 'jazz', 'jays', 'jay', 'jax', 'japans', 'jan', 'james', 'jail', 'j', 'i\\x89Ûªve', 'itunesmusic', 'irish', 'ireland', 'involved', 'integrity', 'instant', 'installation', 'inst', 'inning', 'ink', 'initial', 'inevitable', 'indonesia', 'individuals', 'individual', 'independent', 'imported', 'illinois', 'ik', 'idps', 'idiot', 'icymi', 'ibooklove', 'ianhellfire', 'ian', 'hybrid', 'hurry', 'hunk', 'hunger', 'hundred', 'humidity', 'humaza', 'httptcoo91f3cyy0r', 'httptconnmqlz91o9', 'httptcocybksxhf7d', 'httptcocedcugeuws', 'httptcobbdpnj8xsx', 'httptco9nwajli9cr', 'httpstcorqwuoy1fm4', 'httpstcodehmym5lpk', 'however', 'houston', 'horrors', 'honey', 'historic', 'hillary', 'hike', 'highly', 'higher', 'helps', 'headset', 'hating', 'hatchet', 'hatcap', 'hashtag', 'harrybecareful', 'harper', 'happiness', 'hang', 'hampshire', 'hamilton', 'hamas', 'haiyan', 'gunshot', 'gunsense', 'guilty', 'guided', 'guard', 'growth', 'grown', 'grove', 'groom', 'grew', 'greg', 'greeces', 'grand', 'grabbers', 'gps', 'gopdebate', 'gon', 'goals', 'glorious', 'gives', 'gerenciatodos', 'georgia', 'genuine', 'generally', 'gem', 'gateau', 'gamergate', 'gameplay', 'fyi', 'funds', 'fuels', 'fuckin', 'frozen', 'frontpage', 'freezing', 'frank', 'fraction', 'foul', 'formed', 'forgiven', 'ford', 'footage', 'foot', 'flying', 'flower', 'floated', 'flaming', 'fkn', 'fixed', 'fitness', 'fit', 'fishing', 'finishing', 'finish', 'finger', 'filled', 'ferguson', 'feminist', 'feelings', 'fed', 'features', 'fd', 'fb', 'favourite', 'fashionable', 'faroeislands', 'farm', 'fam', 'fallen', 'fair', 'facts', 'factors', 'extends', 'exploit', 'experiencing', 'experienced', 'expensive', 'expecting', 'existence', 'excellent', 'example', 'evidence', 'euro', 'eu', 'esp', 'er', 'eq', 'environmental', 'environment', 'entering', 'enrt', 'enjoyed', 'engine', 'ending', 'encounter', 'en', 'embroidered', 'email', 'elite', 'eight', 'ego', 'eggs', 'egged', 'ee', 'editor', 'ed', 'eb', 'eaten', 'eastern', 'earthquakes', 'ear', 'dundee', 'dudes', 'dublin', 'dual', 'drives', 'drinks', 'dreams', 'drag', 'dq', 'dorrets', 'dorret', 'donate', 'donald', 'domestic', 'doc', 'dj', 'disgusting', 'discovery', 'disasters', 'disappoints', 'disappearance', 'dis', 'dirt', 'diamondkesawn', 'devalue', 'detained', 'destroying', 'despite', 'designed', 'describing', 'describes', 'dept', 'dental', 'denmark', 'dem', 'deliver', 'delay', 'definitely', 'declined', 'december', 'decades', 'dating', 'dat', 'darkness', 'daesh', 'cutting', 'curb', 'cunts', 'cum', 'cue', 'cuban', 'cta', 'csx', 'cryptic', 'crosses', 'croatian', 'cries', 'cricket', 'crew', 'crashing', 'crackdown', 'counter', 'count', 'correction', 'corners', 'cooler', 'control\\x89Û\\x9d', 'continued', 'context', 'contemplating', 'contained', 'construction', 'consequence', 'conquest', 'connector', 'condition', 'concept', 'commute', 'communication', 'commit', 'comedy', 'combat', 'columbia', 'color', 'collision1141', 'college', 'cobra', 'coastal', 'coach', 'cnbc', 'clothes', 'closures', 'closing', 'closes', 'climb', 'clearedincident', 'claytonbryant', 'cladding', 'citizens', 'circuit', 'circle', 'cigarette', 'chunks', 'chosen', 'choking', 'choices', 'chocolate', 'chicken', 'chewing', 'chevy', 'chest', 'chernobyl', 'checked', 'chases', 'charlotte', 'charges', 'charger', 'chaos', 'changed', 'chain', 'centipede', 'cecilthelion', 'cd', 'cbcca', 'cave', 'catches', 'casual', 'casper', 'carried', 'cargo', 'capsized', 'capital', 'candy', 'camera', 'cam', 'calum5sos', 'cakes', 'caitlin', 'cabin', 'bypass', 'buying', 'butt', 'burnt', 'buried', 'bunch', 'bully', 'buddys', 'bu', 'btw', 'bts', 'bs', 'brush', 'briefing', 'brian', 'breathe', 'breaks', 'breakingnews', 'brave', 'brand', 'brady', 'bp', 'bowling', 'bounty', 'bottom', 'bother', 'born', 'bored', 'bore', 'border', 'boom', 'bookboost', 'bones', 'boko', 'boeing', 'bluedio', 'blowout', 'blowmandyup', 'blow', 'blasts', 'blanket', 'blame', 'blake', 'blah', 'birth', 'birds', 'bio', 'billings', 'bill', 'biker', 'bigamist', 'beware', 'betrayed', 'besides', 'bend', 'belongs', 'belonged', 'beginners', 'beforeitsnews', 'bee', 'becoming', 'beard', 'bbcnews', 'bb4sp', 'battleship', 'batters', 'bath', 'basement', 'bars', 'barn', 'barely', 'bare', 'barackobama', 'bangladesh', 'band', 'background', 'a\\x89Û', 'aware', 'aw', 'avenue', 'aussies', 'at\\x89Û', 'attitude', 'asshole', 'assembly', 'arwx', 'arts', 'artistsunited', 'arsenal', 'arrest', 'arm', 'appreciate', 'applications', 'apch', 'apartment', 'apart', 'aoms', 'anxious', 'anxiety', 'announcement', 'anna', 'angels', 'amirite', 'although', 'alternatives', 'alright', 'alex', 'alarms', 'ahh', 'affects', 'adding', 'acute', 'actual', 'acting', 'acid', 'accused', 'accionempresa', 'abortion', 'abomination', 'abe', 'abandon', '95', '87', '86', '80', '78', '6th', '69', '56', '55', '45', '43rd', '41', '375', '361', '300000', '2us', '27', '2005', '200', '1620', '150foot', '150401', '150', '103', '0day', '09', '010401', '0104', 'åÈ', 'åÇ', 'å', '\\x89Û÷plot', '\\x89Û÷it\\x89Ûªs', '\\x89ÛÏyou', '\\x89ÛÏstretcher', '\\x89ÛÏhannaph\\x89Û\\x9d', '\\x89Û¢åÊdemolition', 'zippednews', 'zionism', 'zimbabwe', 'zaynmalik', 'zabadani', 'yycstorm', 'ypres', 'you\\x89Ûªre', 'you\\x89Ûªll', 'yourselves', 'yougov', 'yesterdays', 'yellow', 'yelling', 'yazidi', 'yankees', 'xv', 'wwwcbplawyers', 'wwe', 'ww2', 'wud', 'wrist', 'wowo', 'wouldn\\x89Ûªt', 'worries', 'worn', 'worldwide', 'works', 'workplace', 'workout', 'worker', 'woods', 'woodlawn', 'wolves', 'wolf', 'wod', 'wocowae', 'wmv', 'wmur9', 'witness', 'wipp', 'wine', 'windy', 'wilshere', 'william', 'wide', 'whose', 'whoops', 'whomever', 'wholesale', 'whoever', 'whoa', 'whitehouse', 'whitbourne', 'whistle', 'whipped', 'whenever', 'whatsapp', 'whale', 'wftv', 'wfp', 'weyreygidi', 'weston', 'wen', 'welfare', 'weighs', 'weekold', 'wednesdays', 'wedn', 'wedaug5th', 'wealthy', 'weallheartonedirection', 'weakening', 'wd', 'wce', 'wbioterrorismampuse', 'wb', 'wayne', 'wattpad', 'watertown', 'waters', 'washingtonpost', 'warrior', 'warming', 'warm', 'walter', 'walked', 'walerga', 'waking', 'waits', 'waist', 'voting', 'voted', 'voodoo', 'voluntary', 'volleyball', 'volcanoåÊinåÊrussia', 'volcanoes', 'vods', 'vital', 'visto', 'visits', 'vision', 'violations', 'vince', 'vietnamese', 'videoveranomtv', 'vida', 'victory', 'vicinity', 'vice', 'vibez', 'vi', 'veteran', 'versions', 'versethe', 'venice', 'vegetable', 've', 'vault', 'vashon', 'various', 'vanuatu', 'vantage', 'vancouver', 'utc5km', 'ut', 'ushed', 'user', 'us101', 'urs', 'upwards', 'uploading', 'upgrading', 'upgraded', 'unrest', 'unrelenting', 'unr', 'unprecedented', 'unnecessary', 'unity', 'unique', 'unions', 'uniforms', 'unhappiness', 'unfortunately', 'unfolded', 'uncle', 'ultimalucha', 'ukraine', 'typos', 'types', 'tyler', 'twovehicle', 'twos', 'twentynine', 'tweetlikeitsseptember11th2001', 'turkmen', 'tuning', 'tunein', 'tuesday', 'ttes', 'tt', 'tsunamiesh', 'tryouts', 'tryout', 'trusty', 'trunk', 'truelove', 'troy', 'troubling', 'troll', 'trinity', 'trillion', 'trick', 'trend', 'tremor', 'trek', 'treeporn', 'treatments', 'treating', 'treated', 'travis', 'traverse', 'travelling', 'traveling', 'transformed', 'trancy', 'tragic', 'trading', 'touched', 'totes', 'torture', 'tornados', 'torching', 'tor', 'topstories', 'tops', 'tomcatarts', 'tomatoes', 'tokyo', 'tlc', 'tix', 'titanic', 'tin', 'timkaine', 'timelapse', 'tigers', 'tides', 'tidal', 'thyroid', 'thy', 'thuggin', 'thu', 'thrown', 'throwingknifes', 'throwback', 'throughout', 'thrones', 'throat', 'threw', 'threaten', 'thisizbwright', 'thisiswhywecanthavenicethings', 'thirsty', 'thirst', 'thighs', 'thief', 'thetawniest', 'therapies', 'theological', 'themed', 'themagickidraps', 'thegame', 'thee', 'thankfully', 'thankful', 'tha', 'tgirl', 'tests', 'testing', 'testimony', 'teslas', 'term', 'tens', 'temptation', 'teeth', 'teens', 'teenagers', 'technologies', 'technique', 'technica', 'teases', 'tear', 'teamstream', 'teamhendrick', 'teacher', 'te', 'tch', 'tc', 'taylor', 'taught', 'tattoo', 'tastes', 'tasmanias', 'targeted', 'tape', 'tanzania', 'tanks', 'tan', 'talkin', 'tale', 'tak', 'tahoe', 's\\x89Û', 'syndrome', 'symphony', 'sx', 'sws', 'swept', 'sweet2young', 'sweater', 'sweat', 'swear', 'swarm', 'sustainable', 'suspense', 'suryaray', 'survey', 'suruc', 'surrounding', 'surrender', 'surgery', 'surfers', 'suppose', 'supports', 'supply', 'sunny', 'sunnis', 'sundays', 'summit', 'summertime', 'suit', 'suicidebombing', 'suh', 'suddenly', 'sudden', 'subway', 'stuns', 'stunned', 'studio', 'student', 'stu', 'sts', 'struggling', 'strongly', 'stronger', 'stroke', 'striking', 'strikesstrikes', 'strikers', 'striker', 'strict', 'stressful', 'strengthening', 'stout', 'stormchase', 'stores', 'stolen', 'stole', 'stockton', 'stocks', 'sticks', 'stick', 'steal', 'steak', 'stats', 'state\\x89Û', 'startups', 'starbucks', 'stans', 'standwithpp', 'standards', 'stagetwo', 'stacey', 'sr', 'squeeze', 'square', 'sputnik', 'spreading', 'spots', 'sportwatch', 'spontaneously', 'split', 'spilled', 'spending', 'spencers', 'spectacular', 'species', 'specialists', 'specialist', 'speak', 'soviet', 'southdowns', 'soudelors', 'sort', 'sorrows', 'sore', 'soooo', 'sooo', 'soo', 'sons', 'somewhere', 'solve', 'solo', 'solitude', 'solid', 'solicitor', 'sold', 'software', 'softenza', 'soft', 'socialmedia', 'soccer', 'soaking', 'soak', 'snuff', 'snowden', 'snowball', 'sniping', 'sneak', 'snd', 'snapchat', 'snacks', 'smooth', 'smiling', 'smells', 'smell', 'smash', 'slips', 'slipped', 'slides', 'slicker', 'slayer', 'slammed', 'skys', 'skyline', 'skipping', 'skill', 'sketch', 'skanndtyagi', 'sixpenceee', 'sixmeter', 'sis', 'singles', 'sin', 'simultaneous', 'simply', 'simon', 'signup', 'signing', 'sigalert', 'siding', 'sides', 'si', 'shutdown', 'showing', 'showed', 'shouting', 'shout', 'shouldve', 'shore', 'shooter', 'shoot', 'shoe', 'shizune', 'shira', 'sheriff', 'shelli', 'sheet', 'sheeran', 'sheer', 'shed', 'shaw', 'sharing', 'sharethis', 'shantae', 'shania', 'sham', 'shaking', 'shakes', 'shaker', 'sf', 'sewer', 'settle', 'setlist', 'servers', 'server', 'serve', 'servants', 'sequel', 'sept', 'sep', 'selling', 'sell', 'selfies', 'selection', 'seem', 'seduction', 'seal', 'screw', 'screamqueens', 'scream', 'scottwalker', 'scorpions', 'schwarber', 'schedule\\x89Û', 'scares', 'scare', 'scale', 'saturn', 'satan', 'sarcasm', 'sandy', 'sanctioned', 'samesex', 'samanthaturne19', 'salvis', 'salvador', 'sake', 'sailing', 'sail', 'sahib', 'sacramento', 'sa15t', 's2g', 'ryan', 'rutherford', 'rush', 'ruins', 'ruining', 'ruebs', 'rudd', 'rtrrt', 'rtamerica', 'rss', 'rpics', 'royals', 'royalcarribean', 'rover', 'routecomplex', 'rotten', 'rotator', 'rossum', 'roses', 'rory', 'ronnie', 'ronaldo', 'rolls', 'rohnertparkdps', 'roh3', 'rogue', 'roger', 'rockbottomradfm', 'riyadh', 'riversiskiyou', 'risks', 'rio', 'rihanna', 'rightwaystan', 'rightways', 'rifles', 'riding', 'riders', 'rick', 'rich', 'rey', 'revelation', 'rev', 'retweet', 'retro', 'resulting', 'restricted', 'restive', 'restaurants', 'responder', 'respected', 'resources', 'reshapes', 'required', 'request', 'repay', 'repairs', 'rep', 'reopens', 'reopen', 'renison', 'removing', 'removed', 'removal', 'remorse', 'remix', 'religion', 'relentless', 'relationship', 'rejects', 'rejected', 'reject', 'reinstate', 'reids', 'reid', 'regional', 'regardless', 'regard', 'refuse', 'redeemeth', 'recreates', 'recording', 'recommended', 'receive', 'recap', 'realised', 'reads', 'reacted', 'react', 'reaches', 'rdhorndale', 'rcmp', 'rb', 'raÌ¼l', 'razing', 'raynor', 'rayner', 'raw', 'raung', 'rating', 'rates', 'rated', 'rat', 'rapping', 'rappers', 'rapper', 'rapidcity', 'rap', 'random', 'rammed', 'raised', 'rainier', 'rained', 'railways', 'railway', 'rails', 'raiders', 'rages', 'racing', 'quoted', 'questioning', 'que', 'quartz', 'quarters', 'q', 'p\\x89Û', 'putins', 'pushing', 'push', 'purchased', 'puppy', 'puppies', 'punjab', 'punishment', 'punished', 'puncture', 'pulwama', 'pulling', 'publicizing', 'ptbo', 'pt', 'psalms', 'ps4', 'proud', 'protesting', 'protection', 'protecting', 'protectdenaliwolves', 'prosyn', 'proposed', 'proper', 'proof', 'prone', 'promote', 'projects', 'programme', 'professional', 'product', 'prod', 'privacy', 'priority', 'priorities', 'primarily', 'priceless', 'previous', 'prevention', 'pretend', 'pressed', 'preservation', 'presence', 'prepper', 'preparing', 'preorder', 'premonitions', 'premiere', 'premier', 'prediction', 'predator', 'precious', 'pre', 'potentially', 'posters', 'postbattle', 'possibility', 'poss', 'portugal', 'popularmmos', 'pops', 'poplar', 'pope', 'poorly', 'pomo', 'politifiact', 'policerun', 'pointing', 'poem', 'pocket', 'po', 'pmharper', 'pmarca', 'pluto', 'plummeted', 'pllolz', 'plenty', 'pledge', 'pleasure', 'platform', 'plants', 'planes', 'placing', 'placed', 'pjnet', 'pits', 'pitchers', 'pissed', 'pinpoint', 'piner', 'pillows', 'pill', 'pictures', 'pickup', 'pickerel', 'physicians', 'photoset', 'philadelphia', 'phil', 'phew', 'phase', 'pharaoh', 'phantom', 'peterjukes', 'pertains', 'personally', 'perquisite', 'permits', 'permanently', 'permanent', 'performing', 'performance', 'per', 'pennington', 'penn', 'pendleton', 'peeps', 'pedestrians', 'pedestrian', 'peak', 'peacefully', 'pdx911', 'pcps', 'pays', 'paved', 'pattonoswalt', 'patriot', 'pathogen', 'pasta', 'password', 'partnerships', 'particularly', 'paris', 'paramedic', 'parade', 'pants', 'pan', 'pakpattan', 'pakistannews', 'pair', 'paint', 'paid', 'pa', 'ovofest', 'ovo', 'overwork', 'overlooking', 'overload', 'ouvindo', 'outfit', 'outbid', 'outage', 'ourselves', 'otherwise', 'oth', 'oso', 'osborn', 'originalfunko', 'organizations', 'organic', 'org', 'oregon', 'ordered', 'opp', 'operations', 'opera', 'oped', 'oooooohhhh', 'oooh', 'oo', 'onlinecommunities', 'oneself', 'omega', 'oks', 'okinawa', 'ohh', 'offs', 'offramp', 'offr', 'offices', 'offers2go', 'obviously', 'obsessed', 'objects', 'obispo', 'nylon', 'nwo', 'nv', 'nurses', 'nuff', 'nude', 'ntsb', 'nowhere', 'november', 'novel', 'notifications', 'noted', 'nosurrender', 'nostrils', 'nostalgia', 'northwest', 'northland', 'northeast', 'norman', 'nor', 'nope', 'nonlife', 'noaa', 'njturnpike', 'njenga', 'nj', 'nixon', 'nikeplus', 'nights', 'nightmare', 'nickcocofree', 'nick', 'niall', 'nhs', 'nh', 'new\\x89Û', 'newzsacramento', 'newswatch', 'newsarama', 'newbie', 'newberg', 'neverending', 'netanyahu', 'nestleindia', 'nepal', 'neighborhood', 'neck', 'nda', 'nbc', 'nba', 'nazi', 'native', 'nasasolarsystem', 'narendramodi', 'nankana', 'nan', 'names', 'najib', 'nail', 'm\\x89Û', 'myfitnesspal', 'mv', 'muzzamil', 'mutual', 'mutant', 'musik', 'musicians', 'murders', 'murderers', 'mum', 'multidimensi', 'multi', 'mukilteo', 'mud', 'msnbc', 'moyo', 'mouth', 'mourns', 'moulding', 'motion', 'moscow', 'mooresville', 'montgomery', 'montetjwitter11', 'monster', 'monkeys', 'monkey', 'monitoring', 'monitor', 'moms', 'mohammed', 'moderate', 'mock', 'mobile', 'mmmmmm', 'ml', 'miyagi', 'mistreated', 'mississauga', 'missionhills', 'missiles', 'misses', 'mishacollins', 'misery', 'ministers', 'minions', 'minimehh', 'minhazmerchant', 'milwaukee', 'migrants\\x89Û', 'midwest', 'midsouth', 'midget', 'mid', 'microsofts', 'microsoft', 'microphone', 'micom', 'michelebachman', 'mic', 'mi17', 'mgm', 'metlife', 'meteoearth', 'met', 'messi', 'messed', 'messages', 'mercados', 'meme', 'meinlcymbals', 'megynkelly', 'meets', 'medium', 'medieval', 'medicine', 'medals', 'mechanical', 'measles', 'meaning', 'mcmahon', 'mchenry', 'mc', 'matthew', 'material', 'matching', 'master', 'massmurderer', 'martinmj22', 'marshall', 'married', 'marquei', 'marlon', 'marketing', 'marines', 'mariah', 'march', 'maps', 'manufactured', 'mania', 'mandatory', 'mamata', 'malik', 'maketh', 'maker', 'maintain', 'magginoodle', 'mafia', 'madison', 'lyrics', 'lying', 'luka', 'luchaunderground', 'lubbock', 'lovedup', 'lous', 'lotz', 'loseit', 'losdelsonido', 'loretta', 'looses', 'looping', 'longterm', 'longs', 'lone', 'londonfire', 'lolol', 'lollapalooza', 'logistics', 'logic', 'locked', 'located', 'loans', 'loads', 'loading', 'loaded', 'lmfaoooo', 'llf', 'lizards', 'livingsafely', 'liveonk2', 'lived', 'lith', 'lit', 'links', 'lines', 'likes', 'lightningcaused', 'lifting', 'lifetime', 'lifethreatening', 'lifestyle', 'liberal', 'liable', 'liability', 'lglorg', 'letter', 'letsfootball', 'lesson', 'lemon', 'legs', 'legislation', 'legio', 'leeds', 'learned', 'leaks', 'leaked', 'leak', 'layout', 'lawsuit', 'lawrence', 'lavenderpoetrycafe', 'lauren', 'laundry', 'latimes', 'latestnews', 'lasting', 'laois', 'lansdowne', 'language', 'lanes', 'landscape', 'lands', 'lance', 'lamha', 'lakes', 'labs', 'label', 'kurd', 'ks94', 'ks', 'kraft', 'kowing', 'koin6news', 'knowing', 'knob', 'knife', 'knees', 'km', 'kittens', 'kith', 'kisses', 'kissed', 'kiss', 'kings', 'kindness', 'kindermorgan', 'killings', 'killers', 'kiev', 'kidding', 'kerry', 'keratin', 'kendall', 'ke', 'katunews', 'katrina', 'katherines', 'kashmir', 'karma', 'kanye', 'kaduna', 'justmarried', 'justifying', 'justified', 'jurors', 'junk', 'june', 'jumped', 'juliedicaro', 'juice', 'jr', 'jp', 'journal', 'jose', 'jonvoyage', 'jones94kyle', 'jones', 'jonathanferrell', 'joint', 'johns', 'johnny', 'jkl', 'jim', 'jhaustin', 'jewelry', 'jerry', 'jenner', 'jeff', 'jealous', 'jdabe80', 'japton', 'jams', 'jamesmelville', 'jamaicaplain', 'jamaicaobserver', 'jailed', 'jacque', 'jacket', 'ja', 'i\\x89Ûªd', 'ivanberroa', 'itsjustinstuart', 'itll', 'items', 'item', 'isil', 'irony', 'ironic', 'iredell', 'iranians', 'ipod', 'ipad', 'in\\x89Û', 'investing', 'investigation', 'investigate', 'invest', 'invasion', 'interviews', 'interstate', 'interlaken', 'intelligence', 'intact', 'insubcontinent', 'inspiring', 'inspections', 'insomnia', 'insight', 'insas', 'innovation', 'injures', 'infosec', 'infinity', 'inferno', 'infectious', 'inevitably', 'inec', 'indoors', 'indie', 'indiannews', 'indi', 'incredibly', 'increase', 'incase', 'inc', 'impulse', 'improve', 'impressive', 'impressed', 'important', 'imperfect', 'impending', 'impacted', 'immediately', 'imdb', 'imagined', 'ima', 'illustration', 'ihhen', 'ignored', 'ignore', 'idol', 'idis', 'identitytheft', 'idc', 'iconic', 'icelandreview', 'i95', 'i580', 'i405', 'i10', 'h\\x89Û', 'hysteria', 'hypocrisy', 'hyderabad', 'hurricanes', 'hurricanedolce', 'humble', 'humanconsumption', 'hug', 'httpt\\x89Û', 'httptcozevakjapcz', 'httptcozdtoyd8ebj', 'httptcoyduixefipe', 'httptcoydetwgribk', 'httptcoxssgedsbh4', 'httptcoxpfmr368uf', 'httptcovz1irh0nmm', 'httptcovxvfaeey0q', 'httptcovam5podgyw', 'httptcov3azwoamzk', 'httptcouoozxaus26', 'httptcoskqpwsnoin', 'httptcosdgoutwntb', 'httptcosaf9mosksn', 'httptcoroi2nsmejj', 'httptcopyehwodwun', 'httptcopvmr38lnva', 'httptcopo19h8ycnd', 'httptcophixznv1yn', 'httptconmfsgkf1za', 'httptcomg5eajelul', 'httptcomfckpvzfv8', 'httptcom5kxlpkfa1', 'httptcom203ul6o7p', 'httptcolxtjc87kls', 'httptcolwwojxttiv', 'httptcojhpdssvhve', 'httptcoj5mkcbkcov', 'httptcoio7kuug1uq', 'httptcoiikssjgbdn', 'httptcoidmhswewqw', 'httptcoi27oa0hisp', 'httptcoeysvvza7qm', 'httptcoedyfo6e2pu', 'httptcodydfvz7amj', 'httptcoct9ejxolpu', 'httptcoc1h7jecfrv', 'httptcobtdjgwekqx', 'httptcoafmkcfn1tl', 'httptco7hanpcr5rk', 'httptco3tj8zjin21', 'httptco3sicroaanz', 'httptco0wratka2jl', 'httpstcowudlkq7ncx', 'httpstcolfkmtzaekk', 'httpstcoe8dl1lncvu', 'hr', 'housed', 'hottest', 'hostageamp2', 'hospitals', 'hoping', 'hood', 'honest', 'homs', 'homie', 'homeowners', 'holmgren', 'holed', 'holds', 'hoes', 'hoe', 'hockey', 'hmu', 'hmm', 'hiroshima70', 'hiphop', 'hinton', 'himalaya', 'hiding', 'hide', 'hidden', 'hew', 'heros', 'heroin', 'hermancranston', 'henry', 'helpline', 'hella', 'helicopters', 'heavenly', 'heartwarming', 'heartless', 'hearthstone', 'healthy', 'healthcare', 'healing', 'heal', 'headlines', 'hazmat', 'have\\x89Û', 'hatred', 'hatchetwielding', 'harwich', 'harmkid', 'hardy', 'hardline', 'hardcore', 'happily', 'handling', 'handle', 'hamburg', 'halt', 'hall', 'hahahaha', 'hahahah', 'hahaha', 'hahah', 'hah', 'hadnt', 'hackers', 'hack', 'habits', 'gym', 'gust', 'gunmen', 'gum', 'guest', 'guaranteed', 'gtii', 'growingupblack', 'growing', 'grounds', 'grenades', 'greenway', 'greenharvard', 'greek', 'greatbritishbakeoff', 'graveyard', 'gravel', 'grass', 'grandpa', 'grandeur', 'grande', 'gpm', 'governments', 'goulburn', 'gorgeous', 'goodbye', 'golem', 'goldstein', 'goku', 'gofundme', 'goat', 'gn', 'gmt', 'gmmbc', 'gloucester', 'globe', 'globalwarming', 'glink', 'glimpses', 'glenn', 'glasses', 'giveaway', 'gilbert23', 'gig', 'gif', 'ghostwriter', 'gg', 'geometric', 'genius', 'geneva', 'generalnews', 'gel', 'gear', 'gd', 'gays', 'gawx', 'gates', 'garfield', 'gardens', 'garbage', 'gander', 'gaining', 'gain', 'gadgets', 'ga', 'fury', 'function', 'fukushimatepco', 'fueling', 'fruits', 'frontlines', 'friggin', 'friendship', 'fresno', 'freshman', 'freaking', 'franklin', 'fran', 'fragile', 'foxnew\\x89Û', 'fouseytube', 'fourth', 'foster', 'for\\x89Û', 'fortune', 'fortunately', 'forth', 'forsure', 'forgive', 'forex', 'foreign', 'forbid', 'fool', 'foodscare', 'follower', 'folk', 'fold', 'fm', 'fluid', 'flow', 'florida\\x89Û', 'float', 'flip', 'fleeing', 'fled', 'flashbacks', 'fixing', 'fist', 'fire\\x89Û', 'firey', 'firetruck', 'firemen', 'firefighting', 'fir', 'finished', 'financing', 'fill', 'files', 'file', 'fifty', 'fifa16', 'fierce', 'fieg', 'fi', 'fevwarrior', 'fest', 'ferries', 'ferguson\\x89Ûªs', 'fergusons', 'fennovoima', 'fella', 'feinstein', 'federal', 'featured', 'feast', 'favs', 'favorites', 'favor', 'faulty', 'fathers', 'fatburning', 'fatally', 'fatalityus', 'fart', 'familia', 'fallacy', 'fairy', 'fairfax', 'fading', 'facing', 'facility', 'fabric', 'extinguished', 'exterminate', 'extensive', 'extension', 'extender', 'explores', 'explodes', 'explain', 'expand', 'exited', 'exhibition', 'exhausted', 'exercised', 'executing', 'excuse', 'exclusive', 'exciting', 'excited', 'exc', 'examiner', 'evolve', 'everytime', 'everybody', 'evansville', 'evanston', 'evacuating', 'ev', 'eurotunnel', 'eudrylantiqua', 'etisalat', 'et', 'esteemed', 'esh', 'escaping', 'escaped', 'ergo', 'equate', 'epicenter', 'en\\x89Û', 'envw98', 'entrepreneur', 'enroute', 'enormous', 'enhanced', 'engvaus', 'engage', 'enemies', 'endures', 'endorses', 'endangered', 'encouragement', 'encore', 'enabled', 'empty', 'empire', 'emperor', 'emotionally', 'emerges', 'emerg', 'elsa', 'elliott', 'elkhorn', 'elizabeth', 'element', 'electricity', 'eh', 'egypt', 'efak', 'ef5', 'edge', 'economies', 'eastward', 'ears', 'earnings', 'earned', 'earbuds', 'dystopian', 'dye', 'dwarves', 'dvc', 'durant', 'dunbar', 'dumb', 'dukes', 'ducks', 'duck', 'dt', 'ds', 'dryer', 'drum', 'dropping', 'droid', 'drivers', 'drifting', 'drew', 'dressed', 'dreaming', 'draw', 'drama', 'dozen', 'downstairs', 'downpours', 'downfall', 'douchebag', 'doublecups', 'dothraki', 'dorman', 'dopey', 'dope', 'doors', 'donå«t', 'dolphin', 'dollars', 'document', 'doctors', 'doctor', 'dock', 'dmpl', 'dm', 'dlh', 'divided', 'district', 'distinct', 'disruptive', 'displace', 'discussion', 'disappeared', 'disappear', 'directors', 'director', 'diplomacy', 'dijk\\x89Ûª', 'dignity', 'digits', 'digital', 'difficult', 'diesis', 'dickheads', 'dick', 'diarrhea', 'diaporama', 'diamorfiend', 'diablo', 'dey', 'devil', 'device', 'develop', 'detroit', 'destructive', 'destroyer', 'despair', 'desk', 'deserves', 'deserve', 'descriptions', 'derby', 'deputy', 'deny', 'denier', 'denial', 'denali', 'dems', 'demon', 'democrats', 'demi', 'delete', 'delayed', 'del', 'define', 'defects', 'def', 'deeds', 'decor', 'declared', 'deck\\x89Û\\x9d', 'deck', 'decent', 'debatequestionswewanttohear', 'dealbreaker', 'deadliest', 'daytoday', 'davidcameron', 'dates', 'darkest', 'dante', 'dannyonpc', 'danisnotonfire', 'daniels', 'dances', 'dambisa', 'damaging', 'cyclists', 'cycling', 'customs', 'customers', 'custom', 'custer', 'cus', 'curiosity', 'cuff', 'ctd', 'cs', 'crusty', 'crude', 'crowns', 'croat', 'critical', 'crippling', 'criminal', 'crimes', 'cried', 'crickets', 'credit', 'creating', 'creates', 'crane', 'cracks', 'cracking', 'crack', 'coyotes', 'coworker', 'cowboys', 'cow', 'coverage', 'cousins', 'courts', 'coursing', 'countynews', 'countrys', 'countless', 'couldve', 'costly', 'correspondent', 'correct', 'corp', 'corleonedaboss', 'corey', 'coral', 'copycats', 'coping', 'cope', 'cooking', 'conversations', 'conversation', 'contruction', 'controllers', 'controlled', 'contributing', 'contrast', 'contract', 'continually', 'contain', 'contact', 'constant', 'console', 'conservative', 'consent', 'connectorconnecto', 'condolence', 'condemnation', 'condemn', 'concrete', 'concluded', 'con', 'compound', 'complications', 'completed', 'complaints', 'compete', 'comparison', 'comp', 'como', 'committee', 'committed', 'commerce', 'command', 'colluded', 'collective', 'cole', 'colder', 'col', 'coincide', 'cod', 'cockpit', 'cocaine', 'coat', 'coaster', 'cnewslive', 'cmon', 'cm', 'clueless', 'closest', 'cliffs', 'clever', 'cleric', 'cleared', 'cld', 'claimed', 'cjoyner', 'civilization', 'cityofcalgary', 'cites', 'circus', 'chronicle', 'christie', 'christ', 'chris', 'choose', 'chills', 'chiefs', 'chick', 'cheyenne', 'chevrolet', 'chesttorso', 'cheryl', 'cherry', 'cherokee', 'chase', 'channels', 'changing', 'chances', 'chan', 'championship', 'challenges', 'chairs', 'chairman', 'chair', 'cfc', 'certified', 'certificate', 'centers', 'census', 'cement', 'celebrations', 'cbsbigbrother', 'cbs', 'cbc', 'cawx', 'catching', 'castle', 'casperrmg', 'cash', 'cart', 'carr', 'carpet', 'carlos', 'caribbean', 'careers', 'cape', 'canvas', 'cannon', 'candle', 'cancers', 'cancels', 'cancelled', 'canadas', 'camps', 'camping', 'cameo', 'calumet', 'cairo', 'cafire', 'cafe', 'cadfyi', 'cables', 'cab', 'c4news', 'b\\x89Û', 'bwp', 'butterfinger', 'busy', 'bundle', 'bumper', 'bump', 'bullseye', 'bullets', 'builds', 'buffer', 'bubble', 'brunette', 'bruise', 'brooke', 'bronx', 'britons', 'britney', 'brisk', 'brighton', 'brigade', 'brief', 'brick', 'brewing', 'breathing', 'bread', 'brazilian', 'bradleybrad47', 'boxing', 'bounds', 'boundary', 'boundaries', 'bottle', 'boise', 'bodys', 'bodybagging', 'bobcats', 'bmw', 'blutz10', 'blunt', 'blues', 'blueprint', 'bloomberg', 'blocks', 'blizzheroes', 'blizzarddraco', 'blames', 'blackpool', 'blacklivesmatter', 'bits', 'bites', 'bite', 'bitcoin', 'bistro', 'birmingham', 'biological', 'bills', 'billneelynbc', 'billboard', 'bicycles', 'bicycle', 'bicep', 'betz', 'bets', 'bethlehem', 'bestseller', 'bengal', 'belt', 'belly', 'believing', 'beliefs', 'belief', 'behalf', 'begging', 'beclearoncancer', 'beckarnley', 'beauty', 'bean', 'battles', 'batting', 'batteries', 'battered', 'basis', 'basically', 'bashes', 'baruch', 'barrier', 'banquet', 'bangin', 'banerjee', 'bancodeseries', 'baltimore', 'balls', 'balance', 'bakeofffriends', 'bail', 'bago', 'backyards', 'backyard', 'backup', 'backs', 'ay', 'awwww', 'awareness', 'awaits', 'avoided', 'aviation', 'avengers', 'available', 'autumn', 'autoinsurance', 'autistic', 'author', 'authentic', 'australia\\x89Ûªs', 'austin', 'aust', 'aunt', 'audience', 'auction', 'auckland', 'attraction', 'attic', 'attendance', 'attempting', 'attempt', 'atmospheric', 'atmosphere', 'atm', 'atlantic', 'atk', 'athlete', 'astrology', 'association', 'assisting', 'assistant', 'assholes', 'asleep', 'asks', 'askcharley', 'asics', 'ashley', 'ashayo', 'ash', 'asf', 'artist', 'artificial', 'arsonistmusic', 'ars', 'arriving', 'arnhem', 'armory', 'armed', 'arizona', 'ariaahrary', 'argument', 'area\\x89Û', 'architecture', 'architect', 'aquarium', 'apt', 'april', 'approves', 'approval', 'appropriation', 'approaching', 'appreciated', 'appointment', 'applies', 'applaud', 'apollobrown', 'apocalyptic', 'apartments', 'aogashima', 'anyways', 'any1', 'antonio', 'annoying', 'announces', 'announced', 'ani', 'anger', 'andrew', 'andor', 'ames', 'ambulances', 'alot', 'alois', 'ally', 'alloy', 'allies', 'allegiance', 'allegations', 'aliens', 'alien', 'alexbelloli', 'alerts', 'albany', 'alarmed', 'ak', 'agrees', 'aggressive', 'ages', 'agents', 'agency', 'ag', 'africans', 'afp', 'affiliation', 'affiliate', 'affecting', 'afc', 'advised', 'advice', 'advertised', 'adventures', 'advanced', 'admit', 'administration', 'admin', 'addition', 'adam', 'ad', 'actor', 'activities', 'acted', 'acquire', 'acoustic', 'achimota', 'accustomed', 'accounts', 'accept', 'acc', 'ac', 'abusing', 'abuseddesolateamplost', 'abused', 'abubaraa1', 'absolute', 'abomb', 'abia', 'abc7', 'abbott', 'aa', 'a5', 'a1', '9pm', '9newsgoldcoast', '9am', '96', '90th', '90blksamp8whts', '9000', '900', '8th', '8pin', '84', '83', '77', '75', '72w', '64', '61st', '60mph', '60000', '5th', '5sosfam', '5sos', '5s', '5c', '57', '548', '530', '53', '4th', '4playthursdays', '4km', '4500feet', '43', '429cj', '3m', '3inspired', '3942', '360', '36', '32', '2k15', '299', '29', '28', '23km', '235409', '233liveonline', '21a', '211023', '2082676773', '2016', '20150805', '2012', '2010', '2008', '2000', '1999', '1998', '1986', '1979', '1976', '1974', '1970', '1965', '1943', '1916', '18wheeler', '1880', '180', '175225', '1716', '166', '15th', '15km', '143', '140', '12news', '118', '1100', '10km', '109', '1061thetwister', '1038pm', '1030', '100000', '075', '0700', '070', '06jst', '0306', '015025', '005225', 'åÊi', 'åÊfedex', 'å¬only', 'å©daniel', 'å¤', 'å£9', 'å£6bn', 'å£27900end', 'å£150', 'å£100bn', 'Ìü', 'ÌÑ1', 'ÌÑ', 'Ì¢', '\\x89âÂ', '\\x89Û÷we', '\\x89Û÷vulnerable\\x89Ûª', '\\x89Û÷the', '\\x89Û÷second\\x89Ûª', '\\x89Û÷ransomware\\x89Ûª', '\\x89Û÷nuclear', '\\x89Û÷nother\\x89Û\\x9d', '\\x89Û÷muslim', '\\x89Û÷minimum', '\\x89Û÷let\\x89Ûªs', '\\x89Û÷leaves', '\\x89Û÷it', '\\x89Û÷institute', '\\x89Û÷ill', '\\x89Û÷hoax', '\\x89Û÷hijacker', '\\x89Û÷heat', '\\x89Û÷hazard\\x89Ûª', '\\x89Û÷good', '\\x89Û÷food', '\\x89Û÷first\\x89Ûª', '\\x89Û÷faceless\\x89Ûª', '\\x89Û÷faceless', '\\x89Û÷exceptional\\x89Ûª', '\\x89Û÷em', '\\x89Û÷devastated\\x89Ûª', '\\x89Û÷british', '\\x89Û÷bomb', '\\x89Û÷body', '\\x89Û÷badges', '\\x89Û÷avalanche\\x89Ûª', '\\x89Û÷amino', '\\x89Û÷alloosh', '\\x89ÛÓkody', '\\x89ÛÓher', '\\x89ÛÒåÊcnbc', '\\x89ÛÒthe', '\\x89ÛÏymcglaun', '\\x89ÛÏthehighfessions', '\\x89ÛÏthat\\x89Ûªs', '\\x89ÛÏsippin\\x89Ûª', '\\x89ÛÏplans', '\\x89ÛÏparties', '\\x89ÛÏnumbers', '\\x89ÛÏnobody', '\\x89ÛÏmake', '\\x89ÛÏmacdaddyleo', '\\x89ÛÏlordbrathwaite', '\\x89ÛÏlolgop', '\\x89ÛÏleoblakecarter', '\\x89ÛÏleejasper', '\\x89ÛÏkeits', '\\x89ÛÏi', '\\x89ÛÏfor', '\\x89ÛÏfdny', '\\x89ÛÏdylanmcclure55', '\\x89ÛÏdetonate\\x89Û\\x9d', '\\x89ÛÏcat', '\\x89ÛÏbbcwomanshour', '\\x89ÛÏbbcengland', '\\x89ÛÏbasedgeorgie', '\\x89ÛÏall', '\\x89ÛÏairplane\\x89Û\\x9d', '\\x89ÛÏ', '\\x89Û¢\\x89Û¢if', '\\x89Û¢im', '\\x89Û¢', 'zzzz', 'zxathetis', 'zurich', 'zumiez', 'zss', 'zrnf', 'zourryart', 'zotar50', 'zoom', 'zonewolf123', 'zonesthank', 'zones', 'zombies', 'zombiefunrun2014', 'zomatoaus', 'zojadelin', 'zodiac', 'zmne', 'ziuw', 'zippoline', 'zippers', 'zipper', 'zipped', 'ziphimup', 'zip', 'zionists', 'zimmerman', 'zimmer', 'zicac', 'zhenghxn', 'zhejiang', 'zeros', 'zero', 'zergele', 'zeno001', 'zenandemcfen', 'zehrs', 'zeal', 'zaynmaiikist', 'zarry', 'zarharzar', 'zar', 'zamtriossu', 'zaman', 'zakuun', 'zakbagans', 'zaibatsunews', 'zachzaidman', 'zach', 'zacb', 'zaatari', 'z3kesk1', 'yzf', 'yyj', 'yyeso', 'yycweather', 'yycfringe', 'yuvi', 'yuuko', 'yuppies', 'yup', 'yunita99', 'yumiko', 'yum', 'yukis', 'yug', 'yuan', 'ypg', 'yo\\x89Û', 'you\\x89Û\\x9d', 'you\\x89Û', 'youuu', 'youssefyamani', 'yourboyshawn', 'younoone', 'young\\x89Û', 'youngsafe', 'youngins', 'youngerampgrossly', 'younger', 'yosemite', 'yorkshire', 'yor', 'yonews', 'yolk', 'yolandaph', 'yogurt', 'yoga', 'yoenis', 'ymcglaun', 'ykelquiban', 'yiraneuni', 'yikes', 'yield', 'yiayplan', 'yhngsjlg', 'yh', 'yeyeulala', 'yessum', 'yeshayad', 'yennora', 'yemenis', 'yellows', 'yelllowheather', 'yelled', 'yell', 'yehuda', 'yeehaw', 'yeat', 'yeaahh', 'yday', 'ybtheprophet', 'yazidishingalgenocide', 'yard', 'yamashiro', 'yamaguchi', 'yahootv', 'yahoonewsdigest', 'yahoofinancehope', 'yahoocare', 'yahoo7', 'yahistorical', 'yagitudeh', 'yaboiluke', 'xylodemon', 'xxhjesc', 'xvii', 'xtra1360', 'xrays', 'xpost', 'xoxo', 'xojademarie124', 'xo', 'xmen', 'xmas', 'xl', 'xkdrx', 'xii', 'xhnews', 'xgninfinity', 'xfiles', 'xeni', 'xela', 'xekstrin', 'xdojjjj', 'xdescry', 'xboxone', 'xb1', 'xaviermarquis', 'xavier', 'x37bs', 'x2', 'x1441', 'x1434', 'x1411', 'x1402', 'x1392', 'x1386', 'w\\x89Û', 'wzbt', 'wyrmwood', 'wyou', 'wyattb23', 'wxky', 'wxii', 'wxiatv', 'wwwbigbaldhead', 'www', 'wwp', 'wwexdreamer', 'wwa', 'ww3', 'ww', 'wut', 'wugliness', 'wtwitter', 'wtony', 'wth', 'wtc', 'wsvr1686b', 'wsoc', 'wsoaring', 'wsls', 'wsjthinktank', 'wsj', 'wsazbrittany', 'wroug', 'wrote', 'wrongway', 'wrongperson', 'wrongdejavu', 'wrked', 'writingtips', 'writers', 'writebothfists', 'wristband', 'wrightsboro', 'wrestler', 'wrestleon', 'wreak', 'wrapped', 'wrap', 'wraith', 'wr', 'wqow', 'wpt994', 'wps', 'wpo', 'wowthe', 'wowsavannah', 'wout', 'wounded\\x89Û\\x9d', 'woundedpigeon', 'wouldelectrocute', 'worthless', 'worstoverdose', 'worstever', 'worship', 'worsen', 'worseits', 'worrying', 'worm', 'worldwatchesferguson', 'worldvision', 'worldpay', 'worldoil', 'worldnetdailyhomosexuality', 'worldlets', 'workspace', 'workd', 'wordpressdotcom', 'wordk', 'wording', 'wooooooo', 'woodward', 'woodland', 'wooden', 'woodchucks', 'woo', 'wonders', 'wonderousallure', 'wonderkid', 'wonderfully', 'wompppp', 'women\\x89Ûª', 'womengirls', 'womem', 'womb', 'woman\\x89Ûªs', 'wolter', 'wolforth', 'woken', 'woes', 'woah', 'wnw', 'wnukes', 'wniagospel', 'wn', 'wmiddle', 'wm', 'wld', 'wlandslide', 'wkrn', 'wknd', 'wk', 'wizard', 'wiwnpfxa', 'witnessing', 'witnesses', 'witnessed', 'withåÊannihilation', 'withstand', 'withering', 'withdrawur', 'withdraws', 'witch', 'wishlist', 'wishing', 'wished', 'wisely', 'wise', 'wisdomwed', 'wisdom', 'wisdc', 'wipes', 'winnipeg', 'winning', 'winner', 'winik', 'wingers', 'winged', 'wing', 'winechat', 'windwakerstyle', 'windstormåÊinsurer', 'windstormfollow', 'windsor', 'windows10', 'windowgatribble', 'windmy', 'windits', 'win10', 'wimp', 'wimbledon', 'wilsons', 'willow', 'willis', 'willinghearted', 'willieami', 'willian', 'willhillbet', 'wildwestsixgun', 'wildlooking', 'wildlionx3', 'wildlife', 'wildhorses', 'wilden', 'wikipedia', 'wii', 'wifi', 'wifekids', 'wiedemer', 'width', 'widout', 'wider', 'widda16', 'wickett', 'whyor', 'whvholst', 'who\\x89Û', 'whopperjr760', 'whod', 'whocares', 'whitt', 'whitewashes', 'whistled', 'whistleblower', 'whiskey', 'whippenz', 'whipe', 'whimsy', 'while\\x89Û', 'whereas', 'wher', 'whensoever', 'whelen', 'wheelsio', 'wheel', 'whedonesque', 'wheatley', 'whatevs', 'whatever', 'whatcanthedo', 'whashtag', 'whackamole', 'wha', 'wfries', 'wfaaweather', 'we\\x89Ûªve', 'we\\x89Ûªre', 'wexler', 'wews', 'wew', 'west\\x89Ûªs', 'westward', 'wests', 'westminister', 'westmarch', 'westerosnah', 'westeros', 'westerncanadadrought', 'westchester', 'wesleylowery', 'wesley', 'wereonadesolateplanet', 'weren\\x89Ûªt', 'wenger', 'wendell', 'welshninja87', 'weloveyoulouis', 'weloverobdyrdek', 'welovela', 'wells', 'wellknown', 'wellgrounded', 'welles7', 'welladjusted', 'welcomes', 'weirdo', 'weiqin', 'weights', 'weightless', 'weigh', 'weep', 'weeklong', 'weekends', 'weei', 'weebly', 'wednesday\\x89Û', 'wednes', 'wedneday', 'wedgie', 'weddinghour', 'websites', 'webinar', 'web', 'weatherstay', 'weatherit', 'wears', 'weaponxmusic', 'wealilknowa', 'weaknesses', 'weakness', 'wdyouth', 'wdym', 'wdtv', 'wderailed', 'wcw', 'wctv35', 'wccorosen', 'wc', 'wbu', 'wbre', 'wbcshirl2', 'wbc2015', 'waziristan', 'way\\x89Û\\x9dyeah', 'wayward', 'waynesteratl', 'wayi', 'wayfieldstone', 'wave\\x89Ûª', 'waved', 'wattys2015', 'wattle', 'water\\x89Û', 'watersafety', 'waterproof', 'waterfur', 'waterboarding', 'watchthevideo', 'watchout', 'watchin', 'watches', 'wasting', 'wastenoxious', 'wastelands', 'wasted', 'wasn\\x89Ûªt', 'wasnamp8217t', 'wasilla', 'washing', 'washard', 'waseembadami', 'war\\x89Û', 'warzone', 'wartime', 'warthen', 'warsgoddess', 'warriorcord', 'warranted', 'warra', 'warped', 'warningwild', 'warnings900037', 'warnerrobins', 'warned\\x89Û\\x9d', 'warmth', 'warmbodies', 'warlordqueen', 'warfare', 'wardens', 'ward', 'wantmyabsback', 'wanother', 'wank', 'wander', 'waltdisney', 'wall\\x89Û\\x9d', 'wallybaiter', 'wales', 'wakho', 'wakeupflorida', 'waiver', 'waited', 'waimea', 'wahpeton', 'wahhabism', 'wage\\x89Ûª', 'waferthin', 'wackos', 'wackoes', 'vÌdeo', 'v\\x89Û', 'vzwsupport', 'vvorm', 'vuzuhustle', 'vulnerability', 'vulnera', 'vuln', 'vtc', 'vroman', 'vra50\\x89Û\\x9d', 'votes', 'voters', 'vosloorus', 'vortex', 'voortrekker', 'voodooben', 'volunteers', 'volunteer', 'voltaire', 'volfan326', 'volcanotornado', 'volcanodiscover', 'volcanic', 'void', 'voices', 'vodka', 'vocals', 'vocalist', 'vocal', 'vmas', 'vj44', 'vi\\x89Û', 'vixstuart', 'vixmeldrew', 'vivid', 'vivianunhcr', 'viviangiang', 'vivian', 'vivaargentina', 'vitesse', 'vitaly', 'vitalvegas', 'vita', 'visting', 'visiting', 'visionzero', 'visible', 'visibility', 'visage', 'virtual', 'vir', 'viper', 'violin', 'violets', 'violentfeminazi', 'violators', 'violation', 'violated', 'vinustrip', 'vinnie', 'vines', 'vincent', 'vimvith', 'vimeo', 'villicanaalicia', 'villa', 'vilelunar', 'vikings', 'vigils', 'vigilent', 'views', 'viennabutcher', 'videogame', 'videoclip', 'victorious', 'victorias', 'victorian', 'victoriagittins', 'vickybrush', 'vichardy', 'vibrates', 'vibrate', 'viab', 'vhull', 'vhs', 'vgbootcamp', 'vets78734', 'vestment', 'vessels', 'versus', 'veronicadlcruz', 'vern', 'vermilion', 'verhoek', 'vergil', 'verge', 'verde', 'venture', 'ventilated', 'vent', 'venoms', 'veneto', 'veldfest', 'veld', 'veins', 'veil', 'veggies', 'vegetables', 'vegassolitude', 'vegan', 'veg', 'vector', 'vaxshill', 'vast', 'vassalboro', 'varagesale', 'vanpoli', 'vannuyscouncil', 'vanishing', 'vanished', 'vanilla', 'vanessas', 'vanessa', 'vandalized', 'vancouveråÊisland', 'vampires', 'value', 'valuations', 'valleywx', 'vallerand', 'valentines', 'vale', 'valdes1978', 'vail', 'vai', 'vaginaorcake', 'vagersedolla', 'vaccines', 'vaccine', 'vacancies', 'vaca', 'vabengal', 'v452', 'u\\x89Û', 'ux', 'uvopwz', 'uve', 'uv', 'utv', 'utp', 'utopian', 'utilized', 'utility', 'utica', 'utfire', 'utd', 'utc3km', 'utc20150806', 'utahgrizz', 'utahcanary', 'uswarcrimes', 'usw', 'uspacific', 'usmnt', 'ushanka', 'usg', 'usfs', 'useless', 'usdot', 'usbush', 'usatodaynfl', 'usat', 'usarmy', 'usamisan', 'usama', 'usagi', 'usage', 'urufusanragu', 'uruan', 'urself', 'urogyn', 'urine', 'uriminzok', 'urgentthere', 'urg', 'urbanisation', 'urbanfashion\\x89Û', 'urban', 'uranium', 'upwindstorm', 'upward', 'uptownjorge', 'uptown', 'uptotheminute', 'upstairs', 'upsetting', 'uprooting', 'uprootin', 'uplifting', 'upi', 'uphill', 'upgrades', 'updateme', 'upcoming', 'upah', 'upa', 'unwomen', 'unwarranted', 'unwanted', 'unu', 'unto', 'untill', 'untameddirewolf', 'unsurprisingly', 'unsure', 'unsuccessful', 'unstoppable', 'unstable', 'unsigned', 'unsensibly', 'unsecured', 'unrecognized', 'unrealtouch', 'unreal', 'unprepared', 'unpredictable', 'unplug', 'unpacked', 'unnewsteam', 'unloads', 'unlicensed', 'unknowingly', 'univsfoundation', 'universityoflaw', 'uniteblue', 'unite', 'uninvestigated', 'unimpressed', 'unimaginable', 'unhinged', 'unhealed', 'unharmed', 'unhappy', 'ungodly', 'unfortunemelody', 'unfollow', 'unfold', 'unfml', 'unfair', 'unexplainable', 'unending', 'undone', 'undetected', 'undeserving', 'underwritersenior', 'underwriter', 'understood', 'understand\\x89Û\\x9d', 'understandable', 'underpasses', 'undermined', 'undergroundrailraod', 'undergroundbestsellers', 'underground', 'underestimate', 'uncover', 'uncontrolled', 'uncontrollable', 'unconsciously', 'unconscious', 'unconditional', 'uncommon', 'uncomfortable', 'uncles', 'uncertaintyeconomic', 'uncertain', 'unbelievably', 'unaware', 'unauthorized', 'unarmed', 'unaddressed', 'unable', 'umntu', 'umm', 'umbrella', 'um', 'uluru', 'ultimatum', 'ullman', 'uk\\x89Ûªs', 'ukraines', 'uknews', 'ukfrance', 'ukfloods', 'uhmmmm', 'uhhhhh', 'uglypeople', 'uglyamesocialaction', 'ugliest', 'ugc', 'ufo4ublogeurope', 'ufn', 'udom', 'udhampuragain', 'uchicago', 'uabstephenlong', 'u2', 'tÌüp', 't\\x89Û', 'tyrone', 'tyrant', 'typography', 'typing', 'typical', 'typhoon\\x89Û', 'typewriter', 'tyleroakley', 'tyar', 'txt', 'txlege', 'tx', 'twx', 'twoptwips', 'twoout', 'twitsandiego', 'twitch', 'twist', 'twill', 'twilights', 'twi', 'twentysix', 'tweetstorm', 'tweetinglew', 'tweeting', 'tweeted', 'tweet4taiji', 'tween', 'twcnews', 'twain', 'tvshowtime', 'tvjnews', 'tutorials', 'tusky', 'turner', 'turnedonfetaboo', 'turdnado', 'turbojet', 'tunisian', 'tunisia', 'tunis', 'tuneswgg', 'tuned', 'tunas', 'tumblr', 'tumbling', 'tumbles', 'tulowitzki', 'tullamarine', 'tuicruises', 'tuffers', 'tuesdays', 'tucson', 'tub', 'tu', 'ttw', 'tthe', 'tsutomi', 'tsunamis', 'tsipras', 'tshirts', 'tshirt', 'trynna', 'truthsof', 'trustymclusty', 'trusting', 'trusted', 'trulystings', 'truestory', 'truediagnosis', 'truckload', 'truckcrash', 'tru', 'trpreston01', 'trp', 'troyslaby22', 'troylercraft', 'troye', 'troupe', 'troubleonmymind', 'trophyhunt', 'trophy', 'trophies', 'tropes', 'trooper', 'trombonetristan', 'trollkrattos', 'trollingtilmeekdiss', 'troisrivieres', 'trjdavis', 'trixiedrowned', 'trivium', 'triumphs', 'triumphant', 'triumph', 'trinna', 'trim', 'trillac', 'trigger', 'trident', 'tricycle', 'tricky', 'trickxie', 'trickshot', 'trickier', 'triciaoneillphoto', 'triciaoneill', 'tribez', 'tribe', 'trib', 'triangle', 'triad', 'treyarch', 'trey', 'trestle', 'trend\\x89Û\\x9d', 'trends', 'trending', 'trench\\x89Û', 'tren', 'tremors', 'tremont', 'tremblayeh', 'trekkers', 'treescape', 'treblinka', 'treatmen', 'treasures', 'treasurehouse', 'trc', 'tray', 'travellers', 'travelelixir', 'trash', 'traplord29', 'transwomen', 'transportation', 'transporta', 'translated', 'transgress', 'transgendered', 'transgender', 'transcription', 'trampling', 'traitor', 'traintragedy', 'trained', 'trailheads', 'trailed', 'trail', 'trafficnetwork', 'traditionalist', 'trader', 'trade', 'tradcatknight', 'tracy', 'tractor', 'tracklist', 'tracey', 'trace', 'tra', 'tps', 'tprimo24', 'to\\x89Û', 'tozlet', 'toyota', 'toxicsavior', 'toxiccancerdiseasehazardous', 'toxic', 'towns', 'towing', 'tower\\x89Ûª', 'tower', 'towboat', 'tow', 'tours', 'tournaments', 'tournament', 'tourists', 'tounge', 'toughens', 'touching', 'touchdown', 'tottenham', 'totteham', 'totoooooooooo', 'totoooooo', 'totalitarianism', 'totalitarian', 'tosu', 'toss', 'tos', 'tory', 'tort', 'torso', 'torrential', 'torrent', 'torrecilla', 'torrance', 'torontorc', 'tornadogiveaway', 'tormented', 'tories', 'tora', 'topic', 'topdown', 'top25', 'tootrue', 'toosoon', 'toooooo', 'tookitlikeaman', 'tookem', 'toocodtodd', 'tonysandos', 'tonymcguinness', 'tonyhsieh', 'tonycottee1986', 'tonyburke', 'tonyabbottmhr', 'tony', 'tonne', 'tonight\\x89Ûªs', 'tonguetwister', 'ton', 'tomorrow\\x89Ûªs', 'tommorow', 'tomlinson', 'tomislav', 'tomfromireland', 'tomdean86', 'tomclancy', 'tolled', 'tolewantg', 'tolerated', 'tolerance', 'tokteacher', 'toilets', 'toiindianews', 'togthe', 'toes', 'toenail', 'toe', 'toddyrockstar', 'toddstarnes', 'toddcalfee', 'today\\x89Ûªs', 'todaythat', 'todayngr', 'todayng', 'todayim', 'todayhave', 'today4got', 'tod', 'tobiasellwood', 'tnwx', 'tnn', 'tneazzy', 'tna', 'tn', 'tms7', 'tmake', 'tlvfacesauspol', 'tlvfaces', 'tloz', 'tlk', 'tkyonly1fmk', 'tjrobertson2', 'tj', 'titty', 'tittie', 'titortau', 'titolo', 'titania', 'titadom', 'tita', 'tirelessly', 'tire', 'tipster', 'tip', 'tinybaby', 'tiny', 'tinted', 'ting', 'tindering', 'tinderbox', 'tinder', 'timmicallef', 'timing', 'time\\x89Û\\x9d', 'timesofindia', 'timesap', 'timed', 'timebomb', 'timber', 'timaroberts', 'tightly', 'tight', 'tiggr', 'tigersjostun', 'tiffanyfrizzell', 'tier', 'tide', 'tidalhifi', 'ticklemeshawn', 'tianta', 'th\\x89Û', 'thursdays', 'thursd', 'thurs', 'thurlow', 'thunderstormtornado', 'thundersnow', 'thugging', 'thucydiplease', 'tht', 'thruuu', 'thrusts', 'throwin', 'thriving', 'threesome', 'threealarm', 'threat\\x89Ûª', 'threatintel', 'threatconnect', 'thread', 'thrarchives', 'thr', 'thoutaylorbrown', 'thoughwill', 'thou', 'thoroughly', 'thorium', 'thorins', 'thorgan', 'thomassmonson', 'thomashcrown', 'thnk', 'thi\\x89Û', 'this\\x89Û', 'thisispublichealth', 'thisisperidot', 'thisishavehope', 'thisisfaz', 'thisdayinhistory', 'thirtyfive', 'thirdquarter', 'thinner', 'thinkpink', 'thingsihate', 'thh', 'they\\x89Ûªd', 'thexfiles201days', 'thewesterngaz', 'thetxi', 'thetshirtkid', 'thetimepast', 'thestrain', 'thesmallclark', 'thesewphist', 'thesensualeye', 'theresmorewherethatcamefrom', 'thereof', 'thereisonlysex', 'therein', 'therefore', 'therealrittz', 'thereal', 'theramin', 'thepartyofmeanness', 'then\\x89Û', 'thenissonian', 'thenewshype', 'theneeds', 'themhe', 'themermacorn', 'theme', 'themalemadonna', 'themaine', 'thelegendblue', 'thejonesesvoice', 'thejenmorillo', 'theirs', 'thehobbit', 'thehammers', 'thegreenparty', 'theghostparty', 'theevilolives', 'theemobrago', 'theellenshow', 'theeconomist', 'thedoolinggroup', 'thedayct', 'thedarktower', 'thedailyshow', 'thedailybeast', 'thecomedyquote', 'theburnageblue', 'thebriankrause', 'theboyofmasks', 'thebookclub', 'theblackshag', 'thebargain', 'thebachelorette', 'theatres', 'theatlantic', 'theatershooting', 'theashes', 'theadvocatemag', 'thda', 'that\\x89Û', 'thatwitchem', 'thatswhatfriendsarefor', 'thatsabinegirl', 'thatrussianman', 'thatpersianguy', 'thatnot', 'thatfatguy', 'thatdes', 'thatd', 'thankyou', 'thanku', 'thankkk', 'thanking', 'thalapathi', 'thailand', 'thai', 'tfw', 'tfb', 'te\\x89Û', 'texture', 'texts', 'texting', 'texaschainsawmassacre', 'texans', 'testy', 'testify', 'testified', 'testicles', 'tesco', 'terwilliger', 'tersestuff', 'territory', 'terrified', 'terrific', 'terrain', 'termn8r13', 'terminated', 'terell', 'tepat', 'tents', 'tenshi', 'tennis', 'tennews', 'tends', 'ten4', 'tem\\x89Û', 'temps', 'temporary', 'temporarily', 'templates', 'temperature', 'temp', 'temecula', 'temecafreeman', 'telnet', 'tellyfckngo', 'tellyampi', 'telly', 'telltales', 'teleported', 'telemarketing', 'telekinesis', 'telegraphworld', 'telangana', 'tee\\x89Û', 'teenfiction', 'teena797', 'teemo', 'tee', 'teduka', 'tedcruz2016', 'tecno', 'techniqu', 'technical', 'technews', 'techesback', 'team\\x89Û', 'teamvodg', 'teamsurvivors', 'teamscorpion', 'teamo', 'teammates', 'teamhennessy', 'teamfollowback', 'teamatowinner', 'teahivetweets', 'teafrystlik', 'tdog', 'tdm', 'tcotåÊccot', 'tcgreno', 'tbs', 'tbr', 'tblack', 'tbh', 'taylorswift13', 'taylors', 'taykreidler', 'tayiorrmade', 'taxstone', 'taxreturn', 'taxpayers', 'taxis', 'taxi', 'taxes', 'tawfmcaw', 'taungbazar', 'taufikcj', 'tattoos', 'tattooed', 'tat', 'tastemycupcakee', 'tasks', 'task', 'tarzana', 'tarynel', 'tarp', 'targe', 'tareksocal', 'taraswart', 'tapas', 'taoistinsight', 'tantrums', 'tanstaafl23', 'tanslash', 'tangletalk', 'tangled', 'tanehisicoates', 'tampons', 'tampabay', 'tambourine', 'tambo', 'tallest', 'talkradio', 'talkinghell', 'talked', 'talkecologyamphuman', 'talisman', 'talibans', 'taliban', 'tales', 'takis', 'takin', 'takeoff', 'takehome', 'takecare', 'takeaways', 'taipei', 'tailor', 'tail', 'tahoeblazeravalanches10', 'tagging', 'tagged', 'tafs', 'tae', 'tadhgtgmtel', 'tactics', 'tactful', 'tacos', 'tackettdc', 'tacit', 'taaylordarr', 't1000s', 's\\x89Ûªarabia', 'szuter', 'szmnextdoor', 'systematic', 'sys', 'syringetoanger', 'synapsenkotze', 'symptoms', 'symbol', 'symantec', 'syjexo', 'sydtraffic', 'swtrains', 'sworn', 'swords', 'swooping', 'swollen', 'swivels', 'switzerland', 'switching', 'switch', 'swiss', 'swingman', 'swiming', 'swiftycommissh', 'swiftly', 'swellyjetevo', 'swell', 'sweets', 'sweetpeas', 'sweetiebirks', 'sweeps', 'sweeping', 'sweep', 'swedish', 'sweaty', 'sweatfyi', 'sweated', 'swea', 'swb1192', 'swayoung01', 'swayback', 'swanger', 'swami', 'swag', 'svetlana', 'sux', 'suvs', 'sustainourearth', 'sustainability', 'suspicious', 'suspended', 'suspects', 'susiya', 'susinesses', 'sushi', 'susanj357', 'survivorsr', 'surviving', 'surveys', 'suruÌ¤', 'surgical', 'surges', 'surfspa', 'surfphoto', 'surety', 'sureshpprabhu', 'suresh', 'suregod', 'supremo', 'supremacist', 'supposedly', 'supporting', 'supporthealthhomebathroomsupportelderlyinjureds\\x89Û', 'supporters', 'superv', 'superstitions', 'superstition', 'superpower', 'supernovalester', 'supernatural', 'supermarket', 'superman', 'superiority', 'superintendent', 'superintende', 'superfood', 'superbug', 'superb', 'sunshine', 'suns', 'sunrays', 'sunnymeade', 'sunk\\x89Û1', 'sunflower', 'sundercr', 'sunday\\x89Ûªs', 'sundaydont', 'sunburst', 'sunburned', 'sunbathe', 'sumo', 'sumn', 'summons', 'summon', 'summervibes', 'summers', 'summerhallery', 'summer2k15', 'summary', 'sultry', 'sul', 'suites', 'suited', 'suitable', 'suing', 'suicides', 'suicidebycop', 'suho', 'suggs', 'sugar', 'suffield', 'sufficiently', 'suffers', 'suelinflower', 'sued', 'sudan\\x89Ûªs', 'sucking', 'suckers', 'sucked', 'suck', 'succeed', 'subtornado', 'subtlety', 'subtle', 'substantial', 'substance', 'subsequent', 'subsd', 'subscription', 'submitt', 'submissions', 'submerged', 'subjected', 'subcontractor', 'subconscious', 'subcommittee', 'subatomic', 'su', 'stylist', 'stylishly', 'styled', 'stvmlly', 'stury', 'sturgis', 'stupidniggr', 'stunningly', 'stung', 'stunckle', 'stump', 'stuffin', 'studying', 'studebaker', 'studded', 'stuckinbooks', 'stuartbroad8', 'strutting', 'strutted', 'struggle', 'structuring', 'strongminded', 'strives', 'striptease', 'strips', 'stripped', 'stripe', 'strip', 'striked', 'strictly', 'strickskin', 'stretches', 'stretcherbearers', 'stretcherbearer', 'stretched', 'stressing', 'stresses', 'strength', 'streetlight', 'streetjamzdotnet', 'stree', 'streamyxhomesouthern', 'streams', 'streaming', 'stray', 'strawberrysoryu', 'strawberries', 'stratford', 'strategyhua', 'strategies', 'strap', 'strangers', 'strand', 'straits', 'strains', 'strain', 'straighten', 'sto\\x89Û', 'stowing', 'stormtrooper', 'stormlike', 'storming', 'stormfree', 'stormbeard', 'storey', 'storen', 'stop\\x89Û\\x9d', 'stopping', 'stoponesounds', 'stopharper', 'stopevictions', 'stood', 'stony', 'stonewall', 'stones', 'stonebrewingco', 'stokes', 'stockwell', 'stockholm', 'sto', 'stlouis', 'stlnd', 'stl', 'stirring', 'stil', 'stiiilo', 'stickynyc', 'sticky', 'sticking', 'sticker', 'sthing', 'stfxuniversity', 'stevie', 'steveycheese99', 'stevenrulles', 'stevenontwatter', 'steven', 'sterotypical', 'stern', 'sterlingscott', 'sterlingknight', 'sterling', 'stepkans', 'stephenson', 'stephenscifi', 'stephenking', 'stephengeorg', 'stephaniemarija', 'steph93065', 'stemming', 'stem', 'stefano', 'stefanejones', 'steep', 'steellord', 'stearns', 'stealth', 'steady', 'stds', 'staying', 'stayed', 'stavola', 'stavernise', 'statistically', 'stations', 'stationcdrkelly', 'states\\x89Û', 'statesville', 'statements', 'stat', 'starving', 'starve', 'startrek', 'startide', 'startelegram', 'starmade', 'starks', 'stark', 'starflamegirl', 'stare', 'stardate', 'starbuckscully', 'starbs', 'stankyboy88', 'standup', 'standstill', 'standforwolves', 'standardised', 'standardanonymous', 'stallion150', 'stalled', 'stalins', 'stalag', 'staining', 'staid', 'stages', 'staged', 'staff\\x89Û', 'staffing', 'stacy', 'stacks', 'stack', 'stacedemon', 'stacdemon', 'stable', 'ssw', 'ssu', 'ssssnell', 'ssshhheeesshh', 'ssp', 'ssb4', 'srsly', 'srs', 'srk', 'sriramk', 'srajapakse', 'sr37', 'sr22', 'sr14', 'sqwizzix', 'squirrel', 'squibby', 'squeezed', 'squeaver', 'squeaky', 'squabble', 'sq', 'spyro', 'spying', 'spx', 'sputtering', 'sputnikint', 'spurs', 'spurgeon', 'spur', 'spså¨', 'spsgsp', 'sprite', 'sprinklers', 'springer', 'spree', 'spreads', 'spread', 'spray', 'sprains', 'spouting', 'spouse', 'spotting', 'spotlight', 'sportsroadhouse', 'sportinggoods', 'sporten', 'spookyfob', 'sponsor', 'sponge', 'spokes', 'spoke', 'spokane', 'spoiled', 'spoil', 'splifs', 'splattershot', 'splatoon', 'splatling', 'splatdown', 'splash', 'spits', 'spit', 'spirits', 'spins', 'spinnellii', 'spin', 'spilt', 'spillevacuationsred', 'spike', 'spies', 'spiderweb', 'spicybreads', 'spice', 'spends', 'spencerfearon', 'spen', 'spells', 'spell', 'speedtech', 'speeding', 'speech', 'speculation', 'speculatio', 'spectrum', 'specs', 'specifically', 'specialized', 'specialize', 'speccy', 'speakingfromexperience', 'sparxxx', 'spartans', 'sparkz', 'sparking', 'spark', 'spaniels', 'spaniel', 'span', 'spammers', 'spam', 'spacex', 'spacewolverine', 'spaceshiptwo', 'spaceangelseven', 'so\\x89Û', 'soz', 'sow', 'south\\x89Û', 'southwestern', 'southwest', 'southridgelife', 'southline', 'southkorea', 'southdown', 'southbound', 'southaccident', 'sousse', 'sourmashnumber7', 'sour', 'soundtrack', 'sounding', 'sounders', 'soultech', 'sought', 'souda', 'sothwest', 'sos', 'sorryi', 'sorrybutitstrue', 'sorrowful', 'sorrower', 'sorrow', 'sorely', 'sophistication', 'sophiewisey', 'sophieingle01', 'soonpandemonium', 'soonergrunt', 'sonyprousa', 'sony', 'sonoranrattler', 'sonofbobbob', 'sonofbaldwin', 'sonisoner', 'sonia', 'soni', 'songhey89', 'songfor', 'soner', 'sond', 'sona', 'somme', 'sometimesi', 'somethin\\x89Ûª', 'somethingyr', 'someday', 'solving', 'solelinks', 'sole', 'soldi', 'solano', 'sojapan', 'soil', 'soggy', 'softball', 'sofa', 'sods', 'sodamntrue', 'sockets', 'socket', 'sock', 'socialwots', 'socialtimes', 'socialmediadriven', 'socially', 'socal', 'soc', 'sobbing', 'soapscoop', 'soap', 'soaker', 'soaked', 'snuck', 'snowywolf5', 'snowy', 'snowstormhailstorm', 'snowstormdespite', 'snowflake', 'snotgreen', 'snort', 'snoop', 'snooker', 'snippets', 'snipe', 'sniiiiiiff', 'sniff', 'sni', 'sneezing', 'sneaks', 'snazzychipz', 'snapping', 'snapharmony', 'snapchatselfie', 'snakes', 'snake', 'snack', 'sn', 'smusx16475', 'smugglersåÊnabbed', 'smugglers', 'smug', 'smth', 'sms087809233445', 'sms', 'smp', 'smores', 'smoothed', 'smoochy', 'smokey', 'smokes', 'smokers', 'smoakqueen', 'smirking', 'smiles', 'smfh', 'smem', 'smelltaste', 'smelling', 'smelled', 'smeared', 'smartteks', 'smartnews', 'smart', 'smantibatam', 'smallforestelf', 'smaller', 'smallbusiness', 'smallbiz', 'smack', 'slums', 'slumber', 'slsp', 'slsandpet', 'slows', 'slowpoke', 'slosheriff', 'slosher', 'slopeofhope', 'slone', 'slogan', 'slit', 'slipping', 'slipper', 'slimebeast', 'slightest', 'slight', 'sliding', 'slideshare', 'sliced', 'slew', 'slept', 'sleepjunkies', 'slay', 'slaves', 'slavery', 'slave', 'slaughter', 'slatukip', 'slating', 'slated', 'slashandburn', 'slapping', 'slander', 'slams', 'slamming', 'slam', 'slain', 'slabs', 'sl', 'skyåÊnews', 'skywars', 'skywarn', 'skyscrapers', 'skyrim', 'skype', 'skynews', 'skynet', 'skyler', 'skylanders', 'skull', 'skippy6gaming', 'skip', 'skinless', 'skims', 'skimmed', 'skiing', 'skies', 'ski', 'skh', 'sketchbook', 'skeleton', 'skc', 'skateboards', 'skarletan', 'skardu', 'skaggs', 'sk398', 'sjubb', 'sj', 'sizygwwf', 'sizewell', 'sixcar', 'sivan', 'situ', 'sittway', 'siteinvestigating', 'sister\\x89Ûª', 'sirtophamhat', 'sirtitan45', 'sirmixalot', 'sirmione', 'sirius', 'sirenvoice', 'sirens\\x89Û', 'sirensong21', 'sirensamp', 'sippin', 'sip', 'siouxland', 'siouxlan', 'sioux', 'sins', 'sinkingshipindy', 'sinkingfund', 'sinkhole\\x89Û', 'sinistras', 'singled', 'singlecar', 'sindh', 'sincerely', 'since3g', 'since1970the', 'simulation', 'simulating', 'simplify', 'simmons', 'similar', 'silvery', 'silverwood', 'silverman', 'silverhusky', 'silo', 'silly', 'silinski', 'silentmind', 'silent0siris', 'silenced', 'silas', 'sikh', 'sigue', 'signin', 'significance', 'signatureschange', 'sigh', 'sifting', 'siena', 'sidjsjdjekdjskdjd', 'side\\x89Û', 'sidewalk', 'sidelinesavage', 'sided', 'sick\\x89Ûª', 'sibling', 'shuts', 'shunichiro', 'shuffled', 'shuffle', 'shud', 'shtf', 'shtap', 'sht', 'shrews', 'showwent', 'showersstorms', 'showers', 'showdown', 'shovel', 'shove', 'shoutout', 'shouted', 'shouout', 'shotgun', 'shorts', 'shortfalls', 'shopping', 'shoppe', 'shootoutåÊ', 'shootings', 'shoook', 'sholt87', 'shocking\\x89ÛÏ', 'shocking', 'shoalstraffic', 'shiver', 'shitton', 'shite', 'shirley', 'shipsxanchors', 'shimmyfab', 'shii', 'shifts', 'shifter', 'shifted', 'shield', 'shidddd', 'shias', 'shia', 'she\\x89Ûªs', 'shevlinhixon', 'shestooyoung', 'sherfield72', 'shen', 'shemesh', 'sheltersupport', 'shells', 'shekhargupta', 'sheeting', 'shedid', 'shear', 'shayoly', 'shawie17shawie', 'shattered', 'shatter', 'sharply', 'sharper', 'shark\\x89Û\\x9d', 'shark', 'sharif', 'sharia', 'shar', 'shaping', 'shaper', 'shapeand', 'shaolin', 'shantaeskyy', 'shantaehalfgeniehero', 'shantaeforsmash', 'shanghai\\x89Ûªs', 'shanaynay', 'shakjn', 'shakingcatching', 'shakespeares', 'shakeology', 'shaken', 'shake', 'shaheed', 'shadows', 'shadowman', 'shadowflame', 'shadowed', 'shade', 'shad', 'sha', 'sgc72', 'sg', 'sfor', 'sfgiants', 'sfa', 'sexydragonmagic', 'sexuality', 'sexist', 'sewing', 'seward', 'sewage', 'severing', 'severely', 'seventies', 'sevenfold', 'sevenfigz', 'setting4success', 'setsuko', 'sethalphaeus', 'setanta', 'sessions', 'session', 'serving', 'servicin', 'servicesft7p7a', 'sergiopiaggio', 'serephina', 'serene', 'serbian', 'seras', 'sequence', 'sequalae', 'septic', 'separation', 'separated', 'senzu', 'sentient', 'sentenced', 'sensory', 'sensorknock', 'sensitive', 'sensei', 'senschumer', 'sensanders', 'sens', 'senfeinstein', 'senators', 'senatemajldr', 'sen', 'seminars', 'semi', 'semasirtalks', 'selmoooooo', 'selmo', 'selfseeking', 'selfpity', 'selfinflict', 'selfesteem', 'selfdestruction', 'selfdelusion', 'selfavowed', 'selects', 'select', 'sel', 'sejorg', 'seizing', 'seize', 'seismicsoftware', 'seismicresistant', 'segment', 'segas', 'sef', 'seeyouatamicos', 'seeweed', 'seemly', 'seemeth', 'seeker', 'seeds', 'seed', 'sedar', 'sedan', 'securing', 'secures', 'securedgt', 'secured', 'sectors', 'sections', 'secondhand', 'seclusion', 'sec', 'seaworld', 'seattletimes', 'seattles', 'seattledot', 'seats', 'seatbelt', 'seasonfrom', 'seashore', 'seas', 'seanhannity', 'seagulls', 'seagull07', 'sd', 'scynic1', 'scwx', 'scum', 'scuf', 'sct014', 'sct012', 'scseestapreparando', 'scrolling', 'scriptettesar', 'screwed', 'screenshot', 'screening', 'screeching', 'screamsdont', 'scratching', 'scratches', 'scraptrident', 'scraped', 'scrambledeggs', 'scouts', 'scout', 'scourgue', 'scourge', 'scotto519', 'scottdpierce', 'scotrail', 'scotiabank', 'scored', 'scorched', 'scofield', 'scmpnews', 'scissor', 'sciencefiction', 'scichat', 'schulz', 'schoolboy\\x89Ûªs', 'scholars', 'schoenfeld', 'schism\\x89Ûª', 'schelbertgeorg', 'scheer', 'scenes', 'scenario', 'scegnews', 'scasualty', 'scaryeven', 'scarlet', 'scariest', 'scarier', 'scandals', 'scandal', 'scam', 'scalpium', 'scaligero', 'scabs', 'sbee', 'sa\\x89Û', 'say\\x89Û\\x9d', 'saynae', 'sayin', 'sayedridha', 'savs', 'savour', 'savior', 'saveti', 'saves', 'saver', 'savedenaliwolves', 'savannahross4', 'savages', 'savagenation', 'saumur', 'sauldale305', 'saudiåÊmosque', 'saudies', 'saudiarabia', 'saturation', 'saturated', 'satoshis', 'satisfying', 'satire', 'satin', 'satellites', 'satans', 'satanaofhell', 'sask', 'sasha', 'sarumi', 'sarniamakchris', 'sarcastic', 'sarahmcpants', 'sarahksilverman', 'sara', 'sapphirescallop', 'san\\x89Ûªa', 'santos', 'santiago', 'santanicopandemonium', 'santaclara', 'sansa', 'sanonofre', 'sanity', 'sanitizing', 'sanitised', 'sang', 'sanfrancisco', 'sanford', 'sanelesstheory', 'sandwich', 'sandunes', 'sandra', 'sanders', 'sandbox', 'sanction', 'sanchez', 'samsung', 'samsmithworld', 'samples', 'sample', 'sammysosita', 'sammy', 'samihonkonen', 'sami', 'samelsamel', 'samaritans\\x89Ûª', 'sam', 'salyersblairhall', 'salvages', 'salvadors', 'salvadoran', 'salute', 'salty', 'saltriverwildhorses', 'salted', 'salopek', 'salmanmydarling', 'salman', 'sally', 'salisbury', 'sales', 'salado', 'saladinahmed', 'sakuuchiha', 'saku', 'sakhalintribune', 'saison', 'saintsfc', 'saint', 'sailors', 'safyuan', 'safsufa', 'safferoonicle', 'safes', 'saferåÊ', 'safeco', 'safaris', 'safari', 'sadtraumatised', 'saddledome', 'saddle', 'sacrifice', 'sackville', 'sackings', 'sabotagei', 'sabcnewsroom', 'saat', 'saalon', 'saadthe', 's61231a', 's5', 's3xleak', 's01e09', 'rzimmermanjr', 'ryt', 'ryrotheunaware', 'ryleedowns02', 'ryans', 'ryanoss123', 'rwrabbit', 'rvfriedmann', 'rvaping101', 'rvacchianonydn', 'rv', 'ruthann', 'russiaukraine', 'russellville', 'russell', 'russaky89', 'rushlimbaugh', 'rural', 'rupaul', 'run\\x89Û', 'runnin', 'runners', 'runkeeper', 'runjewels', 'runin', 'runaway', 'runabout', 'rumor', 'rumbling', 'rumah', 'rum', 'ruling', 'ruler', 'ruled', 'ruhl', 'rude', 'ruddyyyyyy', 'rubybot', 'rubi', 'rubbing', 'rubbin', 'rubbery', 'ru', 'rtsampdemocracy', 'rtrrtcoach', 'rtirishirr', 'rtcom', 'rsx', 'rstormcoming', 'rspca', 'rslm72254', 'rsf', 'rsa', 'rs5', 'rs40000cr', 'rrusa', 'rq', 'rpn', 'rp', 'roy', 'rowysolouisville', 'rowyso', 'rowaa', 'roving', 'routing', 'routine', 'routes', 'router', 'rousey', 'roundhouse', 'round2', 'rotting', 'rottentomatoes', 'rotations', 'rotation', 'rotating', 'rotary', 'rosters', 'roster', 'rossmartin7', 'rossbarton', 'roskomnadzor', 'rosewell', 'rosenthalauthor', 'rosenbergs', 'rosemarytravale', 'rorington95', 'ropes', 'roomsgrrrr', 'rooms', 'roomr', 'rooftops', 'roofing', 'roofers', 'ronwyden', 'ronincarbon', 'ronge', 'rondarousey', 'ronda', 'ronald', 'romp', 'romford', 'romes', 'romeocrow', 'romeo', 'romanticsuspense', 'romantic', 'romania', 'romanatwoodvlogs', 'roman', 'rom', 'rolo', 'rolling\\x89Û', 'roles', 'roleplay', 'rolandonabeats', 'rokiieee', 'roh3smantibatam', 'roguewatson', 'rogers', 'roga', 'rods', 'rodkiai', 'roddypiperautos', 'rodarmer21', 'rockstar', 'rockn', 'rockingham', 'rocking', 'rochdale', 'robthieren', 'robsimss', 'robpulsenews', 'robotlvl', 'robotcoingame', 'robot', 'roblox', 'robertwelch', 'robertoneill31', 'robertmeyer9', 'robertharding', 'robertcalifornia', 'robertbenglunds', 'robdelaney', 'robbiewilliams', 'robbed', 'roar', 'roanoketimes', 'roadworks', 'roadwayproperty', 'roadid', 'rnk', 'rlyeh', 'rlauren83199', 'rjkrraj', 'rjg0789', 'rjailbreak', 'rizzo', 'rivers', 'riverroaming', 'riveeeeeer', 'rivals', 'ritzyjewels', 'ritualistic', 'ritual', 'rite', 'risky', 'riser', 'ris', 'ririnsider', 'rips', 'ripriprip', 'ripples', 'ripping', 'rioters', 'rioslade', 'riooooos', 'rio2016', 'rinkydnk2', 'rindou', 'rin', 'rijn', 'rigour', 'rightly', 'righteous', 'rigga', 'rig', 'rifle', 'ridiculously', 'riddler', 'ricotta\\x89Û', 'rico', 'rickybonessxm', 'rickets', 'ricin', 'richhomeydon', 'riches', 'richelieusaintlaurent', 'richarkkirkarch', 'riceechrispies', 'rice', 'ribbon', 'ri', 'rhymes', 'rhinestone', 'rhiannon', 'rhett', 'rhee1975', 'rgj', 'rfp', 'rfcgeom66', 'rezaphotography', 'reworked', 'rewatchingthepilot', 'revolutionblight', 'revolt', 'revitup', 'revise', 'reviewing', 'reverse', 'reversal', 'revere', 'revenge', 'revel', 'reveillertm', 'revealing', 'reusing', 'reunite', 'retweeted', 'returning', 'retroactive', 'retreat', 'retract', 'retooled', 'retirement', 'retirees', 'retiredfilth', 'retard', 'retainers', 'resumed', 'restrospect', 'restoringpaths', 'restoring', 'restlessness', 'resting', 'restart', 'resque', 'responding', 'respondents', 'respects', 'respecting', 'resource', 'resort', 'resolved', 'resolutevanity', 'resoluteshield', 'resistant', 'resin', 'resilience', 'resigninshame', 'residualincome', 'residual', 'reshrimplevy', 'reshareworthy', 'reshape', 'reset', 'reserves', 'reserved', 'resemblance', 'researchers', 'rescuing', 'rescuersthe', 'rescued\\x89Û', 'rescuedagain', 'rescind', 'requiring', 'requiem', 'requests', 'requa', 'reqd', 'reputation', 'reps', 'reprocussions', 'reprises', 'repression', 'represents', 'representing', 'representative', 'repped', 'reporters', 'replacement', 'replaced', 'repjohnkatko', 'repdonbeyer', 'repatriating', 'reoccur', 'rent', 'renovation', 'renewsit', 'renewed', 'renew911health', 'rene', 'rendered', 'render', 'renaomino', 'renamed', 'ren', 'remymarcel', 'remote', 'remorseless', 'remodeled', 'remixes', 'reminders', 'reminded', 'remind', 'remembrance', 'remembers', 'rememberrabaa', 'remedial', 'rembr', 'remaster', 'remarkably', 'remark', 'remand', 'remainontop', 'remaining', 'remade', 'relive', 'religious', 'reliefweb', 'relevance', 'relegation', 'releasing', 'relaxinpr', 'relations', 'rejoice', 'rejectdcartoons', 'reiterate', 'reined', 'reince', 'reimagining', 'reigncoco', 'reidlake', 'regress', 'regr', 'regime', 'reggaeboyz', 'regent', 'regc', 'reg', 'refuses', 'refunds', 'refund', 'refugees\\x89Û', 'refugeesmatter', 'reflects', 'reflections', 'reflected', 'referred', 'referencereference', 'reference', 'refer', 'reeves', 'reef', 'reed', 'reebok', 'redwing', 'reduces', 'redskins', 'reds', 'redlands', 'redistribute', 'rediscovered', 'rediscover', 'redhead', 'redhanded', 'redesigning', 'redesigned', 'redemption', 'redeemer', 'redeem', 'reddish', 'reddevil4life', 'reddakushgodd', 'redcliffe', 'redbull', 'redblood', 'recruitment', 'recruiting', 'recovered', 'recordhigh', 'recorded', 'recordand', 'reconnect', 'recommendations', 'recoil', 'recognition', 'recognised', 'recluse', 'reckless', 'recipe', 'recip', 'receives', 'recalled', 'recal', 'rec', 'rebound', 'reboot', 'reblogged', 'rebelmage2', 'rebelled', 'rebecca', 'rebahes', 'reassigned', 'realm', 'realliampayne', 'realjaxclone', 'realizations', 'realization', 'realities', 'realistic', 'realhotcullen', 'realhiphop', 'reagans', 'reagan', 'reafs', 'readiness', 'reader', 'reacts', 'reactors', 'reactorbased', 'reactions', 'reached', 'reaad', 'rdg', 'rdconsider', 'rconspiracy', 'rcityporn', 'rchs', 'rbi', 'rbcinsurance', 'razedåÊ\\x89ÛÒ', 'razak', 'rayquazaerk', 'raychielovesu', 'rawfoodbliss', 'ravioliåÊwith', 'rave', 'rationing', 'ratio', 'ratingscategories', 'ratings', 'ratingbut', 'rascal', 'raredealsuk', 'rar', 'raptorsbeg', 'raped', 'rants', 'rantipozi', 'ransacked', 'ranks', 'ranking', 'ranked', 'rank', 'raniakhalek', 'rangerkaitimay', 'rang', 'randy', 'randomtourist', 'randomthought', 'randerson62', 'randallpinkston', 'rams', 'rampage', 'ramp', 'ramat', 'ram', 'ralph', 'rally\\x89Û', 'raisinfingers', 'raishimi33', 'rainy', 'rainwindstorm', 'rainforestresq', 'raineishida', 'railroad', 'railguns', 'raidersreporter', 'rahulkanwal', 'raheelsharif', 'raheel', 'raging', 'rag', 'raft', 'raffirc', 'radychildrens', 'radler', 'radios', 'radioriffrocks', 'radical', 'rachelcaine', 'racer', 'raccoons', 'racco', 'rabidmonkeys1', 'rabbit', 'rabaa', 'raabchar28', 'ra', 'r5live', 'r3do', 'r21', 'r1354', 'qzloremft', 'qz', 'quottelevision', 'quotoperations', 'quotesttg', 'quoteoftheday', 'quora', 'quizzed', 'quit', 'quirk', 'quiet', 'quicker', 'quests', 'questionfatalityflawless', 'questergirl', 'quem', 'queer', 'queenwendy', 'queenswharf', 'queenmy', 'quarter', 'quarrel', 'quantit\\x89Ûhttpstco64cymg1ltg', 'quals', 'qualit', 'quake', 'quadrillion', 'qty', 'qpr1980', 'qotring', 'qnh', 'qew', 'qendil', 'qave', 'qampa', 'q99', 'q13', 'q1', 'python', 'pyrotechnic', 'pyrbliss', 'pyramidhead76', 'pydisney', 'pwhvgwax', 'pvris', 'puts', 'puth', 'pussyxdestroyer', 'pusssssssssy', 'push2left', 'purposely', 'purpose', 'purported', 'purpleturtlerdg', 'purified', 'purely', 'purdies', 'puppyshogun', 'puppet', 'pup', 'puny', 'punk', 'punishing', 'punishable', 'pundits', 'pundit', 'punch', 'pumpkin', 'pumper', 'pumped', 'pummel', 'pulse', 'pull\\x89Ûone\\x89Ûyou', 'pullup', 'pulkovo', 'puledotechupdate', 'pugwash', 'pugprobs', 'pug', 'puff', 'puerto', 'puddle', 'puckflattened', 'publishing', 'publish', 'publicityalthough', 'publichealth', 'pub', 'pu', 'pt4', 'pt1', 'psychrewatch', 'psychologist', 'psychic', 'psp', 'psfda', 'pseudojuuzo', 'psd', 'psalm3422', 'psa', 'ps3', 'ps2', 'ps1', 'prysmian', 'proxy', 'proxies', 'provokes', 'providers', 'provided', 'proven', 'prove', 'proudgreenhome', 'protostates', 'protestors', 'protesters', 'protein', 'protected', 'prosser', 'prosper', 'pros', 'proportions', 'prophets', 'prophecy', 'propertycasu', 'properly', 'propelled', 'propane', 'propaganda', 'pronouncing', 'proms', 'prompting', 'prompt', 'promotion', 'promoted', 'promo', 'promised', 'prom', 'prolong', 'prolly', 'proliferation', 'projectiles\\x89ÛÒ', 'progressives', 'progress4ohio', 'programs', 'profittothepeople', 'profithungry', 'professionally', 'profbriancox', 'productive', 'production', 'produces', 'producer', 'produce', 'produc', 'prodemocracy', 'proc', 'probs', 'probability', 'prob', 'privilege', 'prisonplanet', 'prisoners', 'prints', 'printing', 'printed', 'printable', 'principle', 'princessduck', 'princeoffencing', 'primalkitchen', 'primal', 'priests', 'priest', 'pride', 'prez', 'previews', 'preventative', 'prevalent', 'prettyboyshyflizzy', 'pretenses', 'presume', 'preston\\x89Ûªs', 'prestige', 'presstv', 'presssec', 'pressing', 'presser', 'presley', 'presinkhole', 'president\\x89Û\\x9d', 'presidential', 'preset', 'preserve', 'presents', 'presentation', 'preseasonworkouts', 'preseason', 'preschool', 'presbad', 'preppertalk', 'preppers', 'preparedelectrocutedboiling', 'prensa', 'premises', 'prem', 'preferable', 'prefecture', 'preemptive', 'predynastic', 'predictions', 'preconditioning', 'precisionistic', 'precedent', 'preaching', 'preacher', 'praying', 'prayforsaipan', 'prayed', 'praise', 'pragnik', 'practitioner', 'practicing', 'practicenyg', 'practically', 'prablematicla', 'pra', 'ppsellsbabyparts', 'ppor', 'pple', 'ppfa', 'ppc', 'ppact', 'pp400dr', 'pp15000266858', 'pp15000266818', 'pp', 'poze', 'pozarmy', 'pox', 'powerwow', 'powers', 'powerhiroshima', 'powder', 'poway', 'pow', 'pouring', 'poured', 'pour', 'pounds', 'pounding', 'pounded', 'pouch', 'potter', 'pots', 'potatoes', 'pot', 'postponed', 'postexistence', 'postering', 'poster', 'postcards', 'postcapitalism', 'postal', 'possess', 'possesion', 'positively', 'poses', 'pos', 'portrait', 'portfolio', 'portaloos', 'porno', 'pornhub', 'porcupine', 'porcini', 'population6', 'popeyes', 'popcorn', 'pop2015', 'pony', 'ponting', 'pone', 'polluted', 'pollster', 'politic\\x89Û', 'politicized', 'politicians', 'politely', 'polit', 'policylab', 'police\\x89Û', 'policeng', 'pole', 'polaroids', 'polar', 'pol', 'pokemoncards', 'pokemon', 'poisoned', 'point\\x89Û', 'pointless', 'poignant', 'pogo', 'podcast', 'pod', 'poconorecord', 'pochette', 'poc', 'pneumonia', 'plymouth', 'plumbing', 'plugin', 'plsss', 'plotted', 'ploppy', 'pll', 'plez', 'pletch\\x89Ûªs', 'pledged', 'pleb', 'pleasant', 'pleaded', 'plaza', 'playthrough', 'playstation', 'playoverwatch', 'playingnow', 'playa', 'platt', 'platinum', 'plastics', 'plastic', 'plantcovered', 'plantations', 'planners', 'plannedparenthood', 'plank', 'planing', 'planetary', 'pl', 'pkwy', 'pjcoyle', 'pizzas', 'pizzarev', 'pixelsmovie', 'pixeljanosz', 'pixelcanuck', 'pixar', 'pivot', 'pity', 'pittsburgh', 'pitmix', 'pitcher', 'pitched', 'pit', 'piss', 'pisco', 'pirates', 'pirate', 'piracy', 'pir', 'piprhys', 'piping', 'piperwearsthepants', 'pipeliners', 'pioneer', 'pineview', 'pin23928835', 'pills', 'pilgrims', 'pileup', 'piles', 'pileq', 'pikin', 'pikachu', 'pigeon', 'piga', 'piercings', 'piercing', 'pierce', 'pierc', 'piece\\x89Û', 'pieceofme', 'pictwittercompnpizody', 'pictured', 'picthis', 'pickpocket', 'pickle', 'pickens', 'pianohands', 'piano', 'physician', 'phuket', 'photoop', 'photographs', 'photographed', 'photogenic', 'phnotf', 'phillips', 'phillip', 'philippines\\x89Û', 'philippine', 'philippi', 'philipduncan', 'philip', 'phelimkine', 'pharrell', 'pharma', 'phantasmal', 'phandom', 'phalaborwa', 'ph0tos', 'pga', 'pft', 'pfft', 'pfannebeckers', 'petty', 'petting', 'petitiontake', 'petitionno', 'petersens', 'petersburg', 'peterknox', 'peterhowenecn', 'petereallen', 'peterduttonmp', 'petelmcguire', 'petebests', 'pete', 'petchary', 'peta', 'pet', 'pestle', 'perspectives', 'perspective', 'personnel', 'personalize', 'personalinjury', 'persistent', 'persist', 'perrychat', 'perrybellegarde', 'perrie', 'perpetrators', 'permission', 'periwinkle', 'perished', 'periscope', 'perform', 'perforated', 'perfectly', 'perceive', 'pepperoni', 'peoplegt', 'peoplecommunication', 'pension', 'penny', 'pennlive', 'pennies', 'penneys', 'peninsula', 'penetrate', 'penalty', 'pelosis', 'peice', 'peeters', 'peers', 'peeped', 'peel', 'peeked', 'pee', 'pedro20', 'pediatric', 'pedals', 'peasants', 'pearlharbor', 'pearl', 'peale', 'peace\\x89Ûª', 'peacetime', 'pdxabq', 'pd', 'pci', 'pcaldicott7', 'pbx', 'pbs', 'pbohanna', 'pbcanpcx', 'pb', 'paypile', 'payment', 'paying', 'paydayprison', 'payday', 'payback', 'paxton', 'pawsox', 'paws', 'paulstaubs', 'pauls', 'paulista', 'paulhollywood', 'pattyds50', 'patterns', 'patrol', 'patrickwsls', 'patrickjbutler', 'patriciatraina', 'patna', 'patio', 'patientreported', 'paths', 'pathfinders', 'pat', 'pastures', 'pastor', 'pastie', 'passive', 'passion', 'pascoe', 'pascal', 'partys', 'partners', 'partner', 'parties', 'participating', 'participate', 'partially', 'parter', 'partake', 'parsholics', 'pars', 'parliment', 'parliamentary', 'parley\\x89Ûªs', 'parksboardfacts', 'parks', 'parked', 'parkchat', 'parisian', 'parental', 'parent', 'pardon', 'parched', 'paratroopers', 'paramore', 'paramedics', 'paraguay', 'paradise', 'paracord', 'para', 'papicongress', 'papi', 'paperwork', 'paperback', 'papcrdoll', 'papa', 'pantofel', 'panties', 'panther', 'pantalonesfuego', 'panik', 'panics', 'panicked', 'pandora', 'pandemoniumiso', 'pandemic', 'pancakes', 'panama', 'pampered', 'pampalmater', 'palmoil', 'palmer', 'palm', 'palinfoen', 'palestinian\\x89Û', 'palermo', 'paleface', 'pale', 'pakthey', 'pakistans', 'pajamas', 'paints', 'painthey', 'painful', 'paine', 'paging', 'pageshi', 'pages', 'paeds', 'pads', 'padres', 'paddytomlinson1', 'padded', 'pada', 'pact', 'packåÊfor', 'packing', 'packed', 'packages', 'package', 'pacing', 'pacifics', 'pacic', 'p45perez', 'p2', 'oyster', 'oworoshoki', 'ownership', 'owenrbroadhurst', 'overåÊhostages', 'overzero', 'overwhelming', 'overwatch', 'overturns', 'overturned', 'overturn', 'overturesplease', 'overtook', 'overtime', 'overtaking', 'oversight', 'oversee', 'oversaturated', 'overrun', 'overrated', 'overpriced', 'overlooked', 'overloaded', 'overhead', 'overflow', 'overcharging', 'overboard', 'overblown', 'overall', 'oven', 'ovaries', 'ov', 'ouwbball', 'ouvir', 'outta', 'outs', 'outrun', 'outright', 'outnumbering', 'outlet', 'outfield', 'outcry', 'outcomes', 'outburst', 'outbreed', 'outbreaks', 'outbound', 'our\\x89Û', 'ourmothermary', 'oup', 'oun', 'ought', 'ouch', 'otratmetlife', 'otp', 'otm', 'otleyhour', 'other\\x89Û\\x9d', 'other\\x89Û', 'otherwisethey', 'otd', 'ostentatious', 'osteen', 'osp', 'osi2016', 'osbourne', 'osama', 'osage', 'oryx', 'ortiz', 'orshow', 'orpol', 'orpik', 'orphanage', 'ori\\x89Û', 'origins', 'orianna', 'ori', 'organizing', 'organizers', 'organized', 'organizationsfluctuations', 'organisms', 'organicallyrude', 'organ', 'oregons', 'ordained', 'orcot', 'orchs', 'orchid', 'orchestrated', 'orchardalley', 'orchard', 'orcas', 'orbette', 'orapinforma', 'orangi', 'orangeblue', 'oracle', 'optioned', 'optimization', 'optimistic', 'opticscumper', 'optich3cz', 'optical', 'optic', 'opseaworld', 'oprah', 'oppressed', 'opposed', 'oppose', 'opportunity', 'oppa', 'ophiuchus2613', 'ophelia', 'opener', 'opal', 'op', 'ootd', 'oooureli', 'ooooohshit', 'ooohshit', 'oompahperiod', 'oomf', 'oocvg', 'onåÊthe', 'onå¡å¡', 'on\\x89Û', 'onthisday', 'ontejc', 'onshit', 'onscene', 'onr', 'onnnn', 'onlyftf', 'onlinemh370', 'onlinea', 'onlin', 'onion', 'onihimedesu', 'ongoing', 'onfireanders', 'onesie', 'oneman', 'oneheartonemindonecss', 'onegreenplanet', 'oneborn', 'onduty', 'onboard', 'omron', 'omgggg', 'omgbethersss', 'ombudsmanship', 'omarmolina036', 'omaha', 'omagazine', 'olympia', 'olrules', 'ollymursaus', 'olliebailey11', 'oliviamiles01', 'oliviaapalmerr', 'oliviaann', 'olivers', 'oliver', 'oline', 'oli', 'oldtimey', 'olds', 'oldest', 'oktxduo', 'oklahomaok', 'okla', 'okinawan', 'okgooner', 'okgabby', 'okcfox', 'okayyyyyy', 'okanowa', 'ojoubot', 'oils', 'oiled', 'oilandgas', 'oifoef', 'oi', 'ohyayyyyay', 'ohmyloz', 'ohmygoshi', 'ohlordy', 'ohhsehuns', 'ohhmyjoshh', 'ohhhh', 'ohgod', 'ogun', 'ogtomd', 'ogt', 'ofr', 'ofnsixjks', 'offtrackhorse', 'offspring', 'offsite', 'offside', 'offshore', 'offshoot', 'offloading', 'offline', 'offing', 'officialtjonez', 'officialrealrap', 'officialmqm', 'officialcoredjs', 'office\\x89Ûªs', 'officerrelated', 'officeofrg', 'offensive\\x89Û', 'offenses', 'offenders', 'offended', 'ofcourse', 'ofclans', 'oem', 'odell', 'odeekiti', 'oddball', 'odai', 'ocuana', 'oct336', 'oct', 'oclock', 'oceans', 'occurrence', 'occupational', 'occasion2b', 'ocalan', 'oc73x', 'obtaing', 'obstacles', 'obsolete', 'observer', 'observed', 'observations', 'oblivious', 'objective', 'objection', 'object', 'obedience', 'obamas', 'obamadhs', 'oamsgajagahahah', 'oakridge', 'nå¼36', 'nz', 'nyse', 'nypdnews', 'nypd', 'nyozi', 'nykaed', 'nycha', 'nycfc', 'nycdivorcelaw', 'nycbuildings', 'nyack', 'ny1burst', 'ny1', 'nwt', 'nwspocatello', 'nwsbayarea', 'nvr', 'nuys', 'nutsandboltssp', 'nuts', 'nut', 'nurgle', 'nuked', 'nui', 'nuh', 'nugget', 'nueva', 'nudes', 'nuclearweapons', 'nucleardeal', 'nuclearbiologicalchemical', 'nsw', 'nsit', 'nside', 'nsf', 'nsa', 'nro', 'nrcmiddleeast', 'nrc', 'nra', 'nprfreshair', 'noxdv', 'nowwwwww', 'nowt', 'nowplay', 'novels', 'novalismi', 'nova', 'nov', 'nout', 'not\\x89Û', 'nottingham', 'notre', 'notorious', 'notleys', 'notley', 'notion', 'noting', 'notified', 'notificationsu', 'nothingness', 'notgoingoutinthat', 'notexplained', 'notes', 'nosybe', 'nosso', 'nosports', 'noses', 'norwaymfa', 'northwestproof', 'northwestern\\x89Û', 'northumbria', 'northumberland', 'northgate', 'northerncalifornia', 'northbound', 'nort', 'norse', 'normally', 'norge2040', 'norfolk', 'noranda', 'nora', 'nopower', 'noperiferico', 'nopassenger', 'noooooooooooo', 'noooooooo', 'noooo', 'noonancindynoonanheartbreak', 'nook', 'noodles', 'noob', 'nonucleariran', 'nonprofit', 'nonpassenger', 'nonhazardous', 'nonexistant', 'nonenglish', 'nomorehandouts', 'nomiya', 'nominations', 'nominates', 'nolesfan05', 'nola', 'nojoke', 'noises', 'noirandeal', 'noi', 'nogo', 'noemotion', 'noel', 'nockthie', 'nochilllukehammings', 'noches', 'nobleman', 'noahshack', 'noahj456', 'noahcrothman', 'noahanyname', 'noah', 'no2', 'nnw', 'nno', 'nne', 'nlwx', 'nlmdimrc', 'nlccollide', 'nl', 'nkulw', 'nkeajresq', 'nkea', 'nj36', 'nittys', 'nitroglycerin', 'nitishkumar', 'nite', 'nissan', 'niqqa', 'nintendo', 'nino', 'ninja', 'nineyearold', 'nikostar', 'nikoniko12022', 'nikki', 'niiiice', 'nightsad', 'nightmarishly', 'nightmarish', 'nightmares', 'nightbeat', 'nigh', 'nigeltanner1', 'nieuws', 'nieces', 'nicolekidman', 'nicole', 'nicolaclements4', 'nickscomics', 'niamhosullivanx', 'niagaravehicles', 'niagara', 'nia', 'nhlducks', 'nhl', 'nh3a', 'nh1news', 'nghlth', 'ngata', 'ng2x5', 'nfpa', 'nflexpertpicks', 'nffc', 'nf', 'nexus', 'next\\x89Û', 'newåÊheights', 'newyork\\x89Û', 'newyorker', 'newyorkcity', 'newyear', 'newsnigeria', 'newser', 'newsdict', 'newscomauhq', 'news786uk', 'news4buffalo', 'news3lv', 'news24680', 'newrelease', 'newport', 'newly', 'newidea', 'newhart2010', 'newcity', 'newbeginningsanimalrescue', 'newave', 'nevermore', 'nevaehburton33', 'nevadas', 'neur0sis', 'netlabel', 'netkicorp', 'netflix', 'net', 'nester', 'nervous', 'nerve', 'nephew', 'nepdloyko', 'neoprogressive1', 'neon', 'nennicook', 'nemesiskpes', 'nelson', 'neileastwood77', 'neil', 'neighbors', 'neighboring', 'negros', 'negotiations', 'negotiating', 'neglect', 'negara', 'needing', 'necn', 'neces', 'neat', 'nearlyfatal', 'nearing', 'neanea2724', 'neanderrebel', 'neal', 'ne', 'ndzedze', 'ndtv', 'ncwx', 'nbcpolitics', 'nbcnightlynews', 'nbc10', 'nbanews', 'nazis', 'naypyidaw', 'nawh', 'navista7', 'navigating', 'navigate', 'naval', 'natwest', 'naturally', 'naturalexample', 'naturaldisasters', 'natsu', 'natsnation', 'nats', 'nato', 'nativehuman', 'nationals', 'nathans', 'natgeo', 'nate', 'nataly', 'nataliealund', 'natalie', 'nashvilletraffic', 'nashvillefd', 'nashsnewvideo', 'nashhmu', 'nars\\x89Ûª', 'narrowly', 'narrator', 'narrative', 'narrated', 'narcissism', 'nar', 'nanotech', 'nanking', 'nana', 'namjoons', 'namekians', 'nalathekoala', 'najibrazak', 'nails', 'nailreal', 'nagaski', 'nafeezahmed', 'naemolgo', 'nades', 'naayf', 'naaa', 'na', 'n15b', 'mzmandilynn', 'mzgraciebaby', 'my\\x89Û', 'myvintagesoul', 'mythgriy', 'mystical', 'mysteries', 'myrtlegroggins', 'myreligion', 'mypillowstudio', 'mylittlepwnies3', 'mylifestory', 'myfriendmina', 'myelf', 'mydrought', 'mycareer', 'mybabies', 'mxaaaa', 'mx', 'mwnhappy', 'mwlippert', 'mwjcdk', 'mwednesday', 'muzzies', 'muttatek', 'mutt', 'mutilated', 'mutekmontreal', 'mute', 'mustve', 'mustering', 'mustard', 'mustachemurse', 'muslimsterrorism', 'musk', 'musicvideo', 'musicadvisory', 'music212', 'museawayfic', 'muse', 'muschamps', 'murphy', 'murlo', 'murfreesboro', 'muppet', 'munch', 'mums', 'mumbling', 'mumbaitimes', 'mumbairiot9293', 'mumbailocals', 'mumbai24x7', 'multiracial', 'multidimensional', 'mullin', 'mulberry', 'mulan', 'muhamadjabal', 'muffle', 'mufc', 'mueller', 'muazimusprime', 'muaytai', 'mtvsummerstar', 'mtsalert', 'mtr', 'mthe', 'mtgrotto', 'mta', 'msoreo', 'msmiggi', 'msgdoing111welfareworks', 'msfsea', 'mrw', 'mrtophypup', 'mrsbinker', 'mrobama', 'mrmikeeaton', 'mre', 'mrc', 'mraffleck', 'mraamirjavaid', 'mprnews', 'mpp', 'mpmy', 'mpers', 'mpc', 'mp3', 'mo\\x89Û', 'movt', 'moving2k15', 'movietheatre', 'moveit', 'mousse', 'mouse', 'mountwario', 'mounts', 'mounting', 'mountains\\x89Û', 'motors', 'motorists', 'motordom', 'motorcraft', 'motogp', 'motley', 'motivator', 'motivation', 'motivated', 'mothernaturenetwork', 'mothernature', 'mothe', 'mosquitoes', 'mosquito', 'moshav', 'mosh', 'moseby', 'moscowghost', 'morty', 'mortified', 'mortar', 'moron', 'morocco', 'mornings', 'morningjoe', 'morningampi', 'morn', 'mormon', 'morganlawgrp', 'morganite', 'more\\x89ÛÓ', 'morevoices', 'morethan', 'morels', 'moreland', 'morehouse64', 'moregtosha', 'morebut', 'mordechai', 'morbidmovies', 'morbid', 'moralityzionism', 'morales', 'mopheme', 'moorlandschmbr', 'moores', 'moore', 'moonlight', 'mooniighthunty', 'monwabisi', 'monty', 'montroseband', 'montego', 'montalbanony', 'monstrosities', 'monsters', 'mons', 'monroes', 'monotonous', 'monopolized', 'monologue', 'monicas', 'monday\\x89Ûªs', 'mondays', 'monday', 'monarchy', 'mon', 'momneedscoffee', 'mommys', 'mommyisbomb', 'momdies', 'molys', 'moly', 'molten', 'mollythetanzs', 'molloy', 'molecularly', 'mole', 'mold', 'molave', 'moist', 'moir', 'mogacola', 'mofo', 'mofanon', 'moe', 'modoc', 'modnao23', 'modis', 'modibo', 'modestmouseremix', 'modest', 'moderately', 'modelbubbles', 'mockingpanems', 'mockery', 'mocked', 'mochichiiiii', 'moblins', 'moan', 'mn', 'mmmm', 'mmk', 'mmfa', 'mmda', 'mmchale13', 'mm', 'mlstransfers', 'mlrydalch', 'mlm', 'mlk', 'mlg', 'mkayla', 'mk', 'miÌ©ville', 'mizzou', 'mizuta', 'mixtape', 'mixify', 'mixes', 'mixed', 'mitigating', 'mithitennis', 'misty', 'mistrustful', 'mistresspip', 'mistress', 'missy', 'misstep', 'missouri', 'missleylaha', 'missjadebrown', 'mississippi', 'misshomasttopa', 'missdaoh', 'misscharleywebb', 'missambear', 'misled', 'mishap', 'misha', 'misguided', 'misfortunebut', 'misfitrarity', 'misfit', 'misdirection', 'miscalculation', 'mirrors', 'mirrorlady2', 'mirmanda11', 'mirad', 'miracle', 'mir', 'miprv', 'mipasho', 'minutiae', 'minuscule', 'minus', 'mint', 'minsuwoongs', 'minors', 'mino', 'mink', 'ministry', 'minion', 'minimal', 'miniature', 'mingo', 'minerals', 'mineness', 'mineenjoyfire', 'mindset', 'mindless', 'minded', 'mindblowing', 'minamisoma', 'milne', 'millennium', 'milledgeville', 'millcityio', 'militias', 'militarydotcom', 'militarism', 'milita', 'milioooo', 'mili5499', 'mileena', 'mildmannered', 'milc5040h', 'mil', 'mikecroninwmur', 'mihirssharma', 'migrating', 'migraine', 'midweek', 'midtown', 'midsummer', 'midst', 'midnight', 'midmorning', 'midges', 'midfield', 'middleeasteye', 'midday', 'mics', 'microwave', 'microchip', 'microbes', 'micountryhick', 'mickinyman', 'michelleellle', 'michelenfpa', 'michele', 'michel', 'michaelgbaron', 'mia', 'mi7', 'mi', 'mhmmm', 'mh17', 'mh', 'mgtab', 'mgs2', 'mgr', 'mfsloose', 'mfrwauthor', 'mfi', 'mfalcon21', 'mezcal', 'mexican', 'metrotown', 'metropolitan', 'metropolis', 'metroid', 'metrobus', 'metre', 'methods', 'meters', 'meter', 'meteors', 'metastatic', 'metaphorically', 'metallica', 'messy', 'messnermatthew', 'messiah', 'messeymetoo', 'messengers', 'meson', 'mesick', 'meshnewsdesk', 'mesh', 'merle', 'merged', 'mere', 'mercenary', 'meowing', 'men\\x89Ûªs', 'mentaltwitter', 'mentality', 'mentalhealthgov', 'menswear', 'menolippu', 'mencius', 'menahem', 'memorable', 'memenaar', 'memebaiting', 'membuahkan', 'melted', 'meltdowni', 'melrises', 'mello', 'melissaross9847', 'melanie', 'meis', 'megatronafc', 'megaquake', 'megancoopy', 'meganbee92', 'megan', 'megalpolis', 'megadethsymphony', 'megadeth', 'meg', 'meetkakarotto', 'meerkat', 'meelllttting', 'meekmill', 'medusa', 'meds', 'medinah', 'medics', 'medic914', 'medic', 'median', 'mediaguido', 'media420', 'meddling', 'mechanicsburg', 'mechamacgyver', 'meats', 'measuresarrestpastornganga', 'meanwhile', 'meansit', 'meaningless', 'meampbeat', 'meaganerd', 'meade', 'mdt', 'mcv', 'mcr', 'mcpherson', 'mcourt', 'mcnabbychic', 'mclaughlin', 'mchapmanwsaz', 'mcgwire', 'mcgsecure', 'mcfaul', 'mcfadden', 'mccormick', 'mcconnell', 'mcclain', 'mccauleysdesign', 'mccain\\x89Ûªs', 'mccainenl', 'mbiwa', 'mbataweel', 'mba', 'mb', 'mazda', 'mayweathers', 'mayor', 'mayonnaise', 'mayhem114', 'mayflower', 'maxsys', 'maxi', 'maxed', 'mav', 'mauryn143', 'mattytalks', 'mattress', 'mattmosley', 'mattkroschel', 'mattingly', 'matthews', 'mattcohen4fake', 'mattburgener', 'mattbez', 'matt', 'mats', 'matias', 'mathewisangry', 'math', 'materialism', 'mateo', 'matakomilk', 'matako3', 'mataas', 'mat', 'masturbation', 'masturbates', 'masters', 'masterpiece', 'mastered', 'master0fsloths', 'massgrave', 'masses', 'masse', 'massage', 'massacre4', 'masonite', 'mask', 'mashup', 'mash', 'mascara', 'mas', 'marynmck', 'marxism', 'marvellous', 'martyrs', 'martynwaites', 'martsunmushroom', 'martial', 'marriedfoxysiren', 'marrie', 'marriage', 'marr', 'marquis', 'marleyknysh', 'marley', 'marlene', 'markwschaefer', 'markoturner', 'markkriegsman', 'marketwatch', 'marketingåÊmediocrity', 'marketforce\\x89Ûªs', 'marketers', 'marketer', 'markargent', 'mariomaraczi', 'marinelines', 'marinading', 'marin', 'marilyn', 'marijuana\\x89Û', 'mariasherwood2', 'mariankeyes', 'mariahcarey', 'mariaf30', 'marginoferror', 'marge', 'margarita', 'margaret', 'marek1330', 'marek', 'marcoarment', 'marcholl', 'marble', 'maratha', 'mapmyrun', 'mapleridge', 'maple', 'manåÊarmed', 'man\\x89Ûªs', 'manzanita', 'manutd', 'manure', 'manuel', 'manually', 'manual', 'mantra', 'manservant', 'mans', 'manor', 'mannequin', 'mankind', 'manitou', 'manifesting', 'manifestation', 'manhood', 'mango', 'manga', 'mane', 'mandem', 'mandela', 'mandate', 'manchesterlite', 'managers', 'managed', 'manage', 'malt', 'mallord', 'mallelis', 'malistkiss', 'males', 'male', 'malaysiaairlines', 'malabamiandsons', 'make\\x89Û', 'makewaterwork', 'majesty', 'maintained', 'mainstage', 'mainly', 'mainline', 'mainland', 'maine', 'mailonline', 'maiga', 'mahalo', 'magu', 'magog', 'magnums', 'magnitudeåÊåÊml', 'magnitude', 'magnificent', 'magnets', 'magnetic', 'magner', 'magisters', 'magics', 'magichairbump', 'magical', 'mages', 'mageavexis', 'magazines', 'mag', 'mafireems', 'madmakny', 'madisonpa', 'maddie', 'maddddd', 'madara', 'macs', 'macon', 'mackinnon08', 'macia\\x89Ûªs', 'macia', 'machismo', 'machines', 'machinegunkelly', 'machidadid', 'macbreck', 'macabrelolita', 'maca', 'maatmhi', 'maailiss', 'maaaaan', 'ma3route', 'm8', 'm6x100', 'm55', 'm416', 'm40', 'm4', 'm38', 'm27329', 'm157', 'm151a1', 'm115', 'm00nf00l', 'lzk', 'lyrium', 'lyrically', 'lyrical', 'lyndon', 'lynchburg', 'lynch', 'lyme', 'lyf', 'lwilliams13', 'lwb', 'lvictoria', 'lvg', 'luzukokoti', 'luv', 'lurkin', 'lured', 'lungcancer', 'lunasagalle', 'lumixusa', 'lume', 'lumbar', 'lulu', 'lukewinkie', 'lukebox', 'luke5sos', 'luke', 'lujo', 'luiz', 'luhan', 'lucysforsale', 'lucypalladino', 'lucymayofficial', 'lucio', 'lucifer', 'lubrication', 'ltz', 'ltpgtan', 'ltmeltdown', 'ltlt', 'ltgaspgt', 'ltbgtchocolateltbgt', 'ltbgtbakeltbgt', 'lta', 'lt75', 'lt3dave', 'ls', 'lpunbiggiewrap', 'lpdkl', 'loyalty', 'lowkey', 'lowered', 'loveyouuuu', 'lovemywife1983', 'lovemyjob', 'lovemydentist', 'lovelylikelaura', 'loveislove', 'lovefood', 'loupascale', 'louistomlinson', 'lougheed', 'loudest', 'louderthings', 'lotg', 'losers', 'losangeles', 'lorry', 'lorr', 'lore', 'lordrsbiscuits', 'lopezandthelion', 'lopez', 'looters', 'loot', 'loosers', 'looooooooooool', 'looooool', 'lookss', 'lookg', 'long\\x89Û', 'longll', 'longlasting', 'longbreastyat', 'longaberger', 'loner', 'lonepine', 'lonelyness', 'lomasvisto', 'lolo', 'lollyknickers', 'lolla', 'lolim', 'lolatjesus', 'logically', 'logan', 'lodisilverado', 'locomotive', 'locksmithingart', 'locks', 'lockewiggins', 'lockdown', 'loboparanoico', 'lobby', 'lobbied', 'loathing', 'loaf', 'loadampexplode', 'loa', 'lnp', 'lncolyellowstone', 'lmfaooo', 'lmaovv', 'lloyds', 'lloyd', 'llll', 'llegaste', 'lizzie363', 'lizhphoto', 'lizbon', 'lizard', 'liye', 'livin', 'liveworkshop', 'livestream', 'livescience', 'liverpool', 'liver', 'liveonstreamate', 'liveonkbak', 'livemint', 'lively', 'livelihood', 'liveleakfun', 'liveleak', 'liveaction', 'livagotta', 'liv', 'littlewomenla', 'littledeath', 'littlebitofbass', 'litter\\x89Ûª', 'lithium', 'literature', 'literarycakes', 'lite', 'litany', 'listings', 'listia', 'listeria', 'lisp', 'lisowski', 'lisavanderpump', 'lisatoddsutton', 'liqd', 'lipstick', 'lips', 'lions', 'lionel', 'lining', 'linerless', 'lindsaywynn3', 'lindenow', 'linden', 'lindasocvat', 'lind', 'lincoln', 'limpar33', 'limits', 'limestone', 'lim', 'lily', 'lilreese300', 'lilitan', 'likened', 'liguistic', 'lightumupbeast', 'lightseraphs', 'lightrail', 'lightningwolf', 'lightningstrike', 'lightningooc', 'lightman', 'lightly', 'lighter', 'lightbulb', 'lifts', 'liferebooting', 'lifelong', 'lifeline', 'lifelettercafe', 'lifeits', 'lifehacks', 'lifeguard', 'lifeaintfairkid', 'lieu', 'lickin', 'licenses', 'licensed', 'libs', 'libraryeliza', 'libraries', 'libertygeek83', 'libertybell1000', 'liberty', 'liberties', 'libertarianluke', 'libby', 'liananovoa', 'lhmovie', 'lhh', 'lgm', 'lga', 'lexipurduee', 'lewis', 'levy', 'lethbridge', 'letdown', 'lessonforlife', 'lesotho', 'les', 'ler', 'leprosy', 'leos', 'leones', 'lenore', 'lennox', 'lennonparham', 'lennlen', 'lenkaiswaifu', 'lengths', 'lemonade', 'lemme', 'lembra', 'lemairelee', 'leicestermerc', 'leiaorganasolo', 'leh', 'legwalked', 'legna989', 'legitimate', 'legionstrackandfield', 'legionnairesdisease', 'legionna', 'legend', 'leftwich', 'leftleaning', 'lefties', 'lees', 'leelanau', 'leedstraif', 'leedsrouge', 'lee', 'ledofficial1', 'lebanon', 'leashless', 'learni', 'leandotorg', 'lean', 'leaking', 'leagues', 'leafs', 'lds', 'ldrago', 'ldnrterrorists', 'lcc', 'lcb', 'lbr', 'la\\x89Û', 'laylovetournay', 'layer', 'lax', 'law\\x89ÛÓnegligence', 'lawton', 'lawsonofficial', 'lawn', 'lawfulsurvivor', 'lavatory', 'lavapixcom', 'laurenmiller7', 'laurenjauregui', 'laurathorne97', 'lauradeholanda', 'laura', 'launches', 'laughtraders', 'laughs', 'laudner', 'lauded', 'lattice', 'latinos', 'latinoand', 'latina', 'latin', 'laterim', 'lateral', 'latechwatch', 'lasvegaslocally', 'lastma', 'lastingness', 'lasted', 'lasiren', 'lashings', 'lashes', 'lara', 'lapping', 'laphamsquart', 'lapaka', 'lanjut', 'languishing', 'langtree', 'langata', 'lanford', 'landsli', 'landscapes', 'landowner', 'lancasteronline', 'lancaster', 'lana', 'lan', 'lamps', 'lamphttptco724gq5ebqz', 'lame', 'lambasts', 'lamb', 'lamarcus', 'lalaloopsy', 'lakeisabella', 'lakeeffect', 'laighign', 'lagos', 'lag', 'lafayette', 'laevantine', 'ladyfleur', 'ladins', 'lad', 'laced', 'labourleadership', 'labour', 'laboratory', 'labor', 'l9udest', 'kyrikoni', 'kynespeace', 'kylewappler', 'kyee', 'ky', 'kwwwkwwwk', 'kwislo', 'kwaaaaadead', 'kuznetsova', 'kuualohax', 'kushwush', 'kurtkamka', 'kurt', 'kurokobot', 'kurds', 'kurdistan', 'kunstler', 'kung', 'kunalkapoor', 'kulli', 'kttape', 'ktfounder', 'kshllcenterpri1', 'ksbynews', 'ks315', 'ks161', 'ks111', 'ks100', 'kro', 'kristyleemusic', 'kristindavis', 'kristenkoin6', 'krefeld', 'kppolice', 'kpdied', 'kpcc', 'koz', 'kou', 'kotowsa', 'kotolily', 'kotaweather', 'kosciusko', 'korzhonov', 'kororinpa', 'koreans', 'kopiteluke1892', 'kooks', 'kontrolled', 'komo', 'kombatfans33', 'kodiak', 'kodak', 'knw', 'knox', 'knowledge', 'knowlddge', 'knowitall', 'knott', 'knocks', 'knockout', 'knocking', 'knocked', 'knobhead', 'kno', 'knives', 'knight', 'kneelbot', 'kneel', 'kml', 'kmactwn', 'klondike', 'klitschko', 'klimkin', 'klavierstuk', 'kjfordays', 'ki\\x89Û', 'kiwikaryn', 'kitten', 'kitchen', 'kitana', 'kissing', 'kissimmee', 'kirstiealley', 'kirsten', 'kiro7seattle', 'kirkmin', 'kircut1', 'kirafrog', 'kinkyconnors', 'king\\x89Ûªs', 'kingnaruto', 'kinggerudo', 'kinetic', 'kinesiology', 'kindof', 'kindly', 'kindlecountdown', 'kindersley', 'kinder', 'kimkardashian', 'kill\\x89Û', 'killsåÊone', 'killin', 'killhard', 'killedinjured', 'killeddisplaced', 'kikes', 'kijimamatako', 'kijangbank', 'kijan', 'kierannicholson', 'kidscompany', 'kidneys', 'kidnap', 'kidicalmassdc', 'kiddos', 'kiddie', 'kicks', 'kicking', 'kia', 'ki', 'khuzdar', 'khrones', 'khqa', 'khq', 'khans', 'khan', 'khalidkkazi', 'khaki', 'khadidon', 'kgb', 'kg4vaal', 'kfvs12', 'kfc', 'kezi9', 'kevr7', 'kevinedwardsjr', 'kevinbacon', 'kevin', 'keurig', 'kettlebell', 'kessler', 'kessily', 'kesabaran', 'kerrykatona7', 'kerri', 'kern', 'kerenserpa', 'kenosha', 'kenny', 'kennethbauer', 'kenneth', 'kennel', 'kennedys', 'kenji', 'kendraleigh13', 'kenai', 'kemalatlay', 'kelworldpeace', 'kellys', 'kellyannwx', 'kelly', 'kelloggs', 'kellkane', 'kelbytomlinson', 'kelby', 'keithboykin', 'keith', 'keepingtheviginaclean', 'keeping', 'keeper', 'keen', 'keegan172', 'keegan', 'kebabtahinipickles', 'keampurley', 'kdr', 'kcrw', 'kcarosawmur', 'kc5kh', 'kc', 'kbeastx', 'kbak', 'kaylak369', 'kay', 'katramsland', 'katiecool447', 'kathrynschulz', 'kasitaroch', 'kasiakosek', 'kasiadear33', 'kashs', 'kashmirconflict', 'kasad1lla', 'kasabwe', 'kasab', 'karnythia', 'karnal', 'karnakarank', 'karlsruhe', 'karinagarciaxo', 'karijobe', 'karen', 'kaputt21', 'kappa', 'kapokekito', 'kanglaonline', 'kanger', 'kane', 'kamunt', 'kamon', 'kamloops', 'kamkasteiiano', 'kamindoz', 'kamchatka', 'kamayani', 'kallemattsons', 'kalinwhite', 'kalinandmyles', 'kaldi', 'kakeru', 'kakajambori', 'kaiser', 'kaiseiw', 'kainyusanagi', 'kai', 'kadiegrr', 'kach', 'kabwandi', 'kabul', 'kaboom', 'kabarmesir', 'k3', 'k', 'jyheffect', 'jwalkerlyle', 'jwalk', 'justthebottle', 'justsaying', 'justjon', 'justintrudeau', 'justinejayyy', 'justin', 'justicepeace', 'justiceno', 'justicemalala', 'justdepressing', 'justaguess', 'jusstdoitgirl', 'jusreign', 'jus', 'jury', 'junsuisengen', 'junko', 'jungle', 'juneau', 'jun', 'jumps', 'jumpin', 'jumper', 'jump', 'juliet', 'juliekragt', 'juliechen', 'julianlage', 'julian', 'judson1360', 'judith', 'judicial', 'judgement', 'judemugabi', 'judas', 'juanny', 'juanmthompson', 'juan', 'jtw', 'jtruff23', 'jsunnews', 'jsdf', 'js', 'jrowah', 'jrlallo', 'jpanzar', 'jozerphine', 'joys', 'joxroundtable', 'journo', 'journeys', 'journalism', 'jota', 'josie', 'joshuaassaraf', 'joshua', 'joshlado', 'joshcorman', 'joshacagan', 'josh', 'josephus', 'josephjett', 'joseph', 'josebasedgod', 'jorrynja', 'joonma', 'jonesluna', 'jonesboro', 'jonas', 'jollyjinu', 'jolie', 'jokin', 'joked', 'joinvroom', 'joints', 'joined\\x89Û', 'joined', 'john\\x89Ûªs', 'johnsontionne', 'johnjcampbell', 'johngreen', 'johnfugelsang', 'johnejefferson', 'johndcgow', 'jogger', 'joeysterling', 'joeybats19', 'joes', 'joelsherman1', 'joegoodmanjr', 'joedawg42', 'jocelyn', 'joboozoso', 'jobbing', 'jmastrodonato', 'jlester34cubs', 'jlabuz', 'jjdirty', 'jj', 'jittering', 'jitsu', 'jishine', 'jinx', 'jimskiv92', 'jimmy', 'jimmozel', 'jimin', 'jihadis', 'jihadi', 'jihad', 'jiahahahha', 'jhmnye', 'jfc', 'jfb', 'jez', 'jews', 'jewhaditm', 'jewels', 'jetstar', 'jets', 'jetixrestored', 'jetengine', 'jesuss', 'jessienovoarp', 'jessienovoa', 'jessienojoke', 'jessicastclair', 'jesse', 'jerusalem', 'jerseys', 'jersey', 'jeromekem', 'jerkface', 'jeremyduns', 'jenniferarri', 'jennifer', 'jennife29916207', 'jennasjems', 'jennas', 'jengriffinfnc', 'jen', 'jeffpalmer16', 'jeffersonampdoris', 'jeez', 'jeesss', 'jeepåÊsunk', 'jeep', 'jedi', 'jebbush', 'jeannathomas', 'jeannamibian', 'jcomanse', 'jbumzqpk', 'jbouie', 'jazzs', 'jaymcleanauthor', 'jaylenejoybeligan', 'jaydennotjared', 'jaycootchi', 'jaybig', 'jaxmk2', 'jawans', 'java', 'jaureguiswisdom', 'jasons', 'jasonpope2', 'jasoncundy05', 'jasmines', 'jasminehuerta24', 'jasmine', 'jasalhad', 'jarmusch', 'jariana', 'jared', 'jar', 'japs', 'japanjapan', 'jan\\x89Û', 'january', 'janta', 'jannet2208', 'jannellix0', 'janiethekillr', 'janice', 'janenelson097', 'janeenorman', 'janata', 'jampampk', 'jammu', 'jamilazzaini', 'jamienye', 'jamiegriff97', 'jamie', 'jamessnyder22', 'jamesjustus', 'jamaicans', 'jakegint', 'jakeblight', 'jakeadavis', 'jake', 'jakartapost', 'jak', 'jaileens', 'jaiden', 'jagm', 'jagexhelpdibi', 'jag', 'jade', 'jacquie', 'jacqui', 'jaclynsonne', 'jackwilsheres', 'jacksoncalm', 'jackperu1', 'jackmulholland1', 'jackie', 'jackholes', 'jackets', 'jackass', 'j3lyon', 'j2bone', 'izigarcia', 'iwontmakeit', 'iwk', 'iwate', 'iwasdisappointedby', 'it\\x89Û\\x9d', 'itzsteven', 'itz', 'its\\x89Û', 'itssselenaluna', 'itsqueenbaby', 'itsnasb', 'itsmegss', 'itsllikely', 'itsdanie', 'itscreams', 'itrawcwb', 'itinerary', 'itd', 'itblank', 'italianåÊalps', 'istg', 'israel\\x89Ûªs', 'isolation', 'isle', 'islands', 'islamist', 'islamaphobe', 'isla', 'isis\\x89Û', 'isisi', 'isinjury', 'isi', 'ish', 'isea2015', 'isao', 'isaiah', 'irwin', 'irvine', 'irrespective', 'irons', 'ironmanå¨', 'ironically', 'iron', 'irishtimesworld', 'irishspy', 'ireporter', 'irelandwe', 'iraqis', 'iran\\x89Ûª', 'irans', 'irannucleardeal', 'ip\\x89Û', 'ipo', 'iphoto', 'ipa', 'iowa', 'iot', 'iof', 'inåÊchaos', 'inws', 'invzices', 'involves', 'invokces', 'inviting', 'invited', 'invisible', 'invincible', 'investment', 'investigated', 'invented', 'invading', 'invadedbombed', 'invaded', 'inundation\\x89Û', 'introduction', 'introducing', 'introduced', 'introdesolation', 'intriguing', 'intragenerational', 'intoxicated', 'intl', 'interviewed', 'intervene', 'interval', 'intertissue', 'interspersed', 'intersections', 'intersection', 'intersectio', 'interrupt', 'interrogation', 'interracial', 'interpretation', 'internetradio', 'internallydisplaced', 'interlocking', 'interestraterise\\x89Û\\x9d', 'interestingwhy', 'interactions', 'intentions', 'intensive', 'intensifies', 'intense', 'intended', 'intelligencebar', 'intel', 'integrative', 'integrates', 'intead', 'intactmh370partliftsoddsplaneglidednotcrashedintosea', 'int', 'insurers163millions', 'insure', 'insults', 'insult', 'instructions', 'instruction', 'institutionalize', 'institute', 'instincts', 'instaquote', 'instantly', 'installment', 'installed', 'install', 'instagrams', 'instagramers', 'inspiration', 'inspi', 'inspection', 'insomniacs', 'insides', 'insert', 'insects', 'insanelimits', 'inroicesmake', 'inputs', 'innovative', 'innocents', 'innings', 'inmates', 'inmate', 'injustice', 'injured\\x89Û', 'injuredthen', 'inject', 'initiative', 'inhofe', 'ingame', 'infowars', 'informant\\x89Ûªs', 'infoorder', 'infomercial', 'infographic', 'influential', 'influencers', 'influenced', 'inflicted', 'infinitegrace7', 'infinite', 'infiltration', 'infiltrated', 'infield', 'infested', 'inferior', 'infectiousdiseases', 'infectionsdeaths', 'infected', 'infantryman', 'infantry', 'infamous', 'infact', 'ineedexposure', 'indyfest', 'indy', 'industrial', 'indot', 'indonesian', 'indojapan', 'indistinguishable', 'indiscriminate', 'indigo6e', 'indifference', 'indiepopmom', 'indiegogo', 'indiefilm', 'indictment', 'indiatv', 'indiansfor', 'indianperpetrated', 'indianapolis', 'indiana', 'indiakomuntorjawabdo', 'indiahttpwwwinformationngcomp309943', 'indiabacked', 'indexing', 'index', 'indepth', 'independent3', 'independence', 'indecisiveness', 'indecency', 'indah', 'ind', 'incremental', 'incredulous', 'increasingly', 'increasing', 'incompetent', 'income', 'includes', 'included', 'inciweb', 'inciting', 'incitement', 'incite', 'incinerator', 'incidents', 'inches', 'incessant', 'incapable', 'inbounds', 'inbetween', 'ina', 'imtariik', 'imsushickoflove', 'imsort', 'ims', 'imrazed', 'impulsive', 'improves', 'improvements', 'improved', 'imprisoning', 'imprison', 'impressions', 'imposition', 'imposing', 'imposed', 'importance', 'imply', 'implores', 'implode', 'implicit', 'implication', 'imperialism', 'impairs', 'impacting', 'imouto', 'imo', 'immune', 'immortaltech', 'imminent', 'immigration', 'immigrant', 'immensely', 'immediate', 'imkeepingmydayjob', 'imeshika', 'ime', 'imbalancesare', 'imawesome7986', 'imam', 'imagini', 'imaging', 'imagecomics', 'im2ad', 'ilnewsflash', 'illustrations', 'illustrated', 'illusoria', 'illusions', 'illusion', 'illogical', 'illnesses', 'illegals', 'illegally', 'illegality', 'ilford', 'ikpeazu', 'ika', 'ik4len', 'ijustine', 'ijournal', 'ijetalerts', 'ij', 'iit', 'iiii', 'iiemergency', 'iheartradio', 'ihave44episodesofgg', 'ignorant', 'ignoranceshe', 'ignited', 'ignite', 'igmpj', 'iger\\x89Ûªs', 'ifunny', 'ifs', 'iflcanada', 'ifak', 'ielectrocute', 'ieee', 'ieansquad', 'idwpublishing', 'idols', 'idm', 'idlenomore', 'idki', 'idiots', 'idgaf', 'identification', 'identical', 'idek', 'ideals', 'icymagistrate', 'icy', 'ictyosaur', 'icrc', 'iclowns', 'icicle', 'icequeenfroslas', 'iceland', 'icegtgtgtgt', 'icd10', 'iccrealckt', 'icaseit', 'icarus', 'ibrahimmisau', 'ibom', 'ibiza', 'ibeyiofficial', 'ibeto', 'ibaraki', 'ib', 'iateyourfood', 'ianokavo96', 'ianbartlett', 'iamtonyneal', 'iamtalia', 'iamrrsb', 'iamhorsefly', 'iamdowntown', 'iafflocal4416', 'iaff36', 'i90', 'i75', 'i65', 'i540', 'i24', 'hypo', 'hyperbole', 'hyped', 'hype', 'hyiderghost2', 'hwymagellan', 'hwy401', 'hwrf', 'hw18', 'hw', 'hvnewsnetwork', 'huzzah', 'huyovoetripolye', 'hushlegs', 'hushhes', 'hush', 'husband', 'hurting', 'hurricanetyphoon', 'hurricanesurge', 'hurricanedame', 'hurled', 'hunwx', 'huntington', 'hunting', 'hunterlove1995', 'hunted', 'hunhry', 'hungrier', 'hungover', 'hung', 'hundreds\\x89Û', 'hundredodd', 'hunchback', 'humphrey', 'hump', 'humor', 'humofthecity', 'humid', 'humbled', 'humanrights', 'humanityi', 'humanitarian', 'hugs', 'hugomatz', 'hughes1128', 'hugged', 'huffpostuk', 'huffpostrelig', 'huffpostcomedy', 'huebels', 'hue', 'hubris', 'hubert', 'hub', 'htt\\x89Û', 'httptcozzweeezjug', 'httptcozztbvjypn1', 'httptcozzpojgngaj', 'httptcozzcbbqyj1q', 'httptcozz5udilrea', 'httptcozyssobxntc', 'httptcozyrzx6dfki', 'httptcozy3hpdjnwg', 'httptcozxcorq0a3a', 'httptcozweygphpf7', 'httptcozw5jp46v5k\\x89Û\\x9d', 'httptcozuqgvjneqa', 'httptcozu9yydf5di', 'httptcoztonvgubvm', 'httptcozt5ofbiwtd', 'httptcozsykzj2bzg', 'httptcozsxqbduzbn', 'httptcozstuvsbqq0', 'httptcozsqm8ihe1k', 'httptcozsnsar1tw1', 'httptcozsdvweglf5', 'httptcozsberqnn9n', 'httptcozrtrpl77qv', 'httptcozrtfxluk6r', 'httptcozrn30a78ir', 'httptcozr5rgbgh03', 'httptcozqrcptlrum', 'httptcozqqjrqsbjm', 'httptcozqoscqd64h', 'httptcozqmtrbkas0', 'httptcozqihnhdwpv', 'httptcozq5kdox7by', 'httptcozpqwkhfhnf', 'httptcozonnqgsxyw', 'httptcozoipkpbd6o', 'httptcozo8rsqura2', 'httptcoznsvstgwx3', 'httptcoznptdicqxe', 'httptcozmwecbwvao', 'httptcozlvebeoavg', 'httptcozlq8thctkw', 'httptcozlco4ue5oq', 'httptcozlagv1u5za', 'httptcozl7ojdaj3u', 'httptcozkkn6mse1n', 'httptcozkgqspwyj3', 'httptcozk69ugxmt8', 'httptcozj3odgqhyp', 'httptcozitqkdfxjy', 'httptcozisuwlqrhf', 'httptcozildpvknxp', 'httptcozhzvprzbgq', 'httptcozhsll7swbh', 'httptcozhp0sowxry', 'httptcozhgu8ye1bj', 'httptcozgsjwxdrcm', 'httptcozgjgghdurf', 'httptcozggpacjp7d', 'httptcozg1yddywa5', 'httptcozfyqsawvrk', 'httptcozfwmjh6slh', 'httptcozfivvxydzy', 'httptcozevan9kjzl', 'httptcozepzqydby4', 'httptcozdtz3rbs6w', 'httptcozdtdqqbahc', 'httptcozdtcw9fsx1', 'httptcozdpa4dbtsu', 'httptcozdj2hyf6ro', 'httptcozdieodwbog', 'httptcozdhwrn6czc', 'httptcozdcvlyq6qk', 'httptcozcvfc500yy', 'httptcozct5cchoj0', 'httptcozcp5cszsll', 'httptcozckxtfc9pt', 'httptcozbzc8905gl', 'httptcozarbwep9ld', 'httptcozahnewjri8', 'httptcozagbmlsf4h', 'httptcoza4axfjsvb', 'httptcoz99pkjztrp', 'httptcoz8xiqngulc', 'httptcoz8r6r3nbtb', 'httptcoz8cp77lvza', 'httptcoz87zmi3ozs', 'httptcoz7phpjtqud', 'httptcoz6hxx6d2pm', 'httptcoz6ee1jvhni', 'httptcoz5y4xr14w6', 'httptcoz5grlrey6v', 'httptcoz5cfrwado6', 'httptcoz4ilb9y9nu', 'httptcoz3nevglufm', 'httptcoz2vdgiyowf', 'httptcoz2ph0arzyi', 'httptcoz1s3t77p3l', 'httptcoz16dtoqhhg', 'httptcoz0hsckvysn', 'httptcoyzhvobgocq', 'httptcoyzdmouxqbo', 'httptcoyzazf4ceoa', 'httptcoyytkp1z5kg', 'httptcoyxvmiflvc4', 'httptcoyxtzbtvmhm', 'httptcoywkk26arag', 'httptcoyvvpznzmxg', 'httptcoyvv1rlghft', 'httptcoyvsjyzwxjr', 'httptcoyvo6q6w442', 'httptcoyvmphd0z9x', 'httptcoyvafi3zujx', 'httptcoyuo7jdnijx', 'httptcoyuinmerq2s', 'httptcoyubkhf9iyh', 'httptcoyu6nue7gfb', 'httptcoytw9slwvmg', 'httptcoytnnnd631z', 'httptcoytkxwpyihg', 'httptcoyspon4d6qo', 'httptcoys3walzvjg', 'httptcoyrvgykdbm6', 'httptcoyru4nphdrf', 'httptcoyr67ugesrm', 'httptcoyqyiwjn8ez', 'httptcoyqpaijsa5g', 'httptcoyqjpn3quux', 'httptcoyqhfio9xqm', 'httptcoyqg5pvw5gx', 'httptcoypvvqz8jzt', 'httptcoypeelmjdzy', 'httptcoypbvs1ijya', 'httptcoyopeypjkb2', 'httptcoyompxjpptv', 'httptcoyojkfqej6s', 'httptcoyoi9tocxiq', 'httptcoyohvuwumzs', 'httptcoyo3t8qho9h', 'httptcoynxnvvkcda', 'httptcoyn6nxoucr1', 'httptcoyn6duotimr', 'httptcoymy4rskq3d', 'httptcoymuti3nd9r', 'httptcoymp0ginwza', 'httptcoymczyvkfme', 'httptcoym3cww28dj', 'httptcoylvvf139bb', 'httptcoyllqjljiiq', 'httptcoylhayfaoou', 'httptcoykvsttvdwo', 'httptcoykuauov9jo', 'httptcoykltfj1fnc', 'httptcoykdsp0nrdq', 'httptcoyjth2nabv5', 'httptcoyjjbntcazy', 'httptcoyiltu7sxar', 'httptcoyi9bbbx3fe', 'httptcoyi54xrhqgb', 'httptcoyhqu5uv6ok', 'httptcoyhmregauxz', 'httptcoyhh7x0maio', 'httptcoyhaqa5wxok', 'httptcoyh4r7ug21a', 'httptcoyg6rj86bki', 'httptcoyg697fcqgr', 'httptcoyg32yb2jdy', 'httptcoyfppifdkqo', 'httptcoyetagc2d8a', 'httptcoyerct4j244', 'httptcoyeljpqhmed', 'httptcoyejt18sbm0', 'httptcoyebxxarybf', 'httptcoydjpoph1dw', 'httptcoydgmgbryl2', 'httptcoycecn44c8p', 'httptcoybyp68ievn', 'httptcoybshleie3p', 'httptcoybjezkurw1', 'httptcoybhbarajxp', 'httptcoybe9jqoznr', 'httptcoyazje5owvk', 'httptcoyao1e0xngw', 'httptcoyangeqbuqw', 'httptcoy9wvqkgbbi', 'httptcoy9w0v6te9o', 'httptcoy8yqpbe4t9', 'httptcoy8xknpqmnj', 'httptcoy8wloctevc', 'httptcoy8icf89h6w', 'httptcoy8h5v1j2y7', 'httptcoy87gi3brlv', 'httptcoy7sipkb1kd', 'httptcoy7rv0til1w', 'httptcoy7peto0dx2', 'httptcoy7o55by36f', 'httptcoy7ghhyk05b', 'httptcoy678xsnvj6', 'httptcoy5yhbb0hkf', 'httptcoy518jyrzav', 'httptcoy4y8fcljed', 'httptcoy3zfqjsvpz', 'httptcoy3dm9ulqxg', 'httptcoy33qckq7qd', 'httptcoy32owbrovf', 'httptcoy2mt6v13e8', 'httptcoy2jt1amyfj', 'httptcoy217ceeemd', 'httptcoy0kbyy8nce', 'httptcoxzv0lt9zzk', 'httptcoxzlrwc0pik', 'httptcoxzfxrglalp', 'httptcoxyyev89wiz', 'httptcoxyxtuaczvb', 'httptcoxysnxum29t', 'httptcoxyj0rpsai2', 'httptcoxyg7jhrjof', 'httptcoxyckgxzv9s', 'httptcoxy41z0o5ei', 'httptcoxxzd1nmb1i', 'httptcoxxoupfy8nq', 'httptcoxxkhjysn0p', 'httptcoxxj2b4jxrt', 'httptcoxxfk4khbiw', 'httptcoxwvw1sft4i', 'httptcoxwnjysv9v9', 'httptcoxwn7rgvkzc', 'httptcoxwms1aww8m', 'httptcoxw8sds1tjp', 'httptcoxvlkfcvfx5', 'httptcoxvco7slxhw', 'httptcoxv3d9bpjhi', 'httptcoxuzee2budv', 'httptcoxuub2hbli5', 'httptcoxum8ylcb4q', 'httptcoxtohi1hexy', 'httptcoxtljz7bjgl', 'httptcoxtf5dvgrvh', 'httptcoxtezgjfs8a', 'httptcoxszx9mwxyp', 'httptcoxszicdwxq0', 'httptcoxsx26oo16s', 'httptcoxsr2vujyiz', 'httptcoxsgwm5zxpd', 'httptcoxrskt0s9lz', 'httptcoxrp0rtkffj', 'httptcoxrja0xpl40', 'httptcoxrdwr8cdvm', 'httptcoxr3xjj8gjb', 'httptcoxqpn2zykct', 'httptcoxqmjhiozxg', 'httptcoxqj6wgiuqh', 'httptcoxqiadg9h2w', 'httptcoxqdvghz8g6', 'httptcoxqbwnlbbiu', 'httptcoxq92x4bvg3', 'httptcoxpwkodpqto', 'httptcoxppqnyhiwc', 'httptcoxpddwh5tem', 'httptcoxomi4zqzgp', 'httptcoxo2zbpbjb3', 'httptcoxnto3jmmts', 'httptcoxngrfnqsx3', 'httptcoxmsvohkccp', 'httptcoxm9stfzcpv', 'httptcoxlzwtzgqtc', 'httptcoxlq8g6vb2r', 'httptcoxlfi7ovhfj', 'httptcoxlegc6uora', 'httptcoxkurdr3yev', 'httptcoxkonkz0zl6', 'httptcoxkmlq99sjy', 'httptcoxkmijgy59t', 'httptcoxjtpv4oydl', 'httptcoxjkrxrnwnv', 'httptcoxjb0dcaahf', 'httptcoxizkjfff29', 'httptcoxiydyfptru', 'httptcoximpnczxth', 'httptcoxhehjfft7g', 'httptcoxgnjgle9eq', 'httptcoxgkyvf9t4f', 'httptcoxfhh2xf9ga', 'httptcoxfguklrltf', 'httptcoxfccvmxuwb', 'httptcoxevueefqbz', 'httptcoxehwmsh7lv', 'httptcoxe0ee1fzfh', 'httptcoxdxdprcpns', 'httptcoxdt4vhfn7b', 'httptcoxcq48ourvl', 'httptcoxcolwugfjg', 'httptcoxcgzc45gys', 'httptcoxc96rwuszb', 'httptcoxbznu0qkvs', 'httptcoxbnlsbzzgi', 'httptcoxbmm7ite9q', 'httptcoxaermbmvlv', 'httptcox9ofv1kmv7', 'httptcox9mdhocpda', 'httptcox9cuihib5n', 'httptcox8zqbwnfo1', 'httptcox8w7tf6fhg', 'httptcox8i0mhyrmn', 'httptcox713omh6ai', 'httptcox6el3ysycn', 'httptcox6asgrjswc', 'httptcox5yeuylt1x', 'httptcox5xumtoeke', 'httptcox5rc5nuamh', 'httptcox5jgkjv6ma', 'httptcox3vqxdouvt', 'httptcox3rcchkago', 'httptcox3g2ox6k8r', 'httptcox39jwsyrqr', 'httptcox2qsjod40u', 'httptcox1xj0xvtj7', 'httptcox1x6d5enef', 'httptcox1onv3d5ux', 'httptcox0qlgwoymt', 'httptcox0giy85bs8', 'httptcowztz4hgmvq', 'httptcowz55nbyao3', 'httptcowyokt0ftrw', 'httptcowxhmp5ppjq', 'httptcowxces39zte', 'httptcowxbrarc7p3', 'httptcowx11d69gez', 'httptcowwxcob52zi', 'httptcowwxbgubww5', 'httptcowwgadpffkw', 'httptcowwfqgcqyii', 'httptcowwfacu6nft', 'httptcowvvgmeja7l', 'httptcowvtpuryx63', 'httptcowvobvvtxkg', 'httptcowvn6griypq', 'httptcowvlah8jrxe', 'httptcowvexjjrg6e', 'httptcowveo9ed10e', 'httptcowukvdavuju', 'httptcowukcalnqms', 'httptcowuicdttuhf', 'httptcowuh1g2blp1', 'httptcowtpo6elrzd', 'httptcowtdiav11ua', 'httptcowtafaepukz', 'httptcowrqf6u55hh', 'httptcowrjr846fks', 'httptcowrb7xd8w5y', 'httptcowr48aqtum7', 'httptcowqul8pg5px', 'httptcowqtdnp3w5a', 'httptcowqikqx9e3w', 'httptcowqgsmioimx', 'httptcowq3wjsgphl', 'httptcowq0jlshw1g', 'httptcowplrhbfhee', 'httptcowpkl2qniqw', 'httptcowpilp4mymf', 'httptcowpgvayfkbq', 'httptcowpdvt31sne', 'httptcowp6v1bhhoq', 'httptcowozubxri2p', 'httptcowox3vprixq', 'httptcowosypvqufi', 'httptcowoc6akehyx', 'httptcownuqqatttp', 'httptcownptvbm5t7', 'httptcownamtxlfmt', 'httptcowmutcdg36b', 'httptcowmoyibwec1', 'httptcowmnonhxeir', 'httptcowmnb5ita5p', 'httptcowmmkirj0hw', 'httptcowmhy47xkil', 'httptcowmdihdiz1r', 'httptcowlmsq3mtho', 'httptcowllflfndgg', 'httptcowkpzp1jcau', 'httptcowk6b5z803o', 'httptcowk63tm34a0', 'httptcowjwyjbncat', 'httptcowjntaokdhf', 'httptcowjljq3ya4g', 'httptcowj7ujfs8fd', 'httptcowj0u59mppb', 'httptcowis3h9tqrm', 'httptcowiqjeruktf', 'httptcowhoc7lhb5f', 'httptcowgwiqmicl1', 'httptcowgrxly9pdo', 'httptcowgqkxmby3b', 'httptcowgl4lubnw1', 'httptcowgefbuk4jk', 'httptcowgasoencwc', 'httptcowftcrlz32p', 'httptcowfseaobato', 'httptcowf8itk2kvx', 'httptcowezjqc4cf2', 'httptcoweudlkc4o4', 'httptcowerk9qibvv', 'httptcoweqpesenku', 'httptcowedwyn9kfs', 'httptcoweatrrihe1', 'httptcowdueaj8q4j', 'httptcowd9odwjj9l', 'httptcowd7s6s0vci', 'httptcowc8aqxedf7', 'httptcowbogs8ejsj', 'httptcowbi7laq18e', 'httptcowb8awoblcl', 'httptcowatsmxytva', 'httptcowamkre6ckd', 'httptcowal4frtfka', 'httptcowaetkgsza9', 'httptcowadpp69lwj', 'httptcowa5c77f8vq', 'httptcow9cd6offcj', 'httptcow7siidujoh', 'httptcow6yu7qs4cv', 'httptcow56cf75mxe', 'httptcow4ofcc99wq', 'httptcow3rga0nkom', 'httptcow3esx6ud8t', 'httptcow2kvscbtlp', 'httptcow2ixt1k0ab', 'httptcow1ufeibala', 'httptcow192wkog1m', 'httptcow0xr5gp8cw', 'httptcow0r8eaoka0', 'httptcow0a1mjorhy', 'httptcow00kjprfdr', 'httptcovzpkn23rx4', 'httptcovzod7qfflv', 'httptcovzhtibe4jh', 'httptcovzgslepkkh', 'httptcovzcvadkcqp', 'httptcovzaiqamdcp', 'httptcovz640xoswj', 'httptcovz19vvgmnv', 'httptcovymouzjzre', 'httptcovygh2ni4ah', 'httptcovxxmvgtzvg', 'httptcovxuftvt9au', 'httptcovxsqpfe9na', 'httptcovxjcx8ukmd', 'httptcovxin1goq4q', 'httptcovxegcmmvbv', 'httptcovwykdau1vm', 'httptcovwcf3slkrw', 'httptcovuwbsrsnry', 'httptcovulrclw7bd', 'httptcovu8fwymw5r', 'httptcovtp8i8qlen', 'httptcovt2aky5mgk', 'httptcovsvy1qe69t', 'httptcovsoxiooy78', 'httptcovsgqolr32g', 'httptcovscpgmsjxy', 'httptcovrpthvpymt', 'httptcovr2u4cerw8', 'httptcovq3yab2j8n', 'httptcovq3vwxj8yu', 'httptcovpqtgeqlma', 'httptcovplr5hka2u', 'httptcovoyruxcrin', 'httptcovnzybfgzcm', 'httptcovn73o4sgzj', 'httptcovn2fnmy7li', 'httptcovn0accf6d4', 'httptcovmwtouyohm', 'httptcovmkexjtyg4', 'httptcovmjrtuvmh4', 'httptcovlnmklwwby', 'httptcovlnjnolnme', 'httptcovlaiuvtomm', 'httptcovku3rtoz1j', 'httptcovjxa13n8ap', 'httptcovjsaqpxngn', 'httptcovjlnskbg86', 'httptcovjhpvlnbaw', 'httptcovjgr6liaxh', 'httptcovjbhxn9x1o', 'httptcovijfnhl630', 'httptcovihdoksccc', 'httptcovhrlswvzql', 'httptcovhcxtvcinr', 'httptcovh8qtbypzt', 'httptcovgvjgr8zoo', 'httptcovgf41iupkn', 'httptcovfbw3nyo9l', 'httptcovfbbchwrfd', 'httptcovf6cklmcsx', 'httptcovecmsiuuh1', 'httptcovdukcv7yjy', 'httptcovdiliicyr5', 'httptcovdgfxyx3bw', 'httptcovdefmulx43', 'httptcovddi5chktp', 'httptcovcq2icptki', 'httptcovckit6edev', 'httptcovcjcykq8b8', 'httptcovcirn1md8v', 'httptcovbswhz4s2v', 'httptcovbsj8tniv1', 'httptcovbrpeujanl', 'httptcovbqmz5apwj', 'httptcovbo1tjndps', 'httptcovbhu2t8wgb', 'httptcovbffodtp6m', 'httptcovazpg0ftmu', 'httptcovayaymbngu', 'httptcovaunps6wja', 'httptcov9i4pfxo0c', 'httptcov9ftyb30ei', 'httptcov8juc5ek1a', 'httptcov8gkkfmfxt', 'httptcov8aftd9zez', 'httptcov6nylvdped', 'httptcov6h97k688j', 'httptcov5wsx0lqn2', 'httptcov5ogr3f5n9', 'httptcov5amdovhot', 'httptcov57nugmgkt', 'httptcov4smaeslk5', 'httptcov4br5gjmiy', 'httptcov3z96ydmvd', 'httptcov2yxurne2p', 'httptcov1sfllowgh', 'httptcov1mtr517ue', 'httptcov0yrfh9dkc', 'httptcov0nf1uc1ow', 'httptcouzwxjbg0zh', 'httptcouzwlgjqzns', 'httptcouzsqzycb8x', 'httptcouz1yiz7n6m', 'httptcouyugfg3k1h', 'httptcouymxocfs33', 'httptcouxqkieqdyf', 'httptcouxp6poqjlb', 'httptcouxcfbj3mzx', 'httptcouwobuuw2mk', 'httptcouwitvbsbnc', 'httptcouwijmegl4e', 'httptcouwfvwmjepu', 'httptcouvm975yha2', 'httptcouvaojzcycz', 'httptcouuzfs1l5kt', 'httptcouuzaumdobc', 'httptcouuweikd7sp', 'httptcouungrqougn', 'httptcouuewccdtow', 'httptcouuew4mjles\\x89Û', 'httptcouubovy9gqi', 'httptcouu64wfg17m', 'httptcoutumvaabz6', 'httptcoutmwmjirty', 'httptcout7r2ixrjq', 'httptcousvyhdg9og', 'httptcous8r6qsn0p', 'httptcous1dmdxzvb', 'httptcous0qqqhqvj', 'httptcourjwsvr311', 'httptcour7fexszg4', 'httptcouqnj6nk9y3', 'httptcouqkx5vbium', 'httptcouqh85mip0v', 'httptcouqettagscu', 'httptcouppwxda4yd', 'httptcoup30aqgnlf', 'httptcouotpnsqpz5', 'httptcouorxff0nfx', 'httptcouooygbb6az', 'httptcouonebahh3h', 'httptcouojy4e2sv4', 'httptcouo0aqk9kr8', 'httptcounsayjdtu7', 'httptcounnx71v8qc', 'httptcounhqcq6bex', 'httptcoumzkc9azwd', 'httptcoumtnnimtbm', 'httptcoumtffa9jjb', 'httptcoumqbyrupbd', 'httptcouml5jztmcb', 'httptcoumjprrwruu', 'httptcoumgd92wlja', 'httptcoumanaahwmi', 'httptcoum5icn5et2', 'httptcoum3wtl5r7k', 'httptcoulxf6dq3ns', 'httptcoulupxyzjwv', 'httptcoulr6myklnh', 'httptcoul5xdblmbk', 'httptcoukqybhxmqi', 'httptcoujrx9kgawp', 'httptcoujnrgfangj', 'httptcouisnqiu3if', 'httptcouilpg8i1ev', 'httptcouhxodsc7wi', 'httptcouhl0akfvsm', 'httptcouhkxmxab9l', 'httptcouhfm1r3tq5', 'httptcouhf7nyabsw', 'httptcougzu9iqprw', 'httptcougyegkfs4x', 'httptcoughptzjulk', 'httptcougesklcn8m', 'httptcoueppjwvlcb', 'httptcouelz59wvom', 'httptcouea0txrhys', 'httptcoue78c7egox', 'httptcoudtgwfsc3p', 'httptcoudqa53kfqu', 'httptcoudlebh88uz', 'httptcoudkmadkuzy', 'httptcoudkesj01ml', 'httptcoudj50j3mv4', 'httptcoud7xobyua1', 'httptcoucy5fea9yu', 'httptcoucudwiu3an', 'httptcoucnckrnlow', 'httptcouclvihwoec', 'httptcouci8stqug1', 'httptcoucbfgibfor', 'httptcoucawg59ulj', 'httptcouc4j4jhvgr', 'httptcoubvevuuach', 'httptcoubfr1urafc', 'httptcoub3woz2ut1', 'httptcoub1jzskmrc', 'httptcouavfrtlfs4', 'httptcouan05tnksw', 'httptcouahicwpih4', 'httptcou9lvvlzhye', 'httptcou9fcb8dz3h', 'httptcou9cd0txe7z', 'httptcou9bkqt6xhr', 'httptcou9ao3a4ogc', 'httptcou8ykr63b1g', 'httptcou7vavyrgv9', 'httptcou7bbenxwyk', 'httptcou6isxv2f3v', 'httptcou66kyg11zd', 'httptcou52rw9ji2r', 'httptcou4gsbnu8wc', 'httptcou4bdy1w7d4', 'httptcou3wao8asfg', 'httptcou30n3ffx8y', 'httptcou2njpor39k', 'httptcou2kwof3wtj', 'httptcou2es0uk1u3', 'httptcou2do2mc2ri', 'httptcou1fuwrgk5u', 'httptcou0vdbrxfia', 'httptcou0mexo4uhh', 'httptcou0keoe5fmt', 'httptcotzszmf2qxe', 'httptcotzr58b86qz', 'httptcotziolfte5i', 'httptcotzdbcgpsag', 'httptcotytpbc4gwi', 'httptcotyjxrfd3st', 'httptcotyewzf3hqa', 'httptcotydxauuenq', 'httptcotyd47nfl5x', 'httptcoty5gavn7uk', 'httptcotxy3us2ejs', 'httptcotxrbdaubnn', 'httptcotxg7k2do9v', 'httptcotxetcysm1h', 'httptcotx51oybrn6', 'httptcotwykzn4rlc', 'httptcotwpl0nl8cx', 'httptcotwi3pym7us', 'httptcotvyqczgjdy', 'httptcotux0ypwzur', 'httptcotuvbr4lep3', 'httptcotube4nbqnz', 'httptcotuaryijpqu', 'httptcotu9cglmgvr', 'httptcotu6scrsxvg', 'httptcottb9oil8r2', 'httptcott4kvmvujq', 'httptcotsbtigdsdt', 'httptcotrl1dskf81', 'httptcotqwrw3jqwo', 'httptcotqh5amoknd', 'httptcotq3j2qgtzq', 'httptcotq1ruqd4lg', 'httptcotpoaprjudp', 'httptcotoyu16mxbo', 'httptcoto9viqoofv', 'httptcotnxquor1wb', 'httptcotni92fea3u', 'httptcotngye2fklv', 'httptcotngpshnl87', 'httptcotn8o00nrlp', 'httptcotn65puhfhw', 'httptcotn1ax1xmbb', 'httptcotmzxopvs94', 'httptcotmz6x1n2gq', 'httptcotmpfwjpi6i', 'httptcotmogti6fb4', 'httptcotmmorvxswz', 'httptcotmipegqyev', 'httptcotm9zbhjcyf', 'httptcotls40nqipn', 'httptcotl93aod3er', 'httptcotl41olpakz', 'httptcotkmotaeaco', 'httptcotkjybjjskl', 'httptcotjyyft6nv0', 'httptcotjw9bseipw', 'httptcotjoz4u4txl', 'httptcotjgxdc3d5p', 'httptcotj3ltpzfw1', 'httptcotipndempuz', 'httptcotiost8okvx', 'httptcotim8x9bi0f', 'httptcotilgurkv7z', 'httptcothrhkhogcuåÊ', 'httptcothpbdpdj35', 'httptcothnexicgqe', 'httptcothmblaatzp', 'httptcothhjjw51pe', 'httptcoth9ywbbeet', 'httptcotgxutuoyhl', 'httptcotgtcru8jio', 'httptcotglk2uus2z', 'httptcotgdonttkty', 'httptcotgcr5vofj3', 'httptcotg5fqc8zey', 'httptcotft1bb4xaz', 'httptcotfeanwhh2h', 'httptcotfcdronra6', 'httptcotfan6qq2ys', 'httptcotf2bkq0olx', 'httptcoteq7sri57p', 'httptcotegajmr8il', 'httptcote5tdlyimn', 'httptcote2yerugsi', 'httptcotdwprvb04y', 'httptcotdhn9zy0er', 'httptcotdeqwm8zxn', 'httptcotdcch01n7q', 'httptcotdaktglu5p', 'httptcotcxxhdjas6', 'httptcotcsolvwhxq', 'httptcotcs2cd5y6y', 'httptcotcjfckxdzl', 'httptcotbx8cakdrw', 'httptcotbstk5vqu0', 'httptcotbqsqtmqv4', 'httptcotbpqlyfyot', 'httptcotbm9fqb8cw', 'httptcotb8gzembxu', 'httptcotb52o146tx', 'httptcotaxuxp9qa2', 'httptcotatzfk63ch', 'httptcotarg56igbz', 'httptcotamrcwfygd', 'httptcotam6aoskoj', 'httptcotagzbcxfj0', 'httptcota6n9szyfp', 'httptcota1yqclpsc', 'httptcot9msnzv1kb', 'httptcot97jmbzobo', 'httptcot94lnfwf34', 'httptcot8uqm7imir', 'httptcot8sv2ai7sw', 'httptcot8q6dzvgwx', 'httptcot8nz6h9zz4', 'httptcot81oayjowc', 'httptcot7ge0j3cay', 'httptcot6seku4yvm', 'httptcot6obvwaphw', 'httptcot6fuahfp7p', 'httptcot4pv0nroov', 'httptcot4fvvnrpc5', 'httptcot4axz7kc3s', 'httptcot1aa5ov7eg', 'httptcot0c1f2ledv', 'httptcoszx6v0bbjf', 'httptcosztgmbkohg', 'httptcoszeapueuvy', 'httptcosywuel7yyx', 'httptcosy2whxt0k5', 'httptcosxwjyr3k3l', 'httptcosxqtyduvul', 'httptcosxmlg3xdvx', 'httptcosxhw2tnnlf', 'httptcosxhgfithjw', 'httptcoswwylrk0fv', 'httptcosww0qsmxvm', 'httptcoswvuzxi6gt', 'httptcoswviazsphk', 'httptcoswq5lmydka', 'httptcoswpdq84boi', 'httptcosuzbkyw5tt', 'httptcosume5pro0f', 'httptcosuilzs2s95', 'httptcosu4zvwadj7', 'httptcostw3pg3t0o', 'httptcostftjcrjea', 'httptcostfmbbzfb5', 'httptcost9jpz8y24', 'httptcost5fgblsye', 'httptcosstj2bepqn', 'httptcossn1mxsfoa', 'httptcosslt8esmhy', 'httptcoss1zl36y9v', 'httptcosruj5zljgl', 'httptcosrslcxhc2t', 'httptcosrruqfffr6', 'httptcosrbqlmuwbv', 'httptcosqydkslfzp', 'httptcosqsyueh4yi', 'httptcosqpshaws0w', 'httptcosqoa1wv4um', 'httptcosqn4girdvz', 'httptcosqmtkkjimj', 'httptcosqgogj3s5r', 'httptcosqfp6ecz0i', 'httptcospymiqnecj', 'httptcospuhuvgasy', 'httptcospt54kfa9q', 'httptcospfke5kqu4', 'httptcosoea1ggbkj', 'httptcoso81ab3a1x', 'httptcosnxgh9r16u', 'httptcosnubza6ksc', 'httptcosnqfhpym3o', 'httptcosmkznf52za', 'httptcosmc1ro09fs', 'httptcoslttorrlhs', 'httptcoslqnph34nt', 'httptcosky9eokggb', 'httptcoskvwn38hz7', 'httptcoskvnmtzgeg', 'httptcoskdbot7tgf', 'httptcoskaausjpo4', 'httptcosk3l74flzz', 'httptcosjxllzosw7', 'httptcosjnyfszcu1', 'httptcosjicbhzfo4', 'httptcosjh0hsrp4s', 'httptcosje59u2nnm', 'httptcosj57boksib', 'httptcosikkg0fphr', 'httptcosijnbmczij', 'httptcosihqpluidw', 'httptcosigeeq42cz', 'httptcosi02qrguka', 'httptcoshzsymausi', 'httptcoshzpyiqok5', 'httptcoshrhkfj1bc', 'httptcoshkimonmlw', 'httptcoshhlv4dplz', 'httptcoshaznlmsfe', 'httptcosgxb6e5yda', 'httptcosgecnkfthu', 'httptcosfakqnveta', 'httptcosf5jdnvdw9', 'httptcosf2vwqvjya', 'httptcoseshqn5dsk', 'httptcoserarcnrby', 'httptcosequwmvfx4', 'httptcosemw5cq7dg', 'httptcosdzrrfzhmy', 'httptcosdxzhjco0x', 'httptcosdogef3kft', 'httptcosdmrzgeryx', 'httptcosd7loww9nu', 'httptcoscxfc5wi9t', 'httptcoscu9qzp6nq', 'httptcoscefpfvaeu', 'httptcosc9dns41mc', 'httptcosc4twjkxr1', 'httptcosbila2yqjq', 'httptcosbhhkkz01y', 'httptcosbgirvqvzb', 'httptcosbfglqjzfs', 'httptcosb5r7shccj', 'httptcosayzt2oagm', 'httptcosakorgdqul', 'httptcosahq5uoahw', 'httptcosahbhlxssh', 'httptcosa5cdwvdxt', 'httptcos9soaevcvo', 'httptcos8oinfgxyx', 'httptcos7vygenjuv', 'httptcos7nbowa7tp', 'httptcos7grbznwlr', 'httptcos5nuegswyj', 'httptcos5f9fcomp8', 'httptcos4srgrmqcz', 'httptcos4pnihjqx7', 'httptcos43we7oe2i', 'httptcos2wm8lh7oo', 'httptcos0vgtkhw7v', 'httptcos0ktiliskq', 'httptcos0eyq1wehe', 'httptcos0ctcqjvjx', 'httptcorzxqssun02', 'httptcorzsulzmokx', 'httptcorzlytnez2u', 'httptcorzagdnwtah', 'httptcorz7fbr10xw', 'httptcorz0adzursw', 'httptcoryobyqjfce', 'httptcoryeqmxirj8', 'httptcoryah8fni5q', 'httptcorwaph6dauv', 'httptcorw8b50xz9m', 'httptcorvsyxwj9cp', 'httptcorvmmut3gvc', 'httptcorvkyj3yuvk', 'httptcorvczmimfvx', 'httptcorv9dv6joew', 'httptcorv0fk7q4y5', 'httptcorujv4vpnbv', 'httptcortuetdfbqb', 'httptcortfirzcpoc', 'httptcorteugb5tnv', 'httptcortcufag0au', 'httptcorsv9atj9vh', 'httptcorsmvgdxriv', 'httptcors22lj4qfp', 'httptcorrq1ildkil', 'httptcorqlpsaye3b', 'httptcorqkk15uhey', 'httptcorqipgqslt6', 'httptcorqbspucjdf', 'httptcorpvzbesuqj', 'httptcorptouz2ijs', 'httptcorpneaj6fod', 'httptcorpmtropsvr', 'httptcorpbxdfnx5k', 'httptcorp2dxfkhdq', 'httptcororktmpqns', 'httptcorocyyei2dm', 'httptcorny4l3sr7a', 'httptcornqebaycvm', 'httptcormucfjcazr', 'httptcorm6cnzkszl', 'httptcorm50vcvjsh', 'httptcorlpttkbg4w', 'httptcorln09wke9g', 'httptcorku0idm6aq', 'httptcorkdzb0tgc3', 'httptcorkb7egkveb', 'httptcorjzw6c8asx', 'httptcorjrmw7nzy5', 'httptcorjpjbwvfck', 'httptcorjebpib5rz', 'httptcorjdx29wosp', 'httptcorjcaxjp4os', 'httptcorjac5sitep', 'httptcorj9gkjkjjn', 'httptcorj7m42atws', 'httptcoriwup1rbhu', 'httptcorhxmghspd7', 'httptcorhe7dxm7ey', 'httptcorgtyzbnkeo', 'httptcorgt9ghodpw', 'httptcorgpem2tqej', 'httptcorgoguyt0lf', 'httptcorgjjumnnah', 'httptcorgdrjv63hf', 'httptcorg9yaybosa', 'httptcorg4jishybs', 'httptcorg3bndkxjx', 'httptcorftyyz4gwj', 'httptcorfjzexqgxt', 'httptcorfb3jxbiej', 'httptcoreuosjek4m', 'httptcoresxavgpyj', 'httptcoreoz7h3em8', 'httptcorei3puwp84\\x89Û', 'httptcordxzsl5eac', 'httptcordjpor3azg', 'httptcordfaakkbnj', 'httptcorczalru05o', 'httptcorcqacn91be', 'httptcorcburzsb2b', 'httptcorc6eejme17', 'httptcorbzomwgjee', 'httptcorbmucurs2f', 'httptcorb2s0jmlej', 'httptcorb02svlppu', 'httptcoraqupzfkjy', 'httptcoraq4zpdvke', 'httptcoranefihbuk', 'httptcorakwwritpo', 'httptcoraf732vrtt', 'httptcora2majpkq2', 'httptcor8ptvfuh5x', 'httptcor8k6rxw6d6', 'httptcor7vpaklhvi', 'httptcor7pvtsduma', 'httptcor6yjw4xcky', 'httptcor6kzsqdghz', 'httptcor6jdj9kigm', 'httptcor5bxzzhxkm', 'httptcor5bgvlqpjt', 'httptcor4yzhxk7lw', 'httptcor4wgxra59m', 'httptcor4k7tylofj', 'httptcor3pddjpiee', 'httptcor33ncvjovc', 'httptcor1xwdnvb0g', 'httptcor1cnsjuayq', 'httptcor18autnlsd', 'httptcoqzvkpahsq7', 'httptcoqzlpfhpwdo', 'httptcoqzizelxbyr', 'httptcoqzcut7bvkt', 'httptcoqyzpb1gkmr', 'httptcoqyu8grorq1', 'httptcoqyn6kxjstl', 'httptcoqymalttvzp', 'httptcoqycw5jjaj1', 'httptcoqyccvuubkr', 'httptcoqyaendvdgc', 'httptcoqxxn6rksp6', 'httptcoqxmweljbc0', 'httptcoqxhowcv16r', 'httptcoqwtk1b2fmc', 'httptcoqwrrfdgxcc', 'httptcoqwqnni7vmz', 'httptcoqwpuxpywbf', 'httptcoqwo7q1amh8', 'httptcoqwijrriyif', 'httptcoqwgiwc9w7z', 'httptcoqwd5pvgjbo', 'httptcoqw8qk165sb', 'httptcoqvx0vqtpz0', 'httptcoqvsp6b2qsu', 'httptcoqvs7o10bg3', 'httptcoqvlxpyyycd', 'httptcoqv1rmzi3j1', 'httptcoqunxocxcga', 'httptcoqumce7w2ty', 'httptcoqulgakebhb', 'httptcoqufwxrjiql', 'httptcoquedv2xxxx', 'httptcoqu8s89pvvt', 'httptcoqu1iug3e9r', 'httptcoqtizcbww7g', 'httptcoqt8jmd9pi1', 'httptcoqsheu3yf0w', 'httptcoqsekoeubmd', 'httptcoqrhjei7grq', 'httptcoqreinwg0gs', 'httptcoqr6btdcqcj', 'httptcoqr3ypekfoe', 'httptcoqr1l2jyuez', 'httptcoqqsmshaj3n', 'httptcoqqskybarng', 'httptcoqqc0gkbegs', 'httptcoqpwotugui9', 'httptcoqpur3vd7hl', 'httptcoqposkp3mwj', 'httptcoqp6q8rs8on', 'httptcoqox1jnqsau', 'httptcoqouxigdtbz', 'httptcoqo190n8udd', 'httptcoqnvxj2palj', 'httptcoqnij2p8zv6', 'httptcoqn4zyisspo', 'httptcoqmo1txxdkj', 'httptcoqmif0blwoa', 'httptcoqltwhojqya', 'httptcoqlnnmxzfqk', 'httptcoqllkofdyzx', 'httptcoqkz2sp06xn', 'httptcoqkrltrd39b', 'httptcoqkahxwlwxa', 'httptcoqj3pvgavn7', 'httptcoqj2kbltcxz', 'httptcoqi8qdw5dfg', 'httptcoqi2bdvkab7', 'httptcoqhwe5k7xuw', 'httptcoqhtoerhdkm', 'httptcoqhfqlui6ry', 'httptcoqhbzkerott', 'httptcoqh6oxft9ir', 'httptcoqh5axvhwh5', 'httptcoqgyn2u1up3', 'httptcoqgum9xheos', 'httptcoqfyy5azifx', 'httptcoqfrawln4ba', 'httptcoqfjjdxes7g', 'httptcoqelroci7by', 'httptcoqeihvn3dnq', 'httptcoqegmrhsms2', 'httptcoqdweknrmi9', 'httptcoqdmvtj4lzj', 'httptcoqdhxto57em', 'httptcoqdf6asaelm', 'httptcoqd3dssfwue', 'httptcoqcyxwr2rdv', 'httptcoqcpmktgllr', 'httptcoqckqcx4hw9', 'httptcoqchv3jqovk', 'httptcoqbs2k01wzk', 'httptcoqbmcsjavt0', 'httptcoqbecjli7cx', 'httptcoqbdryxsglc', 'httptcoqamwojyahq', 'httptcoqamgvqafzc', 'httptcoqadufo8zxg', 'httptcoq9zixci8e6', 'httptcoq9lxo4qkji', 'httptcoq8n5tn8wme', 'httptcoq8ivrzojzv', 'httptcoq6oxzq45ve', 'httptcoq5qcoao8jp', 'httptcoq5mp2q6hy8', 'httptcoq5mlbodvm4', 'httptcoq4q8xsyzob', 'httptcoq4kgftc2am', 'httptcoq4grdpajr5', 'httptcoq4gl3dvhu1', 'httptcoq3xq8r658r', 'httptcoq3izqdk1n0', 'httptcoq3dtoqo04c', 'httptcoq1glk8plud', 'httptcoq0x7e84r4e', 'httptcoq0jhdcu6ly', 'httptcopztbqimpuw', 'httptcopzotpdgaki', 'httptcopzfbb1p1mj', 'httptcopzeixi4xk7', 'httptcopz56zjssft', 'httptcopyvrprnhop', 'httptcopytqm7rvp0', 'httptcopylfb3ti9u', 'httptcopygkssscfr', 'httptcopyee94nure', 'httptcopy4mtw5xpm', 'httptcopxyh7zo7vt', 'httptcopxonlrqusm', 'httptcopwwpum6rbj', 'httptcopwjjimrfly', 'httptcopwd5l0glkv', 'httptcopwamg8ozj4', 'httptcopw78nbljky', 'httptcopw5dst9roz', 'httptcopw3tzu0tay', 'httptcopvxelxcjeu', 'httptcopvkgo79jni', 'httptcopvexbiiqsk', 'httptcopuxbc2loyk', 'httptcopumxlvlsgm', 'httptcopumbrnebje', 'httptcopuezv6bd37', 'httptcopue5xnznqb', 'httptcopu7c4hhbxj', 'httptcopty9hrcuzh', 'httptcoptq3zmgnck', 'httptcoptkrxtzjtv', 'httptcoptevy815mt', 'httptcoptc0xcragy', 'httptcopst5bbq0av', 'httptcopsqcnsvfgp', 'httptcopspm3ahgkq', 'httptcopsi35au3pc', 'httptcopseylyzck4', 'httptcopsbxl1hvu3', 'httptcoprrb4fhxtv', 'httptcoprontouo91', 'httptcoprmtxjjdue', 'httptcoprci76howu', 'httptcopraro2owia', 'httptcopramklrmhz', 'httptcopqrjvgvgxg', 'httptcopqhuthss3i', 'httptcopq3ipugkuy', 'httptcopq0d7mh3qr', 'httptcoppji1tcnml', 'httptcoppekbqdcnc', 'httptcopp05etlk7t', 'httptcopol92mn8yz', 'httptcopnssia5e46', 'httptcopnlucerp0x', 'httptcopnhpljho8e', 'httptcopnaqxprweg', 'httptcopmxezuo4ay', 'httptcopmtqhivsxx', 'httptcopms4pmur0q', 'httptcopmlohzurwr', 'httptcopmhmmkspaq', 'httptcopmggavtokp', 'httptcopme0hojvya', 'httptcopmcp8czpnd', 'httptcopmbuzfgin3', 'httptcoplqf1biks4', 'httptcoplo2qkrwhu', 'httptcopl2vzlrkvk', 'httptcopkkcdwjyg0', 'httptcopkfv8lksld', 'httptcopk8dgvripw', 'httptcopjlda9hd5v', 'httptcopjigxpvpl0', 'httptcopiveupirky', 'httptcopioy1o54f4', 'httptcopijg5w2l2u', 'httptcophnez60cwe', 'httptcophh1vmlfoo', 'httptcoph7wllkrfi', 'httptcoph2xli8nve', 'httptcopgxfocghqg', 'httptcopgkbt3mbap', 'httptcopgb2bmcfx8', 'httptcopg4y3i5ciu', 'httptcopfvzvpxqgr', 'httptcopfsryjs1pc', 'httptcopf8dxwibdp', 'httptcopexfgawrg1', 'httptcopegibiqk2w', 'httptcope2r3ln16o', 'httptcope2d3hcsni', 'httptcopdosrg8cf7', 'httptcopdkhbdg9ho', 'httptcopdiit0af3q', 'httptcopdehd1tcpk', 'httptcopcxarbh9an', 'httptcopckf0nl2yn', 'httptcopcjbvrs7xw', 'httptcopc7s8nxj6q', 'httptcopbya7uv3v5', 'httptcopblvpm6c27', 'httptcopbegof4740', 'httptcopbclfsxrld', 'httptcopb2n77nskz', 'httptcopaztdblgyk', 'httptcopaqanences', 'httptcopaobghv3c7', 'httptcopaje5mxn1z', 'httptcopadosfyxnm', 'httptcopa5sslefec', 'httptcop9rymfjcux', 'httptcop96rgbbayl', 'httptcop93s2rfhx6', 'httptcop8yr2po6jn', 'httptcop8ih0hni3l', 'httptcop85nwcmkqu', 'httptcop7uhcb13qx', 'httptcop769eo49fj', 'httptcop6kdh0p0sp', 'httptcop6gqmctglj', 'httptcop6cylz5lpt', 'httptcop64xrvgjik', 'httptcop5ktaqw5qg', 'httptcop4kofytkdx', 'httptcop4huqundqi', 'httptcop4ekgc9sig', 'httptcop4doa5yyje', 'httptcop3o71dz992', 'httptcop3g3bqbczu', 'httptcop1wmkxa9d8', 'httptcop18lzrlmy6', 'httptcop10hndc0mm', 'httptcop0gos5urxg', 'httptcooznsxxvx\\x89Û', 'httptcoozk1qhjvfh', 'httptcooz6vlwwtnr', 'httptcooyy9mgw7hn', 'httptcooyogii97yh', 'httptcooxrwrjzmnu', 'httptcoox6ouw3yut', 'httptcoox3qb15lwq', 'httptcoowje3i6ygn', 'httptcoowbujez3q4', 'httptcoow4gexynbh', 'httptcoovlet0gdqm', 'httptcoouylwuixcs', 'httptcoou1m9chznq', 'httptcootsm38xmas', 'httptcootrwz1t9sp', 'httptcootfw5sekd7', 'httptcootblb9pj2i', 'httptcoot3bjjhh8s', 'httptcoot2oooedts', 'httptcoot0tffpbyb', 'httptcoossc7q12ir', 'httptcooskfyj8ck7', 'httptcoosjurfddkt', 'httptcoos1wjrvx5c', 'httptcoorovzfsku2', 'httptcoorjb3j803f', 'httptcooqw8jx6rts', 'httptcooqpsvrgbjc', 'httptcooqh1jbuenl', 'httptcooqeq4uegf8', 'httptcooqb7dasmvy', 'httptcooq0lnf2yug', 'httptcooogoto76uz', 'httptcoonxhkfhn2a', 'httptcoonvd9d4nkg', 'httptcoonpnbx0zex', 'httptcoonlvf2fyoy', 'httptcoomnbatjeao', 'httptcoomjmtu9kfg', 'httptcoomfgv9ma1w', 'httptcoomb3os54tn', 'httptcoolzavtjfkh', 'httptcoolg09kb6ha', 'httptcooldjsowky5', 'httptcool8esfrgle', 'httptcookvsimogic', 'httptcookmlagvkjv', 'httptcookamsczbwg', 'httptcoojyw7jkuh5', 'httptcoojus08yzrq', 'httptcoojuhfkhvb2', 'httptcoojq0kfg5ub', 'httptcoojoecw29qa', 'httptcooiywrzl79z', 'httptcooioecbsh1f', 'httptcooihwgezdck', 'httptcooi6cmagasi', 'httptcoohyd7hhcpe', 'httptcoohndh2ri0v', 'httptcoohholj9vev', 'httptcoohbv7yvtl5', 'httptcoogzjokd7sv', 'httptcoogxsy4gwd1', 'httptcoogtuv1plht', 'httptcoof3q75fgeu', 'httptcooer5hh41ew', 'httptcooekucq4zl0', 'httptcooegfqbiqiq', 'httptcooef123l5rc', 'httptcoodydt9qpk1', 'httptcoodws0waw9q', 'httptcoodv3rqs8ju', 'httptcoodmx36wdhm', 'httptcoodmp01eyzu', 'httptcood2ratxrqs', 'httptcood250zshfy', 'httptcoocxbwgyft8', 'httptcooctnpyueei', 'httptcoocojppnrh1', 'httptcoocmcvfdzkv', 'httptcoobsz45ybaj', 'httptcoobp595w7tm', 'httptcoobky8pc89h', 'httptcoobix79ncxn', 'httptcoobfd7e4qcp', 'httptcooazjpwueyr', 'httptcooazghozgya', 'httptcooaskgki6qj', 'httptcooamqqbnice', 'httptcooahlthrozy', 'httptcooabjztbvyz', 'httptcooa6b0z2h6y', 'httptcoo9qknbfofx', 'httptcoo9a26fn27y', 'httptcoo8y1sul4ow', 'httptcoo8xvtlp4mf', 'httptcoo8x4m5er6b', 'httptcoo85m1bjfrw', 'httptcoo82yvxbztv', 'httptcoo7yyjlukfj', 'httptcoo7qogmoegu', 'httptcoo6onsjhcsd', 'httptcoo6armcgvbs', 'httptcoo6aa0nwlha', 'httptcoo5xlxmkoyq', 'httptcoo3wvsclicx', 'httptcoo2jd4tbrwa', 'httptcoo2cdkpsdfp', 'httptcoo207jyabyz', 'httptcoo1smuh2unn', 'httptcoo1enhjrkjd', 'httptcoo0ltqdjbqe', 'httptcoo097vsotxk', 'httptconzrwddlntp', 'httptconz7ackrrji', 'httptconywrkrq7kn', 'httptconyv51681ue', 'httptconyty7fcqo6', 'httptconyp8oq2z9t', 'httptconyo1xuebfa', 'httptconye8ae2ifr', 'httptcony3l1orzqb', 'httptconxtwxjcavh', 'httptconxttd9nrux', 'httptconxleiijfgs', 'httptconxkum9h7wd', 'httptconx2d83a4du', 'httptconwv2rvghf3', 'httptconvzdilrfgj', 'httptconvfkzv5fex', 'httptconv3uxv9imx', 'httptconux5xfpv2d', 'httptconu6wrp716d', 'httptconu3xxn55vs', 'httptconu0d3uannz', 'httptcontwwdwednb', 'httptcontswuayeji', 'httptconss5l64cvr', 'httptconsfzkfgznj', 'httptcons5lbs5zup', 'httptcons1aggfnxz', 'httptconruzhr5xqu', 'httptconrhurysypd', 'httptconr8jjmpmos', 'httptconr7ust3uh8', 'httptconqxqyi70w4', 'httptconql21ajmiv', 'httptconqjzs6wkun', 'httptconqiobczkrt', 'httptconq89drydbu', 'httptconq77efmf88', 'httptconpoqlkqup9', 'httptconpckk0tleq', 'httptconosvu0zx4x', 'httptconosa8jjjin', 'httptconnv3zwvant', 'httptconnixodhigc', 'httptconn6y0fd3l0', 'httptconn4ztcmsru', 'httptconmrvthkvah', 'httptconmpn2mqzge', 'httptconmhztb1ewm', 'httptconmaumydke1', 'httptconm83johluu', 'httptconlk1dyd2tp', 'httptconlfr8t3xqm', 'httptconlbltynv36', 'httptconkou7zwwrt', 'httptconkkvknbvoz', 'httptconkkctttsd9', 'httptconkaw9ezqgg', 'httptconjvpxzmj5v', 'httptconjrjxqbjr4', 'httptconjqv45nds2', 'httptconjmidysxof', 'httptconjlqrqcnl9', 'httptconjd28pg9xv', 'httptconjd1n5txxe', 'httptconjaffyjarz', 'httptconiv8x5tbe0', 'httptconipzmflibd', 'httptconhxse3rthx', 'httptconh5pkfbfqm', 'httptcongkrzpza45', 'httptconf4iculoje', 'httptconf46paytvw', 'httptconeqw47e1uj', 'httptconep5azwkna', 'httptconekm1rpohu', 'httptcondwep6izdq', 'httptcondis8f1vzt', 'httptcondgpwyxu6h', 'httptcondggr6xyqd', 'httptcondcy8q7r6i', 'httptconckogwjq61', 'httptconcjpgf6znv', 'httptconcjlxzfwaa', 'httptconcjlkqasuk', 'httptconbzikcjphp', 'httptconbugsmqlrg', 'httptconbizatlsmv', 'httptconbd5ot9iew', 'httptconbcvbso9nm', 'httptconb7maaaofs', 'httptconb1e7mnce5', 'httptconatz5ipv1x', 'httptconas3ipm5vh', 'httptconamffldh5h', 'httptconaex0q1ax0', 'httptcona2ey64vsg', 'httptcon9snjmevi6', 'httptcon9c3i9v8go', 'httptcon95igskd3p', 'httptcon8ezfctfce', 'httptcon844h1aspj', 'httptcon71hmvervv', 'httptcon6zflxigvr', 'httptcon6rbnhmtd4', 'httptcon6mcpgvwq2', 'httptcon6ahgfmudt', 'httptcon5vrffrbo3', 'httptcon5kmxuverg', 'httptcon4neuiyt2k', 'httptcon3yjb8tcpm', 'httptcon3vbtc6nca', 'httptcon3ow73oasw', 'httptcon3lndjkyo3', 'httptcon2ucnzh38p', 'httptcon2qzbmzuly', 'httptcon2cy3z4tpb', 'httptcon2bcf4m64v', 'httptcon1tjct8hmc', 'httptcon0uhasfkbv', 'httptcon0akjm1e4b', 'httptcon08qluornx', 'httptcon00dvxega2', 'httptcomzrhfojt2j', 'httptcomzqq5pai8g', 'httptcomzk5ujlfcv', 'httptcomzk0pfogi7', 'httptcomz8vqxbkts', 'httptcomylieruxk1', 'httptcomyhohvrhil', 'httptcomyhhthsli3', 'httptcomxz7yx8ld1', 'httptcomxkalmqpdb', 'httptcomxhrextrkh', 'httptcomwzqcjhzpb', 'httptcomwwwowcayo', 'httptcomwmt3bdr5l', 'httptcomwdhxyfrag', 'httptcomwcnvtcxvu', 'httptcomw9ambgafq', 'httptcomvsrjd4x3d', 'httptcomvrsyu2ppk', 'httptcomvlziysgll', 'httptcomves6vssyn', 'httptcomv7ggglmvc', 'httptcomul1j9aeux', 'httptcomuf5czqjrl', 'httptcomudgu1puns', 'httptcomtqjsvupwy', 'httptcomtmoia0oo0', 'httptcomtgfx3efiv', 'httptcomtfnbhryzq', 'httptcomt029qj4ig', 'httptcomsdntkwyaf', 'httptcomsdizftz2g', 'httptcoms8e8mnddb', 'httptcomrvxbzywd4', 'httptcomr5bi4kd82', 'httptcomqydxrlae7', 'httptcomqp4hf9gpo', 'httptcomqmcolwbzc', 'httptcomqfofkxtyh', 'httptcompoaefql6k', 'httptcomphog0qddn', 'httptcomonijjth7v', 'httptcomodqnalwsb', 'httptcomodm8x1ot9', 'httptcomoa0q0aufa', 'httptcomo9wptyqkp', 'httptcomo7dbbdfvr', 'httptcomnsy1qr7bq', 'httptcomnkoyz76cp', 'httptcomnkaji2q1n', 'httptcomnh6fxhodb', 'httptcommklapx2ok', 'httptcommiye1k8zz', 'httptcommgsyahdzb', 'httptcomly7sdn6ev', 'httptcomligpuhvoh', 'httptcoml8irhwg7o', 'httptcomkrxqzehmy', 'httptcomkqsvp8e0g', 'httptcomkjq9yfmp8', 'httptcomkjo8x2dko', 'httptcomjtn3qbgos', 'httptcomjmwa72er6', 'httptcomjfdcrjs8j', 'httptcomj2jq2psv6', 'httptcomixl1pfrje', 'httptcomiusvpxqte', 'httptcomiubkz77m6', 'httptcomis0rjxuir', 'httptcomim8hh2ce6', 'httptcomicjnpuhg0', 'httptcomhl7pfr7kb', 'httptcomgzslzz1wf', 'httptcomgyvglenks', 'httptcomgr809yc5a', 'httptcomg1lpgr0rm\\x89Û\\x9dnatasharideout', 'httptcomfsw0tysta', 'httptcomfsbwpj0ce', 'httptcomflrvbh4qa', 'httptcomet4ytzmfb', 'httptcomet0mtpr3s', 'httptcomesqtvdu63', 'httptcomesgcngaz0', 'httptcomeisnkv5tb', 'httptcomehwkzwtxd', 'httptcomdp2ni1pqu', 'httptcomdnugvubwn', 'httptcomcwd37iof9', 'httptcomcejzzxgh8', 'httptcomcc76xowli', 'httptcombo6oaniqi', 'httptcomacob5xlsu', 'httptcom9yda5k6jf', 'httptcom9pxto2kww', 'httptcom9o08gurt4', 'httptcom9mowcmvnj', 'httptcom9k08oazve', 'httptcom9ig3wq8lq', 'httptcom9d2elimzi', 'httptcom96kbqwior', 'httptcom8ufjdtlsm', 'httptcom8ciks60bx', 'httptcom7na4skfwr', 'httptcom78ir0ik01\\x89Û\\x9d', 'httptcom75dnf2xyg', 'httptcom6lvkxl9ii', 'httptcom5sbfrrsn7', 'httptcom5rjekvddp', 'httptcom5djllxozp', 'httptcom4tczaawpt', 'httptcom4pqkkeevc', 'httptcom4jdzmgjow', 'httptcom4cpmxmurk', 'httptcom3njvvtygn', 'httptcom2yuxnqlqy', 'httptcom2hpnoak8b', 'httptcom1xykecrzr', 'httptcom1rosi2wcs', 'httptcom19ivwrdkk', 'httptcom0utldif77', 'httptcom0dap5xlwo', 'httptcolzxwoaye4x', 'httptcolzob8qoh1b', 'httptcolzml1xb2nh', 'httptcolzljzzkcfa', 'httptcolzff4pt4az', 'httptcolzasr05ljo', 'httptcolyxnjlxl8s', 'httptcolyj57pq3yx', 'httptcoly8x7rqbwn', 'httptcolxvlqvbc8r', 'httptcolxmdiseucn', 'httptcolxjjgyv86a', 'httptcolwlexxjus8', 'httptcolwdcrpehtn', 'httptcolwane9vupg', 'httptcolw9o2kdk18', 'httptcolvkoemsq8m', 'httptcolvizo9cssr', 'httptcolvbuw01yoh', 'httptcoluigmhma1i', 'httptcoltyefjdm3a', 'httptcoltmgdp6jaf', 'httptcoltma9xqxpx', 'httptcolthmwtl5fp', 'httptcoltf6jl5keu', 'httptcolswsitnkuk', 'httptcolsvsyspdxx', 'httptcolsqe7nu6kl', 'httptcolspnycvolo', 'httptcolsmx2vwr3j', 'httptcolsjowgyvqh', 'httptcolrx0sdsnhm', 'httptcolrtu8rwn2f', 'httptcolrelvrm06w', 'httptcolr4btvueom', 'httptcolqjmuaxjuu', 'httptcolqjjy1ptwt', 'httptcolqgoe7psxp', 'httptcolqd1wefpqd', 'httptcolq4lxgs2xu', 'httptcolpgfqnpjd3', 'httptcolou8lbla1f', 'httptcolodormtfsq', 'httptcolnzi7o166y', 'httptcolmumzkltln', 'httptcolmrkgporcf', 'httptcolma39zrwoy', 'httptcolkz5cnynxx', 'httptcolkwxu8qv7n', 'httptcolknu8902je', 'httptcolkjfabqzb3', 'httptcoljylxz1fbi', 'httptcoljxce1qw2p', 'httptcoljomctuzfy', 'httptcoljmgdpdlvs', 'httptcoljeryhitwh', 'httptcolin16kvzbn', 'httptcolikwqhshhx', 'httptcoli8otxt8hh', 'httptcolhyxeohy6c', 'httptcolhtvkcoiso', 'httptcolhdcpnzx6a', 'httptcolhbzhwq4b9', 'httptcolh9mrypdrj', 'httptcolgrocbxpqo', 'httptcolgpne5hkao', 'httptcolgpgajgomy', 'httptcolgglf5yrme', 'httptcolfw4kuukem', 'httptcolfnippnoto', 'httptcolfbdhtgqwg', 'httptcoleyjwnnah8', 'httptcolej5onus9q', 'httptcolei9dwvllq', 'httptcoledmvezcol', 'httptcoleczolkmsv', 'httptcoleaeby6cr2', 'httptcole4brduau9', 'httptcoldywd4ydt9', 'httptcoldx9ukngsk', 'httptcoldgwsyowss', 'httptcoldcwkyuaff', 'httptcoldbao0rsuz', 'httptcold5p1sia2n', 'httptcolcnw4ead8v', 'httptcolci3pljx25', 'httptcolbpx8bucnv', 'httptcolbmekyphm5pls', 'httptcolbkvfqrpgt', 'httptcolayzba9y8h', 'httptcolau0ay7ahv', 'httptcolatssuo4ws', 'httptcolan76zqkxg', 'httptcolamsdzkcuz', 'httptcolaftj2gyly', 'httptcol9mb2j5pxg', 'httptcol9idherotj', 'httptcol9fjpnszuo', 'httptcol9ekhnkbar', 'httptcol90dcpv9zu', 'httptcol8w30wfw3r', 'httptcol7pmdmejs1', 'httptcol7bjsq0y2o', 'httptcol6pif3lpen', 'httptcol6nslzl7mi', 'httptcol6jbjaj8dm', 'httptcol5vaklr59m', 'httptcol5g2zj3kgg', 'httptcol5awtundhm', 'httptcol53oabeqc9', 'httptcol4wjhz4aj6', 'httptcol3w8mipvnt', 'httptcol3gizrucy4', 'httptcol2nmywrmq2', 'httptcol1gh8064yv', 'httptcol1gfxgozvx', 'httptcol0pmmtzlwp', 'httptcol0hhwb9lsz', 'httptcol0deocxu6o', 'httptcol0b14sj7jb', 'httptcol056yj2ioi', 'httptcokzhb8zx6yc', 'httptcokzfigkeeva', 'httptcokzbsohtwb4', 'httptcokz35rgngjf', 'httptcokybqcsvrza', 'httptcokxy56fr8vm', 'httptcokxxnszp6nk', 'httptcokxslftz2i5', 'httptcokxplyom9rr', 'httptcokxewlhh7uw', 'httptcokx8cu4s8t1', 'httptcokwmrcekvtf', 'httptcokvpbybglsr', 'httptcokvnahthuwz', 'httptcokv5l4ppxfg', 'httptcokurqlxfihl', 'httptcokukmal605a', 'httptcokue48nmjxh', 'httptcoktkg2sdhhl', 'httptcoktd5ig9m5o', 'httptcoksxto8nknl', 'httptcoksgmy0d0mx', 'httptcoks7ln8hq8s', 'httptcokrsy54xmmc', 'httptcokrnw0wxhe5', 'httptcokqvn1utpmm', 'httptcokqvevuutdj', 'httptcokqpky7dthj', 'httptcokqjevyqzlv', 'httptcokpvymhm2ub', 'httptcokpqk0c4g0m', 'httptcokpmyqujsue', 'httptcokpivxgjnqt', 'httptcokp2lf4aute', 'httptcokp1hdchfnz', 'httptcokot9zvd2h7', 'httptcokolmzbz1pz', 'httptcokoch8slasq', 'httptcoko0oz3ryfg', 'httptcoknomg9pfiz', 'httptcokncm9jc8i9', 'httptcoknbv2ytnwc', 'httptcokmxzho5tfm', 'httptcokmvrzasxy4', 'httptcokmtwa3n1gf', 'httptcokmpfhglhoo', 'httptcokmndkfa7me', 'httptcokmgdv7vsaz', 'httptcokmdqm3nlns', 'httptcokm8ucihrrn', 'httptcoklxaucnp5i', 'httptcokltit88as3', 'httptcokl4r1ccwct', 'httptcokksghsblfh', 'httptcokkoovbkndp', 'httptcokkjp9ksbst', 'httptcokkimmbue04', 'httptcokkeh8qcgc3', 'httptcokkdx8zmv4g', 'httptcokkbxiblah7', 'httptcokk8cnppzmk', 'httptcokk0qfkgqcy', 'httptcokjuzjc6igd', 'httptcokjsvw06gbv', 'httptcokjbxieypma', 'httptcokiildu8gpo', 'httptcokigy7m6bgj', 'httptcokif7m3fqlx', 'httptcoki9ehjhl8y', 'httptcoki1ykrs9fi', 'httptcokhztevedja', 'httptcokhsbzkfd6o', 'httptcokhf0ih05a9', 'httptcokhd99oz7u3', 'httptcokgxnwziuxd', 'httptcokgtxnnbj7y', 'httptcokgkz50q8tk', 'httptcokg5plkedhr', 'httptcokfzvmxj9st', 'httptcokfyebhb3di', 'httptcokftvnu7nvf', 'httptcokfkaosh0kh', 'httptcokff8ojrzp4', 'httptcokfbjvjivqb', 'httptcokf74o2mcsc', 'httptcokf0qybkzol', 'httptcokestuuyc4t', 'httptcokepznhxhxd', 'httptcokefxtjtakb', 'httptcokee1tytz15', 'httptcokea5l3b1ae', 'httptcoke6djxanmm', 'httptcokdwazhqtov', 'httptcokd3qsakbi5', 'httptcokctigymahl', 'httptcokcrnmjkj73', 'httptcokcoff6bmie', 'httptcokcmbbwwp8g', 'httptcokclkokqi8a', 'httptcokc8o81bchg', 'httptcokbtzzzg2tp', 'httptcokbstrxnhup', 'httptcokavaovjz2v', 'httptcokaky4mpco4', 'httptcokah1kmtrj7', 'httptcokaf3wdrmtn', 'httptcokacrlpjc0l', 'httptcokaccpk85wf', 'httptcokabk3tcjnl', 'httptcoka1hbjlqvw', 'httptcok9fbtccu58', 'httptcok9cd0efvut', 'httptcok9airfq3ql', 'httptcok8ughv2aif\\x89Û\\x9dmy', 'httptcok8bexkgwr2', 'httptcok6uetsnlht', 'httptcok5fijankjb', 'httptcok4h8cq7puo', 'httptcok3pnnktlxh', 'httptcok3mnk9hnz5', 'httptcok2tbes65oa', 'httptcok2bzuatuks', 'httptcok1tmlwvjmj', 'httptcok14q8chwkp', 'httptcok0y7xfxmxa', 'httptcojzwrwlvlsj', 'httptcojzwrisxepf', 'httptcojzgxwrgfqg', 'httptcojyxafd4knk', 'httptcojxwojxqndc', 'httptcojxuepkmkrh', 'httptcojxs50fkvik', 'httptcojxhazebnqk', 'httptcojwxrx1lsqo', 'httptcojwqybe4ep1', 'httptcojwq4kvjh2j', 'httptcojwiv6wyw6f', 'httptcojwfiilj8wr', 'httptcojw6fnnssxt', 'httptcojw3hn9ewft', 'httptcojvkyzndtja', 'httptcojvjalyg2n1', 'httptcojvivt6zrv7', 'httptcojvcxb75drj', 'httptcojvai5vkmsy', 'httptcojuiit2yfvo', 'httptcojtzefipdbo', 'httptcojtxji7ygrl', 'httptcojtjofltms4', 'httptcojthusynjah', 'httptcojszzqst3xs', 'httptcojsuhupz6vp', 'httptcojst5hauk35', 'httptcojssmmlnaq7', 'httptcojs9ehp88wq', 'httptcojrztpt8ijq', 'httptcojrxgolnpqw', 'httptcojrgj17oamt', 'httptcojrdwyy0ax4', 'httptcojqxm4gcqz3', 'httptcojqso4fyzp4', 'httptcojqfcy9guqv', 'httptcojq2eh5kglt', 'httptcojpu9gips9f', 'httptcojphgpl1c5x', 'httptcojpa6sajfe3', 'httptcojp9xyla3c5', 'httptcojp3oy0ouxq', 'httptcojp2qlrunjj', 'httptcojods9a32pi', 'httptcojobvbvkfnz', 'httptcojob4ggtpal', 'httptcojnromse1z2', 'httptcojnn0krnxvy', 'httptcojn8s0drwbp', 'httptcojmzcaqydfa', 'httptcojmu5uyamdu', 'httptcojmkywhv7mp', 'httptcojmbvpanxr3', 'httptcojmawrlt7hb', 'httptcojlzk2hdetg', 'httptcojlwhaowfqa', 'httptcojlwgshyy3n', 'httptcojlu2j5qs8u', 'httptcojlput7va3s', 'httptcojlmicj6je5', 'httptcojliemrsnnj', 'httptcojlczidz7vu', 'httptcojkym9edofc', 'httptcojkpjpch9i6', 'httptcojkc0diqvxc', 'httptcojk7npdpwro', 'httptcojjxcnwbp15', 'httptcojixscpmdud', 'httptcojiomnrcygt', 'httptcojid4ro34gb', 'httptcojhvigsx5jg', 'httptcojhupogbvs8', 'httptcojhscgda2g8', 'httptcojhoahpbpq4', 'httptcojhc2rt0v9f', 'httptcojgdlx4faw8', 'httptcojfyfzddlrn', 'httptcojfx6qiyivf', 'httptcojfjlbf40to', 'httptcojf5ft5cq9j', 'httptcojevrcwudpm', 'httptcojevhknjgbx', 'httptcoje86vetdxh', 'httptcoje6zjwh5ub', 'httptcojdtpirnm76', 'httptcojddnhmrmmj', 'httptcojdbtlymehy', 'httptcojd7rik7fx0', 'httptcojcszcjihlh', 'httptcojcfehrhlq8', 'httptcojcdd6sd6qn', 'httptcojbxbi93clu', 'httptcojbvmgeg522', 'httptcojbrk8zsry6', 'httptcojbpgkgowsi', 'httptcojbodkm6rbu', 'httptcojblrrnmdsm', 'httptcojbjrg3ep1q', 'httptcojb25fhke6q', 'httptcojaxhzjccd4', 'httptcojans3fd4lf', 'httptcojab541hhk0', 'httptcojaawuiovdc', 'httptcojaagcfartw', 'httptcoja3w1s3tmr', 'httptcoja0wgp8spe', 'httptcoj9lpdrxcde', 'httptcoj90dt2qnxb', 'httptcoj8tyt1xrrk', 'httptcoj7hukhwmal', 'httptcoj6wseptxga', 'httptcoj6mpdsx9lk', 'httptcoj6cfwukofe', 'httptcoj5onxfwlao', 'httptcoj4ni4n0yfz', 'httptcoj4ggmkiney', 'httptcoj4dqpflmkr', 'httptcoj49xeuj7ps', 'httptcoj43nwkx0x3', 'httptcoj3x0doy7r3', 'httptcoj3rtf2dt3x', 'httptcoj2pykyo0en', 'httptcoj2erzbmjqd', 'httptcoj2aqs5loxu', 'httptcoj295md1sow', 'httptcoizjtoojzkp', 'httptcoizjk6kpwiz', 'httptcoiz17klelzc', 'httptcoiywzallsn4', 'httptcoiys9xwpvmk', 'httptcoiylvzy3cob', 'httptcoiyjejop2wi', 'httptcoixw2cutk1c', 'httptcoixrehm05yq', 'httptcoixjqg1sx6u', 'httptcoixjjlp1lvo', 'httptcoixiybap8qa', 'httptcoixfne5jlep', 'httptcoiwsdbgd1zq', 'httptcoiwcu3dgi1a', 'httptcoiw7elszifz', 'httptcoivwtynoujk', 'httptcoiufs7uv1hk', 'httptcoiucpcsfbmt', 'httptcoiu9bafdxey', 'httptcoitzzkwfhg5', 'httptcoitz9masbvz', 'httptcoitg84q7vii', 'httptcoirt4kkgsjx', 'httptcoirqujaesck', 'httptcoirqj3zkcuz', 'httptcoirpssresrq', 'httptcoirhh2gvsed', 'httptcoiqowzgvznl', 'httptcoiqj1z3jxx8', 'httptcoipxpi3me16', 'httptcoipwysnik0g', 'httptcoipt0honoti', 'httptcoiphazv47g7', 'httptcoipfzwwnxxp', 'httptcoiovr4ymlkp', 'httptcoiosthxlcyv', 'httptcoioq051t5te', 'httptcoionwarvrfy', 'httptcoio9ry1akon', 'httptcoinkuv5dntx', 'httptcoingu6ztyg4', 'httptcoinezzaes5d', 'httptcoin8lys7v5l', 'httptcoimzlnzltf5', 'httptcoimwmfdjssn', 'httptcoimullbvued', 'httptcoimtygds5qo', 'httptcoimilsfxntf', 'httptcoimawvmzs3a', 'httptcoim6m4xaen2', 'httptcoim2hdsklq5', 'httptcoilq0wqj0xs', 'httptcoildbeje225', 'httptcoiladqebxpn', 'httptcoikuggvbyei', 'httptcoikuayuseqt', 'httptcoiknyok9zzr', 'httptcoikfmektpcx', 'httptcoik8m4yi9t4', 'httptcoik7mgidvbm', 'httptcoijzcytbffo', 'httptcoijwar15h16', 'httptcoijobz3mzp0', 'httptcoijmccmhh5g', 'httptcoijd7wzv5t9', 'httptcoij0wq490cs', 'httptcoiidkc0jsbx', 'httptcoii4ewe1qir', 'httptcoihvmtmzxne', 'httptcoihphzckm41', 'httptcoihinj3enqi', 'httptcoihhrkg4v1s', 'httptcoih49kymsmp', 'httptcoih0awv3l1o', 'httptcoigz7v24ge9', 'httptcoigyu2peiu3', 'httptcoigx8xfz8ko', 'httptcoigwstttkwk', 'httptcoigtxhapo0k', 'httptcoigm2fcmupm', 'httptcoigm2fc4t0m', 'httptcoiglnqpgbnw', 'httptcoigll3ph6o1', 'httptcoigcetumkcw', 'httptcoifqqpur99x', 'httptcoifm6v6480p', 'httptcoif5rogfjri', 'httptcoiewdrenauk', 'httptcoiemxgse2be', 'httptcoieksnfsby7', 'httptcoidws2zgysa', 'httptcoidqcfjycym', 'httptcoidhj4jbq05', 'httptcoidasyjybro', 'httptcoicrzi5tqc5', 'httptcoicrgseagya', 'httptcoibype1kaz5', 'httptcoibx3cragtt', 'httptcoibsvy2r3ph', 'httptcoibed3xg7fy', 'httptcoiapvtqxlht', 'httptcoiap4lwvqsw', 'httptcoiadlslqdpd', 'httptcoia44nczlif', 'httptcoi9mxxkzhbl', 'httptcoi9dspdkruk', 'httptcoi8sj1kws1d', 'httptcoi7kztevb2v', 'httptcoi7eskymoec', 'httptcoi7ap1mes8m', 'httptcoi6zqlk2puz', 'httptcoi6lmccclv5', 'httptcoi5k3vjicmg', 'httptcoi5cdtd8ftj', 'httptcoi4fz75utnh', 'httptcoi4aogcsoy5', 'httptcoi3hzemldpu', 'httptcoi2hhviumtm', 'httptcoi2c00fcowb', 'httptcoi2aag6lp6w', 'httptcoi23xy7iejj', 'httptcoi1vpkq9yag', 'httptcoi1eeuxxz3a', 'httptcoi12nlsr8fk', 'httptcoi0tvl15coz', 'httptcohzhoa6vzas', 'httptcohz4lkffc59', 'httptcohyypspn0yq', 'httptcohylmo0wgfi', 'httptcohxwfbpp1b3', 'httptcohxvihdushp', 'httptcohxvfmouhdm', 'httptcohxtupra5bc', 'httptcohxox7o42rq', 'httptcohxdg254dho', 'httptcohworb1n6vn', 'httptcohwnyxxkczz', 'httptcohvyxehxbmq', 'httptcohvxu1zcvau', 'httptcohvwkjqxxyt', 'httptcohvjmuualxv', 'httptcohuzrhgmksy', 'httptcohuthxlkyxy', 'httptcohujvgsflus', 'httptcohuhwpmrywz', 'httptcohu5cxqnobf', 'httptcohtxai05y7b', 'httptcohtqvf44uqs', 'httptcohtez4z48od', 'httptcohszjafxrvi', 'httptcohskl0vq2d2', 'httptcohsdbgciyrs', 'httptcohrsfa8zuji', 'httptcohrqcjdovjz', 'httptcohrl4xnj9k7', 'httptcohrc3oxquik', 'httptcohr88cwxpgz', 'httptcohqzfcxxrsb', 'httptcohqsu8lwlth', 'httptcohqod6v6dnc', 'httptcohqnx8qmeg3', 'httptcohqewmreyso', 'httptcohqdczzdmbn', 'httptcohpvodud7ip', 'httptcohpd3snm6oy', 'httptcohpa9gqrywa', 'httptcohmwhob7prs', 'httptcohmuyzmv8qh', 'httptcohmrt98oydj', 'httptcohld5xlywbn', 'httptcohkyfkug5zw', 'httptcohkxyzhvmqe', 'httptcohkm3rtd4zf', 'httptcohkbpqdncba', 'httptcohk9yf72ova', 'httptcohk6nqrgedb', 'httptcohj26sfddfi', 'httptcohipklxphnp', 'httptcohikf8mkjsn', 'httptcohikdc1fm2f', 'httptcohibdw7d7ja', 'httptcohhzql9tznp', 'httptcohhwv0eudfv', 'httptcohhtwayt4yo', 'httptcohhpvsatqxn', 'httptcohhpvpael4n', 'httptcohhllqckcep', 'httptcohhhvkxfaih', 'httptcohgedwxtdjn', 'httptcohgdrk81sn4', 'httptcohgb1mc3irk', 'httptcohfzk09mcen', 'httptcohfyrloqy8q', 'httptcohfy5v3slbb', 'httptcohfqlwo1kmy', 'httptcohfgjgfgfel', 'httptcohes0bpu60y', 'httptcohep9k0xghb', 'httptcoheiekfchdm', 'httptcohe7q7h3nzf', 'httptcohdvmhsqxhm', 'httptcohdkd9j2lw0', 'httptcohdjs9rntj4', 'httptcohddbmu2yca', 'httptcohdckeposqc', 'httptcohdbmfovutz', 'httptcohdahlgrprl', 'httptcohcyajsacfj', 'httptcohcwrk81p71', 'httptcohckxj8eukt', 'httptcohcdiwe5flc', 'httptcohc6hzs4wsi', 'httptcohbwoivjqkd', 'httptcohbpnfoawii', 'httptcohbhx0dwkpc', 'httptcohbdo22nqpz', 'httptcohbbgy2vzyt', 'httptcohaxj6go2ac', 'httptcohavxobcsvu', 'httptcoha5boppejy', 'httptcoh9vmmdebdx', 'httptcoh9v4howtip', 'httptcoh9i6mozask', 'httptcoh9fsiaxv3q', 'httptcoh99bhb29xt', 'httptcoh84r1tih8j', 'httptcoh7ldx29aba', 'httptcoh6z7hxuqtu', 'httptcoh6tyysgr30', 'httptcoh6pm1w7ell', 'httptcoh6ngsw9a5b', 'httptcoh5epx2d1ga', 'httptcoh3vusqzyqo', 'httptcoh3sxfv5mtc', 'httptcoh3dch6fyaw', 'httptcoh31knuwzz5', 'httptcoh2ahxpch0y', 'httptcoh1xigcen7f', 'httptcoh1xch54kd3', 'httptcoh132iul7mu', 'httptcoh0xunj3c7c', 'httptcoh09nydbzov', 'httptcoh01j9pirie', 'httptcogzxipmoknb', 'httptcogztolll5wo\\x89Û', 'httptcogzmoblsjxu', 'httptcogzib0mawmn', 'httptcogzgpwsqymw', 'httptcogz27audyha', 'httptcogyzpisbi1u', 'httptcogyqlaoz3l2', 'httptcogyh00mrkjm', 'httptcogxqwd1qzbd', 'httptcogxq1auzb18', 'httptcogxgm1t3w0j', 'httptcogxe7nhwz3e', 'httptcogx9skuau9j', 'httptcogx75w3q9ye', 'httptcogx1otoh8sj', 'httptcogx1kz3c2tc', 'httptcogwnrhmso8k', 'httptcogwnlhneku9', 'httptcogw0cxoojyv', 'httptcogvj7slbelp', 'httptcogvd7fcx8iz', 'httptcogvaipmlsl0', 'httptcogv84wnhb7s', 'httptcoguvtizyche', 'httptcogujnpljvvt', 'httptcoguaj2t910b', 'httptcogtycqyfuam', 'httptcogtxndnjrrl', 'httptcogtqmgsgcsb', 'httptcogtdnw1spvi', 'httptcogtcffacvam', 'httptcogt7gf0fsex', 'httptcogsomtdpmoj', 'httptcogsmddmu9pu', 'httptcogskjqwyi2d', 'httptcogscswyuupa', 'httptcogs9bmplbhh', 'httptcogs50ddg1jy', 'httptcogrzchkdf37', 'httptcogqskwqzuul', 'httptcogpxqbyzyu4', 'httptcogpwrc1kz5i', 'httptcogpvzv0249y', 'httptcogpgtafmkt0', 'httptcogpcecp9khv', 'httptcogpbxrrdc07', 'httptcogopsicp8bm', 'httptcogoetjgihop', 'httptcogo0pkrfzmf', 'httptcogo0hpi0b4c', 'httptcognzwxqktam', 'httptcognynjhne6j', 'httptcognpstnvi5g', 'httptcognorijnsva', 'httptcogne1fw0xhe', 'httptcogn3whnsfib', 'httptcogmoul9zq2q', 'httptcogm80x3vutf', 'httptcoglzmgbm7w0', 'httptcoglwoakppjq', 'httptcoglpfu0uriz', 'httptcogllawb2fsk', 'httptcogljbnsfgll', 'httptcogl6eejyjky', 'httptcogl4mcax0ny', 'httptcogl3c1vc88p', 'httptcogkye6gjtk5', 'httptcogkprvzq6lk', 'httptcogkpanz7vg0', 'httptcogknrp0e8qs', 'httptcogk4unpznhn', 'httptcogjfd85vuf2', 'httptcogjbainqwn9', 'httptcogix1gaynxz', 'httptcogigw51izpk', 'httptcogiesomgwtr', 'httptcogid6jqn8ug', 'httptcogibyqhhkpk', 'httptcogi82n2juwn', 'httptcoghmmuj7gbe', 'httptcoghk9xup6e0', 'httptcoghghqm9e6d', 'httptcoggqcz9ab6u', 'httptcoggnbvzohwu', 'httptcoggn39m60tl', 'httptcogghfx8pzmh', 'httptcogggfvo5pb4', 'httptcogfsl2kwt5h', 'httptcogfs7usulgq', 'httptcogfdhfmpcel', 'httptcogfa3sow9zn', 'httptcogexhzu1vk8', 'httptcogeu4h46csz', 'httptcogerjau74ey', 'httptcogeqkdao4cv', 'httptcogei58vhbw6', 'httptcogeeknwjjsz', 'httptcogedoxsppl9', 'httptcogdrssjbh8q', 'httptcogdoaolpq91', 'httptcogdjtzkpchk', 'httptcogc0udfnfgg', 'httptcogbxafy1m1c', 'httptcogbvdnczjou', 'httptcogbrnulp3fh', 'httptcogbqtc7sp9c', 'httptcogbluhrrlto', 'httptcogbepdi0wzt', 'httptcogbcvvevdty', 'httptcogbctmhx7pw', 'httptcogb46fid2we', 'httptcogaotrg4mtr', 'httptcogan14pw9tg', 'httptcogam7otgisw', 'httptcogaheujruju', 'httptcogabd0cjmag', 'httptcoga14egplw9', 'httptcog891m9gh4r', 'httptcog7s34sw2am', 'httptcog7k9tqvqbk', 'httptcog6monvnpsu', 'httptcog62txymzbv', 'httptcog5zsru0zvq', 'httptcog5do2x6226', 'httptcog4schqfest', 'httptcog38y8h1tjt', 'httptcog37hujx6et', 'httptcog2uimbekge', 'httptcog2h7xnecd8', 'httptcog1bwl3dqqk', 'httptcog0q0bzbjli', 'httptcog0dn1chluo', 'httptcog03dkpoonp', 'httptcofzujg7sxjg', 'httptcofzhjf8bxld', 'httptcofz8ytwqkwv', 'httptcofz5ew4ihmb', 'httptcofymp4i2wp5', 'httptcofyjwjdkm5i', 'httptcofyioqvioif', 'httptcofy30fv0qbx', 'httptcofy0r9o7xsl', 'httptcofxux987vzx', 'httptcofxtffl4axy', 'httptcofxk3zsj2pe', 'httptcofxdh3u8bq3', 'httptcofwup9yurzy', 'httptcofwqfckncqw', 'httptcofwpof5twoc', 'httptcofwj9ccyw6k', 'httptcofwikyurc18', 'httptcofw8elbnap7', 'httptcofw2xifj6ec', 'httptcofvzsgjtbew', 'httptcofvyrwhux8p', 'httptcofvxhopdf3w', 'httptcofvr9jdq71a', 'httptcofvp3wnid4l', 'httptcofvlgu1nayr', 'httptcofukbbedfgx', 'httptcofuerk0gwui', 'httptcofucoqhclad', 'httptcofu1btuq1et', 'httptcoftunlh6ddg', 'httptcoftm4rkl8mn', 'httptcoft9kigmigh', 'httptcoft7orfa52y', 'httptcofs4y1c9mnf', 'httptcofrpbnhvpyi', 'httptcofrkodestuk', 'httptcofqwtsxlkrz', 'httptcofqv47ob8ge', 'httptcofqsk7qcawo', 'httptcofqqi8gvlq4', 'httptcofqmyprlg9g', 'httptcofqj5aga1pd', 'httptcofqj0squ3lg', 'httptcofqcdphccg7', 'httptcofpyru5golh', 'httptcofprt7nwrot', 'httptcofpkiqbus9r', 'httptcofpjlwoxklg', 'httptcofphfesemyj', 'httptcofph01u3eii\\x89Û\\x9d', 'httptcofpaoulwu3n', 'httptcofp64yosjwx', 'httptcofoutpwgfwy', 'httptcofntg70rnkx', 'httptcofnpdjwvw1j', 'httptcofnmje8gf7m', 'httptcofmj8mxjy8a', 'httptcoflsa8mldsn', 'httptcoflqxd3q5py', 'httptcoflo8fgy35a', 'httptcofllabzgcrc', 'httptcofl8gci84aj', 'httptcofkxcsztezb', 'httptcofkv5qxdcy3', 'httptcofkfa9vsssz', 'httptcofkd1mbtb68', 'httptcofk1vyh5qlk', 'httptcofk1l4nozig', 'httptcofjeafgbzfj', 'httptcofjddx43ewj', 'httptcofj7kcrlir7', 'httptcofj73gdvg2n', 'httptcofijapxykrq', 'httptcoficd5qbqwl', 'httptcofhvokmphed', 'httptcofhkhcqpl7j', 'httptcofhi4qbpwfh', 'httptcofgvn2vcrrx', 'httptcofftokd0vts', 'httptcoffnzit7kgn', 'httptcoffkcj8pfj2', 'httptcofelr5a1hbp', 'httptcofel4qhwyfd', 'httptcofejs0bu0sq', 'httptcofeikc9fxed', 'httptcofegu8hwmc4', 'httptcofe9hivfmxq', 'httptcofdzzumyw8i', 'httptcofdxgmiwaeh', 'httptcofdmxp4fcmo', 'httptcofdiu44jldj', 'httptcofcujsioyqo', 'httptcofctrawjcyl', 'httptcofcqmkffflw', 'httptcofcixk23xqh', 'httptcofcfpijiqt5', 'httptcofce0k1ihti', 'httptcofblnifda1c', 'httptcofb8snrg4hu', 'httptcofaqnfupegn', 'httptcofaogxkwdpg', 'httptcofajbxz5kar', 'httptcofacm78eg7k', 'httptcofabvlvn5ms', 'httptcofa3fcnln86', 'httptcof9kqksosw3', 'httptcof9j3l2yjl4', 'httptcof8gvwkfqox', 'httptcof7wqpcekg2', 'httptcof7ogzrnpfv', 'httptcof7ljwxj5jp', 'httptcof7a66diiyk', 'httptcof75qwyeeec', 'httptcof6ntuc734z', 'httptcof5miuhqaby', 'httptcof56v61ampt', 'httptcof4xnplio5s', 'httptcof4lhfmehzh', 'httptcof2tqmfh1yb', 'httptcof2gwxeprak', 'httptcof1tcbg1mki', 'httptcof1r5isbvks', 'httptcof1bakpnyn6åÊ', 'httptcof0wqlobooy', 'httptcoezeisasm0c', 'httptcoezbtg81trz', 'httptcoeyugk6byxr', 'httptcoeysblyx6l6', 'httptcoeyr2xx5l1p', 'httptcoeyorbmf3o3', 'httptcoeyevziopg1', 'httptcoeydapaupvg', 'httptcoexyr6c5qpu', 'httptcoexsqijf4ny', 'httptcoexqkmlg4nj', 'httptcoexitlxgisj', 'httptcoexil1bkzmp', 'httptcoexdbcx4gcr', 'httptcoex8a5jyzm5', 'httptcoex6jzqj3ni', 'httptcoex4fnjjl6h', 'httptcoew5wzc07fo', 'httptcoev3nx9scx3', 'httptcoev1ahoucza', 'httptcoeumlca1edw', 'httptcoeujgu1hvvx', 'httptcoeug6zhciun', 'httptcoeudwnfyuem', 'httptcoeu8jypizsd', 'httptcoetyzy8gb2a', 'httptcoetswuod3om', 'httptcoetkd58un8n', 'httptcoetkbw1rcrv', 'httptcoetitgpsrun', 'httptcoethgagpy5g', 'httptcoetgqf28mge', 'httptcoetg0prbp4g', 'httptcoesrkmazeq9', 'httptcoesemjrn5cc', 'httptcoes1b3lyway', 'httptcoerws6ieldg', 'httptcoerj7yanjxm', 'httptcoerhdh37rdh', 'httptcoeqjcpwilvn', 'httptcoeqdm2opybg', 'httptcoeqccrtlnbd', 'httptcoeq4rxc9bb3', 'httptcoepzwaseyky', 'httptcoepzgg4uqji', 'httptcoepjjkb4be9', 'httptcoepiqdbxvzo', 'httptcoepex4axg4b', 'httptcoeo2f96wxpz', 'httptcoenrpgrgtts', 'httptcoenrjh5qkve', 'httptcoenqgtbaxuj', 'httptcoenqdfbjump', 'httptcoenpjcfma8l', 'httptcoemzn4spwnk', 'httptcoemvohm9m6j', 'httptcoemtxtgo4ce', 'httptcoemtwirknyq', 'httptcoemrzicb004', 'httptcoemdjnnltp0', 'httptcoem5opytbpg', 'httptcoel24mnfchw', 'httptcoekwtihlwuf', 'httptcoekfaz6wvbz', 'httptcoek6kyhxpe9', 'httptcoejymkzpeex', 'httptcoejrme49rkd', 'httptcoejdhvlkxaf', 'httptcoej30ihrea9', 'httptcoej2ghnafhy', 'httptcoeioqjwgeix', 'httptcoeinsqs8tfq', 'httptcoei9x4h8thm', 'httptcoei8qqhregz', 'httptcoei1k01zab3', 'httptcoehsfklgri3', 'httptcoehomn68ojb', 'httptcoehlq3zsptd', 'httptcoehklp12yip', 'httptcoehgtzhkan4', 'httptcoegyfnlaoqv', 'httptcoegioxbaboe', 'httptcoegcv7ybjae', 'httptcoeg1fskqbv6', 'httptcoefsa6pbemc', 'httptcoefg8rth9rb', 'httptcoef4swp9sxz', 'httptcoeelex4ssvf', 'httptcoeejrmktj0r', 'httptcoeeewo207mx', 'httptcoee8rpoahpk', 'httptcoedznx6goud', 'httptcoedekrmqtpq', 'httptcoed32pbvio7', 'httptcoed1vpitswy', 'httptcoecxmoinzgu', 'httptcoecmj18azai', 'httptcoecd7hizja1', 'httptcoebbf1n7maj', 'httptcoeatfro3d5x', 'httptcoearonlwifh', 'httptcoeaaqumkkc9', 'httptcoe9yfe3p7p1', 'httptcoe9d9lk5fdw', 'httptcoe981dgskab', 'httptcoe90j3vjolc', 'httptcoe84ifmcczn', 'httptcoe7ojhpdfg2', 'httptcoe7fn5g5ruu', 'httptcoe65v80fcus', 'httptcoe61x9y65qd', 'httptcoe5cns6ufpa', 'httptcoe4ydbm4dx6', 'httptcoe4wk8uri8a', 'httptcoe4qonkzndz', 'httptcoe3l1jqjh2u', 'httptcoe2wgreicmz', 'httptcoe2wfgp8jhk', 'httptcoe2hltyyfak', 'httptcoe2dbcpwd9u', 'httptcoe1vkc2efst', 'httptcoe1kbludwh5', 'httptcoe14epzhoth', 'httptcoe0uusnpsq5', 'httptcoe0pi0c54ff', 'httptcoe0lugbl6pb', 'httptcodzlpnp399x', 'httptcodzlense1gw', 'httptcodyy7ml2nzj', 'httptcodywwnbbyvj', 'httptcody1ersdcrh', 'httptcodxvtgi1bvo', 'httptcodxirntdsrd', 'httptcodxfqou4kt2', 'httptcodwbc1duvdk', 'httptcodvonwiv3l1', 'httptcodv4mmlso1i', 'httptcoduvuzhmvut', 'httptcodutyzqr2p7åÊ', 'httptcodunmvj7itl', 'httptcodudairbbpo', 'httptcodthneezupe', 'httptcodtfswnjzil', 'httptcodtdidinqyf', 'httptcodspws6hj8w', 'httptcodskui6mmgl', 'httptcodsb3ldfuxu', 'httptcods9khkffwc', 'httptcods76lozlsu', 'httptcodrvm8isote', 'httptcodrlkebeypi', 'httptcodrf3mmrbyx', 'httptcodrculiyp0t', 'httptcodrbcrypj4p', 'httptcodqxkjibbky', 'httptcodqtmtpqmbr', 'httptcodq3ddgvgbf', 'httptcodq1ylcrf9k', 'httptcodpgdnaoy4p', 'httptcodofrh5yb01', 'httptcodobzc3pitm', 'httptcodnwwo1ybrk', 'httptcodnu5hwsxo2', 'httptcodno7qxcffh', 'httptcodn5buo7gsk', 'httptcodmtzmgyrik', 'httptcodmtab6g7j7', 'httptcodmsnyptscy', 'httptcodmrsyeiqz3', 'httptcodmlj1agotw', 'httptcodmb6xp966d', 'httptcodm0uupqgwy', 'httptcodly6ruusqk', 'httptcodlizfkk30y', 'httptcodlgnuuuuyn', 'httptcodlaub2nvtn', 'httptcodl60ja06tw', 'httptcodkrgs2awex', 'httptcodkozymvy5l', 'httptcodjx5elbrv1', 'httptcodjufkrrtft', 'httptcodjiwg9pxv4', 'httptcodjdewd13wr', 'httptcodja4relcns', 'httptcodj1lwznieh', 'httptcodisrwhqgym', 'httptcodiobzghfju', 'httptcodilyvrowyj', 'httptcodili5jhmur', 'httptcodih1tgqhej', 'httptcodialta6t69', 'httptcodi8elzswnr', 'httptcodi5arr6hq6', 'httptcodhyljllrhl', 'httptcodhgavw8bsw', 'httptcodhambp54ya', 'httptcodh0s4buuk7', 'httptcodgul7ffjt2', 'httptcodgkmueoaxz', 'httptcodggm5b0w4l', 'httptcodgelj8ryt9', 'httptcodgbeh5l9ds', 'httptcodgatkrdyny', 'httptcodg0bgzecgm', 'httptcodfyrppzkpu', 'httptcodfyasvj7nf', 'httptcodfxi76kvx0', 'httptcodf9fjonvep', 'httptcodevybnvxgq', 'httptcodeqqopsp4f', 'httptcodefj7xekgx', 'httptcodeeekobmxa', 'httptcodduxthvvnr', 'httptcoddr0zjxvqn', 'httptcoddhwori5w1', 'httptcodde8gxaqrp', 'httptcodcyyjvmxhr', 'httptcodctv1ujlhc', 'httptcodchfpxgy2m', 'httptcodcdecfv934', 'httptcodbu30obdxz', 'httptcodbdwtocgxf', 'httptcodbaujp29ub', 'httptcodb7ft3yi6d', 'httptcodazqamoo0c', 'httptcodaqszzubub', 'httptcodaplllfuqk', 'httptcodao9azeucr', 'httptcodan0gkx28l', 'httptcodadz5zfo1g', 'httptcodaalpenzp0', 'httptcoda9lzton1c', 'httptcod9xvuvp9s6', 'httptcod8awx2okke', 'httptcod7zxz42qw1', 'httptcod7m9kgmpji', 'httptcod62zfzy0mi', 'httptcod5w2zynp7b', 'httptcod5h4jif1y3', 'httptcod4c2iqirnu', 'httptcod3ctni8qit', 'httptcod2veppeh8s', 'httptcod2i9bl89zo', 'httptcod1vjoyg52a', 'httptcod12r8xpshy', 'httptcod02sbm0ojs', 'httptcoczwjw4uv7i', 'httptcocznxhutasx', 'httptcoczbamzq3gl', 'httptcocyzlshlqhg', 'httptcocyxbrzxwq4', 'httptcocyv2zg935g', 'httptcocykr4xaluh', 'httptcocy0ciu2u1c', 'httptcocxyfqn3ue4', 'httptcocxi82rfifs', 'httptcocxdjapzxmp', 'httptcocxb55h37jn', 'httptcocx6aupnemu', 'httptcocx5ojh2dr4', 'httptcocwzhgezaj4', 'httptcocwm0ulqu3e', 'httptcocwcvbubs01', 'httptcocvjyml7krm', 'httptcocvhygwcbzv', 'httptcocvgjfpbtrn', 'httptcocuvkf5ykax', 'httptcocufgvupkzi', 'httptcocudkryuuan', 'httptcocubze5mizm', 'httptcocubc0nq6fd', 'httptcoctijdpxabk', 'httptcocsxvwxuz6t', 'httptcocs8myauna4', 'httptcocrpo9dkw9v', 'httptcocrcn8rwvkj', 'httptcocqlm9jojop', 'httptcocq7jj6yjfz', 'httptcocpqgufzb28', 'httptcocplyrewfz3', 'httptcocpeqv52lna', 'httptcocp7c1ch0zu', 'httptcocomlg0vdbv', 'httptcocnyvvy4wat', 'httptcocnshlnjuqx', 'httptcocnqae9foj6', 'httptcocnkvile7be', 'httptcocn1jommugh', 'httptcocmweiojj55', 'httptcocmsgexm4fc', 'httptcocm7hqwwulz', 'httptcocm5u55miol', 'httptcoclolmorpld', 'httptcocln2sxzy1z', 'httptcocllwud4wsu', 'httptcocjvbqxw83s', 'httptcocjuighbxyn', 'httptcocjrssry1rt', 'httptcocjqq6cgohg', 'httptcocjirhhh4vj', 'httptcocjhh17duli', 'httptcocjctb2ocxg', 'httptcocj76k0yayj', 'httptcocizjafnm4e', 'httptcociwwuqthin', 'httptcocirtvml9vp', 'httptcocimubweyib', 'httptcocilo9pmleb', 'httptcocihc8nrc9h', 'httptcochorr2xovp', 'httptcoch6e7vtatr', 'httptcocgvuy3rcxo', 'httptcocgmjlseylo', 'httptcocgfzk8ha1r', 'httptcocgf61fpmr0', 'httptcocgdj3drso9', 'httptcocg579wldne', 'httptcocfxhqhvbvb', 'httptcocfouwpbrcg', 'httptcocfevtrsc1u', 'httptcocfe9huqn0h', 'httptcocf9e6tu3g7', 'httptcocekbxjmpbj', 'httptcoceiao1texr', 'httptcocedjdlpdan', 'httptcocdxe5vmzoj', 'httptcocdohgnjmst', 'httptcocd2ng2awql', 'httptcoccvcte3lcw', 'httptcocc9z5asvzh', 'httptcocc7d0wxk0m', 'httptcocbxnhhz6kd', 'httptcocbps1gskvo', 'httptcocbaxcuba0h', 'httptcocarvv6gsrb', 'httptcocar5qeuvhh', 'httptcocaneyttwev', 'httptcocalk5nv5vc', 'httptcocadzxagmsi', 'httptcoc9t2f6dltm', 'httptcoc9jnxz3dxc', 'httptcoc9dvdssofn', 'httptcoc8zpmzhtde', 'httptcoc8uxkizwm6', 'httptcoc8b6ddiqig', 'httptcoc7rco2emwf', 'httptcoc6lgtotvsf', 'httptcoc5u9qsysej', 'httptcoc5u9qshhnb', 'httptcoc5jutfxbm9', 'httptcoc5ggszugw1', 'httptcoc3w95h0ozz', 'httptcoc2eyjnybfn', 'httptcoc22ecvl4hw', 'httptcoc211hise0r', 'httptcoc1xhizprad', 'httptcoc1qxjweqqu', 'httptcoc0t7rvotkj', 'httptcoc0slabbp7j', 'httptcoc0nkgp6w03åÊ', 'httptcobzkqpl6r0a', 'httptcobzdfznkvog', 'httptcobz3ir4gmwj', 'httptcobz07c9wthx', 'httptcobyvubg0wye', 'httptcobytsfms7md', 'httptcobytbz8s5ux', 'httptcobyj5dfa2rv', 'httptcobxgnq57xvb', 'httptcobwe9kjcept', 'httptcobwdhibtiks', 'httptcobvxqa3kfrx', 'httptcobvckd9pdti', 'httptcobuzwjmw49e', 'httptcobumzvmwam3', 'httptcobtus5jejuy', 'httptcobtpqdehl3p', 'httptcobti8jamfiu', 'httptcobsrerjby0i', 'httptcobsgr67dywy', 'httptcobs6xaqhsim', 'httptcobs6pjt09tc', 'httptcobre2lgmn7c', 'httptcobraoubgec2', 'httptcobr7gmmh5ek', 'httptcobqv3qttuxr', 'httptcobqbhuyfme9', 'httptcobq90pfzmrp', 'httptcobq8kyi7gng', 'httptcobq3p7n7w06', 'httptcobptzamjl2k', 'httptcobp8bm8xsxw', 'httptcobp6mfjhars', 'httptcobp597yds2b', 'httptcobp03eafewr', 'httptcobozlwr716z', 'httptcoboygbp0jw9', 'httptcobovjrf62t7', 'httptcobnwygx6luh', 'httptcobnrdkgxavr', 'httptcobnhtxaezmm', 'httptcobn7xpzqdm0', 'httptcobmxsndx14g', 'httptcobmwmpoydig', 'httptcobmsedzofsv', 'httptcobm0sxzbnke', 'httptcobm0qec7pja', 'httptcoblzt5zwose', 'httptcoblppzaiboe', 'httptcoblcbabm7a1', 'httptcoblaawhysct', 'httptcobla42rdt1o', 'httptcobl59fw4sys', 'httptcobksyymvisg', 'httptcobkpfpogysi', 'httptcobkh7z6cwwl', 'httptcobkdgcfsuiq', 'httptcobjycrgfh5y', 'httptcobjvfk1ete9', 'httptcobjrrqhhohl', 'httptcobjojvm0pjx', 'httptcobjjoifzuhl', 'httptcobj4haavaye', 'httptcobiulqprxke', 'httptcobiuey7buts', 'httptcobiu4kowglz', 'httptcobirkbje23e', 'httptcobikr8zzbha', 'httptcobiigd1leq3', 'httptcobieyguqpb1', 'httptcobhzr9ugus2', 'httptcobhsuxvq6nf', 'httptcobhfoylqljp', 'httptcobgytmqj3oo', 'httptcobgrab7lk8d', 'httptcobgm4csrbvd', 'httptcobgerljamte', 'httptcobgaj2oax1p', 'httptcobftiapf35f', 'httptcobfthahlcr0', 'httptcobfes5twbzt', 'httptcobeua507iug', 'httptcobekrpjnyhs', 'httptcobehfhsppud', 'httptcobdotq8dsln', 'httptcobdn2fdpdaz', 'httptcobd52fxdvhq', 'httptcobcsxyec4ji', 'httptcobcpmvylsih', 'httptcobclqpwfdod', 'httptcobcldqmmehg', 'httptcobcjylerryx', 'httptcobcdp4gkoka', 'httptcobccca4vy9r', 'httptcobbqnk76qus', 'httptcobbm9sr1wow', 'httptcobb7ttdvjwe', 'httptcobaqocmcjqc', 'httptcobagef9lfgt', 'httptcobae0ap4g9y', 'httptcobabmf0w2yw', 'httptcoba4pusvjln', 'httptcoba2rrxugsg', 'httptcob9zx2xz6aw', 'httptcob9kuylcxg4', 'httptcob9jaxx0vcf', 'httptcob8n6e4ryvz', 'httptcob77t2qxdcs', 'httptcob6nphxorzg', 'httptcob5s5epj7um', 'httptcob5okgpspbh', 'httptcob3x1wqzaor', 'httptcob32jmvsb1e', 'httptcob2yvlmpepr', 'httptcob231ul1o1k', 'httptcob1bx0eruep', 'httptcob0zwi0qptu', 'httptcob0es3ziork', 'httptcoazovgv4sb6', 'httptcoazl4xydvzk', 'httptcoayp6zvhm2a', 'httptcoayfdjeb7hy', 'httptcoay6zzcupnz', 'httptcoay49mtyyl8', 'httptcoaxxdcakzty', 'httptcoaxvqldtehc', 'httptcoaxk9xno6yz', 'httptcoaxhclfersu', 'httptcoawxr24zsqh', 'httptcoawtscucbbv', 'httptcoawpu0gae0b', 'httptcoaw23wxtyjb', 'httptcoaw1nytpwjr', 'httptcoavzsyie1nt', 'httptcoavwe1lbvhn', 'httptcoavvsoino8z', 'httptcoavv6hpnpch', 'httptcoavu9b4k2rv', 'httptcoav2jsjfftc', 'httptcoauxsmdg1un', 'httptcoaurugjegiq', 'httptcoauoeyirqe6', 'httptcoauf4j4owj1', 'httptcoauezxza5ak', 'httptcoau5jwgt0ar', 'httptcoau3dbci7nf', 'httptcoatcmrjzjtp', 'httptcoarzemsr7fq', 'httptcoaryu5qngjj', 'httptcoartumhmbhh', 'httptcoarktj9qn4s', 'httptcoarkmc7vcln', 'httptcoaqxwolbcfq', 'httptcoaqmpxzo3v1', 'httptcoaqinavl1b6', 'httptcoaqbljcomln', 'httptcoaq5zlim7l4', 'httptcoapwxs5mm44', 'httptcoapvlh7hj1o', 'httptcoaptap6yx1r', 'httptcoaprensss3x', 'httptcoaphqu5svet', 'httptcoap30pszkvx', 'httptcoaog5chjmvs', 'httptcoaoesbvns45', 'httptcoaod2ftbmgu', 'httptcoao4ju9vmmf', 'httptcoanutoopkf4', 'httptcoanriombhqn', 'httptcoanp9g6njfd', 'httptcoanodgxzr3e', 'httptcoanlhw2izkz', 'httptcoand1btizao', 'httptcoamymwwcpym', 'httptcoamrox4y4nx', 'httptcoamea3lamdj', 'httptcoalumrgl40e', 'httptcoalgtcn8baf', 'httptcoalbvdnwjtg', 'httptcoal28rvkqpq', 'httptcoakzzoe5ce6', 'httptcoakq4rwjfvl', 'httptcoaknynpv461', 'httptcoajzy19vepu', 'httptcoajyulmftif', 'httptcoajtxuafoem', 'httptcoajpnebg803', 'httptcoajpbdcalew', 'httptcoajkmcuswho', 'httptcoai6kworbbt', 'httptcoahvymsqhqc', 'httptcoagycutkbnn', 'httptcoagqo1479xm', 'httptcoag65u29sgo', 'httptcoafzqvotutj', 'httptcoafssgpnzwi', 'httptcoafrhnlly8d', 'httptcoaf1yzus8ln', 'httptcoaez3ak1lrn', 'httptcoaewglvqreh', 'httptcoaetgbxm1pl', 'httptcoae9cpiexak', 'httptcoadz8kburt7', 'httptcoadx9iyi246', 'httptcoadsvdpnp3r', 'httptcoadip0unxhu', 'httptcoad38kwoglh', 'httptcoaczruorytd', 'httptcoacmrm833zq', 'httptcoacfi2rhz4n', 'httptcoacc1z5q9zw', 'httptcoacb0ryenuo', 'httptcoac6i3te8mt', 'httptcoabyhrgss1s', 'httptcoabolxmh1vy', 'httptcoablz20mgzv', 'httptcoabgct9vfua', 'httptcoaawzxykles', 'httptcoaatt5amnmd', 'httptcoa9gtopyzk8', 'httptcoa9bnlse6qb', 'httptcoa8nmdkd3rv', 'httptcoa8jz5a26wi', 'httptcoa7zf6n7vrl', 'httptcoa7tjawwtj7', 'httptcoa6wmbnr51s', 'httptcoa6ro9bmxcy', 'httptcoa6ppegelox', 'httptcoa5iwus8evq', 'httptcoa5gnzbusqq', 'httptcoa3xv6ff8dn', 'httptcoa3rgqucugo', 'httptcoa3dsmbqkwu', 'httptcoa3bjabhqhe', 'httptcoa2tiivnjdy', 'httptcoa2ss7pr4gw', 'httptcoa2myutpdiq', 'httptcoa2e6dcsk88', 'httptcoa1moejxqya', 'httptcoa0v1ybysod', 'httptcoa0ad8z5vsr', 'httptco9zrqmd8ngz', 'httptco9z9hsmiavd', 'httptco9y0paj8sxd', 'httptco9xohmmlmdy', 'httptco9xo9mkqqsi', 'httptco9vw0uqqi1y', 'httptco9viibxgjav', 'httptco9vd6x4wdoy', 'httptco9v1rvcomh2', 'httptco9utqe9zfde', 'httptco9tyucdwh3g', 'httptco9tg7a5oqfp', 'httptco9tb82zmr2x', 'httptco9stlkh59fb', 'httptco9rryaylgyy', 'httptco9r5fsts7bd', 'httptco9qpg0z3rh9', 'httptco9qnq45zduw', 'httptco9q9rk3fof7', 'httptco9pymm2ruwf', 'httptco9pfeaqeski', 'httptco9odqryjncf', 'httptco9nz9zfm93i', 'httptco9nyxjndora', 'httptco9nly2tovud', 'httptco9naw3qoqol', 'httptco9mtrq5jf4d', 'httptco9mj8ouj3vt', 'httptco9lpf4v4hmq', 'httptco9lo0hzwjpz', 'httptco9l5kqykrbg', 'httptco9k1tqsaarm', 'httptco9jxb3rx8mf', 'httptco9jeuu86koi', 'httptco9ikhdyhvnc', 'httptco9i5cczd5s0', 'httptco9hieifhsmc', 'httptco9guckjghms', 'httptco9gtylgxroe', 'httptco9giaxd6jty', 'httptco9f3rdn9n3d', 'httptco9eh2lcqkxl', 'httptco9e2f7bivle', 'httptco9dvu1ridz3', 'httptco9dflv6ynqr', 'httptco9d4nazoi94', 'httptco9cntp3nq6o', 'httptco9ckgggyvou', 'httptco9bliddngtf', 'httptco9asc1hhfnj', 'httptco99mbyfl3id', 'httptco98o2kc3a1z', 'httptco985dwwpdet', 'httptco97b8avgewu', 'httptco964dk4rwwe', 'httptco94uyt4ojyk', 'httptco94gjskur0r', 'httptco93vqkdfgnr', 'httptco93infxzhx0', 'httptco93iaeec26t', 'httptco92pk0hujd8', 'httptco92fwtobi3u', 'httptco918eqmtkrl', 'httptco911f3ixrh0', 'httptco90l2lb5wmr', 'httptco8zy9n6fx9t', 'httptco8xixbspot8', 'httptco8vzsftr1bg', 'httptco8t36hwgoqd', 'httptco8s0mtwrumq', 'httptco8rdxcfgqem', 'httptco8rabhqrth5', 'httptco8r5vpaoo5z', 'httptco8qqzyziaqf', 'httptco8qc8bcxoko', 'httptco8prnhrhb2t', 'httptco8pifutrb5u', 'httptco8picbkdjm0', 'httptco8pdnhh6tzh', 'httptco8odtzmvqar', 'httptco8nhd9idajs', 'httptco8nadrgr4xc', 'httptco8lkmwp9qzw', 'httptco8lcbdw7m2z', 'httptco8l4rffzd0p', 'httptco8kznhtytt9', 'httptco8kscqkfkkf', 'httptco8kj1wdaigj', 'httptco8jymd9ypsj', 'httptco8jxql8cv8z', 'httptco8jvqi9uspl', 'httptco8jlxz6fkxy', 'httptco8jcyxhq1az', 'httptco8j19fvu7qa', 'httptco8ihuco4glw', 'httptco8icseshbj3', 'httptco8hgcbxukz0', 'httptco8h2kctfb8i', 'httptco8gzbgmmaa1', 'httptco8gtrvece1n', 'httptco8go68kje4b', 'httptco8e7ry8ebmf', 'httptco8e6xuhrbkh', 'httptco8ddijzynkf', 'httptco8cpcz2xohb', 'httptco8acdf4zui6', 'httptco87h5mba3n1', 'httptco86rsyy2tng', 'httptco86pknkchmr', 'httptco85g1pcccxg', 'httptco83bmprwh7w', 'httptco829n4hjhol', 'httptco81hvv3n3rs', 'httptco81g18wsauk', 'httptco80ebvglmra', 'httptco7zog3dpdu9', 'httptco7zlsumiess', 'httptco7y2gnva2ev', 'httptco7xq8jrtl7i', 'httptco7xglah10zl', 'httptco7vcezi6cbb', 'httptco7ufnxxavqs', 'httptco7uf7tst9zx', 'httptco7s9nm1fict', 'httptco7s1gfnebgt', 'httptco7rakhp3bwm', 'httptco7qpg80ud7v', 'httptco7old5mjwph', 'httptco7o4lnfbe7k', 'httptco7nu7prxeul', 'httptco7npbfrzejl', 'httptco7nagdsadwp', 'httptco7mzycu2iho', 'httptco7mug2kahl7', 'httptco7mlcd0l0b8', 'httptco7mepkbf9e8', 'httptco7lvgcmyiyj', 'httptco7le5gq2psx', 'httptco7k5shaiqiw', 'httptco7jggqwbv6s', 'httptco7jfreteii4', 'httptco7ijlz6bcsp', 'httptco7ieiz619h0', 'httptco7huen4rwrn', 'httptco7hkavtvx81', 'httptco7giglwdmhy', 'httptco7fsn1gewux', 'httptco7evyelw4lc', 'httptco7ennullkzm', 'httptco7dyoglhmre', 'httptco7d7vweq3es', 'httptco7cmf3noync', 'httptco7cibxls55f', 'httptco7cehnv3dky', 'httptco7cadm3lnko', 'httptco7bevuje5ep', 'httptco7b2wf6ovfk', 'httptco7aze4iogme', 'httptco7ageakvn2x', 'httptco7adqv1grvr', 'httptco7ad0l7cgee', 'httptco79upydcemp', 'httptco76ehhmqq6r', 'httptco75vlsw85gi', 'httptco74jppek6o7', 'httptco73umw2igrz', 'httptco72ix7vm87w', 'httptco71vdjhjnwv', 'httptco719tzeyhfn', 'httptco6zcfhi7srw', 'httptco6ysbcsszys', 'httptco6xsbddlziy', 'httptco6x0xhlbxji', 'httptco6whugaem3c', 'httptco6wadnmstov', 'httptco6w6a2l4qae\\x89Û\\x9d', 'httptco6vei1mhea4', 'httptco6un7xc9sve', 'httptco6uhih9pbru', 'httptco6tvvlg2fni', 'httptco6sy44kyysd', 'httptco6supthaece', 'httptco6siirlnv6z', 'httptco6sdtzsgelq', 'httptco6qzxfk2lfs', 'httptco6qx7arf4ag', 'httptco6qc8whdizy', 'httptco6peeip4y7w', 'httptco6pagjqfbzk', 'httptco6odnbttpsq', 'httptco6o1mgmghgt', 'httptco6nqru2q5tz', 'httptco6ndbfopk5m', 'httptco6ncfjxploy', 'httptco6n6gcej9iy', 'httptco6mgbizjfgd', 'httptco6mf7eyzoaw', 'httptco6mbpvwitxf', 'httptco6m0ynjwbc9', 'httptco6lojoorouk', 'httptco6jzcedayrg', 'httptco6jjvcdn4ti', 'httptco6ioabsl6i7', 'httptco6ime8kjacv', 'httptco6hkw5qlppt', 'httptco6hkca1dsna', 'httptco6hhmbdk9yo', 'httptco6gsamy6mts', 'httptco6g49ywwsqj', 'httptco6fynermusg', 'httptco6ffylajwps', 'httptco6f9afql6wp', 'httptco6ezkoof2xt', 'httptco6exs23muy3', 'httptco6dznejuvd3', 'httptco6ds67xai5e', 'httptco6cz3bohrd4', 'httptco6cx46e7qb7', 'httptco6craekc9wb', 'httptco6coidv11qv', 'httptco6cadrhioxp', 'httptco6ar3ukvsxw', 'httptco6aqrnankfd', 'httptco6agmkx2ww4', 'httptco6acswzo7cw', 'httptco69mlhfefhr', 'httptco69iizvyqyc', 'httptco67tjn9egyk', 'httptco66yvulizbk', 'httptco65xr1p9soo', 'httptco637rc3qc8d', 'httptco62oddekvli', 'httptco612bsbvw8k', 'httptco5zdbtktww7', 'httptco5zcje7arci', 'httptco5ytiex55lh', 'httptco5yl4dc1tqt', 'httptco5ydb4s13pf', 'httptco5xrc0a76vd', 'httptco5xmce6jufs', 'httptco5wfxbaqmbk', 'httptco5v29w19tfx', 'httptco5ukohk7sob', 'httptco5uftrxppv0', 'httptco5uecmcv2pk', 'httptco5u5gakx2ch', 'httptco5t69ev0xti', 'httptco5qyczywkgg', 'httptco5qhqo6ejtu', 'httptco5qhoehe9hf', 'httptco5pmikavykl', 'httptco5ortb8p51c', 'httptco5oqhq8quqv', 'httptco5ng0fzpvds', 'httptco5n4husewly', 'httptco5mjzjnkpfn', 'httptco5loiwuyv5r', 'httptco5lnidvobff', 'httptco5koho39oje', 'httptco5kjy8g0i4y', 'httptco5kfovovjso', 'httptco5kbrzzmf8c', 'httptco5iyzsda6xb', 'httptco5hkgxzjlmx', 'httptco5gktshiorr', 'httptco5g8qa6mpxm', 'httptco5fr41tpzte', 'httptco5fhkxtrhyu', 'httptco5fcjvml520', 'httptco5ebpybfh4d', 'httptco5dujgypima', 'httptco5dj6chjfzp', 'httptco5cwuylnfum', 'httptco5cm0lfzhxn', 'httptco5cgtqfk2ur', 'httptco5bdrfu1duo', 'httptco5b7qt2yxda', 'httptco5aiexcbkfq', 'httptco59p3aoiqus', 'httptco58wvchg1m9', 'httptco58qrugzvg0', 'httptco57pkmmcadg', 'httptco55jr66plov', 'httptco53p4ooo1xn', 'httptco53lorsrgqf', 'httptco534q3jg2ov', 'httptco52uus4tfn3', 'httptco50vdq7a1m5', 'httptco4zn0mdsrvp', 'httptco4zaztb19qe', 'httptco4ykxt3kd62', 'httptco4y4ytwhd74', 'httptco4xb4zwyhct', 'httptco4wsva9wo0f', 'httptco4wjy7sehmw', 'httptco4virxkgmpc', 'httptco4sf0rgn8wo', 'httptco4ryzmzsgdw', 'httptco4ry6zhcpoq', 'httptco4rtpjrhsqe', 'httptco4roisyxjlw', 'httptco4q4zd7ou34', 'httptco4ou8s82hxj', 'httptco4oa6swlxmr', 'httptco4o460fm8hn', 'httptco4mjyw7p7cf', 'httptco4m5uheyfdo', 'httptco4l8h2fklno', 'httptco4kopkcyvtt', 'httptco4kdthctemv', 'httptco4kbwpcmmbm', 'httptco4jno677zkv', 'httptco4izfdyc3cg', 'httptco4ilt6fxu45', 'httptco4i0kz2akly', 'httptco4hngtkdqmv', 'httptco4hcywrwn6l', 'httptco4h8qyvvd0e', 'httptco4fynq1hwwb', 'httptco4fxfllrien', 'httptco4fcjfdkdzs', 'httptco4evttqpeia', 'httptco4esbsa8int', 'httptco4egh1g1jk7', 'httptco4e719w6m4v', 'httptco4e2gjmvrvi', 'httptco4ddmtguzzs', 'httptco4dbhono3rk', 'httptco4d9cd4mnvh', 'httptco4cpnbbzkzg', 'httptco4ceeuzwhvf', 'httptco4c58ooavhy', 'httptco4bcqzqjrzn', 'httptco4awc16uuwb', 'httptco49izkbohri', 'httptco4914njpio3', 'httptco48zg5ynebn', 'httptco48tpnmbjvg', 'httptco48h3tlvlxr', 'httptco45twhj0l6m', 'httptco45cmaqf8ns', 'httptco458dtr3ulx', 'httptco43sxg9z6xh', 'httptco42mawzb8t9', 'httptco42gw2i2q41', 'httptco41l8tqcaey', 'httptco3zp6ahnsxn', 'httptco3zo7px3p1v', 'httptco3zasz6wxjj', 'httptco3yu26v19zh', 'httptco3wnjauar7w', 'httptco3w0pxfyyri', 'httptco3vwp7wd56w', 'httptco3vfkedgrso', 'httptco3ugfpwmy2x', 'httptco3u6mdlk7di', 'httptco3tssxphufe', 'httptco3tnuaciv3c', 'httptco3sth9lrbun', 'httptco3stfmn26r9', 'httptco3sqsergni2', 'httptco3snyoohseq', 'httptco3rva5uvt0p', 'httptco3r8qozjt7t', 'httptco3pcntczoxv', 'httptco3pbfyjx0ya', 'httptco3om3xw6cz8', 'httptco3ol8mhhpma', 'httptco3oionqlfql', 'httptco3og66nfsig', 'httptco3nuih6pkui', 'httptco3nkculgvmw', 'httptco3mtwh0jjns', 'httptco3kaafuoztc', 'httptco3k42mjvqca', 'httptco3imaomknna', 'httptco3ife1zsop7', 'httptco3i3d2ngent', 'httptco3huhzxliig', 'httptco3htj2pypsg', 'httptco3gz5zqqthe', 'httptco3glyoyf6oc', 'httptco3geroq49o1', 'httptco3fzidhqrk3', 'httptco3fqq7pfjvx', 'httptco3f7owdecy7', 'httptco3ejl9lzlch', 'httptco3drsmxw3cr', 'httptco3bwwnlsxhb', 'httptco3brme6sn4t', 'httptco3a50dhz7yi', 'httptco3a3fgzfmzh', 'httptco39iabcc5pk', 'httptco37dqvjhncv', 'httptco36gccapaak', 'httptco366nhtg3tz', 'httptco35jyap0ul9', 'httptco33fbr25t1o', 'httptco328szfletz', 'httptco31tgtlz3ya', 'httptco2z8ubsy5m8', 'httptco2z2htdjqzd', 'httptco2y9dnp5vtg', 'httptco2y5morpugt', 'httptco2xwihy2wsg', 'httptco2xohtjqjwh', 'httptco2xmdidgpnr', 'httptco2wvmij5sa4', 'httptco2wcbrgn62j', 'httptco2wbivkzjip', 'httptco2ugrmd1z1n', 'httptco2ufcc6gh3m', 'httptco2twxz6vxbx', 'httptco2sz7okjrxi', 'httptco2sgdofsmrq', 'httptco2sdmichb2z', 'httptco2q3fuerey5', 'httptco2ppzgpxybi', 'httptco2pimg9bice', 'httptco2oroyunym2', 'httptco2oqsgzqlbz', 'httptco2ns5tfnxpa', 'httptco2nndbgwyei', 'httptco2nip3d15dx', 'httptco2mwc9ywjzy', 'httptco2mnqc73hfk', 'httptco2m1gneaifl', 'httptco2lqyxzq5dn', 'httptco2lbtshxi3c', 'httptco2kdq56xtws', 'httptco2jxkmkpalp', 'httptco2jr3yo55dr', 'httptco2jhtlwuey0', 'httptco2jbibeib9g', 'httptco2ii3brc7nx', 'httptco2iafpmqjep', 'httptco2i4eoggo5j', 'httptco2hocep41kh', 'httptco2fs649qdwx', 'httptco2fibe2haxc', 'httptco2fenu1syu6', 'httptco2bk7lagma9', 'httptco2baxg1wdpp', 'httptco2ao97o2a9d', 'httptco2acrgdqhj0', 'httptco28t3nwhdky', 'httptco2872j5d4hb', 'httptco26oo0fcl53', 'httptco241cn8yxjq', 'httptco22fuxhn7el', 'httptco22a9d5do6q', 'httptco21hsrrqzou', 'httptco20twgpmm7d', 'httptco20dncthr4d', 'httptco20b3pnqxmd', 'httptco1zbhvdcxzs', 'httptco1yixfg1hdy', 'httptco1yggzziz9o', 'httptco1ybe5mgzl4', 'httptco1yb8sizarg', 'httptco1xw0z8zeqw', 'httptco1xpw292tje', 'httptco1xhsuewqn4', 'httptco1wopsgbvvv', 'httptco1wcofmlub9', 'httptco1w58ehv9s1', 'httptco1vz3rmjhy4', 'httptco1vjalja1sx', 'httptco1vi2rnbk2i', 'httptco1uo1atrbbj', 'httptco1udz0nvoeh', 'httptco1tyyqfz13d', 'httptco1tvlfrhm1m', 'httptco1tr2kvxctw', 'httptco1rreo2jg9u', 'httptco1qt51r5h98', 'httptco1qochspybw', 'httptco1pxpoqktjo', 'httptco1pflm532mg', 'httptco1pdnlsp8xw', 'httptco1pdjoq4jc1', 'httptco1osmiuxkhw', 'httptco1o0j9fcpbi', 'httptco1mgvd4x5oe', 'httptco1meeo3wjco', 'httptco1lxnjvl8tr', 'httptco1lk1eqwyuw', 'httptco1ljntejgmb', 'httptco1krpz3j1eu', 'httptco1ki8lgvay4', 'httptco1jgsioujas', 'httptco1i19cuov7l', 'httptco1hlvrkwgip', 'httptco1he4ufawzm', 'httptco1h7zk6uyze', 'httptco1fvootqnej', 'httptco1funemes7m', 'httptco1fhrrhcimh', 'httptco1erd2fpryp', 'httptco1epiyenqyl', 'httptco1eof1wxnpj', 'httptco1elreh1jlj', 'httptco1eb2dauyfn', 'httptco1cvegtizog', 'httptco1ct0pugz69', 'httptco1cnw6nska5', 'httptco1beegwrsis', 'httptco199t7nd0pm', 'httptco18xq3fmuge', 'httptco17egmlni80', 'httptco14wh0pjj2c', 'httptco13w8cyukkz', 'httptco12giqbvlys', 'httptco11juzhlgmt', 'httptco11dvqjvxpo', 'httptco10muey8pxj', 'httptco0zznbvfuvo', 'httptco0z1pvjvdpf', 'httptco0yxbb5dzw5', 'httptco0yo2l38ozr', 'httptco0ymf6txfch', 'httptco0yl3yt4ylh', 'httptco0yaxrjicrr', 'httptco0xrfvidxa2', 'httptco0xh758onup', 'httptco0xcb7yeqmw', 'httptco0xa6fcjyec', 'httptco0x8jaqtowm', 'httptco0x2bieqxpv', 'httptco0wdseihyqu', 'httptco0wdazlcm90', 'httptco0wbecdmhqo', 'httptco0w12pwpsfx', 'httptco0vwpdizcko', 'httptco0usdi5jcho', 'httptco0uk0h9hozn', 'httptco0ubg9wfyge', 'httptco0tzsqe8esd', 'httptco0t9yd557ry', 'httptco0t8vqkeari', 'httptco0szwlwl9qu', 'httptco0scnwe8xbv', 'httptco0sa6xx1oq7', 'httptco0s6ydfrwdq', 'httptco0rsverlztm', 'httptco0rokdutyun', 'httptco0r03c6njli', 'httptco0q040stkcv', 'httptco0pamznyyuw', 'httptco0oms8ri3l1', 'httptco0mnpcer9no', 'httptco0migwcmtje', 'httptco0m1tw3datd', 'httptco0lpu0gr2j0', 'httptco0lmheaex9k', 'httptco0llwuqn8vg', 'httptco0la1aw9uud', 'httptco0krw1zyahm', 'httptco0kccg1bt06', 'httptco0jmkdtcymj', 'httptco0jfnvaxfph', 'httptco0iyuntxduv', 'httptco0iw6drf5x9', 'httptco0h7oua1pns', 'httptco0gknpy4lua', 'httptco0fs9ksv5xk', 'httptco0f8xa4ih1u', 'httptco0erisq25kt', 'httptco0dxvz7fdh3', 'httptco0drqlrsgy5', 'httptco0dqjeretxu', 'httptco0cxm5tkz8y', 'httptco0c1y8g7e9p', 'httptco0blkwcupzq', 'httptco0ajisa5531', 'httptco0abgfglh7x', 'httptco08lngclzsj', 'httptco073izwx0lb', 'httptco03l7nwqdje', 'httptco02elqlopfk', 'httptco00cy9vxeff', 'httptco007npen6lg', 'httpstcozwvyisyp2b', 'httpstcozvre6ffnyd', 'httpstcozvobmdxhgp', 'httpstcozv60chjclf', 'httpstcozqo6nuvytu', 'httpstcozpsnx5iyaj', 'httpstcozntg2wndmj', 'httpstcozhrtcvu0ff', 'httpstcozhjlflbhzl', 'httpstcoz9zj3kxwyu', 'httpstcoz8ij8ktkyk', 'httpstcoz4jyharrew', 'httpstcoyxnagsqvbm', 'httpstcoyx1ukbmtqb', 'httpstcoysxun5vceh', 'httpstcoyrqgnblkac', 'httpstcoyrfz5wj7r2', 'httpstcoyr8knephgu', 'httpstcoypvjgzqqqb', 'httpstcoyou7wn9xvs', 'httpstcoyl67dkf4tb', 'httpstcoyilt1bb68k', 'httpstcoyeqq3bzx3g', 'httpstcoycwaulqz3u', 'httpstcoybdsljw7c1', 'httpstcoy8orqapwrk', 'httpstcoy3fo0ghg8t', 'httpstcoxzvmzqus0x', 'httpstcoxyiwr9jetl', 'httpstcoxyfl8wy62g', 'httpstcoxuhmj098lq', 'httpstcoxqv6gzzmmn', 'httpstcoxn09mx6sxy', 'httpstcoxmwodfmtui', 'httpstcox2wn7o2a3w', 'httpstcox17fubqbgg', 'httpstcowzc5r4xoqz', 'httpstcowxela91juh', 'httpstcowwu070tjej', 'httpstcowtggqs5geh', 'httpstcowqy3jokumh', 'httpstcowemwdtfwic', 'httpstcowe40iux7ib', 'httpstcowdvxjsqwic', 'httpstcowdvqlewybs', 'httpstcowcfpznsn9u', 'httpstcowblimlmt2x', 'httpstcowactt18gda', 'httpstcovwz3vzpmfb', 'httpstcovnni3zzuz6', 'httpstcovhmtytptgr', 'httpstcovgzgok5k3s', 'httpstcovcv73buacz', 'httpstcov6qxnfhrxf', 'httpstcov0t8h4iecc', 'httpstcouttanbigrx', 'httpstcoutc7pdidfo', 'httpstcouplfsqmr0c', 'httpstcoumajwsnluf', 'httpstcoujk0e5gbcc', 'httpstcoudp10frxrl', 'httpstcoucsudk3q1d', 'httpstcouaodoquda1', 'httpstcou9x3perxco', 'httpstcou8hsrtrxmm', 'httpstcou4r8driuac', 'httpstcotxzxcnudr8', 'httpstcotxtpx4umqh', 'httpstcotwcds433yi', 'httpstcotuzacdwfqd', 'httpstcotui9uwbvvp', 'httpstcotuai0zwgxu', 'httpstcottq9ilhp8w', 'httpstcoto0bpieyms', 'httpstcotm5hthfdo0', 'httpstcotl29lnu44o', 'httpstcotfgrayudc5', 'httpstcot2kk8fya77', 'httpstcot07qxp5cbe', 'httpstcosz2rvwpwhj', 'httpstcosw1sbua3mn', 'httpstcosudkk1weez', 'httpstcosnaymldiun', 'httpstcoslc27emugm', 'httpstcosks5jccrj2', 'httpstcoskq8oucm3r', 'httpstcosjoeing76t', 'httpstcosjkgjxff2r', 'httpstcosg1ftkaegq', 'httpstcosek6mq6njf', 'httpstcosbzwruwufh', 'httpstcosb3rjqqzix', 'httpstcos7xdxuudcy', 'httpstcos2kxvm0cba', 'httpstcos107ee7cyc', 'httpstcorukjyjg9oq', 'httpstcorpda60aoni', 'httpstcorosvxqelqj', 'httpstcorjjxucx5pm', 'httpstcorjju70rhyu', 'httpstcorhtaqjvqn2', 'httpstcorfvjh58ef2', 'httpstcoreffbkvg9r', 'httpstcord10ex6hvt', 'httpstcorcvdrwowvo', 'httpstcorbrw8pwipj', 'httpstcorbbnjkoqud', 'httpstcor5stv25zhq', 'httpstcor4utnewlna', 'httpstcoqyx5thkrbh', 'httpstcoqwiihnmchr', 'httpstcoqrhng6kj1c', 'httpstcoqm5sz0fyu8', 'httpstcoqiopbtiuvu', 'httpstcoqgqlpmrfjd', 'httpstcoqeopmcjbcz', 'httpstcoqejedwsfdg', 'httpstcoqadrkejz9t', 'httpstcoq5mdsnbcmh', 'httpstcoprojeavg8t', 'httpstcopqslug4jk5', 'httpstcopqhq4jnztt', 'httpstcopmxlezjbrc', 'httpstcophfoeozyps', 'httpstcopd14gsrfsc', 'httpstcopcinc8ytfh', 'httpstcopccwsgcyma', 'httpstcopc3h1ne4g0', 'httpstcop5zicjudxo', 'httpstcop5jpjgiipw', 'httpstcop1jlurgwbu', 'httpstcop1amginsys', 'httpstcop0fizxmn5r', 'httpstcooxxrnab8un', 'httpstcoowpd7vcfs6', 'httpstcoosuoivnigo', 'httpstcoorxdqfz0j0', 'httpstcooptps1lgkc', 'httpstcoopjwunuvg8', 'httpstcools6qdi9um', 'httpstcoolnk1ti1nm', 'httpstcoolnfzb86zb', 'httpstcooifn28hpcs', 'httpstcoohcx3y8l4s', 'httpstcoofecs6tcvc', 'httpstcoofan6dkoez', 'httpstcoof3td6dglb', 'httpstcooez7o9ab2c', 'httpstcooaqtjawgxg', 'httpstconxs3z1kxid', 'httpstconwq6wjqk1z', 'httpstconv7rk63pgc', 'httpstconqnwktrhsa', 'httpstconps3xpbkaq', 'httpstconmgp7imeii', 'httpstconljvp3vfyz', 'httpstcondxrk2ncln', 'httpstcondjja4d5o8', 'httpstcon2zhrchcgv', 'httpstcon0tawgezjx', 'httpstcomy8q1uwijn', 'httpstcomusbik7ejf', 'httpstcomsuy4qtpk9', 'httpstcomrv54fidfn', 'httpstcomr9kcgpiwm', 'httpstcommzgphnknp', 'httpstcomkx6ux4ozt', 'httpstcomjbiuvbmo6', 'httpstcomj8rezoxlj', 'httpstcomexwohd3tg', 'httpstcomatijwkzbh', 'httpstcoma4ra7atql', 'httpstcom8mvdspjp7', 'httpstcom4tui0p9nt', 'httpstcolue3waegpi', 'httpstcolnpscadaxr', 'httpstcolkxi6uxjaq', 'httpstcolem5z1nfk3', 'httpstcoldjet9tfmk', 'httpstcolajx578dru', 'httpstcokw3vq4nijq', 'httpstcokq9ae6ap2b', 'httpstcokp5dpoaf58', 'httpstcokjmgteeklp', 'httpstcokgswhsr7mn', 'httpstcok4zomof319', 'httpstcok44tl3rfmy', 'httpstcojywfygclhm', 'httpstcojyiekeo2he', 'httpstcojwdfpyg3nt', 'httpstcojv8ppkhjy7', 'httpstcoju8nfpnedl', 'httpstcojslxtq3nqs', 'httpstcojrkgyl7te5', 'httpstcojq2ib1ob1x', 'httpstcojojnq2oopi', 'httpstcojmd7zwksdm', 'httpstcojb038rdfak', 'httpstcoj5in8mexaj', 'httpstcoj4fsdpfa63', 'httpstcoj3di85ist5', 'httpstcoj3cirxjfa6', 'httpstcoitfbbz9xyc', 'httpstcoisbtzujfbm', 'httpstcois2idc3ubj', 'httpstcoirfcn71szv', 'httpstcoipgmf4ttdx', 'httpstcoiniqzfyioi', 'httpstcoiiaigzkbnj', 'httpstcoii2spvp89b', 'httpstcoih8udz8mq3', 'httpstcoiggfnbixt5', 'httpstcoif62sdxvp7', 'httpstcoiecc1jdoub', 'httpstcoicttz0divr', 'httpstcoi2lwty5yup', 'httpstcoi2el5acrrw', 'httpstcohxm8c8e33d', 'httpstcohtpqvohtud', 'httpstcohsgktezucn', 'httpstcohlmyaanrc9', 'httpstcohksbmijqz1', 'httpstcohdv3zirbci', 'httpstcogzegjoakkw', 'httpstcogvm70u2bpm', 'httpstcogs0km0vlgk', 'httpstcogrwdr4kuf3', 'httpstcogiyaad7dcc', 'httpstcogi2p9tuvbi', 'httpstcoghucazjsxb', 'httpstcogfjfgtodad', 'httpstcogf5qjgoyci', 'httpstcogevrmbvznb', 'httpstcogeht4ski86', 'httpstcogcdxydbsc4', 'httpstcogajtugaui7', 'httpstcogaae0no5du', 'httpstcog1nw99yj8u', 'httpstcog0r3zr1nqj', 'httpstcofz1haej255', 'httpstcofx0w2sq05f', 'httpstcofw1ptaelgv', 'httpstcofs012trudg', 'httpstcofkqjy3ezyg', 'httpstcofd9dzspugk', 'httpstcofc3bxrthpg', 'httpstcof5ylp7pfn7', 'httpstcoewnunp8hdo', 'httpstcoetuuyislhw', 'httpstcoetdgpiwxti', 'httpstcoeltne5v1qn', 'httpstcoefkcoegjck', 'httpstcoecmujkkqx1', 'httpstcoec46lyqqc6', 'httpstcoe1wrvyzfkv', 'httpstcodxwfx56pwh', 'httpstcodvieablofz', 'httpstcodrno7okm21', 'httpstcodrfkarlz1d', 'httpstcododxi41y1cåÊis', 'httpstcodlvyfvnqee', 'httpstcodhggxo7mcc', 'httpstcodevffptcvj', 'httpstcoczqr3ci9xw', 'httpstcoczdw8oowa2', 'httpstcocyu8zxw1oh', 'httpstcocyompz1a0z', 'httpstcocvpdvhxd1r', 'httpstcocvkqigr1az', 'httpstcocubdnsnuvt', 'httpstcocnxxmffrae', 'httpstcocm9tve2vsq', 'httpstcociyty0fgpr', 'httpstcocic7h64qv8', 'httpstcochkp0gfynj', 'httpstcocezhq7czll', 'httpstcoccwzdtfbus', 'httpstcocavb7pgepv', 'httpstcobudmke3nnf', 'httpstcobptmlf4p10', 'httpstcobjzssw4tid', 'httpstcobiexwdldwc', 'httpstcobhufevagpu', 'httpstcobftou2nybw', 'httpstcobejftygjil', 'httpstcob7zwevsrgo', 'httpstcob7omj7u3ei', 'httpstcob19z8vi3td', 'httpstcob0zjwgmaiw', 'httpstcoasoopcygwn', 'httpstcoapod4eivba', 'httpstcoaomq1rykmj', 'httpstcoalnv51d95x', 'httpstcoakmihlris1', 'httpstcoabnzqwlig1', 'httpstco9zmwt9xydz', 'httpstco9le0b19lvf', 'httpstco9jcibenckz', 'httpstco9cpwiecegv', 'httpstco8u07foqjzw', 'httpstco8tygo0kizz', 'httpstco8sp8xlbbdr', 'httpstco8owc41fmbr', 'httpstco8bhvxx2xl9', 'httpstco86v81dv00e', 'httpstco7vsqqsvgni', 'httpstco7vovktxspo', 'httpstco7spydy1csc', 'httpstco7qrepylluk', 'httpstco7paovyzttw', 'httpstco7ct01neptl', 'httpstco743joqazrt', 'httpstco6zgef8j8bm', 'httpstco6ysxghc8gz', 'httpstco6xysdn2xz0', 'httpstco6xul6dcosh', 'httpstco6vyyer6py0', 'httpstco6ce1vwovhs', 'httpstco5yrbegzafx', 'httpstco5hljucxi0s', 'httpstco578gunp8t9', 'httpstco4zsxjgv7it', 'httpstco4zqrsaqrrt', 'httpstco4zmcqrmois', 'httpstco4yi4nuovbv', 'httpstco4vwsl2gfp0', 'httpstco4pqcmqchng', 'httpstco4i0rkcbk1d', 'httpstco4i0rjc9rqu', 'httpstco4arwwrzpsr', 'httpstco463p0ys0eb', 'httpstco407v1y4hhg', 'httpstco3w6sea9tuv', 'httpstco3kob7xbea0', 'httpstco3hoikdmocb', 'httpstco2zvhx41i9v', 'httpstco2zgvslox5p', 'httpstco2y4rgob7pj', 'httpstco2snyghaivs', 'httpstco2rtq9qmgpb', 'httpstco2liwkjybe9', 'httpstco2lgtzkwmqw', 'httpstco2gljhvead9', 'httpstco2dw23pmf4b', 'httpstco2be7bwcmpl', 'httpstco2azxdlcxga', 'httpstco1xssvgimvb', 'httpstco1buf0xm53d', 'httpstco0yzgw9zbhr', 'httpstco0xouv7dhwz', 'httpstco0vcsafx9by', 'httpstco0rny349unt', 'httpstco0mcxc68gzd', 'httpstco0ghk693egj', 'httpstco0fekgyby5f', 'http', 'html5', 'hsu', 'hsjb215', 'hs2', 'hs', 'hrsto', 'hrs', 'hronlinetweets', 'hromadske', 'hripsk', 'hrefhttptcownowfvcbms', 'hpssjd', 'hows', 'howre', 'howfans', 'howell', 'howardu', 'households', 'household', 'houghjeff', 'hotter', 'hotteennsfwpornmilf', 'hotspot', 'hotnewscake', 'hotboy', 'hotbox', 'hosts', 'hospitality', 'horsetalknz', 'horrormoviesca', 'horrifying', 'horrendous', 'horowitz', 'horoscope', 'hornybigbadwolf', 'horno', 'horn', 'horizon', 'horiikawa', 'hopped', 'hopfer', 'hopes', 'hopeinhearts', 'hopeinchrist', 'hopefulbatgirl', 'hopedfor', 'hoped', 'hoops', 'hooligans', 'hooligan', 'hook', 'hoof', 'hoodedu', 'hoo', 'honour', 'honored', 'honor', 'honeybunzgem', 'honduran', 'hond', 'homukami', 'homies', 'homicides', 'homeworldgym', 'hometownglory', 'hometown', 'homepage', 'homemade', 'homeland', 'homeimprovement', 'homegrown', 'homecoming', 'homebuyer', 'homealone2', 'homeabc', 'home2', 'holymileyray', 'holt', 'holomua', 'holodomor', 'holmes', 'hollywarnexx', 'hollyw', 'hollyorange8', 'holly', 'holistic', 'holidays', 'holes', 'holdin', 'hoke', 'hoisting', 'hogging', 'hogan', 'hoffman', 'hoc', 'hobby', 'hoax', 'ho', 'hmmthis', 'hmmm', 'hm', 'hlportal', 'hlongwane', 'hlg', 'hi\\x89ÛÓtech', 'hitters', 'hitchhiking', 'hitandrun', 'his\\x89Û', 'hist\\x89Û', 'historys', 'historicchurch', 'historicalmages', 'historical', 'hisao', 'hirsch', 'hiroshima\\x89ÛÓbbc', 'hiroshimasized', 'hiroshimas', 'hiroshimanagasaki', 'hiroshima70000', 'hirochii0', 'hires', 'hired', 'hipsters', 'hipster', 'hints', 'hinterestin', 'hintdevastation', 'hindustan', 'hindsight', 'hinatobot', 'hinata', 'himeruisu', 'himalayas', 'hilversum', 'hillymountain', 'hillside', 'hillarymass', 'hillaryclinton', 'hilda', 'hil', 'hikers', 'hiker', 'hikagezero', 'hijinks1967', 'hijackerturnedsattutor', 'higuains', 'high\\x89Û\\x9d', 'hightech', 'highsmith', 'highrise', 'highqualitybird', 'highland', 'highestranking', 'hienshi', 'hideous', 'hicksville', 'hickson', 'hibernating', 'hiatt', 'hhs', 'hhello', 'hhbu', 'hhahaha', 'hfxstanfield', 'he\\x89Ûªs', 'heywood', 'heyseto', 'heyot6', 'heyitsepark', 'heyimbeeyt', 'hexagon', 'hesse', 'hersvp', 'herself', 'hers', 'herring', 'heroine', 'hermitage', 'herman', 'hereticofethics', 'heregtcnn', 'heredeluge', 'henshaw', 'henley', 'hendy21', 'hendrixonfire', 'hendricks', 'henderson', 'hempoil', 'hem712c', 'helsinki\\x89Û', 'helsinki', 'help\\x89Ûª', 'helphorses', 'helparsenal', 'helo', 'helmet', 'helm', 'hell\\x89Û', 'hellotybeeren', 'hellonwheelsamc', 'hellfireev', 'heller', 'helios', 'heli', 'helens', 'helen', 'heirs', 'heidia1438', 'hehe', 'heels', 'hed', 'hector', 'hebrooon', 'hebron', 'heavyåÊrain', 'heavyweight', 'heavydirtysoul', 'heavybag201', 'heather', 'heated', 'heartland', 'hearths', 'heartdisease', 'heartbeat', 'heartache', 'hears', 'hearitfrompatty', 'hearitfrompa', 'heared', 'healthweekly1', 'healthinsurance', 'healthandsafety', 'heals', 'healingreviving', 'healed', 'headquarters', 'headon', 'headlinelike', 'headline', 'header', 'headdesk', 'hea', 'hdumpty39', 'hcsm', 'hcg', 'hazelannmac', 'hazard\\x89Û', 'hazardwillian', 'hazardu', 'hazardsdisaster', 'hazarddi', 'hazarddangerous', 'haydnexists', 'hayden', 'hay', 'hawkhis', 'hawaiianpaddlesports', 'havnt', 'hav', 'hatzolah', 'hatman', 'hateviolence', 'hater', 'hasåÊarrived', 'hastle', 'hassle', 'hassanrouhani', 'hasil', 'hashtagteaclub', 'hashtags', 'hashimoto', 'hasbro', 'harveymaine', 'harvesting', 'hartford', 'harshness', 'harshly', 'harrystyles', 'harrowing', 'harrisgle', 'harris', 'harpers', 'harperanetflixshow', 'harms', 'harmony', 'harman', 'harlan', 'hardstyle', 'hardside', 'hardly', 'hardest', 'harder', 'harden', 'hardcover', 'hardball', 'harda', 'harbhajansingh', 'harassment', 'harassed', 'harakiri', 'har', 'happyhour', 'happing', 'happen\\x89Û', 'happenings', 'hapa', 'hao', 'hannomottola', 'hannemans', 'hannahkauthor', 'hannah', 'hanna', 'hank', 'hangout', 'hangin', 'handsome', 'handside', 'handled', 'handicapped', 'handi', 'hamstring', 'hamptonroadsforme', 'hamlet', 'hamayun', 'ham', 'halsey', 'halljh1720', 'halifax', 'halfway', 'halfrailed', 'halfnaked', 'halfhr', 'halfhourhotel', 'halfderailed', 'haleywhaley', 'hakogaku', 'hajihunter762', 'hairy', 'hairdryer', 'haircuts', 'hairbut', 'hail\\x89Û', 'hailzel', 'hailyycstorm', 'hailyoutsey', 'hailthe', 'hailstorm\\x89Û', 'hailstormwindstorm', 'hailing', 'haildamage', 'hai', 'hacks', 'hacked', 'habit', 'haaretz', 'haaaaaa', 'h20', 'g\\x89Û', 'gyrsi', 'gypsy', 'gyp', 'gwfrazee', 'gwatt', 'gv', 'guyreginald', 'guthrie', 'gut', 'gusto', 'gurmeetramrahim', 'gurion', 'guoqiang', 'gunning', 'gunnersfan89', 'gunners', 'gunned', 'gunk', 'gunfail', 'gummy', 'gulls', 'gulfport', 'gulf', 'gulags', 'gujaratriot', 'guiltygearxxacp', 'guidofawkes', 'guides', 'guevara', 'guests', 'guessing', 'gucci', 'guatemalan', 'guards', 'guardrails', 'guam', 'guage', 'guabxfv', 'gtxrwm', 'gtservers', 'gtmaintenance', 'gtlt', 'gtgtthis', 'gtfo', 'gtas', 'gt50', 'gt33333', 'gr\\x89Û', 'grupdates', 'grumpout', 'grummz', 'grudges', 'grubbing', 'grtvnews', 'grrrr', 'growingupspoiled', 'growingupincolorado\\x89Û\\x9d', 'grouponuk', 'gross', 'groin', 'grogparty', 'groceries', 'groaning', 'grizzly', 'gritty', 'grit', 'grinds', 'grindhouse', 'grimrail', 'grimes', 'grills', 'grilled', 'grille', 'grief', 'grid', 'greystone', 'greyjoys', 'greinke', 'gregorysanders', 'gregory', 'greggmair', 'greetingcards\\x89Û', 'greeting', 'greet', 'greer', 'greenspace', 'greenlacey', 'greening', 'greenbuildermag', 'greedy', 'greed', 'greece', 'greatly', 'greateranglia', 'greater', 'greasy', 'graywardens', 'graysondolan', 'grayed', 'gray', 'gravy', 'gravitymovie', 'gravitychat', 'grave', 'gratia', 'graph', 'grapes', 'granttamane8', 'grantgordy', 'grandmother', 'grandma', 'grandfather', 'grandad', 'grains', 'grahamwp', 'graduated', 'grabs', 'grabbing', 'grabakahitman', 'gr', 'gpv', 'gpsbased', 'gpaulista5', 'go\\x89Û', 'goz', 'govts', 'govjaynixon', 'govern', 'govegan', 'goulding', 'gotthard', 'gotriangle', 'gotham', 'gostei', 'gospel', 'gosh', 'gorpuazikinak', 'gore', 'gordonr74', 'gordon', 'goooooooo', 'goooooooaaaaaal', 'gooneratheist', 'goonda', 'googlemaps', 'goofballs', 'goodreads', 'goodnight', 'goodness', 'goodlookrunning', 'goodells', 'goode', 'goodbyes', 'goner', 'golfball', 'goin', 'gohan\\x89Ûªs', 'goggles', 'gog', 'godslove', 'godsfirstson1', 'godly', 'godlike', 'gobsmackeddevastated', 'goblue', 'goats', 'gnwt', 'gns', 'gmtty', 'gmt0000', 'gms', 'gmcr', 'gmail', 'glue', 'glove', 'glosblue66', 'glory', 'gloriavelez', 'glononium', 'globiinclusion', 'glitter', 'glitch', 'glided', 'glenstannard', 'glen', 'gleaned', 'glaucoma', 'glanders', 'gladbach', 'glacier', 'givebackkalinwhiteaccount', 'gisuserpr', 'gist', 'gishwhes', 'giselle', 'gis', 'girlthatsrio', 'girlsgirlsboys', 'girardeau', 'giorgio', 'gio', 'ginga', 'gin', 'gimp', 'gilmoreguysshow', 'gillibrand', 'gilgit', 'gilderoy', 'giggling', 'gigawatts', 'gigant', 'gigagil', 'gifts', 'gidiexclusixe', 'gideonstrumpet', 'gibraltar', 'giants', 'giantgiantsound', 'giannis', 'gi', 'ghul', 'ghoul', 'ghostwriting', 'ghosts', 'ghostoftheav', 'ghetto', 'ghe', 'gh', 'ggkeeponrockin', 'ggindependencmessage', 'gfzs', 'gfrost1985', 'gfe', 'gf', 'geysers', 'geyser', 'gettin', 'gesture', 'gesserit', 'ges', 'gerryconnolly', 'geotech', 'georgous', 'georgina', 'georgegalloway', 'georgefoster72', 'georgecole', 'geoffrickly', 'gently', 'gentlementhe', 'gentle', 'genitals', 'genisys', 'generous', 'generic', 'generational', 'gene', 'gen', 'gemstone', 'gemmasterful', 'gemmahentsch', 'gemini', 'geekapocalypse', 'gecko', 'gearing', 'gc', 'gbonyin', 'gbay99', 'gazette', 'gazebo', 'gazans', 'gayler1969', 'gauze', 'gauteng', 'gate', 'gastric', 'gassymexican', 'gasping', 'gasparc\\x89Û', 'gasoline', 'garza', 'gary', 'gargron', 'gargoyle', 'gards', 'garbanzobean23', 'garbagebot', 'garage', 'gaping', 'gap', 'gansey', 'gangstermail', 'gamma', 'gaming', 'gameshttpstcoapksnplxzj', 'gamerant', 'gamer', 'gameplaywalkthrough', 'gameofkittens', 'gameinsight', 'gamefeed', 'gameday', 'gambit', 'gambia', 'galvnews', 'gallup', 'galloway4mayor', 'gallipoli', 'galleria', 'galifianakis', 'galaxy', 'galactics', 'gal', 'gains', 'gainesville', 'gailsimone', 'gail', 'gaia', 'gagnon', 'gag', 'gaelite', 'gadget', 'gaabyx', 'g90', 'g7', 'g20', 'fylde', 'fx', 'fwo', 'fwd', 'fvck', 'futurea', 'fuso', 'fusion', 'furtrix', 'furst', 'furious', 'furiosoxv', 'fur', 'funtimes', 'funnynews', 'funniest', 'funkylilshack', 'funko', 'funkflex', 'fundwhen', 'fundraiser', 'fundamentals', 'fullblown', 'fulfilling', 'fukurodani', 'fujiwara', 'fuelgas', 'fueled', 'fuddy', 'fuckyeahcarey', 'fucktard', 'fuckfacewineisdumbcom', 'fuckboy', 'fu', 'ftåÊmop', 'ftw', 'ftsnnewsdesk', 'ftsn', 'fte', 'frying', 'frvrgrateful', 'frustration', 'frustrated', 'frusciante', 'frp', 'froze', 'frothy', 'frost', 'frontin', 'frog', 'frofrofro\\x89Û', 'frisco', 'frisat', 'frightening', 'friendshipyou', 'friendships', 'friendly', 'friend59', 'friedman', 'fried', 'fridays', 'frickin', 'fricken', 'fri', 'freyas', 'freshness', 'freshly', 'frequently', 'frequent', 'frenzy', 'fremont', 'freezerdummy', 'freeze', 'freeway', 'freeview', 'freestyles', 'freestyle', 'freespeech', 'freesikhpoliticalprisnors', 'freemurphy', 'freemarketeer', 'freeman', 'freekashmir', 'freeing', 'freegeezy17', 'freedomoutpost', 'freediscountbks', 'freed', 'freebitcoin', 'freebesieged', 'freeamirnow', 'freeallfour', 'fredosantana300', 'fredolsencruise', 'freddiedeboer', 'freddie', 'freaky\\x89Û', 'freaks', 'freaked', 'frautrapani', 'fraud', 'frats', 'franta', 'frankly', 'francisunderwood', 'francisco', 'francis', 'frame', 'frail', 'fragrance', 'fpoj', 'fpine', 'foxysiren', 'foxsportscom', 'foxnewsinsider', 'foxdebatequestions', 'foxa', 'fox5newsdc', 'fowlers', 'fousey', 'foursquare', 'founding', 'founder', 'foundation', 'fotoset', 'fotofill', 'fossil', 'fortworth', 'forthright', 'forsythe', 'forsee', 'forrestmankins', 'forrest', 'forreal', 'forney', 'formula', 'forms', 'forming', 'formation', 'format', 'form', 'forgiving', 'forgets', 'forgeting', 'forfeiting', 'forestservice', 'forests', 'forestfires', 'foreskin', 'foreman', 'forehead', 'forefathers', 'foreclosed', 'foreboding', 'forbesasia', 'forbath', 'foragesecret', 'foothill', 'footed', 'footballs', 'fools', 'foolish', 'fooled', 'foodstand', 'foods', 'foo', 'fonts', 'fondness', 'fond', 'follownflnews', 'followme', 'followlasg', 'followed', 'followback', 'folks', 'folieacat', 'foliage', 'folding', 'foiled', 'focuses', 'foamed', 'foamcc', 'fo', 'fnaftalkmc', 'fnaf', 'fn', 'fme', 'flynn', 'flushes', 'flush', 'flurry', 'flunkie', 'fluffy', 'floydmayweather', 'floyd', 'flowri', 'flowers', 'flow397', 'flour', 'florin', 'floridians', 'floridas', 'florid', 'florence', 'floral', 'flopping', 'floors', 'floored4', 'floorburnt', 'floodzone', 'floodrainstorm', 'floatin', 'flips', 'flipped', 'flint', 'flights', 'flickershowell', 'flgovscott', 'flex', 'fletcher', 'flesh', 'fleetwood', 'fleet', 'fleek', 'flee', 'flechadas', 'flawless', 'flavored', 'flavorchargedtea', 'flavafraz21', 'flatts', 'flatliners', 'flatback', 'flashflood', 'flared', 'flamethrower', 'flamesnation', 'flame', 'flakes', 'fl', 'fkhanage', 'fjords', 'fizzy', 'fiya', 'fixingmatch', 'fitzgerald', 'fitz', 'fittscott', 'firstpostin', 'firstnations', 'firstever', 'firms', 'firmly', 'firing', 'fireworks', 'firework', 'firewise', 'firepower', 'firenews', 'fireman', 'firefightr', 'fireball', 'firearm', 'fireand', 'fionagilbert', 'fiona', 'finsup', 'finna', 'finn', 'finite', 'fingerrockfire', 'finer', 'fineme', 'finding', 'financialreview', 'financially', 'finance', 'finall\\x89Û', 'finale', 'fin', 'filter', 'films', 'filmmakers', 'filming', 'filmed', 'film4', 'filling', 'filipino', 'figures', 'figured', 'figure', 'fightnope', 'fightin', 'fighterdena', 'fighter', 'fife', 'fiery', 'fiendnikki', 'fieldwide', 'fiddle', 'fidayeen', 'fiction', 'fiat', 'fiasco', 'fgcu', 'ffvii', 'fforecast', 'ffa', 'fez', 'fewmoretweets', 'fever', 'festival\\x89Û', 'festac', 'ferry', 'ferrochrome', 'ferrell', 'fergie', 'fences', 'fence', 'femnism', 'femas', 'femalegilgameshs', 'fema', 'fem', 'felons', 'fel', 'fees', 'feelslikefob', 'feeds', 'fee', 'fedporn', 'fecal', 'featuring', 'feature', 'fe', 'fdx', 'fdny', 'fdbdp', 'fco', 'fcked', 'fci', 'fb100', 'fazerain', 'favors', 'favoritism', 'favorited', 'favorita', 'favori', 'favorable', 'faved', 'fault', 'fatherofthree', 'fatalityuudlk', 'fatalitiesxrays', 'fatalitiesxray', 'fastpitch', 'fastings', 'fascinating', 'farts', 'fartanxiety', 'faroe', 'farms', 'farmr', 'farmland', 'farmers', 'faried', 'farewell', 'farce', 'faq', 'fantosex', 'fantasticfourfant4sticwhatever', 'fantasticfour', 'fantabulous', 'fangirling', 'fanged', 'fanfiction', 'fandom', 'fanboys', 'fanbase', 'fanarmyfaceoff', 'famping', 'famineåÊmemories', 'faminemega', 'faminedeath', 'familiar', 'fame', 'falphil', 'falmer', 'fallontonight', 'fallingoffstool', 'faked', 'fairx818x', 'fairly', 'fairgrounds', 'faintly', 'failure\\x89Û', 'failures', 'failing', 'fadelurker', 'fade', 'fadc', 'faculty', 'factual', 'factsheet', 'factor', 'faction', 'factchecking', 'facilities', 'faceåÊphotos', 'faces', 'facemarvins', 'fa07af174a71408', 'fa', 'f496d', 'f450', 'f250', 'e\\x89Û', 'ezralevant', 'ezidigenocide', 'eytay', 'eyewitnesses', 'eyesss', 'eyefacts', 'eyecuts', 'eyecenter', 'eyeball', 'ey', 'exums', 'extraordinaire', 'extract', 'extinction', 'extent', 'extended', 'extend', 'exquisite', 'expressioncheeks', 'expressandstar', 'exposure', 'exposes', 'exposed', 'expose', 'exporting', 'exponential', 'expo', 'explosivesrigged', 'explosivespacked', 'explosive', 'explosions', 'exploring', 'explodingkittens\\x89Û', 'exploding', 'explicitpretty', 'explicitly', 'explanation', 'explaining', 'expirehc', 'expertwhiner', 'experimental', 'experiencesmh', 'expenses', 'expense', 'expect\\x89Û', 'expansive', 'expansion', 'expanding', 'expander', 'expanded', 'exp0sed', 'exotic', 'exofficio', 'exo', 'exits', 'exhaustion', 'exercises', 'exercise', 'exec', 'excuses', 'exclusively', 'exclamation', 'excitement', 'excite', 'exchanged', 'excessive', 'exceptionally', 'excepting', 'excellence', 'exassembly', 'exams', 'examples', 'examinercom', 'exaggerated', 'exact', 'exacerbated', 'evolved', 'evildead', 'everythign', 'everwhe', 'everton', 'everest', 'eventspalmbeach', 'evebrigid', 'eve', 'evahanderek', 'evaded', 'evacuations', 'evacide', 'evac', 'evaaasr', 'eurostyle', 'euroquake', 'european', 'eurocrisis', 'eur', 'eunicenjoki', 'eulogies', 'etribune', 'etp', 'etoffe', 'eto', 'ethiopian', 'ethics', 'ethical', 'ethereal7', 'ethereal', 'eternity', 'etcpb', 'es\\x89Û', 'estimates', 'estellasrevenge', 'estates', 'est', 'essexweather', 'esse', 'esquireattire', 'esports', 'espn2', 'espn', 'espargaro', 'esoteric', 'esn', 'eshop', 'esevu', 'escorts', 'es', 'erupting', 'errrr', 'err509', 'erodes', 'erode', 'ermac', 'erker', 'erinmariefishy', 'erie', 'erictsunami', 'ericbulak', 'eric', 'erected', 'ercjmnea', 'erasuterism', 'erally', 'era', 'equipments', 'equestrian', 'equation', 'equals', 'equally', 'equalizer', 'epsom', 'epoch', 'episodes', 'episcopal', 'epiphanes', 'epileptic\\x89Û', 'epidemics', 'epidemic', 'epicinsanity', 'epcotexplorer', 'ep18', 'eovm', 'eonlinechat', 'eo', 'enzasbargains', 'envyseven', 'envision', 'enviromental', 'entretenimento', 'entity', 'entitlement', 'entirely', 'entertainer\\x89Û\\x9d', 'entertain', 'entershikari', 'enterprise', 'entension', 'ensuring', 'ensures', 'ensure', 'ensued', 'enolagay', 'enkelbiljett', 'engulfs', 'engle', 'englands', 'engineshed', 'engines', 'engineers', 'engineermatarai', 'engagement', 'engaged', 'enews', 'enemity', 'end\\x89Û', 'enduring', 'endorsement', 'endoccupation', 'endlessly', 'enders', 'endconflict', 'encyclopedia', 'encouraging', 'encouraged', 'encounters', 'encoded', 'encaustic', 'enca', 'enacts', 'enacted', 'enabling', 'enablement', 'emv', 'emts', 'emsne\\x89Û', 'emsc', 'ems1', 'emptypated', 'empower', 'employs', 'employee', 'employed', 'empirikgaming', 'empathy', 'emp', 'emotion', 'emo', 'emmychappy', 'emmy', 'emmanuel', 'emmachosenone', 'emittin', 'emini', 'eminem', 'emilyschuman', 'emily4everever', 'emily', 'emiliorivera48', 'emilio', 'emilee', 'emile', 'emiiliexirwin', 'emi', 'emhub', 'emerging', 'emergencymgtmag', 'emergencies', 'embraced', 'embrace', 'embra', 'emblem', 'ember', 'embarrassment', 'embarrassing', 'embarrassed', 'emails', 'emailed', 'emaaalay', 'elxn42', 'elwoods', 'elvis', 'elven', 'elutranscendent', 'eltorroloco', 'elses', 'elreynetwork', 'elm', 'ellie', 'ellenfromnowon', 'ell', 'elk', 'elitist', 'elitesportsny', 'elisagxrcia', 'eliminate', 'elijah', 'eligible', 'elielcruz', 'elianaraquel', 'elgeotaofeeq', 'elgato', 'elevator', 'elevation', 'eleskaylee', 'elephants', 'elephantintheroom', 'elementary', 'electrostatic', 'electronicmusic', 'electro', 'electr', 'elections', 'elect', 'elecman', 'elderly', 'elbow', 'elbestia', 'elation', 'elanorofrohan', 'elaboration', 'ekiti', 'ejaculating', 'eisenhower', 'eileenmfl', 'eighth', 'ehutch', 'eheks', 'egyptian', 'egoresolution', 'eggalie', 'egg', 'efs300', 'effiedeans', 'effectiveness', 'effective', 'effected', 'eerie', 'eep', 'eeasterling2', 'edwing', 'edwin', 'edwelchmusic', 'edwards', 'edward', 'edvinnn', 'edsheeran', 'edna', 'edmund', 'edmonton', 'edmond', 'edk', 'editorial', 'editaxohaze', 'edit', 'edison', 'edgarsgift', 'edfringe', 'eddy', 'edcxo', 'ect', 'ecstatic', 'economics', 'econom', 'ecofriendly', 'eco11c', 'echoes', 'ebrointheam', 'ebolatrends', 'ebb', 'eazzyp', 'eau', 'east\\x89Ûªs', 'easton', 'easternoregon\\x89Û', 'easter', 'eastbound', 'easier', 'earthtwerk', 'earthsvoice', 'earthquakenews', 'earnest', 'earn', 'earlymay', 'earlyexit', 'earl', 'eagles\\x89Ûª', 'eac4au', 'd\\x89Û', 'dzaficharis', 'dyxtmrydu', 'dysfunctional', 'dynamix', 'dyingthey', 'dyersburg', 'dyannbridges', 'dyamiplotke', 'dwilliams313', 'dwight', 'dwenglish', 'dw', 'dviyer', 'dvds', 'dvbbs', 'dutton', 'duties', 'duststormfilm', 'duststorm', 'dustpiggies', 'dustpig', 'dustinbrowder', 'durrellb', 'durham', 'durbanknight', 'durban', 'durability', 'dupree', 'duo', 'dunking', 'dungeon', 'dune', 'dumuzid', 'dumping', 'dummies', 'dumbfounded', 'dumbass', 'dum', 'dull', 'duh', 'duckvillelol', 'duchovbutt', 'dubloadz', 'dublins', 'dubbo', 'dubai', 'dub', 'dualcom', 'dua', 'du19', 'dtop77', 'dtb', 'dserialpcilp', 'drying', 'drvox', 'drumstep', 'drums', 'drumpf', 'drummond', 'drumming', 'drsarwatzaib070', 'drrichardbesser', 'drphil', 'drown\\x89Û', 'drowns', 'droughts', 'droughtmonitor', 'droughtgov', 'droughtfueled', 'droughtcheck', 'drothvader', 'drops', 'droppd', 'drools', 'drob', 'drmartyfox', 'drjustinmazur', 'drjohanfranzen', 'driving\\x89Û\\x9d', 'driverlesscars', 'driverless', 'driveby', 'drink\\x89Û', 'drinkers', 'driller', 'drift', 'dries', 'dried', 'dribbling', 'drfriedencdc', 'drewwtaylor', 'drewscanlon', 'dressing', 'dren', 'dredougie', 'dreamy', 'drdrewhln', 'drbaseball41', 'drayesha4', 'drawing', 'dravet', 'dratomic420', 'drank', 'dramatically', 'drako', 'drake\\x89Ûªs', 'drakes', 'drains', 'drained', 'drain', 'dragonvale', 'dragons', 'dragneel', 'drag0nking0201', 'drafted', 'dr08052015', 'dqsvyusy', 'dpagexxi', 'downright', 'downloading', 'downing', 'doves', 'dove', 'dougs', 'dougmartin17', 'dougkessler', 'dough', 'doug', 'doubleghats', 'dose', 'dorrie', 'dorrian', 'dorling', 'doritos', 'dorismatsui', 'doretts', 'dorette', 'doppler', 'dopest', 'dopeitsval', 'doone', 'doomsday', 'doomed', 'doofus', 'donuts', 'dontpanic', 'donthate', 'dontexpectnothing', 'donny', 'donnie', 'donnelly', 'donjazzy', 'doningtondash', 'donington', 'donations', 'donation', 'donated', 'don', 'dominicana', 'domination', 'dominant', 'dominance', 'domains', 'domain', 'dolphins', 'dolls', 'dolla', 'doll', 'doing\\x89Ûahhh\\x89Ûthat', 'dog\\x89Ûªs', 'dogger', 'dogg', 'doessnt', 'doe', 'dodge', 'documenting', 'documentary', 'doctorfluxx', 'doctordryadma', 'doco', 'docks', 'docked', 'dobut', 'dna', 'dmoneydemi', 'dmerida', 'dmd', 'dmassa5', 'dmac1043', 'dloesch', 'dlin71', 'dlc', 'dlac', 'dl', 'djryanwolf', 'djoneplustwo', 'djknyce', 'djjohnblaze', 'djiglobal', 'djeddygnj', 'djcoreygrand', 'diyala', 'dixon', 'dixie', 'dix', 'divisions', 'diverts', 'diverted', 'diversification', 'diverse', 'ditto', 'ditched', 'disturbances', 'distributed', 'distress', 'distraction', 'dissuaded', 'dissertation', 'disrupted', 'disrespect', 'disregard', 'dispute', 'displeased', 'display', 'displaces', 'displacedinjuredkilled', 'dispersed', 'dispensary', 'dispatchers', 'dispatch', 'disowns', 'disowned', 'disorders', 'disorder', 'disney\\x89Ûªs', 'disneyland', 'disneyirh', 'dismissed', 'dismayed\\x89Û', 'dismantling', 'dislocation', 'dislike', 'disinfo', 'disillusioned', 'disgrace', 'disfigured', 'diseases', 'disdain', 'discussing', 'discusses', 'discussed', 'discuss', 'discoverycntr', 'discourse', 'discount', 'disconnected', 'disclosed', 'disclos', 'disclaimer', 'disciplinary', 'disaster\\x89Û¢', 'disasterrelated', 'disasterrecovery', 'disasterhospital', 'disasteramp', 'disarmed', 'disappointing', 'disappointed', 'disappears', 'disappearing', 'disagreements', 'disabledveterans', 'dirumah', 'dirktrossen', 'directory', 'directly', 'directions', 'directing', 'directed', 'direct', 'dipping', 'diplomat', 'dip', 'dinosaurdracula', 'dinallyhot', 'dimensions', 'dilutional', 'dilute', 'dill', 'dijk', 'digitalhealth', 'digging', 'diggin', 'dig', 'difficulty', 'difficultpeople', 'difficulties', 'differently', 'difference', 'differ', 'diff', 'diesel', 'dierks', 'dieplease', 'diegt', 'diego', 'diebold', 'dieanpink95', 'didn\\x89Ûªt', 'didbut', 'dictator', 'dicky', 'dickson', 'dicehateme', 'dice', 'dibang', 'diasporas', 'diaries', 'dianneg', 'dialyses', 'dial', 'diagnosis', 'diageos', 'dhsscitech', 'dhalgren', 'dhaka', 'dfljev', 'dfir', 'dewdney', 'dew', 'devpeace', 'devours', 'devote', 'devonbreneman', 'devise', 'devinjoslyn', 'device\\x89Ûª', 'deviating', 'devia', 'devereaux', 'development\\x89Û', 'developing', 'developer', 'developed', 'devastation\\x89Û', 'devastates', 'deutsch', 'detroitpls', 'detroitnews', 'detouring', 'detonates', 'detonateampshots', 'detkenlang', 'detersion', 'determined', 'determine', 'detectors', 'detains', 'destructions', 'destroyd', 'destined', 'destinationimpact', 'destination', 'destiel', 'dessicated', 'despicable', 'desperation', 'desolationofsmaug', 'designer', 'deserved', 'desert', 'desecrates', 'descriptive', 'describe', 'descended', 'descendants', 'derma', 'derives', 'derivatives', 'derivative', 'dere', 'derailedbenchmark', 'der', 'depression', 'depressing', 'depreciations', 'depot', 'deployments', 'deployed', 'deploy', 'depends', 'deosl86', 'denying', 'denton', 'deniseromano', 'denim', 'denies', 'denied', 'den', 'demonstrations', 'demonstration', 'demonstratio', 'demons', 'demonization', 'demoness', 'demolitiond', 'demolishes', 'demolishdeep', 'democratic', 'democrat', 'democracy\\x89Ûªs', 'demo', 'demise', 'demis', 'demetae12', 'demeanor', 'deluxe', 'delusions', 'deluded', 'deltachildren', 'delta', 'delphi', 'delmonts', 'dell', 'delivered', 'deliciousvomit', 'delicious', 'deliberately', 'delhi', 'deldryden', 'delaying', 'delanys', 'dei', 'dehydration', 'deglin', 'defs', 'deflategate', 'definition', 'definite', 'defines', 'defined', 'defensive', 'defensenewscomus', 'defending', 'defender', 'defendbutera', 'defendantmass', 'defendant', 'defence', 'defective', 'defeats', 'defeater', 'defeat', 'default', 'deezercolombia', 'deepthoughts', 'deepest', 'deepak', 'deemed', 'deeeznvtzzz', 'deedeecasey', 'dee', 'dedication', 'dedicated', 'decriminalized', 'decree', 'decreases', 'decrease', 'decoration', 'decorating', 'deconstruct', 'deco', 'declaring', 'declarat', 'decision\\x89Û', 'decides', 'decals', 'dec', 'debbie', 'debates', 'debacle', 'deb117', 'deaths\\x89Ûª', 'deathmule', 'deathholy', 'death2usa', 'dears', 'deans', 'dealings', 'dealing', 'dealer', 'deai', 'deafening', 'deadpool', 'deadlydemi', 'deadgrassandflowers', 'deadgirltalking', 'deaddreamer15', 'deactivated', 'deactivate', 'ddos', 'ddnt', 'ddnewslive', 'dcubecrafts', 'dcfd', 'dccomics', 'dccc', 'db5', 'db', 'dazzle', 'daysweeks', 'dayhttptco8vzl1ns2io', 'dawson', 'dawgs', 'dawabsha', 'daviss', 'davison', 'daviskawalya', 'daviesmutia', 'david\\x89Û', 'davidvonderhaar', 'davidvitter', 'davidson', 'davidolszak', 'davidlabrava', 'davidhurn', 'davidduchovny', 'davidcovucci', 'dauntedpsyche', 'daughtery', 'daughterofnai', 'daubt', 'dattomm', 'datingtips', 'dateswhitecoats', 'darwinism', 'dart', 'darsena', 'darrylbrooks', 'darrylb1979', 'darrellissa', 'darkstormytidalsea', 'darkndtatted', 'darkhorsecomics', 'darken', 'daretotaha', 'dardanelle', 'darchambau', 'dapurplesharpie', 'daorcey', 'dantwitty52', 'dantmatrafajlo', 'danryckert', 'dannyraynard', 'dannyoneil', 'dannyjohnjules', 'daniriot', 'daniglasgow45', 'danielsahyounie', 'danielle', 'danielkemp6', 'daniel', 'danhrothschild', 'danharmon', 'dangling', 'danemillar1', 'dancing', 'dancers', 'dancer', 'dancefloor', 'danagould', 'damsels', 'dampen', 'damp', 'damnwas', 'damnnnn', 'damnaarielle', 'damiengayle', 'damidnighter', 'dame', 'damaturu', 'damatu', 'damascus', 'damage\\x89Û\\x9d', 'damagewpd1600', 'damagenhs999', 'damage3460', 'dalroy', 'dallascowboys', 'dalinthanelan', 'dalailama', 'dal', 'dakota', 'dak', 'dajaal', 'daisycuttertz', 'daisy', 'dailytimesngr', 'dailyliberal', 'dailykos', 'daewony0406', 'daem', 'dadwho', 'daddy', 'dacherryontop13', 'daborsch', 'dabbed', 'd33munni', 'd1ff3r3nt1sg00d', 'c\\x89Û', 'cyprus', 'cypress', 'cyhitheprynce', 'cyhi', 'cyclonesama', 'cyclonereizei', 'cybersecurity', 'cyberdemon531', 'cyber', 'cwhoops', 'cvinchwaow', 'cuyahoga', 'cutter', 'cutlery', 'cuties', 'cutest', 'customized', 'customer', 'cursed', 'curry', 'currensy', 'currency', 'curls', 'curing', 'cure', 'cups', 'cunt', 'cunayyh', 'cumshot', 'cummerbund', 'cultural', 'cultsierre', 'cultivating', 'cufi', 'cuffs', 'cuffed', 'cuddling', 'cuddlesforjen', 'cucumber', 'cucks', 'cubstalk', 'cubs', 'cube', 'cts', 'cte', 'ctaztrophe31', 'ctafails', 'ct', 'cstsmith', 'cst', 'cspan', 'csismica', 'csaresu', 'cs6', 'crystals', 'crystal', 'cryibg', 'crushmtvhottest', 'crushit', 'crushing', 'crushhttptcoioqm5bm1dg', 'crushes', 'crushed2', 'crusade', 'crunchy', 'crumbling', 'cruises', 'cruise', 'crudes', 'crucial', 'crqck', 'crptotech', 'crozes', 'croydonization', 'croydon', 'crowtherjohn', 'crowned', 'crown', 'crowe', 'crowdtappers', 'crowds', 'crosssectarian', 'crossing', 'crossfit', 'crossexam', 'crossborder', 'crosed', 'crooks', 'crocodile', 'crockery', 'crobscarla', 'criticalmedia', 'critically', 'cristiano', 'cristianinspire', 'cringes', 'crimsonfuckingv', 'cri', 'crest', 'crept', 'crematoria\\x89Ûª', 'creeping', 'creepiest', 'creelyou', 'credits', 'credited', 'creatures', 'creativitybalancelongevity', 'creativity', 'creative', 'creationsbykole', 'creationmin', 'createdunique23', 'creamfields', 'crbzfz', 'crazyweather', 'crazyindapeg', 'crazyideascollege', 'crazydoctorlady', 'crazier', 'crayons', 'craykain', 'crawling', 'crashsterlingwho', 'crashgthttptcold0uniyw4k', 'cranboonitz', 'cramp', 'cramming', 'craig', 'crackin', 'cracker', 'crackedgem', 'crabbycale', 'cqnow', 'cpr', 'cpinto001', 'cpanel', 'co\\x89Û', 'cozmo23', 'coyi', 'coya', 'coxytown', 'coworkers', 'cowgirllawyer', 'cowgirl', 'cowardly', 'coverup', 'covering', 'court\\x89Ûªs', 'courtney', 'courtlizcamp', 'courses', 'courageous', 'courage', 'counterterrorism', 'counterstrike', 'countermoonbat', 'counselors', 'councilscc', 'council', 'coulda', 'cougars', 'couches', 'cottage', 'cost\\x89Û', 'costing', 'costar', 'costa', 'cossack', 'cosponsor', 'cosme\\x89Û', 'cosmetic', 'cosits', 'corycove', 'cortneymo', 'cortezera', 'corruption', 'correlation', 'correlate', 'correcting', 'corpse', 'corner', 'corn', 'cork', 'corii', 'coreyashe', 'core', 'corals', 'cor48', 'coquitlam', 'cops\\x89Ûª', 'copperfields', 'copper', 'coppednews', 'copped', 'copies', 'copied', 'copalibertadores', 'copa', 'cooperation', 'cooper', 'coop', 'cooool', 'coolweird', 'cools', 'cooling', 'coolest', 'cookie', 'convivted', 'convinced', 'converting', 'convertible', 'convert', 'convention', 'conveniently', 'convene', 'convection', 'controller', 'contries', 'contributor', 'contribute', 'contrasts', 'contractor', 'contr', 'continuinglet', 'contig', 'contest', 'contentmarketing', 'contemporary', 'contemplation', 'contd', 'container', 'contacts', 'contactenergy', 'cont', 'consumes', 'consumerist', 'consultative', 'construct', 'constitutional', 'constitute', 'constellation', 'consistently', 'consistent', 'conserve', 'conservation', 'consequences', 'consciousness', 'connormidd', 'connorfranta', 'connor', 'conning', 'connects', 'connections', 'connecticut', 'conklin', 'congratulations', 'congrats', 'congestion', 'conf\\x89Û', 'confused', 'confounds', 'conflicts', 'confirmation', 'confidential', 'confesses', 'confederate', 'conducted', 'condos', 'condolences', 'condo', 'condenses', 'condemns', 'condemning', 'concur', 'conclusions', 'concludes', 'concertaugust', 'comprehensive', 'component', 'compliance', 'complaint', 'complaining', 'competitor', 'competitiveness', 'competitive', 'competence', 'compensations', 'compensate', 'compassion', 'comparing', 'companionship', 'commuters', 'communicate', 'commonwealth', 'commons', 'commodity', 'commoditiesåÊare', 'committing', 'commitment', 'commission', 'commercials', 'commenting', 'commentes', 'commenters', 'commences', 'commencement', 'commence', 'commas', 'comingsoon', 'comin', 'comics', 'comic', 'comfortable', 'cometh', 'comeeeee', 'comdev', 'comcastcares', 'combust', 'combining\\x89Û', 'coma', 'com', 'column', 'columbus', 'colorlines', 'colorism', 'colored', 'colorectal', 'coloradoavalanche', 'colonel', 'colomr', 'colombian', 'colombia', 'coloiccarnality', 'colnharun', 'collisionunkn', 'collisions', 'collins', 'collie', 'collideworship', 'collegeradi\\x89Û', 'colleenmnelson', 'collectibles', 'collateral', 'collar', 'collab', 'colinhoffman29', 'colin', 'coleslaw', 'coldblooded', 'coke', 'coils', 'coil', 'coiffed', 'cogxbox', 'cognizant', 'cognitive', 'coffins', 'coffees', 'coercion', 'coerced', 'codythompson25', 'codycarnes', 'codemew', 'code', 'codawscrims', 'cod8sandscrims', 'cocoa', 'cocky', 'cocktail', 'cocker', 'cochrane', 'cochisecollege', 'cobes', 'coats', 'coates', 'coated', 'coastguard', 'coalitions', 'coal', 'coachkeith44', 'coaching', 'co2', 'cnv', 'cnns', 'cnni', 'cnnbrk', 'cnmi', 'cndpoli', 'cncpts', 'cn', 'cmnevalistis', 'cmcsa', 'clyde', 'cluei', 'clue', 'cloydrivers', 'clowns', 'clown', 'cloudygoldrush', 'cloudy', 'clots', 'clothing', 'clothesless', 'closure', 'closeup', 'closely', 'clogs', 'cllrraymogford', 'clist', 'clipuri', 'cliptv', 'clips', 'clintons', 'clinical', 'climbing', 'climbed', 'climatechange', 'clicks', 'clicca', 'cleverbot', 'clerical', 'clergyforced', 'clelliyou', 'clegg', 'cleavage', 'cleav', 'clears', 'cleaning', 'cle', 'clay', 'clawing', 'classycolkett', 'classes', 'clarksville', 'clapton', 'clapping', 'clap', 'clancy', 'clairecmc', 'claire', 'claiming', 'claimin', 'claiborne', 'cl', 'ckosova', 'ckec', 'city\\x89Ûªs', 'citys', 'cityofmemphis', 'cityofkamloops', 'cityofhummus', 'citylink', 'cityamp3others', 'citizen', 'citing', 'citi', 'citation', 'cis', 'circular', 'cipinang', 'cinstg', 'cinla1964', 'cinemas', 'cindy', 'cilla', 'cigs', 'ciggs', 'ciaramckendry', 'chxrmingprince', 'churkin', 'churchs', 'churchill', 'churches', 'chuckswindoll', 'chucker', 'chuck', 'chubychux', 'chubbysquirrel', 'chrysler', 'chronicillness', 'christopherszen', 'christinartnd', 'christinalavv', 'christielinford', 'christiec733', 'christianvalues', 'chrissie', 'chrisroth98', 'chrisman528', 'chrisdyson16', 'chrisdanielshow', 'chriscesq', 'chr3lyc', 'chpsre', 'chp', 'chowtaxis', 'chowchilla', 'choudary', 'chose', 'chopras', 'chopping', 'chopped', 'choppas', 'choosegod', 'chonce', 'choked', 'choke', 'chojo', 'choctaw', 'chitral', 'chips', 'chippewa', 'chipper', 'chip', 'chinadotcom', 'chim', 'chilling', 'chillin', 'chillimik', 'chilli', 'chilis', 'childsexabuse', 'childress', 'childish', 'childhooddefined', 'childfund', 'childcare', 'chikislizeth08', 'chieftain', 'chiefcg', 'chicagoscanner', 'chibi877', 'chiasson', 'chiang', 'chews', 'chestertweetsuk', 'chester', 'cher', 'chemicalweapons', 'chemicals', 'chemically', 'chemicalbabe', 'chem', 'chelseadogs', 'chelsdelong12', 'chefs', 'cheetosarabia', 'cheetos', 'cheer', 'cheekiness', 'checks', 'checkout', 'checkedhe', 'cheated', 'cheat', 'cheap', 'che', 'chawalchorbjp', 'chattanooga', 'chat', 'chaser', 'chaselabsports', 'chartreuse', 'chart', 'charred', 'charon', 'charminar', 'charmeuse', 'charmed', 'charlize', 'charlies', 'charlieputh', 'charleyisqueen', 'charleston', 'charlesadler', 'chargers', 'chargedup', 'charcoal', 'chapter', 'chapoutier', 'chaosmagician97', 'channelstvthats', 'chann', 'chaning', 'changepilipinas', 'changefortheworse', 'chandanee', 'championships', 'championsblackfoot', 'champions', 'champaign', 'champagne', 'champ', 'chamberedblood', 'challenging', 'challenged', 'chalked', 'chainsaw', 'chains', 'chachi', 'chaboyyhd', 'ch4', 'ch', 'cgt', 'cgi', 'cgg', 'cest', 'cervix', 'cervelli', 'certificates', 'certainty', 'cerography', 'cern', 'cereal', 'censor', 'celebrities', 'celebrety', 'celebration', 'cee', 'cedarglade2015', 'cecil', 'cech', 'cecanfs', 'cebu', 'ce', 'cdnpoli', 'cdcwhistleblower', 'cdcgov', 'ccot', 'ccmusic', 'cc', 'cbsdenver', 'cbs29', 'cbcto', 'cbccalgary', 'ca\\x89Û', 'caves', 'causation', 'caued', 'catwoman1775', 'catsandsyrup', 'catovitch', 'catlow', 'catholicismhomophobia', 'catfishmtv', 'catfish', 'catechize', 'catcher', 'catastrophicfallenangel', 'catalogue', 'catalinas', 'casualtygray', 'casualties\\x89Û\\x9d', 'casually', 'casting', 'castello', 'casino', 'casing', 'casewrites', 'cascade', 'cascada', 'cas', 'cary', 'caruana', 'cartridges', 'cartoonylike', 'cartoon', 'carterville', 'cartel', 'carted', 'carsonrex', 'carriage', 'carpooling', 'caroline', 'carolinaåÊablaze', 'carolinagutierr', 'carolina', 'carneross', 'carnegie', 'carnage', 'carmike', 'carmi', 'carmel', 'carlsbadbugkil1', 'carlilescanoelivery', 'carlachamorros', 'carl', 'caring', 'carinduced', 'caribean', 'carhot', 'carful', 'carfest', 'careless', 'careerism', 'careerbest', 'careen', 'careemergencies', 'cared', 'cards', 'cardboard', 'carcinoma', 'carbondale', 'carb', 'caravans', 'carajdeievingnc', 'caraccidentlawyer', 'cara', 'capturing', 'captureyyc', 'captors', 'captivity', 'captives', 'caption', 'captainnmorgan', 'capsize', 'caps', 'capoeira', 'capitulation', 'capitalist', 'capitalism', 'capicapricapri', 'capeann', 'capable', 'cap', 'cantwont', 'cantwaittoplayinminneapolis', 'cantmisskid', 'cantar', 'cans', 'canpoli', 'canonusaimaging', 'canontattoo', 'canonbringit', 'canoe', 'cannibalism', 'cannabis', 'candylit', 'candidates', 'candacedx', 'canceling', 'canberras', 'canal', 'canadian', 'canadasuicide', 'cams', 'campsite', 'campground', 'campfire', 'campers', 'camper', 'camped', 'campbell', 'campanha', 'camilla33', 'camilas', 'camilacabello97', 'cameronwate', 'cameronhacker', 'cameronciletti', 'camden', 'cambridge', 'calwildfires', 'calum36chambers', 'calorie', 'calmstillness', 'calmly', 'callin', 'californian', 'cali74142290', 'cali', 'calhoun', 'calgarys', 'calgaryfringe', 'calgarians', 'calfreedommom', 'calfires', 'calestous', 'calculates', 'calamities', 'calais\\x89Û', 'cal', 'caked', 'caixxum5sos', 'caitsroberts', 'cainsuch', 'cain', 'cai', 'cagov', 'cage', 'cafÌ©', 'cafetiere', 'cafeawful', 'caesars', 'caesar', 'cadusd', 'cadrought', 'cadenadeseguidores', 'cactusborderlands', 'cackling', 'cachet', 'cacheadvance', 'cabrillo', 'cabramatta', 'cabling', 'cabins', 'cabbage', 'caaaaaall', 'c720', 'c7', 'byuwnbeki', 'bytorrecilla', 'byr', 'byproduct', 'byityf', 'byebyesoundcloud', 'bye', 'bwin', 'bv', 'bu\\x89Û', 'buyout', 'butthe', 'butterlondon', 'buts', 'butiqob', 'buthidaung', 'butgod', 'buted', 'butch', 'busting', 'bust', 'businessmen', 'businessman', 'busines', 'bushs', 'bushman', 'buseys', 'buscemi', 'bury', 'burundis', 'burton', 'burp', 'burnfat', 'burnaby', 'burma', 'burglary', 'burglar', 'burger', 'burford', 'buren', 'burberryant', 'bunting', 'bundy', 'bundled', 'bumpin', 'bummer', 'bullshit', 'bulls', 'bullpen', 'bullets\\x89Û', 'bullet', 'bull', 'bulgarian', 'bukidnon', 'buildup', 'buildings\\x89ÛÓwe', 'builder', 'bugs', 'buffs', 'buffoonmike', 'buffetts', 'buffet', 'buff', 'buddz', 'buddy', 'buddhas', 'buddha', 'bud', 'bucs', 'bucks', 'buck', 'bucharest', 'buchana', 'bubblycuteone', 'btwn', 'bstop', 'bsg', 'bsf', 'brzjc', 'bryansinger', 'bruv', 'brutality', 'brutal', 'brut', 'brunt', 'brucewillis', 'brrookkllyynnr', 'browsing', 'browseråÊhijacker', 'browsers', 'browns', 'browner', 'brothernlaw', 'broseidonrex', 'bros', 'brooo', 'brooktekle', 'brookesddl', 'bronville', 'bromleythe', 'brokenscnecal', 'brockton', 'brock', 'broadly', 'broader', 'broadcasting', 'broadcast', 'brixton', 'brittanypetko', 'brits', 'britishbakeoff', 'britains', 'britain', 'brit', 'bristol', 'brisbane', 'brinx', 'brinco', 'brilliant', 'briliantly', 'brightening', 'bright', 'brig', 'briefcase', 'bridgework', 'bridgetown', 'bridges', 'bridgeportspeed', 'bridgeport', 'bridal', 'brics', 'bricks', 'brianroemmele', 'briannafrost', 'brianboru67', 'brewer', 'brentobento', 'brenas', 'breivik', 'breitbartnews', 'breemars', 'breeder', 'breed', 'bred', 'breath', 'breast', 'breakth', 'breakingnewslh', 'breaking411', 'breaking144', 'breakfastone', 'breakfast', 'breakdown', 'breakdancers', 'breachgamingorg', 'breaches', 'brbrs', 'brb', 'braves', 'bravery', 'brasswork', 'brass', 'brant', 'brandonskeie', 'brandonmulcahy', 'branch', 'brains', 'brainless', 'brahmans', 'bradley', 'bradford', 'brackets', 'bracing', 'bracelet', 'br', 'boylesports', 'boyfriend', 'boyd', 'boycottbears', 'boxes', 'boxed', 'bows', 'bowknot', 'bowhunting', 'bowery', 'bovines', 'boutta', 'bouta', 'bounce', 'boulder', 'bottling', 'bothered', 'bot', 'bosphore', 'borrowers', 'bornverified', 'boringdead', 'boring', 'borgeous', 'borderlands2', 'bordento', 'booze', 'booty', 'boots', 'booth', 'boost', 'booradleyvancullen', 'boone', 'bookslast', 'booksbyroger', 'bookofdaniel', 'bookmobile', 'bookanother', 'boobs', 'bonus', 'bonsai', 'bonnieg434', 'bonn1egreer', 'bonhomme37', 'bon', 'bomd', 'bombers', 'bomairinge', 'boltåÊcyclone', 'bolt', 'bolstering', 'bolster', 'bolshevik', 'bolasie', 'bokuto', 'bokoharam', 'boironusa', 'boing', 'boi', 'bodied', 'bobbyxfisher', 'bobbyofhomewood', 'bobble', 'boatnews', 'boasting', 'boarding', 'bn', 'bmx', 'bmurph1019', 'blunts', 'bluntedjayt', 'bluff', 'bluehand', 'bluebirddenver', 'bluebell', 'blubber', 'blowltan', 'blowjobs', 'blowing', 'blowin', 'blowers', 'blossominglilac', 'blossom', 'bloorossington', 'bloopandablast', 'bloom', 'blood\\x89Ûª', 'blood\\x89Û', 'bloodymonday', 'bloodyminded', 'bloodbound', 'bloodbathtv', 'blonde', 'bloke', 'bloggers', 'blockchain', 'blockage', 'blizzardfans', 'blizzardcs', 'blitzes', 'blitzed', 'bliss', 'blinker', 'blinked', 'blink', 'blevins', 'blending', 'bleeds', 'bleed', 'bleachers', 'bldrcosheriff', 'blazingelwoods', 'blazingben', 'blazes', 'blazerfan', 'blasting', 'blastedi', 'blanktgt', 'blanksocietyx', 'bland', 'blaming', 'blakeshelton', 'blakeschmidt', 'blaise', 'blairmcdougall', 'blackwhite', 'blacks', 'blackmail', 'blackinamerica', 'blacken', 'blackcats', 'blackburns', 'blaaaaaaa', 'bkn032', 'bkn025', 'bkb066gp', 'bk', 'bjpsamvad', 'biztip', 'biz', 'bivideo', 'bit\\x89Û', 'bitters', 'bitten', 'biting', 'biterelated', 'bitcoing', 'bitchruns', 'bitchl0vecannon', 'bishopfred', 'biryani', 'birminghams', 'bird', 'birb', 'bioter\\x89Û', 'bioterrorismim', 'bioterrorismap', 'biosurveillance', 'biolabs', 'biolab', 'binladen', 'binellithresa', 'bind', 'bilsko', 'bilsen', 'billroose', 'billmccabe', 'billiton', 'billionaires', 'billionaire', 'billion', 'billharristv', 'billers', 'billboards', 'bilingual', 'bilic', 'bike', 'bigåÊconsequences', 'bigtent', 'bigstar', 'bigsim50', 'bigsby', 'bigrigradio', 'bigperm28', 'biggar', 'biggangvh1', 'bigburgerboi55', 'bigbrother', 'bieber', 'bids', 'bicyclists', 'bicyclesuv', 'bickleton', 'bicentennial', 'biblical', 'biblestudy', 'bible', 'bias', 'bhusa', 'bhramabull', 'bhp', 'bhome', 'bhavanas', 'bhaijaan', 'bg16', 'bg', 'bfore', 'bfgfcrush', 'beyondthebomb', 'beyondgps', 'betweensong', 'bettyfreedoms', 'betting', 'bethanymota', 'bests', 'bestival', 'bestie', 'bestfriends', 'bestcomedyvine', 'besieged', 'beside', 'besafe', 'berry', 'bernardino', 'bernard', 'berlin', 'berlatsky', 'beram0s', 'berahino', 'benzema', 'bentley', 'benstracy', 'benson', 'benothing', 'bennycapricon', 'benkin97', 'benjidevos', 'benjbeckwith', 'benjamin', 'benitezs', 'benignovito', 'bengston', 'bengalis', 'benews', 'benediction', 'beneath', 'bene', 'benaffleck', 'beluga', 'beltmr', 'belter', 'belowthemasondixonline', 'beloeil', 'bellybombed', 'belligerent', 'bellerin', 'bellalinn', 'believeis', 'belair', 'bekahw', 'beit', 'beisbol', 'beinart', 'beige', 'behindashield', 'beheadings', 'behead', 'behaviors', 'behavior', 'begun', 'beginnings', 'beezersun', 'beetroot', 'beet', 'beenghosting', 'beelievedc', 'beef', 'bedding', 'becyme', 'beconfident', 'beckyfeigin', 'beckoning', 'beccacaitlyn99', 'becarefulharry', 'bebacksoon', 'beaverton', 'beautifully', 'beautifuljuic1', 'beauscoven', 'beaumont', 'beatz', 'beating', 'beatg3', 'beaten', 'beatdown', 'beatb2', 'beastly', 'beastin', 'beast', 'beacon', 'beached', 'be4', 'bdisgusting', 'bday', 'bd', 'bcz', 'bcuz', 'bcs', 'bcpoli', 'bck', 'bcfcticketlady', 'bc19', 'bbsnews', 'bbshelli', 'bbm', 'bbloggers', 'bbctms', 'bbctalkback', 'bbcmtd', 'bbclaurak', 'bbcintroducing', 'bbc5live', 'bb', 'bayelsaåÊstate', 'bayarea', 'battleroyalemod', 'battlerapchris', 'battledom', 'battleanother', 'bats', 'batista', 'bathroomits', 'bathe', 'bathandnortheastsomerset', 'batfanuk', 'bastard', 'bass', 'baskgod', 'bask', 'basildudin', 'basics', 'basic', 'bashing', 'bash', 'baseman', 'basalt', 'barthubbuch', 'bartender', 'barry', 'barrington', 'barring', 'barracks', 'barra', 'barking', 'barkevious', 'bark', 'barfield', 'bardo', 'bardissimo', 'bard', 'barcousky', 'barbitwins', 'barber', 'barbaric', 'barbados', 'barak', 'barack', 'bapusuratsingh', 'bantrophyhunting', 'banthebomb', 'bans', 'bannukes', 'bannister', 'banksy', 'bankstown', 'banks', 'banking', 'banki', 'bangtan', 'bangmeupguk', 'bangampmy', 'bangalore', 'bandolier', 'banditregina', 'banana', 'bampn', 'bamenda', 'bama', 'ballews', 'bali', 'balding', 'balcony', 'balanced', 'bal', 'baking', 'bak', 'bajrangi', 'bait', 'bairstow', 'bailout', 'baileysmsteach', 'bailed', 'bahrain', 'bah', 'bag\\x89Û', 'bags\\x89Ûª', 'bagged', 'baggage', 'baffling', 'baffles', 'baekhyun', 'bae', 'badr58', 'badotweet', 'badly', 'badkitty', 'badirandeal', 'badge', 'badchoices', 'backups', 'backty', 'backtoback', 'backroom', 'backpack', 'backlash', 'backing', 'babysweet420', 'babybackreeve', 'babri', 'babes', 'babe', 'babalmaowelcome', 'babality', 'baan', 'baaaack', 'ba', 'b5', 'b4federal', 'b2bagency', 'b2b', 'b24fowler', 'b1g', 'aåÊmiddleaged', 'azwx', 'ayyo', 'ayshuntornado', 'ayhhhhhdjjfjrjjrdjjeks', 'ayekoradio', 'awol', 'awn', 'awkward', 'awickedassassin', 'awesomesauce', 'awesomelove', 'awesomeeeeeeee', 'awash', 'awards', 'awakenings', 'awake', 'awadgolf', 'avysss', 'avigdorliberman', 'aviationaddicts', 'avi', 'avert', 'avenged', 'aveblack', 'avalanchesgtgthttpstcoxrrlnhelap', 'ava', 'auz', 'autumnwinter', 'automation', 'autobody', 'autobiography', 'autoames', 'auto', 'authormike', 'authenticating', 'austrian', 'australians', 'austinpearcy22', 'auspol', 'ausinstarchitect', 'aus', 'auntiedote', 'aul', 'audreyp77', 'audit', 'audiences', 'audi', 'audacityjamesta', 'audaciousspunk', 'auc', 'auburn', 'aubrey', 'aubilenon', 'au', 'atåÊcinema', 'attractive', 'attjcdemos', 'attila', 'attending', 'attendees', 'attended', 'attend', 'attempted', 'attained', 'attackshare', 'attackonstiles', 'attackclose', 'att', 'atomicbomb', 'atombomb', 'atljw', 'atlevents', 'atleast', 'atlbizchron', 'atlas', 'atlarnxx', 'atl', 'athens', 'atheistic1', 'atgrannyshouse', 'ate', 'atchisonsean', 'atcha', 'atc', 'atamathon', 'asylum', 'asukager', 'astroturfers', 'astros', 'astrologian', 'astounding', 'astonishing', 'asterpuppet', 'asswipe', 'assured', 'assumes', 'assume', 'assets', 'assessment', 'asses', 'assertative', 'assault', 'assassinkpg', 'assailant', 'assad', 'aspiring', 'asphalt', 'aspects', 'aspect', 'askin', 'askh3cz', 'askforalaska', 'askconnor', 'asimtanvir', 'aside', 'ashwo', 'ashville', 'ashton5sos', 'ashrafiyah', 'ashj', 'ashestoashes', 'ashes2ashes', 'ashes2015', 'ashenforest', 'ashdod', 'aseer', 'ascend', 'asburyparkpress', 'asbury', 'asb', 'as10004', 'ary', 'arvindkejriwal', 'artwork', 'artists', 'artillery', 'articals', 'arti', 'artectura', 'artbrut', 'arson\\x89Û', 'arsonists', 'arsenals', 'arse', 'arrogant', 'arrives', 'arrival', 'arrests', 'arreat', 'arranged', 'arovolturi3000', 'aroundthe', 'arobotlegion', 'arm\\x89ÛÒ', 'armys', 'armenians', 'arlington', 'arkansas', 'arkan', 'ari\\x89Û', 'ariz\\x89Û', 'arizzo44', 'arizonadot', 'aris', 'arin', 'arianareed11', 'ariana', 'arian', 'ariabrisard', 'argus99', 'argues', 'argh', 'argentings', 'argentinean', 'argentaelite', 'arfur', 'areva', 'aren\\x89Ûªt', 'arena', 'aredeluged', 'areavoluntaryinciwebmad', 'areasminor', 'areal', 'architects', 'archipelagowolves', 'archetype', 'arceen', 'arcade', 'arachys', 'arabic', 'arab', 'ara', 'ar15', 'aquarius', 'aquahttptcoscghl0piq6', 'apunk', 'apts', 'aptlyengineerd', 'apropos', 'apr', 'appx', 'appropriate', 'approach', 'appreciativeinquiry', 'appoints', 'applied', 'appleofficlal', 'appetite', 'apperception', 'appease', 'appeared', 'appeals', 'apparent', 'appalling', 'apologized', 'apologize', 'apologise', 'apologies', 'apollobrowns', 'apocalpytic', 'apiece', 'aphyr', 'aphl', 'aphiabeta1907', 'apga', 'apd', 'apcåÊpdp', 'apaz', 'apano55', 'an\\x89Û', 'anza', 'anywhere', 'anxietyproblems', 'ants', 'antpips67', 'antony', 'antiochus', 'antiochhickoryhollowtn', 'antifeminist', 'antichrist', 'antiblight', 'anthonys', 'anthology', 'anthelmintic', 'ant', 'answer\\x89Û', 'answered', 'anonymous', 'anonchimp', 'annoyed', 'announce', 'annoucement', 'annonymous', 'annmarieronan', 'annihilate', 'annealiz1', 'annddd', 'annajhm', 'annaciclismo', 'ankles', 'anjem', 'aniston', 'anime', 'animatronics', 'animations', 'animallogic', 'animaladvocate', 'angusmacneilsnp', 'angioplasty', 'angharadjames16', 'angers', 'angelstar39', 'angelriveralib\\x89Û', 'angelina', 'angelheartnight', 'angela', 'anew', 'anellatulip', 'andåÊchina', 'and\\x89Û', 'andygilder', 'andy', 'ands', 'androidgames', 'android', 'andrea', 'andre', 'anderson', 'anders', 'ancop', 'anchors', 'anchor', 'anatomy', 'anathemazhiv', 'anarchicteapot', 'analog', 'anakin', 'ana', 'an247', 'amznfavorites', 'amumumux', 'amssummer', 'amsosorry', 'amsal', 'amritsar', 'amreading', 'ampwanted', 'ampstory', 'ampstart', 'ampor', 'ampmdash', 'amplifier', 'ampask', 'ampamp', 'amp163163millions', 'amp039monsteramp039', 'amo', 'amman', 'amirkingkhan', 'aminespn', 'aminakh', 'amiibos', 'amicospizzato', 'amicos', 'americanlegion', 'ameribag', 'amends', 'amen', 'ameenshaikh3', 'amcx', 'ambulancewe', 'ambleside', 'ambition', 'amber', 'amazon\\x89Ûªs', 'amazons', 'amazondeals', 'amazingness', 'amazin', 'amazed', 'amateurnester', 'amateur', 'amaramin3', 'amalie', 'amageddon', 'ama', 'alwx', 'alwsl', 'alvinnelson07', 'alves', 'aluminum', 'alton', 'alternative', 'alternate', 'altamonte', 'alsowhat', 'alska', 'alrighty', 'alrightbut', 'alrasyid448iturasya', 'alphen', 'alpha', 'almighty', 'allyinwondrland', 'alltime', 'allthenews', 'allthekidneybeansandsorbet4misha', 'allpro', 'allowing', 'allotment', 'allocating', 'alllll', 'alllivesmatter', 'allinwithchris', 'allin', 'alliance', 'alley', 'allergic', 'allenenbot', 'allegedly', 'allay', 'allahsfinest12', 'aliveafter5', 'alisonannyoung', 'alipaper', 'alil', 'align', 'alifaditha', 'alice', 'ali', 'alhaji', 'algeria', 'algae', 'alfapedia', 'alextucker', 'alexshipppp', 'alexjacobsonpfs', 'alexissanchez', 'alexis', 'alexhammerstone', 'alexeivolkov1', 'alexandrian', 'alexalltimelow', 'alekalicante', 'aleisstokes', 'alec', 'aldridge', 'alcoholismaddiction', 'alcoholandmetal', 'alchemist', 'albums', 'albertas', 'albertans', 'albeit', 'alaska\\x89Ûªs', 'alaskaseafood', 'alaskas', 'alas', 'alarming', 'alarmems', 'alanhahn', 'alamodc', 'alameda', 'aladdin', 'akxbskdn', 'akx', 'akwa', 'akumareisu', 'aks', 'akrams', 'akito', 'akilah', 'akgovbillwalker', 'akcsl', 'akarb74', 'akame', 'ajw', 'ajabrown', 'aitchkaycee', 'aisumage', 'aisle', 'airwaves', 'airstrikes', 'airports', 'airplaneåÊ29072015', 'airplanes', 'airlift', 'airing', 'airhorns', 'airhead', 'airasia', 'air1bullet', 'aintsheperty', 'aimlessly', 'aiii', 'aids', 'aidan', 'aidade', 'ahuh', 'ahrar', 'ahmazing', 'ahhtheenikki', 'ahhhhh', 'ahhhh', 'ahamedis', 'ahahahga', 'agw', 'agusa', 'aguero', 'agreeshe', 'agreements', 'agony', 'agochicago', 'agnus', 'agnivesh', 'aggressively', 'aggression', 'aggressif', 'agent', 'agencies', 'ageekyfangirl14', 'agdq', 'agalloch', 'afycso', 'afterwards', 'aftershocks', 'aftershockorg', 'aftershockdelo', 'aftermath', 'afterhours', 'afterhaiyan', 'afte', 'afrin', 'afrikaan', 'africansinsf', 'africanbaze', 'african', 'afloat', 'afk10', 'afghetcleft', 'affliction', 'afflecki', 'affect', 'affair', 'aesthetic', 'aesop', 'aerospace', 'aeroplane', 'aelinrhee', 'aeg', 'adweek', 'advertise', 'adverse', 'advantages', 'advances', 'adumbbb', 'adults', 'adultblackmale', 'adsit', 'ads', 'adriennetomah', 'adriasimon', 'adrianpeel', 'adorableappple', 'adorable', 'adoptive', 'adoption', 'adopt', 'adndotcom', 'administrative', 'adjuster', 'adjustable', 'adjust', 'adiossuperbacterias', 'adidas', 'adhd', 'adelaide', 'addtexastonext1dtour', 'addresses', 'addicts', 'addiction', 'addict', 'adaptation', 'adani', 'adamtuss', 'adamrubinespn', 'adamnibloe', 'adamantly', 'acura', 'actress', 'activist', 'activision', 'actively', 'activate', 'actionmoviestaughtus', 'actin', 'acrylic', 'acronym', 'acquisitions', 'acquired', 'acquiesce', 'acousticmaloley', 'acne', 'acmilan', 'acids\\x89Ûª', 'aching', 'achieving', 'achievement', 'achieve', 'achedin', 'acesse', 'acenewsdesk', 'acee', 'acebreakingnews', 'acebabes', 'ace', 'acdelco', 'accuracy', 'accountable', 'accordingly', 'accompanying', 'accidentwho', 'accidents\\x89Ûª', 'accidently', 'accidentalprophecy', 'acarewornheart', 'academia', 'acaciapenn', 'abysmaljoiner', 'abuses', 'absurdly', 'absurd', 'abstract', 'absolutsumya15', 'absence', 'abs', 'abrancaballero', 'abouts', 'abortions', 'abombed', 'aboard', 'abninfvet', 'ableg', 'abject', 'abha', 'abes', 'aberystwythshrewsbury', 'abcs', 'abcnorio', 'abcnews24', 'abc7eyewitness', 'abc7chicago', 'abc3340', 'abbyairshow', 'abbruchsimulator', 'abbandoned', 'abandoning', 'abandonedpics', 'ab', 'aaronthefm', 'aar', 'aannnnd', 'aan', 'aampw', 'aampb', 'aaceorg', 'aaarrrgghhh', 'aaaaaand', 'aaaaaaallll', 'aaaa', 'a7', 'a40', 'a3', 'a2gthanover', 'a10gtparis', '9tarbox', '9newsmornings', '9newsbrisbane', '999day', '9973', '994', '99', '9800', '9798', '97', '96km', '966', '96355', '95roots', '957thegame', '9503', '950', '949', '945pm', '945hpa', '935', '933pm', '931pm', '929', '928', '927', '925', '91å¡f', '917141', '917033', '915pm', '915', '912pm', '911bombing', '91', '90s', '9058778591', '90225', '90100', '8minute', '8m', '8km', '8960', '8892', '862015209', '862015132', '862015108', '8615', '85v265v', '85885473', '8515', '8437150124', '8415', '8400', '8392', '830pm', '82ndabndiv', '829pm', '819', '816', '815', '810', '80m', '8015', '800pm', '800000', '7speed', '7p', '7newsadl', '7k', '7beyonce', '7amdollela', '7aal', '7a730p', '79yearold', '777', '75k', '752', '7510880', '75000', '746', '740', '73rd', '73km', '737', '730', '728', '723', '72', '71st', '716', '715', '713pm', '710pm', '710', '70\\x89Û', '70years', '70year', '70amp', '7000series', '7000', '6month', '6c', '6beyonce', '688', '68', '670thescore', '67', '66m', '666canberra', '666', '662', '6615434', '660', '652', '65000', '64oz', '63rdprairie', '630830', '630', '629', '627', '615', '61', '60second', '60ms', '60km', '608', '600\\x89Û', '600000', '5sosfamupdater', '58hif', '582', '58', '573', '550', '547', '544', '541', '54000', '540', '54', '53\\x89Û', '530pm', '52k', '528', '52214904', '51point', '516leonardville', '516', '515p', '5139055', '513', '50shadezofgrey', '50ft', '5050', '501', '500th', '4tpkotc', '4tpfa', '4tiles', '4the', '4suspected', '4pm', '4kus', '4k', '4head', '4am', '49', '481', '47km', '46lv8', '4608ÌÑ2474', '46', '45ms', '459', '453', '452', '4422', '44', '4306pm', '430', '428pm', '420', '42', '41yearold', '4193', '415', '4103', '40pg', '40mln', '40hourfamine', '405', '401ks', '400t', '400000\\x89ÛÒ800000', '400', '3åÊ\\x89Û', '3yearold', '3x5', '3x', '3pack', '3novices', '3n133', '3la', '3dc', '3am', '3alarm', '3967', '3945', '3941', '3939', '3934', '390', '38', '37592', '375000', '37', '36x36', '367', '365disasters', '3612', '358', '350', '3430pm', '3422', '325ci', '325', '319', '315pm', '311', '30\\x89Û', '30th', '30stm', '30s', '30pcs', '30min', '30lv6', '301dc', '300k', '2slow2report', '2pmclose', '2pack', '2minutemix', '2leezy', '2iclown', '2hours', '2his', '2for1lapdances', '2fast2furious', '2day', '2d', '2b', '2am', '2a', '295ss100', '293', '2920', '27w', '2781', '260th', '25ll6', '255', '250k', '2500fps', '250000', '2500', '24v', '24regionåÊåÊnear', '241', '23rd', '239', '23800', '234021', '2300', '230', '22days', '22beyonce', '228', '222pm', '21st', '217', '2134678', '2121', '20yrs', '20skyhawkmm20', '20s', '20mins', '20ll4', '20k', '20homers', '2065', '203rd', '2029', '2025', '202', '2019', '20177707d', '2017', '20152', '201516', '20150814', '20150613', '2007he', '2007', '2006', '2003', '20000k', '200000', '1x1', '1russian', '1rockstar62', '1pack', '1n', '1m', '1km', '1d', '1acd4900c1424d1', '19yrs', '19th', '199899', '1994', '1984style', '198', '197629', '1970s', '1960s', '1952', '1942', '1940', '194', '193635', '1935', '1928', '1921', '18wheelers', '18th', '18jst', '1895', '1890', '187', '1862', '1843', '184', '182624', '182245', '1800s', '1800', '17th', '17months', '17jul2015', '17beyonce', '179', '178', '1726', '1717', '1710', '171', '17000', '1700', '1699', '1665', '16550', '165409', '165000', '164021', '161116', '1600yearold', '160', '15moferadio', '15901', '159', '1581017', '1580853', '157', '154107', '15000270653', '15000270364', '1500', '14yearold', '14th', '14hours', '149', '148', '14028', '14000', '133', '12v', '12th', '12step', '12mm', '12m', '12jst', '12hr', '129', '1241317240', '124', '1236', '1232', '1211', '12007', '1200000', '120000', '11st', '11am', '119000', '115', '114', '11382', '1130bst', '1130a', '1130', '112', '1115', '111020', '110358', '11000000', '11000', '10\\x89Û', '10x', '10w', '10pm', '10monthold', '10m', '10k', '10am', '1079', '107', '10638', '1061', '106', '105', '1040pm', '10401', '1040', '103424', '1030pm', '1028', '1015pm', '1015', '100s', '100nd', '100mb', '1008pla\\x89Û', '1008planet\\x89Û', '1000s', '1000amp1000', '10000', '0936', '0913', '0840728', '08315', '08072015', '080615', '080515', '0802pm', '080215', '0800', '080', '0730', '07', '063424', '063243', '061', '0605', '05th', '05082015', '045', '0400', '034', '030811', '0308', '03', '0215', '0206', '012624', '012032', '0111', '0106', '010217', '010156', '0025', '001116', '0011']\n"
          ]
        }
      ]
    },
    {
      "cell_type": "markdown",
      "source": [
        "## Make Baseline Model"
      ],
      "metadata": {
        "id": "5_9mOMKFP7WC"
      }
    },
    {
      "cell_type": "code",
      "source": [
        "from sklearn.feature_extraction.text import TfidfVectorizer\n",
        "from sklearn.naive_bayes import MultinomialNB\n",
        "from sklearn.pipeline import Pipeline\n",
        "baseline_model = Pipeline([('tfidf',TfidfVectorizer()), ('clf',MultinomialNB())])\n",
        "baseline_model.fit(train_sentences, train_target)"
      ],
      "metadata": {
        "id": "LJ_yANZ3UCtN",
        "colab": {
          "base_uri": "https://localhost:8080/",
          "height": 156
        },
        "outputId": "68094f9c-d617-48ec-8a13-ac93fa8cba1b"
      },
      "execution_count": null,
      "outputs": [
        {
          "output_type": "execute_result",
          "data": {
            "text/plain": [
              "Pipeline(steps=[('tfidf', TfidfVectorizer()), ('clf', MultinomialNB())])"
            ],
            "text/html": [
              "<style>#sk-container-id-1 {\n",
              "  /* Definition of color scheme common for light and dark mode */\n",
              "  --sklearn-color-text: #000;\n",
              "  --sklearn-color-text-muted: #666;\n",
              "  --sklearn-color-line: gray;\n",
              "  /* Definition of color scheme for unfitted estimators */\n",
              "  --sklearn-color-unfitted-level-0: #fff5e6;\n",
              "  --sklearn-color-unfitted-level-1: #f6e4d2;\n",
              "  --sklearn-color-unfitted-level-2: #ffe0b3;\n",
              "  --sklearn-color-unfitted-level-3: chocolate;\n",
              "  /* Definition of color scheme for fitted estimators */\n",
              "  --sklearn-color-fitted-level-0: #f0f8ff;\n",
              "  --sklearn-color-fitted-level-1: #d4ebff;\n",
              "  --sklearn-color-fitted-level-2: #b3dbfd;\n",
              "  --sklearn-color-fitted-level-3: cornflowerblue;\n",
              "\n",
              "  /* Specific color for light theme */\n",
              "  --sklearn-color-text-on-default-background: var(--sg-text-color, var(--theme-code-foreground, var(--jp-content-font-color1, black)));\n",
              "  --sklearn-color-background: var(--sg-background-color, var(--theme-background, var(--jp-layout-color0, white)));\n",
              "  --sklearn-color-border-box: var(--sg-text-color, var(--theme-code-foreground, var(--jp-content-font-color1, black)));\n",
              "  --sklearn-color-icon: #696969;\n",
              "\n",
              "  @media (prefers-color-scheme: dark) {\n",
              "    /* Redefinition of color scheme for dark theme */\n",
              "    --sklearn-color-text-on-default-background: var(--sg-text-color, var(--theme-code-foreground, var(--jp-content-font-color1, white)));\n",
              "    --sklearn-color-background: var(--sg-background-color, var(--theme-background, var(--jp-layout-color0, #111)));\n",
              "    --sklearn-color-border-box: var(--sg-text-color, var(--theme-code-foreground, var(--jp-content-font-color1, white)));\n",
              "    --sklearn-color-icon: #878787;\n",
              "  }\n",
              "}\n",
              "\n",
              "#sk-container-id-1 {\n",
              "  color: var(--sklearn-color-text);\n",
              "}\n",
              "\n",
              "#sk-container-id-1 pre {\n",
              "  padding: 0;\n",
              "}\n",
              "\n",
              "#sk-container-id-1 input.sk-hidden--visually {\n",
              "  border: 0;\n",
              "  clip: rect(1px 1px 1px 1px);\n",
              "  clip: rect(1px, 1px, 1px, 1px);\n",
              "  height: 1px;\n",
              "  margin: -1px;\n",
              "  overflow: hidden;\n",
              "  padding: 0;\n",
              "  position: absolute;\n",
              "  width: 1px;\n",
              "}\n",
              "\n",
              "#sk-container-id-1 div.sk-dashed-wrapped {\n",
              "  border: 1px dashed var(--sklearn-color-line);\n",
              "  margin: 0 0.4em 0.5em 0.4em;\n",
              "  box-sizing: border-box;\n",
              "  padding-bottom: 0.4em;\n",
              "  background-color: var(--sklearn-color-background);\n",
              "}\n",
              "\n",
              "#sk-container-id-1 div.sk-container {\n",
              "  /* jupyter's `normalize.less` sets `[hidden] { display: none; }`\n",
              "     but bootstrap.min.css set `[hidden] { display: none !important; }`\n",
              "     so we also need the `!important` here to be able to override the\n",
              "     default hidden behavior on the sphinx rendered scikit-learn.org.\n",
              "     See: https://github.com/scikit-learn/scikit-learn/issues/21755 */\n",
              "  display: inline-block !important;\n",
              "  position: relative;\n",
              "}\n",
              "\n",
              "#sk-container-id-1 div.sk-text-repr-fallback {\n",
              "  display: none;\n",
              "}\n",
              "\n",
              "div.sk-parallel-item,\n",
              "div.sk-serial,\n",
              "div.sk-item {\n",
              "  /* draw centered vertical line to link estimators */\n",
              "  background-image: linear-gradient(var(--sklearn-color-text-on-default-background), var(--sklearn-color-text-on-default-background));\n",
              "  background-size: 2px 100%;\n",
              "  background-repeat: no-repeat;\n",
              "  background-position: center center;\n",
              "}\n",
              "\n",
              "/* Parallel-specific style estimator block */\n",
              "\n",
              "#sk-container-id-1 div.sk-parallel-item::after {\n",
              "  content: \"\";\n",
              "  width: 100%;\n",
              "  border-bottom: 2px solid var(--sklearn-color-text-on-default-background);\n",
              "  flex-grow: 1;\n",
              "}\n",
              "\n",
              "#sk-container-id-1 div.sk-parallel {\n",
              "  display: flex;\n",
              "  align-items: stretch;\n",
              "  justify-content: center;\n",
              "  background-color: var(--sklearn-color-background);\n",
              "  position: relative;\n",
              "}\n",
              "\n",
              "#sk-container-id-1 div.sk-parallel-item {\n",
              "  display: flex;\n",
              "  flex-direction: column;\n",
              "}\n",
              "\n",
              "#sk-container-id-1 div.sk-parallel-item:first-child::after {\n",
              "  align-self: flex-end;\n",
              "  width: 50%;\n",
              "}\n",
              "\n",
              "#sk-container-id-1 div.sk-parallel-item:last-child::after {\n",
              "  align-self: flex-start;\n",
              "  width: 50%;\n",
              "}\n",
              "\n",
              "#sk-container-id-1 div.sk-parallel-item:only-child::after {\n",
              "  width: 0;\n",
              "}\n",
              "\n",
              "/* Serial-specific style estimator block */\n",
              "\n",
              "#sk-container-id-1 div.sk-serial {\n",
              "  display: flex;\n",
              "  flex-direction: column;\n",
              "  align-items: center;\n",
              "  background-color: var(--sklearn-color-background);\n",
              "  padding-right: 1em;\n",
              "  padding-left: 1em;\n",
              "}\n",
              "\n",
              "\n",
              "/* Toggleable style: style used for estimator/Pipeline/ColumnTransformer box that is\n",
              "clickable and can be expanded/collapsed.\n",
              "- Pipeline and ColumnTransformer use this feature and define the default style\n",
              "- Estimators will overwrite some part of the style using the `sk-estimator` class\n",
              "*/\n",
              "\n",
              "/* Pipeline and ColumnTransformer style (default) */\n",
              "\n",
              "#sk-container-id-1 div.sk-toggleable {\n",
              "  /* Default theme specific background. It is overwritten whether we have a\n",
              "  specific estimator or a Pipeline/ColumnTransformer */\n",
              "  background-color: var(--sklearn-color-background);\n",
              "}\n",
              "\n",
              "/* Toggleable label */\n",
              "#sk-container-id-1 label.sk-toggleable__label {\n",
              "  cursor: pointer;\n",
              "  display: flex;\n",
              "  width: 100%;\n",
              "  margin-bottom: 0;\n",
              "  padding: 0.5em;\n",
              "  box-sizing: border-box;\n",
              "  text-align: center;\n",
              "  align-items: start;\n",
              "  justify-content: space-between;\n",
              "  gap: 0.5em;\n",
              "}\n",
              "\n",
              "#sk-container-id-1 label.sk-toggleable__label .caption {\n",
              "  font-size: 0.6rem;\n",
              "  font-weight: lighter;\n",
              "  color: var(--sklearn-color-text-muted);\n",
              "}\n",
              "\n",
              "#sk-container-id-1 label.sk-toggleable__label-arrow:before {\n",
              "  /* Arrow on the left of the label */\n",
              "  content: \"▸\";\n",
              "  float: left;\n",
              "  margin-right: 0.25em;\n",
              "  color: var(--sklearn-color-icon);\n",
              "}\n",
              "\n",
              "#sk-container-id-1 label.sk-toggleable__label-arrow:hover:before {\n",
              "  color: var(--sklearn-color-text);\n",
              "}\n",
              "\n",
              "/* Toggleable content - dropdown */\n",
              "\n",
              "#sk-container-id-1 div.sk-toggleable__content {\n",
              "  max-height: 0;\n",
              "  max-width: 0;\n",
              "  overflow: hidden;\n",
              "  text-align: left;\n",
              "  /* unfitted */\n",
              "  background-color: var(--sklearn-color-unfitted-level-0);\n",
              "}\n",
              "\n",
              "#sk-container-id-1 div.sk-toggleable__content.fitted {\n",
              "  /* fitted */\n",
              "  background-color: var(--sklearn-color-fitted-level-0);\n",
              "}\n",
              "\n",
              "#sk-container-id-1 div.sk-toggleable__content pre {\n",
              "  margin: 0.2em;\n",
              "  border-radius: 0.25em;\n",
              "  color: var(--sklearn-color-text);\n",
              "  /* unfitted */\n",
              "  background-color: var(--sklearn-color-unfitted-level-0);\n",
              "}\n",
              "\n",
              "#sk-container-id-1 div.sk-toggleable__content.fitted pre {\n",
              "  /* unfitted */\n",
              "  background-color: var(--sklearn-color-fitted-level-0);\n",
              "}\n",
              "\n",
              "#sk-container-id-1 input.sk-toggleable__control:checked~div.sk-toggleable__content {\n",
              "  /* Expand drop-down */\n",
              "  max-height: 200px;\n",
              "  max-width: 100%;\n",
              "  overflow: auto;\n",
              "}\n",
              "\n",
              "#sk-container-id-1 input.sk-toggleable__control:checked~label.sk-toggleable__label-arrow:before {\n",
              "  content: \"▾\";\n",
              "}\n",
              "\n",
              "/* Pipeline/ColumnTransformer-specific style */\n",
              "\n",
              "#sk-container-id-1 div.sk-label input.sk-toggleable__control:checked~label.sk-toggleable__label {\n",
              "  color: var(--sklearn-color-text);\n",
              "  background-color: var(--sklearn-color-unfitted-level-2);\n",
              "}\n",
              "\n",
              "#sk-container-id-1 div.sk-label.fitted input.sk-toggleable__control:checked~label.sk-toggleable__label {\n",
              "  background-color: var(--sklearn-color-fitted-level-2);\n",
              "}\n",
              "\n",
              "/* Estimator-specific style */\n",
              "\n",
              "/* Colorize estimator box */\n",
              "#sk-container-id-1 div.sk-estimator input.sk-toggleable__control:checked~label.sk-toggleable__label {\n",
              "  /* unfitted */\n",
              "  background-color: var(--sklearn-color-unfitted-level-2);\n",
              "}\n",
              "\n",
              "#sk-container-id-1 div.sk-estimator.fitted input.sk-toggleable__control:checked~label.sk-toggleable__label {\n",
              "  /* fitted */\n",
              "  background-color: var(--sklearn-color-fitted-level-2);\n",
              "}\n",
              "\n",
              "#sk-container-id-1 div.sk-label label.sk-toggleable__label,\n",
              "#sk-container-id-1 div.sk-label label {\n",
              "  /* The background is the default theme color */\n",
              "  color: var(--sklearn-color-text-on-default-background);\n",
              "}\n",
              "\n",
              "/* On hover, darken the color of the background */\n",
              "#sk-container-id-1 div.sk-label:hover label.sk-toggleable__label {\n",
              "  color: var(--sklearn-color-text);\n",
              "  background-color: var(--sklearn-color-unfitted-level-2);\n",
              "}\n",
              "\n",
              "/* Label box, darken color on hover, fitted */\n",
              "#sk-container-id-1 div.sk-label.fitted:hover label.sk-toggleable__label.fitted {\n",
              "  color: var(--sklearn-color-text);\n",
              "  background-color: var(--sklearn-color-fitted-level-2);\n",
              "}\n",
              "\n",
              "/* Estimator label */\n",
              "\n",
              "#sk-container-id-1 div.sk-label label {\n",
              "  font-family: monospace;\n",
              "  font-weight: bold;\n",
              "  display: inline-block;\n",
              "  line-height: 1.2em;\n",
              "}\n",
              "\n",
              "#sk-container-id-1 div.sk-label-container {\n",
              "  text-align: center;\n",
              "}\n",
              "\n",
              "/* Estimator-specific */\n",
              "#sk-container-id-1 div.sk-estimator {\n",
              "  font-family: monospace;\n",
              "  border: 1px dotted var(--sklearn-color-border-box);\n",
              "  border-radius: 0.25em;\n",
              "  box-sizing: border-box;\n",
              "  margin-bottom: 0.5em;\n",
              "  /* unfitted */\n",
              "  background-color: var(--sklearn-color-unfitted-level-0);\n",
              "}\n",
              "\n",
              "#sk-container-id-1 div.sk-estimator.fitted {\n",
              "  /* fitted */\n",
              "  background-color: var(--sklearn-color-fitted-level-0);\n",
              "}\n",
              "\n",
              "/* on hover */\n",
              "#sk-container-id-1 div.sk-estimator:hover {\n",
              "  /* unfitted */\n",
              "  background-color: var(--sklearn-color-unfitted-level-2);\n",
              "}\n",
              "\n",
              "#sk-container-id-1 div.sk-estimator.fitted:hover {\n",
              "  /* fitted */\n",
              "  background-color: var(--sklearn-color-fitted-level-2);\n",
              "}\n",
              "\n",
              "/* Specification for estimator info (e.g. \"i\" and \"?\") */\n",
              "\n",
              "/* Common style for \"i\" and \"?\" */\n",
              "\n",
              ".sk-estimator-doc-link,\n",
              "a:link.sk-estimator-doc-link,\n",
              "a:visited.sk-estimator-doc-link {\n",
              "  float: right;\n",
              "  font-size: smaller;\n",
              "  line-height: 1em;\n",
              "  font-family: monospace;\n",
              "  background-color: var(--sklearn-color-background);\n",
              "  border-radius: 1em;\n",
              "  height: 1em;\n",
              "  width: 1em;\n",
              "  text-decoration: none !important;\n",
              "  margin-left: 0.5em;\n",
              "  text-align: center;\n",
              "  /* unfitted */\n",
              "  border: var(--sklearn-color-unfitted-level-1) 1pt solid;\n",
              "  color: var(--sklearn-color-unfitted-level-1);\n",
              "}\n",
              "\n",
              ".sk-estimator-doc-link.fitted,\n",
              "a:link.sk-estimator-doc-link.fitted,\n",
              "a:visited.sk-estimator-doc-link.fitted {\n",
              "  /* fitted */\n",
              "  border: var(--sklearn-color-fitted-level-1) 1pt solid;\n",
              "  color: var(--sklearn-color-fitted-level-1);\n",
              "}\n",
              "\n",
              "/* On hover */\n",
              "div.sk-estimator:hover .sk-estimator-doc-link:hover,\n",
              ".sk-estimator-doc-link:hover,\n",
              "div.sk-label-container:hover .sk-estimator-doc-link:hover,\n",
              ".sk-estimator-doc-link:hover {\n",
              "  /* unfitted */\n",
              "  background-color: var(--sklearn-color-unfitted-level-3);\n",
              "  color: var(--sklearn-color-background);\n",
              "  text-decoration: none;\n",
              "}\n",
              "\n",
              "div.sk-estimator.fitted:hover .sk-estimator-doc-link.fitted:hover,\n",
              ".sk-estimator-doc-link.fitted:hover,\n",
              "div.sk-label-container:hover .sk-estimator-doc-link.fitted:hover,\n",
              ".sk-estimator-doc-link.fitted:hover {\n",
              "  /* fitted */\n",
              "  background-color: var(--sklearn-color-fitted-level-3);\n",
              "  color: var(--sklearn-color-background);\n",
              "  text-decoration: none;\n",
              "}\n",
              "\n",
              "/* Span, style for the box shown on hovering the info icon */\n",
              ".sk-estimator-doc-link span {\n",
              "  display: none;\n",
              "  z-index: 9999;\n",
              "  position: relative;\n",
              "  font-weight: normal;\n",
              "  right: .2ex;\n",
              "  padding: .5ex;\n",
              "  margin: .5ex;\n",
              "  width: min-content;\n",
              "  min-width: 20ex;\n",
              "  max-width: 50ex;\n",
              "  color: var(--sklearn-color-text);\n",
              "  box-shadow: 2pt 2pt 4pt #999;\n",
              "  /* unfitted */\n",
              "  background: var(--sklearn-color-unfitted-level-0);\n",
              "  border: .5pt solid var(--sklearn-color-unfitted-level-3);\n",
              "}\n",
              "\n",
              ".sk-estimator-doc-link.fitted span {\n",
              "  /* fitted */\n",
              "  background: var(--sklearn-color-fitted-level-0);\n",
              "  border: var(--sklearn-color-fitted-level-3);\n",
              "}\n",
              "\n",
              ".sk-estimator-doc-link:hover span {\n",
              "  display: block;\n",
              "}\n",
              "\n",
              "/* \"?\"-specific style due to the `<a>` HTML tag */\n",
              "\n",
              "#sk-container-id-1 a.estimator_doc_link {\n",
              "  float: right;\n",
              "  font-size: 1rem;\n",
              "  line-height: 1em;\n",
              "  font-family: monospace;\n",
              "  background-color: var(--sklearn-color-background);\n",
              "  border-radius: 1rem;\n",
              "  height: 1rem;\n",
              "  width: 1rem;\n",
              "  text-decoration: none;\n",
              "  /* unfitted */\n",
              "  color: var(--sklearn-color-unfitted-level-1);\n",
              "  border: var(--sklearn-color-unfitted-level-1) 1pt solid;\n",
              "}\n",
              "\n",
              "#sk-container-id-1 a.estimator_doc_link.fitted {\n",
              "  /* fitted */\n",
              "  border: var(--sklearn-color-fitted-level-1) 1pt solid;\n",
              "  color: var(--sklearn-color-fitted-level-1);\n",
              "}\n",
              "\n",
              "/* On hover */\n",
              "#sk-container-id-1 a.estimator_doc_link:hover {\n",
              "  /* unfitted */\n",
              "  background-color: var(--sklearn-color-unfitted-level-3);\n",
              "  color: var(--sklearn-color-background);\n",
              "  text-decoration: none;\n",
              "}\n",
              "\n",
              "#sk-container-id-1 a.estimator_doc_link.fitted:hover {\n",
              "  /* fitted */\n",
              "  background-color: var(--sklearn-color-fitted-level-3);\n",
              "}\n",
              "</style><div id=\"sk-container-id-1\" class=\"sk-top-container\"><div class=\"sk-text-repr-fallback\"><pre>Pipeline(steps=[(&#x27;tfidf&#x27;, TfidfVectorizer()), (&#x27;clf&#x27;, MultinomialNB())])</pre><b>In a Jupyter environment, please rerun this cell to show the HTML representation or trust the notebook. <br />On GitHub, the HTML representation is unable to render, please try loading this page with nbviewer.org.</b></div><div class=\"sk-container\" hidden><div class=\"sk-item sk-dashed-wrapped\"><div class=\"sk-label-container\"><div class=\"sk-label fitted sk-toggleable\"><input class=\"sk-toggleable__control sk-hidden--visually\" id=\"sk-estimator-id-1\" type=\"checkbox\" ><label for=\"sk-estimator-id-1\" class=\"sk-toggleable__label fitted sk-toggleable__label-arrow\"><div><div>Pipeline</div></div><div><a class=\"sk-estimator-doc-link fitted\" rel=\"noreferrer\" target=\"_blank\" href=\"https://scikit-learn.org/1.6/modules/generated/sklearn.pipeline.Pipeline.html\">?<span>Documentation for Pipeline</span></a><span class=\"sk-estimator-doc-link fitted\">i<span>Fitted</span></span></div></label><div class=\"sk-toggleable__content fitted\"><pre>Pipeline(steps=[(&#x27;tfidf&#x27;, TfidfVectorizer()), (&#x27;clf&#x27;, MultinomialNB())])</pre></div> </div></div><div class=\"sk-serial\"><div class=\"sk-item\"><div class=\"sk-estimator fitted sk-toggleable\"><input class=\"sk-toggleable__control sk-hidden--visually\" id=\"sk-estimator-id-2\" type=\"checkbox\" ><label for=\"sk-estimator-id-2\" class=\"sk-toggleable__label fitted sk-toggleable__label-arrow\"><div><div>TfidfVectorizer</div></div><div><a class=\"sk-estimator-doc-link fitted\" rel=\"noreferrer\" target=\"_blank\" href=\"https://scikit-learn.org/1.6/modules/generated/sklearn.feature_extraction.text.TfidfVectorizer.html\">?<span>Documentation for TfidfVectorizer</span></a></div></label><div class=\"sk-toggleable__content fitted\"><pre>TfidfVectorizer()</pre></div> </div></div><div class=\"sk-item\"><div class=\"sk-estimator fitted sk-toggleable\"><input class=\"sk-toggleable__control sk-hidden--visually\" id=\"sk-estimator-id-3\" type=\"checkbox\" ><label for=\"sk-estimator-id-3\" class=\"sk-toggleable__label fitted sk-toggleable__label-arrow\"><div><div>MultinomialNB</div></div><div><a class=\"sk-estimator-doc-link fitted\" rel=\"noreferrer\" target=\"_blank\" href=\"https://scikit-learn.org/1.6/modules/generated/sklearn.naive_bayes.MultinomialNB.html\">?<span>Documentation for MultinomialNB</span></a></div></label><div class=\"sk-toggleable__content fitted\"><pre>MultinomialNB()</pre></div> </div></div></div></div></div></div>"
            ]
          },
          "metadata": {},
          "execution_count": 21
        }
      ]
    },
    {
      "cell_type": "code",
      "source": [
        "baseline_score = baseline_model.score(val_sentences, val_target)\n",
        "baseline_score"
      ],
      "metadata": {
        "colab": {
          "base_uri": "https://localhost:8080/"
        },
        "id": "KOOzQucKQ3pO",
        "outputId": "f8fa23bf-eca2-42d6-bf3c-4f9edb2981aa"
      },
      "execution_count": null,
      "outputs": [
        {
          "output_type": "execute_result",
          "data": {
            "text/plain": [
              "0.7926509186351706"
            ]
          },
          "metadata": {},
          "execution_count": 22
        }
      ]
    },
    {
      "cell_type": "code",
      "source": [
        "baseline_pred = baseline_model.predict(val_sentences)"
      ],
      "metadata": {
        "id": "TRJSSAJ3RLLp"
      },
      "execution_count": null,
      "outputs": []
    },
    {
      "cell_type": "code",
      "source": [
        "from sklearn.metrics import accuracy_score, precision_recall_fscore_support\n",
        "\n",
        "def calculate_results(y_true, y_pred):\n",
        "  model_accuracy= accuracy_score(y_true, y_pred)*100\n",
        "  model_precision, model_recall, model_f1, _= precision_recall_fscore_support(y_true, y_pred, average=\"weighted\")\n",
        "  model_result = {\"accuracy\":model_accuracy, \"precision\": model_precision, \"recall\":model_recall, \"f1\":model_f1}\n",
        "  return model_result"
      ],
      "metadata": {
        "id": "qhchhuONRTT8"
      },
      "execution_count": null,
      "outputs": []
    },
    {
      "cell_type": "code",
      "source": [
        "baseline_result = calculate_results(val_target, baseline_pred)\n",
        "baseline_result"
      ],
      "metadata": {
        "colab": {
          "base_uri": "https://localhost:8080/"
        },
        "id": "4f8jV5fSVb8Q",
        "outputId": "6e6a1c8c-e451-469f-a465-70eeea71199a"
      },
      "execution_count": null,
      "outputs": [
        {
          "output_type": "execute_result",
          "data": {
            "text/plain": [
              "{'accuracy': 79.26509186351706,\n",
              " 'precision': 0.8111390004213173,\n",
              " 'recall': 0.7926509186351706,\n",
              " 'f1': 0.7862189758049549}"
            ]
          },
          "metadata": {},
          "execution_count": 25
        }
      ]
    },
    {
      "cell_type": "markdown",
      "source": [
        "## Preprocessing data for sequential model"
      ],
      "metadata": {
        "id": "wBPGu392dT5n"
      }
    },
    {
      "cell_type": "code",
      "source": [
        "train_df, test_df= train_test_split(train_df_shuffled[['text','target']], test_size=0.1, random_state=42)\n",
        "val_df = test_df.sample(frac=0.5)\n",
        "test_df.drop(val_df.index, inplace=True)"
      ],
      "metadata": {
        "id": "SMa78gQedh2I"
      },
      "execution_count": null,
      "outputs": []
    },
    {
      "cell_type": "code",
      "source": [
        "def remove_stopwords(sentence):\n",
        "    stopwords = [\"a\", \"about\", \"above\", \"after\", \"again\", \"against\", \"all\", \"am\", \"an\", \"and\", \"any\", \"are\", \"as\", \"at\", \"be\", \"because\", \"been\", \"before\", \"being\", \"below\", \"between\", \"both\", \"but\", \"by\", \"could\", \"did\", \"do\", \"does\", \"doing\", \"down\", \"during\", \"each\", \"few\", \"for\", \"from\", \"further\", \"had\", \"has\", \"have\", \"having\", \"he\", \"he'd\", \"he'll\", \"he's\", \"her\", \"here\", \"here's\", \"hers\", \"herself\", \"him\", \"himself\", \"his\", \"how\", \"how's\", \"i\", \"i'd\", \"i'll\", \"i'm\", \"i've\", \"if\", \"in\", \"into\", \"is\", \"it\", \"it's\", \"its\", \"itself\", \"let's\", \"me\", \"more\", \"most\", \"my\", \"myself\", \"nor\", \"of\", \"on\", \"once\", \"only\", \"or\", \"other\", \"ought\", \"our\", \"ours\", \"ourselves\", \"out\", \"over\", \"own\", \"same\", \"she\", \"she'd\", \"she'll\", \"she's\", \"should\", \"so\", \"some\", \"such\", \"than\", \"that\", \"that's\", \"the\", \"their\", \"theirs\", \"them\", \"themselves\", \"then\", \"there\", \"there's\", \"these\", \"they\", \"they'd\", \"they'll\", \"they're\", \"they've\", \"this\", \"those\", \"through\", \"to\", \"too\", \"under\", \"until\", \"up\", \"very\", \"was\", \"we\", \"we'd\", \"we'll\", \"we're\", \"we've\", \"were\", \"what\", \"what's\", \"when\", \"when's\", \"where\", \"where's\", \"which\", \"while\", \"who\", \"who's\", \"whom\", \"why\", \"why's\", \"with\", \"would\", \"you\", \"you'd\", \"you'll\", \"you're\", \"you've\", \"your\", \"yours\", \"yourself\", \"yourselves\" ]\n",
        "    sentence = sentence.lower()\n",
        "    word_list = sentence.split()\n",
        "    words = [w for w in word_list if w not in stopwords]\n",
        "    sentence = \" \".join(words)\n",
        "\n",
        "    return sentence"
      ],
      "metadata": {
        "id": "eCkQpXrHeLgq"
      },
      "execution_count": null,
      "outputs": []
    },
    {
      "cell_type": "code",
      "source": [
        "train_sentences = train_df['text'].apply(remove_stopwords).values\n",
        "train_labels = train_df['target'].values\n",
        "\n",
        "test_sentences = test_df['text'].apply(remove_stopwords).values\n",
        "test_labels = test_df['target'].values\n",
        "\n",
        "val_sentences = val_df['text'].apply(remove_stopwords).values\n",
        "val_labels = val_df['target'].values"
      ],
      "metadata": {
        "id": "oKAcxCuceAuX"
      },
      "execution_count": null,
      "outputs": []
    },
    {
      "cell_type": "code",
      "source": [
        "def preprocessing_fn(dataset):\n",
        "  dataset_sequences = dataset.map(lambda text, label: (text_vectorization(text), label))\n",
        "  dataset_sequences = dataset_sequences.ragged_batch(batch_size=dataset_sequences.cardinality())\n",
        "  sequences, labels = dataset_sequences.get_single_element()\n",
        "  padded_sequences = tf.keras.utils.pad_sequences(sequences.numpy(),maxlen=max_length,truncating='post',padding='post')\n",
        "  padded_sequences = tf.data.Dataset.from_tensor_slices(padded_sequences)\n",
        "  labels = tf.data.Dataset.from_tensor_slices(labels)\n",
        "  dataset_vectorized = tf.data.Dataset.zip(padded_sequences, labels)\n",
        "  return dataset_vectorized"
      ],
      "metadata": {
        "id": "gnGi0d-Tek_S"
      },
      "execution_count": null,
      "outputs": []
    },
    {
      "cell_type": "code",
      "source": [
        "train_dataset = tf.data.Dataset.from_tensor_slices((train_sentences, train_labels))\n",
        "test_dataset = tf.data.Dataset.from_tensor_slices((test_sentences, test_labels))\n",
        "val_dataset = tf.data.Dataset.from_tensor_slices((val_sentences, val_labels))"
      ],
      "metadata": {
        "id": "Op1JSq0-ek3O"
      },
      "execution_count": null,
      "outputs": []
    },
    {
      "cell_type": "code",
      "source": [
        "train_dataset = train_dataset.apply(preprocessing_fn)\n",
        "test_dataset = test_dataset.apply(preprocessing_fn)\n",
        "val_dataset = val_dataset.apply(preprocessing_fn)"
      ],
      "metadata": {
        "id": "GiN5cod2ekrP"
      },
      "execution_count": null,
      "outputs": []
    },
    {
      "cell_type": "code",
      "source": [
        "for example in train_dataset.take(2):\n",
        "  print(example)\n",
        "  print()"
      ],
      "metadata": {
        "colab": {
          "base_uri": "https://localhost:8080/"
        },
        "id": "LCuRoS70fo4o",
        "outputId": "7f9ef9d9-153f-4e51-fb5a-a67004c2d5c3"
      },
      "execution_count": null,
      "outputs": [
        {
          "output_type": "stream",
          "name": "stdout",
          "text": [
            "(<tf.Tensor: shape=(15,), dtype=int32, numpy=\n",
            "array([10738,  6507,   387,  2956,   978,     0,     0,     0,     0,\n",
            "           0,     0,     0,     0,     0,     0], dtype=int32)>, <tf.Tensor: shape=(), dtype=int64, numpy=0>)\n",
            "\n",
            "(<tf.Tensor: shape=(15,), dtype=int32, numpy=\n",
            "array([ 1514,   209,   485, 11535,  2589,     0,     0,     0,     0,\n",
            "           0,     0,     0,     0,     0,     0], dtype=int32)>, <tf.Tensor: shape=(), dtype=int64, numpy=0>)\n",
            "\n"
          ]
        }
      ]
    },
    {
      "cell_type": "code",
      "source": [
        "SHUFFLE_BUFFER_SIZE = 1000\n",
        "PREFETCH_BUFFER_SIZE = tf.data.AUTOTUNE\n",
        "BATCH_SIZE = 32\n",
        "\n",
        "train_dataset_final = (train_dataset.cache().shuffle(SHUFFLE_BUFFER_SIZE).batch(BATCH_SIZE).prefetch(PREFETCH_BUFFER_SIZE))\n",
        "test_dataset_final = (test_dataset.cache().batch(BATCH_SIZE).prefetch(PREFETCH_BUFFER_SIZE))\n",
        "validation_dataset_final = (val_dataset.cache().batch(BATCH_SIZE).prefetch(PREFETCH_BUFFER_SIZE))"
      ],
      "metadata": {
        "id": "gCrx1enrfwhL"
      },
      "execution_count": null,
      "outputs": []
    },
    {
      "cell_type": "markdown",
      "source": [
        "## Model 1"
      ],
      "metadata": {
        "id": "LtdCqcFYcTa4"
      }
    },
    {
      "cell_type": "code",
      "source": [
        "inputs = tf.keras.layers.Input(shape=(15,), dtype=tf.int64)\n",
        "x = tf.keras.layers.Embedding(input_dim=max_vocab_length, output_dim=128, input_length=max_length)(inputs)\n",
        "x = tf.keras.layers.GlobalAveragePooling1D()(x)\n",
        "x = tf.keras.layers.Dense(128, activation='relu')(x)\n",
        "outputs = tf.keras.layers.Dense(1, activation='sigmoid')(x)\n",
        "model_1 = tf.keras.Model(inputs, outputs)"
      ],
      "metadata": {
        "colab": {
          "base_uri": "https://localhost:8080/"
        },
        "id": "1WtRtpMydSSX",
        "outputId": "45c73421-17e7-4a06-a814-ba8d1e9a1c49"
      },
      "execution_count": null,
      "outputs": [
        {
          "output_type": "stream",
          "name": "stderr",
          "text": [
            "/usr/local/lib/python3.10/dist-packages/keras/src/layers/core/embedding.py:90: UserWarning: Argument `input_length` is deprecated. Just remove it.\n",
            "  warnings.warn(\n"
          ]
        }
      ]
    },
    {
      "cell_type": "code",
      "source": [
        "model_1.compile(loss=\"binary_crossentropy\", optimizer=tf.keras.optimizers.Adam(), metrics=[\"accuracy\"])"
      ],
      "metadata": {
        "id": "fhj8zUzVWKn-"
      },
      "execution_count": null,
      "outputs": []
    },
    {
      "cell_type": "code",
      "source": [
        "model_1.summary()"
      ],
      "metadata": {
        "colab": {
          "base_uri": "https://localhost:8080/",
          "height": 310
        },
        "id": "hhXlODdgjNhv",
        "outputId": "91081efd-fe38-4a7f-92ea-5782ffd0d686"
      },
      "execution_count": null,
      "outputs": [
        {
          "output_type": "display_data",
          "data": {
            "text/plain": [
              "\u001b[1mModel: \"functional\"\u001b[0m\n"
            ],
            "text/html": [
              "<pre style=\"white-space:pre;overflow-x:auto;line-height:normal;font-family:Menlo,'DejaVu Sans Mono',consolas,'Courier New',monospace\"><span style=\"font-weight: bold\">Model: \"functional\"</span>\n",
              "</pre>\n"
            ]
          },
          "metadata": {}
        },
        {
          "output_type": "display_data",
          "data": {
            "text/plain": [
              "┏━━━━━━━━━━━━━━━━━━━━━━━━━━━━━━━━━━━━━━┳━━━━━━━━━━━━━━━━━━━━━━━━━━━━━┳━━━━━━━━━━━━━━━━━┓\n",
              "┃\u001b[1m \u001b[0m\u001b[1mLayer (type)                        \u001b[0m\u001b[1m \u001b[0m┃\u001b[1m \u001b[0m\u001b[1mOutput Shape               \u001b[0m\u001b[1m \u001b[0m┃\u001b[1m \u001b[0m\u001b[1m        Param #\u001b[0m\u001b[1m \u001b[0m┃\n",
              "┡━━━━━━━━━━━━━━━━━━━━━━━━━━━━━━━━━━━━━━╇━━━━━━━━━━━━━━━━━━━━━━━━━━━━━╇━━━━━━━━━━━━━━━━━┩\n",
              "│ input_layer (\u001b[38;5;33mInputLayer\u001b[0m)             │ (\u001b[38;5;45mNone\u001b[0m, \u001b[38;5;34m15\u001b[0m)                  │               \u001b[38;5;34m0\u001b[0m │\n",
              "├──────────────────────────────────────┼─────────────────────────────┼─────────────────┤\n",
              "│ embedding (\u001b[38;5;33mEmbedding\u001b[0m)                │ (\u001b[38;5;45mNone\u001b[0m, \u001b[38;5;34m15\u001b[0m, \u001b[38;5;34m128\u001b[0m)             │      \u001b[38;5;34m12,800,000\u001b[0m │\n",
              "├──────────────────────────────────────┼─────────────────────────────┼─────────────────┤\n",
              "│ global_average_pooling1d             │ (\u001b[38;5;45mNone\u001b[0m, \u001b[38;5;34m128\u001b[0m)                 │               \u001b[38;5;34m0\u001b[0m │\n",
              "│ (\u001b[38;5;33mGlobalAveragePooling1D\u001b[0m)             │                             │                 │\n",
              "├──────────────────────────────────────┼─────────────────────────────┼─────────────────┤\n",
              "│ dense (\u001b[38;5;33mDense\u001b[0m)                        │ (\u001b[38;5;45mNone\u001b[0m, \u001b[38;5;34m128\u001b[0m)                 │          \u001b[38;5;34m16,512\u001b[0m │\n",
              "├──────────────────────────────────────┼─────────────────────────────┼─────────────────┤\n",
              "│ dense_1 (\u001b[38;5;33mDense\u001b[0m)                      │ (\u001b[38;5;45mNone\u001b[0m, \u001b[38;5;34m1\u001b[0m)                   │             \u001b[38;5;34m129\u001b[0m │\n",
              "└──────────────────────────────────────┴─────────────────────────────┴─────────────────┘\n"
            ],
            "text/html": [
              "<pre style=\"white-space:pre;overflow-x:auto;line-height:normal;font-family:Menlo,'DejaVu Sans Mono',consolas,'Courier New',monospace\">┏━━━━━━━━━━━━━━━━━━━━━━━━━━━━━━━━━━━━━━┳━━━━━━━━━━━━━━━━━━━━━━━━━━━━━┳━━━━━━━━━━━━━━━━━┓\n",
              "┃<span style=\"font-weight: bold\"> Layer (type)                         </span>┃<span style=\"font-weight: bold\"> Output Shape                </span>┃<span style=\"font-weight: bold\">         Param # </span>┃\n",
              "┡━━━━━━━━━━━━━━━━━━━━━━━━━━━━━━━━━━━━━━╇━━━━━━━━━━━━━━━━━━━━━━━━━━━━━╇━━━━━━━━━━━━━━━━━┩\n",
              "│ input_layer (<span style=\"color: #0087ff; text-decoration-color: #0087ff\">InputLayer</span>)             │ (<span style=\"color: #00d7ff; text-decoration-color: #00d7ff\">None</span>, <span style=\"color: #00af00; text-decoration-color: #00af00\">15</span>)                  │               <span style=\"color: #00af00; text-decoration-color: #00af00\">0</span> │\n",
              "├──────────────────────────────────────┼─────────────────────────────┼─────────────────┤\n",
              "│ embedding (<span style=\"color: #0087ff; text-decoration-color: #0087ff\">Embedding</span>)                │ (<span style=\"color: #00d7ff; text-decoration-color: #00d7ff\">None</span>, <span style=\"color: #00af00; text-decoration-color: #00af00\">15</span>, <span style=\"color: #00af00; text-decoration-color: #00af00\">128</span>)             │      <span style=\"color: #00af00; text-decoration-color: #00af00\">12,800,000</span> │\n",
              "├──────────────────────────────────────┼─────────────────────────────┼─────────────────┤\n",
              "│ global_average_pooling1d             │ (<span style=\"color: #00d7ff; text-decoration-color: #00d7ff\">None</span>, <span style=\"color: #00af00; text-decoration-color: #00af00\">128</span>)                 │               <span style=\"color: #00af00; text-decoration-color: #00af00\">0</span> │\n",
              "│ (<span style=\"color: #0087ff; text-decoration-color: #0087ff\">GlobalAveragePooling1D</span>)             │                             │                 │\n",
              "├──────────────────────────────────────┼─────────────────────────────┼─────────────────┤\n",
              "│ dense (<span style=\"color: #0087ff; text-decoration-color: #0087ff\">Dense</span>)                        │ (<span style=\"color: #00d7ff; text-decoration-color: #00d7ff\">None</span>, <span style=\"color: #00af00; text-decoration-color: #00af00\">128</span>)                 │          <span style=\"color: #00af00; text-decoration-color: #00af00\">16,512</span> │\n",
              "├──────────────────────────────────────┼─────────────────────────────┼─────────────────┤\n",
              "│ dense_1 (<span style=\"color: #0087ff; text-decoration-color: #0087ff\">Dense</span>)                      │ (<span style=\"color: #00d7ff; text-decoration-color: #00d7ff\">None</span>, <span style=\"color: #00af00; text-decoration-color: #00af00\">1</span>)                   │             <span style=\"color: #00af00; text-decoration-color: #00af00\">129</span> │\n",
              "└──────────────────────────────────────┴─────────────────────────────┴─────────────────┘\n",
              "</pre>\n"
            ]
          },
          "metadata": {}
        },
        {
          "output_type": "display_data",
          "data": {
            "text/plain": [
              "\u001b[1m Total params: \u001b[0m\u001b[38;5;34m12,816,641\u001b[0m (48.89 MB)\n"
            ],
            "text/html": [
              "<pre style=\"white-space:pre;overflow-x:auto;line-height:normal;font-family:Menlo,'DejaVu Sans Mono',consolas,'Courier New',monospace\"><span style=\"font-weight: bold\"> Total params: </span><span style=\"color: #00af00; text-decoration-color: #00af00\">12,816,641</span> (48.89 MB)\n",
              "</pre>\n"
            ]
          },
          "metadata": {}
        },
        {
          "output_type": "display_data",
          "data": {
            "text/plain": [
              "\u001b[1m Trainable params: \u001b[0m\u001b[38;5;34m12,816,641\u001b[0m (48.89 MB)\n"
            ],
            "text/html": [
              "<pre style=\"white-space:pre;overflow-x:auto;line-height:normal;font-family:Menlo,'DejaVu Sans Mono',consolas,'Courier New',monospace\"><span style=\"font-weight: bold\"> Trainable params: </span><span style=\"color: #00af00; text-decoration-color: #00af00\">12,816,641</span> (48.89 MB)\n",
              "</pre>\n"
            ]
          },
          "metadata": {}
        },
        {
          "output_type": "display_data",
          "data": {
            "text/plain": [
              "\u001b[1m Non-trainable params: \u001b[0m\u001b[38;5;34m0\u001b[0m (0.00 B)\n"
            ],
            "text/html": [
              "<pre style=\"white-space:pre;overflow-x:auto;line-height:normal;font-family:Menlo,'DejaVu Sans Mono',consolas,'Courier New',monospace\"><span style=\"font-weight: bold\"> Non-trainable params: </span><span style=\"color: #00af00; text-decoration-color: #00af00\">0</span> (0.00 B)\n",
              "</pre>\n"
            ]
          },
          "metadata": {}
        }
      ]
    },
    {
      "cell_type": "code",
      "source": [
        "model_1_history = model_1.fit(train_dataset_final, epochs=5, validation_data=validation_dataset_final, callbacks=[create_tensorboard_callback(dir_name=\"model_logs\", experiment_name=\"simple_dense_model\")])"
      ],
      "metadata": {
        "colab": {
          "base_uri": "https://localhost:8080/"
        },
        "id": "qHL67oEhjQhM",
        "outputId": "723e6959-62be-414e-9d5c-a7f7c76c00e6"
      },
      "execution_count": null,
      "outputs": [
        {
          "output_type": "stream",
          "name": "stdout",
          "text": [
            "Saving TensorBoard log files to: model_logs/simple_dense_model/20241229-095854\n",
            "Epoch 1/5\n",
            "\u001b[1m215/215\u001b[0m \u001b[32m━━━━━━━━━━━━━━━━━━━━\u001b[0m\u001b[37m\u001b[0m \u001b[1m57s\u001b[0m 260ms/step - accuracy: 0.6304 - loss: 0.6347 - val_accuracy: 0.8084 - val_loss: 0.4466\n",
            "Epoch 2/5\n",
            "\u001b[1m215/215\u001b[0m \u001b[32m━━━━━━━━━━━━━━━━━━━━\u001b[0m\u001b[37m\u001b[0m \u001b[1m43s\u001b[0m 202ms/step - accuracy: 0.8673 - loss: 0.3223 - val_accuracy: 0.7979 - val_loss: 0.4872\n",
            "Epoch 3/5\n",
            "\u001b[1m215/215\u001b[0m \u001b[32m━━━━━━━━━━━━━━━━━━━━\u001b[0m\u001b[37m\u001b[0m \u001b[1m83s\u001b[0m 206ms/step - accuracy: 0.9416 - loss: 0.1594 - val_accuracy: 0.8136 - val_loss: 0.5543\n",
            "Epoch 4/5\n",
            "\u001b[1m215/215\u001b[0m \u001b[32m━━━━━━━━━━━━━━━━━━━━\u001b[0m\u001b[37m\u001b[0m \u001b[1m44s\u001b[0m 203ms/step - accuracy: 0.9716 - loss: 0.0834 - val_accuracy: 0.7953 - val_loss: 0.6414\n",
            "Epoch 5/5\n",
            "\u001b[1m215/215\u001b[0m \u001b[32m━━━━━━━━━━━━━━━━━━━━\u001b[0m\u001b[37m\u001b[0m \u001b[1m44s\u001b[0m 207ms/step - accuracy: 0.9866 - loss: 0.0461 - val_accuracy: 0.8058 - val_loss: 0.7781\n"
          ]
        }
      ]
    },
    {
      "cell_type": "code",
      "source": [
        "model_1.evaluate(test_dataset_final)"
      ],
      "metadata": {
        "colab": {
          "base_uri": "https://localhost:8080/"
        },
        "id": "KbAioa7Mjz4D",
        "outputId": "632aa3fd-e36f-416d-8e23-21093e8cf977"
      },
      "execution_count": null,
      "outputs": [
        {
          "output_type": "stream",
          "name": "stdout",
          "text": [
            "\u001b[1m12/12\u001b[0m \u001b[32m━━━━━━━━━━━━━━━━━━━━\u001b[0m\u001b[37m\u001b[0m \u001b[1m0s\u001b[0m 2ms/step - accuracy: 0.7167 - loss: 1.0033 \n"
          ]
        },
        {
          "output_type": "execute_result",
          "data": {
            "text/plain": [
              "[0.9671122431755066, 0.7375327944755554]"
            ]
          },
          "metadata": {},
          "execution_count": 38
        }
      ]
    },
    {
      "cell_type": "code",
      "source": [
        "def convert_text_to_number(text):\n",
        "  dataset = tf.data.Dataset.from_tensor_slices([text])\n",
        "  dataset_sequences = dataset.map(lambda text: (text_vectorization(text)))\n",
        "  sequences = dataset_sequences.get_single_element()\n",
        "  padded_sequences = tf.keras.utils.pad_sequences(sequences.numpy(),maxlen=max_length,truncating='post',padding='post')\n",
        "  return padded_sequences"
      ],
      "metadata": {
        "id": "SuhtY0HAL8nN"
      },
      "execution_count": null,
      "outputs": []
    },
    {
      "cell_type": "code",
      "source": [
        "test_sentences_vectorized = convert_text_to_number(test_sentences)\n",
        "model_1_pred_probs = model_1.predict(test_sentences_vectorized)"
      ],
      "metadata": {
        "colab": {
          "base_uri": "https://localhost:8080/"
        },
        "id": "iSlGVY68j7ZY",
        "outputId": "4f0383ff-1a4c-4917-b26b-40d7920440fe"
      },
      "execution_count": null,
      "outputs": [
        {
          "output_type": "stream",
          "name": "stdout",
          "text": [
            "\u001b[1m12/12\u001b[0m \u001b[32m━━━━━━━━━━━━━━━━━━━━\u001b[0m\u001b[37m\u001b[0m \u001b[1m0s\u001b[0m 5ms/step\n"
          ]
        }
      ]
    },
    {
      "cell_type": "code",
      "source": [
        "model_1_preds = tf.squeeze(tf.round(model_1_pred_probs))"
      ],
      "metadata": {
        "id": "tvmzidqnkSY8"
      },
      "execution_count": null,
      "outputs": []
    },
    {
      "cell_type": "code",
      "source": [
        "model_1_preds"
      ],
      "metadata": {
        "colab": {
          "base_uri": "https://localhost:8080/"
        },
        "id": "7p01xKbal5X2",
        "outputId": "5f347f08-3b88-41ba-efeb-c84a0849b81c"
      },
      "execution_count": null,
      "outputs": [
        {
          "output_type": "execute_result",
          "data": {
            "text/plain": [
              "<tf.Tensor: shape=(381,), dtype=float32, numpy=\n",
              "array([1., 1., 1., 0., 0., 0., 0., 1., 1., 0., 0., 1., 0., 0., 0., 0., 1.,\n",
              "       1., 0., 1., 0., 1., 1., 0., 0., 0., 0., 1., 1., 0., 0., 1., 0., 0.,\n",
              "       1., 1., 0., 1., 0., 0., 0., 1., 0., 1., 1., 1., 1., 1., 1., 0., 1.,\n",
              "       1., 0., 0., 1., 0., 0., 0., 0., 1., 1., 1., 1., 1., 1., 1., 0., 1.,\n",
              "       0., 0., 0., 0., 0., 0., 0., 1., 1., 0., 0., 1., 0., 1., 0., 0., 0.,\n",
              "       1., 0., 0., 0., 0., 1., 1., 1., 1., 1., 1., 0., 1., 0., 0., 0., 0.,\n",
              "       1., 1., 1., 0., 1., 0., 0., 1., 0., 0., 1., 0., 0., 0., 0., 0., 0.,\n",
              "       0., 1., 0., 1., 0., 0., 1., 0., 0., 1., 1., 1., 0., 0., 0., 1., 1.,\n",
              "       0., 1., 1., 0., 0., 0., 0., 1., 0., 0., 1., 0., 1., 1., 1., 0., 0.,\n",
              "       0., 1., 0., 1., 1., 0., 1., 0., 1., 0., 0., 0., 0., 0., 1., 0., 0.,\n",
              "       0., 0., 0., 1., 0., 0., 1., 0., 0., 0., 0., 1., 0., 0., 1., 1., 1.,\n",
              "       0., 1., 0., 0., 1., 0., 1., 0., 0., 0., 0., 0., 0., 0., 0., 1., 0.,\n",
              "       1., 0., 0., 0., 1., 0., 0., 0., 1., 1., 0., 0., 0., 0., 1., 1., 0.,\n",
              "       1., 0., 0., 0., 0., 0., 1., 0., 0., 1., 0., 1., 0., 0., 1., 0., 0.,\n",
              "       0., 0., 1., 1., 0., 0., 1., 0., 0., 1., 0., 1., 0., 0., 0., 1., 1.,\n",
              "       1., 1., 0., 0., 0., 0., 1., 1., 0., 1., 0., 0., 0., 0., 1., 0., 1.,\n",
              "       1., 0., 0., 0., 0., 1., 1., 0., 1., 0., 1., 0., 1., 1., 0., 1., 0.,\n",
              "       0., 0., 0., 0., 0., 1., 0., 1., 1., 0., 0., 0., 1., 0., 1., 1., 0.,\n",
              "       1., 0., 1., 0., 0., 1., 0., 0., 1., 1., 1., 1., 0., 1., 0., 0., 0.,\n",
              "       1., 0., 0., 0., 0., 0., 0., 0., 1., 1., 1., 0., 0., 1., 0., 1., 0.,\n",
              "       0., 0., 0., 0., 1., 1., 0., 1., 1., 0., 0., 0., 1., 0., 0., 0., 0.,\n",
              "       1., 0., 0., 0., 0., 1., 1., 0., 0., 0., 1., 1., 0., 0., 0., 1., 0.,\n",
              "       0., 0., 0., 1., 0., 0., 1.], dtype=float32)>"
            ]
          },
          "metadata": {},
          "execution_count": 42
        }
      ]
    },
    {
      "cell_type": "code",
      "source": [
        "model_1_preds = model_1_preds.cpu().numpy()\n",
        "model_1_results = calculate_results(y_true=test_labels, y_pred=model_1_preds)\n",
        "model_1_results"
      ],
      "metadata": {
        "colab": {
          "base_uri": "https://localhost:8080/"
        },
        "id": "fRbWHhsxkbL3",
        "outputId": "e37fd77f-919f-4748-81c2-9a7427a8d919"
      },
      "execution_count": null,
      "outputs": [
        {
          "output_type": "stream",
          "name": "stderr",
          "text": [
            "WARNING:tensorflow:From <ipython-input-43-cb1f96cd8532>:1: _EagerTensorBase.cpu (from tensorflow.python.framework.ops) is deprecated and will be removed in a future version.\n",
            "Instructions for updating:\n",
            "Use tf.identity with explicit device placement instead.\n"
          ]
        },
        {
          "output_type": "execute_result",
          "data": {
            "text/plain": [
              "{'accuracy': 73.75328083989501,\n",
              " 'precision': 0.7437833907125246,\n",
              " 'recall': 0.7375328083989501,\n",
              " 'f1': 0.734598798576223}"
            ]
          },
          "metadata": {},
          "execution_count": 43
        }
      ]
    },
    {
      "cell_type": "code",
      "source": [
        "def compare_baseline_to_new_results(baseline_results, new_model_results):\n",
        "  for key, value in baseline_results.items():\n",
        "    print(f\"Baseline {key}: {value:.2f}, New {key}: {new_model_results[key]:.2f}, Difference: {new_model_results[key]-value:.2f}\")\n",
        "\n",
        "compare_baseline_to_new_results(baseline_results=baseline_result, new_model_results=model_1_results)"
      ],
      "metadata": {
        "colab": {
          "base_uri": "https://localhost:8080/"
        },
        "id": "T8DWbnyiQFZu",
        "outputId": "014cce42-b522-485e-c9cb-fb4780b777d5"
      },
      "execution_count": null,
      "outputs": [
        {
          "output_type": "stream",
          "name": "stdout",
          "text": [
            "Baseline accuracy: 79.27, New accuracy: 73.75, Difference: -5.51\n",
            "Baseline precision: 0.81, New precision: 0.74, Difference: -0.07\n",
            "Baseline recall: 0.79, New recall: 0.74, Difference: -0.06\n",
            "Baseline f1: 0.79, New f1: 0.73, Difference: -0.05\n"
          ]
        }
      ]
    },
    {
      "cell_type": "markdown",
      "source": [
        "## Model 2"
      ],
      "metadata": {
        "id": "InTM7u2mklSs"
      }
    },
    {
      "cell_type": "code",
      "source": [
        "model_2 = tf.keras.Sequential([\n",
        "      tf.keras.Input(shape=(max_length,)),\n",
        "      tf.keras.layers.Embedding(input_dim=max_vocab_length, output_dim=128, input_length=max_length),\n",
        "      tf.keras.layers.LSTM(64, return_sequences=True),\n",
        "      tf.keras.layers.LSTM(128),\n",
        "      tf.keras.layers.Dense(1, activation=\"softmax\")\n",
        "  ])"
      ],
      "metadata": {
        "colab": {
          "base_uri": "https://localhost:8080/"
        },
        "id": "dF3RvcsTsSOQ",
        "outputId": "2a4391d2-4218-4607-9897-bd9fd89c7ac4"
      },
      "execution_count": null,
      "outputs": [
        {
          "output_type": "stream",
          "name": "stderr",
          "text": [
            "/usr/local/lib/python3.10/dist-packages/keras/src/layers/core/embedding.py:90: UserWarning: Argument `input_length` is deprecated. Just remove it.\n",
            "  warnings.warn(\n"
          ]
        }
      ]
    },
    {
      "cell_type": "code",
      "source": [
        "model_2.compile(loss=\"binary_crossentropy\", optimizer=tf.keras.optimizers.Adam(), metrics=[\"accuracy\"])"
      ],
      "metadata": {
        "id": "lO1qGNGqtjfa"
      },
      "execution_count": null,
      "outputs": []
    },
    {
      "cell_type": "code",
      "source": [
        "tensorboard_callback = create_tensorboard_callback(dir_name=\"model_logs\", experiment_name=\"LSTM\")\n",
        "model_2_history = model_2.fit(train_dataset_final, epochs=5, validation_data=train_dataset_final, callbacks=[tensorboard_callback])"
      ],
      "metadata": {
        "colab": {
          "base_uri": "https://localhost:8080/"
        },
        "id": "1qVWWpwhtp3j",
        "outputId": "97fccb8b-5354-45f2-860c-86b0b854232d"
      },
      "execution_count": null,
      "outputs": [
        {
          "output_type": "stream",
          "name": "stdout",
          "text": [
            "Saving TensorBoard log files to: model_logs/LSTM/20241229-100326\n",
            "Epoch 1/5\n"
          ]
        },
        {
          "output_type": "stream",
          "name": "stderr",
          "text": [
            "/usr/local/lib/python3.10/dist-packages/keras/src/ops/nn.py:545: UserWarning: You are using a softmax over axis -1 of a tensor of shape (None, 1). This axis has size 1. The softmax operation will always return the value 1, which is likely not what you intended. Did you mean to use a sigmoid instead?\n",
            "  warnings.warn(\n"
          ]
        },
        {
          "output_type": "stream",
          "name": "stdout",
          "text": [
            "\u001b[1m215/215\u001b[0m \u001b[32m━━━━━━━━━━━━━━━━━━━━\u001b[0m\u001b[37m\u001b[0m \u001b[1m55s\u001b[0m 241ms/step - accuracy: 0.4340 - loss: 0.5801 - val_accuracy: 0.4267 - val_loss: 0.2763\n",
            "Epoch 2/5\n",
            "\u001b[1m215/215\u001b[0m \u001b[32m━━━━━━━━━━━━━━━━━━━━\u001b[0m\u001b[37m\u001b[0m \u001b[1m50s\u001b[0m 231ms/step - accuracy: 0.4248 - loss: 0.2518 - val_accuracy: 0.4267 - val_loss: 0.1178\n",
            "Epoch 3/5\n",
            "\u001b[1m215/215\u001b[0m \u001b[32m━━━━━━━━━━━━━━━━━━━━\u001b[0m\u001b[37m\u001b[0m \u001b[1m52s\u001b[0m 241ms/step - accuracy: 0.4339 - loss: 0.1282 - val_accuracy: 0.4267 - val_loss: 0.0983\n",
            "Epoch 4/5\n",
            "\u001b[1m215/215\u001b[0m \u001b[32m━━━━━━━━━━━━━━━━━━━━\u001b[0m\u001b[37m\u001b[0m \u001b[1m53s\u001b[0m 248ms/step - accuracy: 0.4368 - loss: 0.0836 - val_accuracy: 0.4267 - val_loss: 0.0324\n",
            "Epoch 5/5\n",
            "\u001b[1m215/215\u001b[0m \u001b[32m━━━━━━━━━━━━━━━━━━━━\u001b[0m\u001b[37m\u001b[0m \u001b[1m80s\u001b[0m 239ms/step - accuracy: 0.4313 - loss: 0.0409 - val_accuracy: 0.4267 - val_loss: 0.0204\n"
          ]
        }
      ]
    },
    {
      "cell_type": "code",
      "source": [
        "model_2.evaluate(test_dataset_final)"
      ],
      "metadata": {
        "colab": {
          "base_uri": "https://localhost:8080/"
        },
        "id": "DUMZjCYgt0hk",
        "outputId": "b348205f-5961-4ccb-dae7-5f46bfe0096f"
      },
      "execution_count": null,
      "outputs": [
        {
          "output_type": "stream",
          "name": "stdout",
          "text": [
            "\u001b[1m12/12\u001b[0m \u001b[32m━━━━━━━━━━━━━━━━━━━━\u001b[0m\u001b[37m\u001b[0m \u001b[1m0s\u001b[0m 9ms/step - accuracy: 0.4946 - loss: 0.9763\n"
          ]
        },
        {
          "output_type": "execute_result",
          "data": {
            "text/plain": [
              "[0.9893650412559509, 0.48293963074684143]"
            ]
          },
          "metadata": {},
          "execution_count": 48
        }
      ]
    },
    {
      "cell_type": "code",
      "source": [
        "model_2_pred_probs = model_2.predict(test_sentences_vectorized)\n",
        "model_2_preds = tf.squeeze(tf.round(model_2_pred_probs))\n",
        "model_2_preds = model_2_preds.cpu().numpy()\n",
        "model_2_results = calculate_results(y_true=test_labels, y_pred=model_2_preds)"
      ],
      "metadata": {
        "colab": {
          "base_uri": "https://localhost:8080/"
        },
        "id": "5dnJa94NPdvY",
        "outputId": "7adc3e1f-d231-41e0-ea10-17b574fa07c1"
      },
      "execution_count": null,
      "outputs": [
        {
          "output_type": "stream",
          "name": "stdout",
          "text": [
            "\u001b[1m 7/12\u001b[0m \u001b[32m━━━━━━━━━━━\u001b[0m\u001b[37m━━━━━━━━━\u001b[0m \u001b[1m0s\u001b[0m 9ms/step  "
          ]
        },
        {
          "output_type": "stream",
          "name": "stderr",
          "text": [
            "/usr/local/lib/python3.10/dist-packages/keras/src/ops/nn.py:545: UserWarning: You are using a softmax over axis -1 of a tensor of shape (32, 1). This axis has size 1. The softmax operation will always return the value 1, which is likely not what you intended. Did you mean to use a sigmoid instead?\n",
            "  warnings.warn(\n"
          ]
        },
        {
          "output_type": "stream",
          "name": "stdout",
          "text": [
            "\u001b[1m12/12\u001b[0m \u001b[32m━━━━━━━━━━━━━━━━━━━━\u001b[0m\u001b[37m\u001b[0m \u001b[1m1s\u001b[0m 35ms/step\n"
          ]
        },
        {
          "output_type": "stream",
          "name": "stderr",
          "text": [
            "/usr/local/lib/python3.10/dist-packages/sklearn/metrics/_classification.py:1565: UndefinedMetricWarning: Precision is ill-defined and being set to 0.0 in labels with no predicted samples. Use `zero_division` parameter to control this behavior.\n",
            "  _warn_prf(average, modifier, f\"{metric.capitalize()} is\", len(result))\n"
          ]
        }
      ]
    },
    {
      "cell_type": "code",
      "source": [
        "model_2_results"
      ],
      "metadata": {
        "colab": {
          "base_uri": "https://localhost:8080/"
        },
        "id": "eIH_hN6xQ9Ho",
        "outputId": "e8be7023-6e3f-4788-868b-d1733b7d5d0a"
      },
      "execution_count": null,
      "outputs": [
        {
          "output_type": "execute_result",
          "data": {
            "text/plain": [
              "{'accuracy': 48.29396325459317,\n",
              " 'precision': 0.23323068868359959,\n",
              " 'recall': 0.48293963254593175,\n",
              " 'f1': 0.31455183146354493}"
            ]
          },
          "metadata": {},
          "execution_count": 50
        }
      ]
    },
    {
      "cell_type": "code",
      "source": [
        "compare_baseline_to_new_results(baseline_results=baseline_result, new_model_results=model_2_results)"
      ],
      "metadata": {
        "colab": {
          "base_uri": "https://localhost:8080/"
        },
        "id": "GT7olRilPdge",
        "outputId": "8cc169a7-8ed9-4778-efa7-eee92aa0ff0b"
      },
      "execution_count": null,
      "outputs": [
        {
          "output_type": "stream",
          "name": "stdout",
          "text": [
            "Baseline accuracy: 79.27, New accuracy: 48.29, Difference: -30.97\n",
            "Baseline precision: 0.81, New precision: 0.23, Difference: -0.58\n",
            "Baseline recall: 0.79, New recall: 0.48, Difference: -0.31\n",
            "Baseline f1: 0.79, New f1: 0.31, Difference: -0.47\n"
          ]
        }
      ]
    },
    {
      "cell_type": "markdown",
      "source": [
        "## Model 3"
      ],
      "metadata": {
        "id": "Ro9rRv_YJf0L"
      }
    },
    {
      "cell_type": "code",
      "source": [
        "inputs = tf.keras.layers.Input(shape=(15,), dtype=tf.int64)\n",
        "x = tf.keras.layers.Embedding(input_dim=max_vocab_length, output_dim=128, input_length=max_length)(inputs)\n",
        "x = tf.keras.layers.Conv1D(filters=64, kernel_size=5, activation='relu')(x)\n",
        "x = tf.keras.layers.Conv1D(filters=128, kernel_size=5, activation='relu')(x)\n",
        "x = tf.keras.layers.GlobalMaxPool1D()(x)\n",
        "outputs = tf.keras.layers.Dense(1, activation='sigmoid')(x)\n",
        "model_3 = tf.keras.Model(inputs, outputs)"
      ],
      "metadata": {
        "colab": {
          "base_uri": "https://localhost:8080/"
        },
        "id": "8PyN0z42t09R",
        "outputId": "bb6d4451-0ee6-4bb9-f244-5d0595724c5f"
      },
      "execution_count": null,
      "outputs": [
        {
          "output_type": "stream",
          "name": "stderr",
          "text": [
            "/usr/local/lib/python3.10/dist-packages/keras/src/layers/core/embedding.py:90: UserWarning: Argument `input_length` is deprecated. Just remove it.\n",
            "  warnings.warn(\n"
          ]
        }
      ]
    },
    {
      "cell_type": "code",
      "source": [
        "model_3.compile(loss=\"binary_crossentropy\", optimizer=tf.keras.optimizers.Adam(), metrics=[\"accuracy\"])"
      ],
      "metadata": {
        "id": "x2MCpDB4KK6K"
      },
      "execution_count": null,
      "outputs": []
    },
    {
      "cell_type": "code",
      "source": [
        "tensorboard_callback = create_tensorboard_callback(dir_name=\"model_logs\", experiment_name=\"LSTM\")\n",
        "model_3_history = model_3.fit(train_dataset_final, epochs=5, validation_data=train_dataset_final, callbacks=[tensorboard_callback])"
      ],
      "metadata": {
        "colab": {
          "base_uri": "https://localhost:8080/"
        },
        "id": "MvwZK-mRKLqz",
        "outputId": "ad950b09-452b-4419-c580-24f165add9ea"
      },
      "execution_count": null,
      "outputs": [
        {
          "output_type": "stream",
          "name": "stdout",
          "text": [
            "Saving TensorBoard log files to: model_logs/LSTM/20241229-100817\n",
            "Epoch 1/5\n",
            "\u001b[1m215/215\u001b[0m \u001b[32m━━━━━━━━━━━━━━━━━━━━\u001b[0m\u001b[37m\u001b[0m \u001b[1m45s\u001b[0m 200ms/step - accuracy: 0.6346 - loss: 0.6206 - val_accuracy: 0.9018 - val_loss: 0.2821\n",
            "Epoch 2/5\n",
            "\u001b[1m215/215\u001b[0m \u001b[32m━━━━━━━━━━━━━━━━━━━━\u001b[0m\u001b[37m\u001b[0m \u001b[1m82s\u001b[0m 199ms/step - accuracy: 0.8742 - loss: 0.3192 - val_accuracy: 0.9585 - val_loss: 0.1150\n",
            "Epoch 3/5\n",
            "\u001b[1m215/215\u001b[0m \u001b[32m━━━━━━━━━━━━━━━━━━━━\u001b[0m\u001b[37m\u001b[0m \u001b[1m82s\u001b[0m 201ms/step - accuracy: 0.9506 - loss: 0.1295 - val_accuracy: 0.9896 - val_loss: 0.0378\n",
            "Epoch 4/5\n",
            "\u001b[1m215/215\u001b[0m \u001b[32m━━━━━━━━━━━━━━━━━━━━\u001b[0m\u001b[37m\u001b[0m \u001b[1m43s\u001b[0m 198ms/step - accuracy: 0.9860 - loss: 0.0424 - val_accuracy: 0.9949 - val_loss: 0.0147\n",
            "Epoch 5/5\n",
            "\u001b[1m215/215\u001b[0m \u001b[32m━━━━━━━━━━━━━━━━━━━━\u001b[0m\u001b[37m\u001b[0m \u001b[1m43s\u001b[0m 200ms/step - accuracy: 0.9936 - loss: 0.0178 - val_accuracy: 0.9953 - val_loss: 0.0104\n"
          ]
        }
      ]
    },
    {
      "cell_type": "code",
      "source": [
        "model_3.evaluate(test_dataset_final)"
      ],
      "metadata": {
        "colab": {
          "base_uri": "https://localhost:8080/"
        },
        "id": "HfbH6HeaKQcQ",
        "outputId": "2e9e2217-48cc-4e7a-b8f5-481da0bcd253"
      },
      "execution_count": null,
      "outputs": [
        {
          "output_type": "stream",
          "name": "stdout",
          "text": [
            "\u001b[1m12/12\u001b[0m \u001b[32m━━━━━━━━━━━━━━━━━━━━\u001b[0m\u001b[37m\u001b[0m \u001b[1m0s\u001b[0m 3ms/step - accuracy: 0.7211 - loss: 1.1831\n"
          ]
        },
        {
          "output_type": "execute_result",
          "data": {
            "text/plain": [
              "[1.1239303350448608, 0.7454068064689636]"
            ]
          },
          "metadata": {},
          "execution_count": 55
        }
      ]
    },
    {
      "cell_type": "code",
      "source": [
        "model_3_pred_probs = model_3.predict(test_sentences_vectorized)\n",
        "model_3_preds = tf.squeeze(tf.round(model_3_pred_probs))\n",
        "model_3_preds = model_3_preds.cpu().numpy()\n",
        "model_3_results = calculate_results(y_true=test_labels, y_pred=model_3_preds)\n",
        "model_3_results"
      ],
      "metadata": {
        "id": "jtd4WxvBLsJh",
        "colab": {
          "base_uri": "https://localhost:8080/"
        },
        "outputId": "4515aa61-cf93-427c-83b2-5cfe54b04dc5"
      },
      "execution_count": null,
      "outputs": [
        {
          "output_type": "stream",
          "name": "stdout",
          "text": [
            "\u001b[1m12/12\u001b[0m \u001b[32m━━━━━━━━━━━━━━━━━━━━\u001b[0m\u001b[37m\u001b[0m \u001b[1m0s\u001b[0m 8ms/step\n"
          ]
        },
        {
          "output_type": "execute_result",
          "data": {
            "text/plain": [
              "{'accuracy': 74.54068241469817,\n",
              " 'precision': 0.7567129241823496,\n",
              " 'recall': 0.7454068241469817,\n",
              " 'f1': 0.7410902575745186}"
            ]
          },
          "metadata": {},
          "execution_count": 56
        }
      ]
    },
    {
      "cell_type": "code",
      "source": [
        "compare_baseline_to_new_results(baseline_results=baseline_result, new_model_results=model_3_results)"
      ],
      "metadata": {
        "colab": {
          "base_uri": "https://localhost:8080/"
        },
        "id": "T3v9HssNRMID",
        "outputId": "5fe3d902-0df7-4cc6-bc02-bd3f65751bd1"
      },
      "execution_count": null,
      "outputs": [
        {
          "output_type": "stream",
          "name": "stdout",
          "text": [
            "Baseline accuracy: 79.27, New accuracy: 74.54, Difference: -4.72\n",
            "Baseline precision: 0.81, New precision: 0.76, Difference: -0.05\n",
            "Baseline recall: 0.79, New recall: 0.75, Difference: -0.05\n",
            "Baseline f1: 0.79, New f1: 0.74, Difference: -0.05\n"
          ]
        }
      ]
    },
    {
      "cell_type": "markdown",
      "source": [
        "## Model 4"
      ],
      "metadata": {
        "id": "bes5kuyzRZ7W"
      }
    },
    {
      "cell_type": "code",
      "source": [
        "train_dataset = tf.data.Dataset.from_tensor_slices((train_sentences, train_labels))\n",
        "test_dataset = tf.data.Dataset.from_tensor_slices((test_sentences, test_labels))\n",
        "val_dataset = tf.data.Dataset.from_tensor_slices((val_sentences, val_labels))"
      ],
      "metadata": {
        "id": "ff7q0jyI6mRO"
      },
      "execution_count": null,
      "outputs": []
    },
    {
      "cell_type": "code",
      "source": [
        "import tensorflow_hub as hub\n",
        "sentence_encoder_layer = hub.KerasLayer(\"https://tfhub.dev/google/universal-sentence-encoder/4\",input_shape=[],dtype=tf.string,trainable=False)"
      ],
      "metadata": {
        "id": "uKu0U4D3RdD1"
      },
      "execution_count": null,
      "outputs": []
    },
    {
      "cell_type": "code",
      "source": [
        "embed_samples = sentence_encoder_layer([\"When you call the universal sentence encoder on a sentence, it turns it into numbers.\"])\n",
        "embed_samples"
      ],
      "metadata": {
        "colab": {
          "base_uri": "https://localhost:8080/"
        },
        "id": "nFEogQCH9Y4i",
        "outputId": "6504abf7-e592-4616-ea99-2fc2842e8e22"
      },
      "execution_count": null,
      "outputs": [
        {
          "output_type": "execute_result",
          "data": {
            "text/plain": [
              "<tf.Tensor: shape=(1, 512), dtype=float32, numpy=\n",
              "array([[ 3.59669104e-02, -8.57946873e-02, -1.15274275e-02,\n",
              "         5.25982305e-03, -1.85217243e-02, -5.04201166e-02,\n",
              "        -3.61694135e-02,  5.34677319e-03,  4.80591655e-02,\n",
              "         4.69074361e-02, -3.72333042e-02, -1.14954598e-02,\n",
              "         4.35241461e-02,  7.05099106e-02,  7.09376037e-02,\n",
              "        -8.18043128e-02,  8.71716719e-03, -4.65412140e-02,\n",
              "        -2.24577561e-02,  4.68687192e-02,  2.02255719e-03,\n",
              "         3.09907217e-02,  2.04356313e-02,  6.39216825e-02,\n",
              "        -7.64108598e-02,  8.42117891e-02, -4.57604155e-02,\n",
              "        -1.06165453e-03, -2.05941647e-02,  1.24110589e-02,\n",
              "         5.72753921e-02,  3.81562002e-02, -2.74211802e-02,\n",
              "        -3.54347494e-03, -9.83258560e-02, -1.24485437e-02,\n",
              "         3.86562981e-02,  5.03195338e-02, -2.36250591e-02,\n",
              "         3.21848248e-03,  3.22520882e-02,  7.38095073e-03,\n",
              "         4.47310396e-02, -4.12235968e-03,  1.15160132e-02,\n",
              "         2.83772387e-02,  6.01386302e-04, -5.90335354e-02,\n",
              "        -4.94347280e-03, -6.88527431e-03, -4.12424169e-02,\n",
              "        -2.07700115e-03, -1.77201983e-02, -2.27782112e-02,\n",
              "        -2.42898297e-02,  1.39937820e-02, -5.17674796e-02,\n",
              "         5.97374998e-02,  3.81307378e-02, -3.59316505e-02,\n",
              "         3.09860446e-02,  6.09485433e-03, -4.37486842e-02,\n",
              "        -5.38942926e-02, -4.32431735e-02, -3.92870679e-02,\n",
              "         5.61528504e-02,  3.82246706e-03,  6.57869549e-03,\n",
              "        -4.53822017e-02,  3.96313481e-02, -5.69341145e-03,\n",
              "        -2.00726055e-02,  8.17294195e-02,  4.15083915e-02,\n",
              "         3.72894853e-02, -6.70029521e-02, -5.10405190e-02,\n",
              "        -2.56260186e-02,  1.60032213e-02,  3.81825268e-02,\n",
              "        -8.70015658e-03, -2.34965291e-02,  1.55745624e-02,\n",
              "         5.66765331e-02,  7.38508403e-02,  1.52101796e-02,\n",
              "        -8.41723289e-03, -6.44073635e-02, -5.55147976e-02,\n",
              "         7.97353312e-02,  3.61875142e-03,  6.64433539e-02,\n",
              "         2.87908632e-02, -2.44696643e-02,  2.12148149e-02,\n",
              "        -1.03562616e-01, -4.12506908e-02,  2.98409052e-02,\n",
              "        -9.24953595e-02,  4.00588615e-03,  6.01527244e-02,\n",
              "        -3.41755003e-02,  3.29850353e-02, -4.83456142e-02,\n",
              "        -3.69678251e-02,  1.21584861e-02, -2.31851619e-02,\n",
              "        -4.88560051e-02,  3.28469612e-02, -4.62380089e-02,\n",
              "         3.91756278e-03, -3.57808359e-02, -1.83102041e-02,\n",
              "        -3.70730087e-02,  3.35950032e-02,  5.02075367e-02,\n",
              "        -5.49601465e-02,  4.69865017e-02, -3.31131369e-02,\n",
              "         1.66334976e-02, -3.02660111e-02,  6.20632172e-02,\n",
              "        -4.43871841e-02,  6.67187944e-02, -6.10228628e-03,\n",
              "         3.40605080e-02, -5.00078686e-02,  2.04585260e-03,\n",
              "         3.39132398e-02, -3.10870782e-02, -1.93445925e-02,\n",
              "         7.54030049e-02, -6.52688220e-02,  5.25344461e-02,\n",
              "        -6.12028502e-02, -3.02657727e-02,  4.56587551e-03,\n",
              "        -8.89162868e-02, -4.83766720e-02, -2.00605262e-02,\n",
              "        -3.86419035e-02,  1.66885965e-02, -1.47099299e-02,\n",
              "         1.01379864e-02, -8.22198540e-02,  2.74562407e-02,\n",
              "        -3.86098213e-03, -1.09152887e-02, -5.79520538e-02,\n",
              "         2.82120109e-02, -1.71919707e-02,  3.00881453e-02,\n",
              "         2.37060748e-02, -2.33154069e-03, -2.97773238e-02,\n",
              "         1.91768687e-02,  5.16294092e-02, -1.44551247e-02,\n",
              "         1.86847970e-02, -2.49356478e-02,  3.22919488e-02,\n",
              "         2.82293409e-02, -2.51184143e-02, -1.08434986e-02,\n",
              "         3.01642809e-02,  5.04591502e-04, -2.27955673e-02,\n",
              "         2.47641988e-02,  6.97232559e-02,  6.99917274e-03,\n",
              "        -7.34951161e-03,  9.45000499e-02, -6.13124780e-02,\n",
              "         2.62528770e-02,  3.58930118e-02,  6.17794041e-03,\n",
              "         3.43658775e-02,  1.17269838e-02,  4.01629470e-02,\n",
              "         1.53442472e-02,  4.48108371e-03,  5.02520911e-02,\n",
              "         1.88765489e-02,  3.31166796e-02, -2.70847231e-02,\n",
              "        -6.57292223e-03,  8.24265555e-02,  1.05237104e-02,\n",
              "         3.99747752e-02,  2.82466621e-03, -1.24388905e-02,\n",
              "        -3.28871747e-03, -7.26752877e-02, -1.81361043e-03,\n",
              "        -2.76129469e-02,  6.45669401e-02,  5.02010472e-02,\n",
              "         6.75971806e-02,  9.59104113e-03, -8.90628770e-02,\n",
              "         1.17860874e-02,  2.72054579e-02, -3.41815525e-03,\n",
              "        -8.05912465e-02, -5.22511080e-02, -3.81539552e-03,\n",
              "        -4.17377092e-02, -9.68295336e-03,  3.78751308e-02,\n",
              "        -5.67596816e-02, -2.05952711e-02, -1.14134215e-02,\n",
              "        -2.83810738e-02,  9.09044072e-02,  3.93447524e-04,\n",
              "        -2.67902762e-03,  1.53436465e-03,  6.49558231e-02,\n",
              "         5.22872619e-02,  1.80281438e-02,  1.84829552e-02,\n",
              "         1.61396414e-02,  5.27072288e-02, -4.12999056e-02,\n",
              "        -4.80413213e-02, -2.36369204e-02, -2.67371200e-02,\n",
              "         3.93583998e-02,  7.55005376e-03, -6.21337853e-02,\n",
              "        -1.67872924e-02,  1.47809135e-03, -5.64959720e-02,\n",
              "         5.52060865e-02, -1.27272941e-02,  1.03164591e-01,\n",
              "        -1.69769656e-02, -2.17627510e-02, -1.17612286e-02,\n",
              "         1.40766259e-02, -1.40489535e-02,  6.19004555e-02,\n",
              "        -3.57006304e-02,  1.31614264e-02, -3.44647504e-02,\n",
              "        -7.06140092e-03,  1.24527169e-02,  8.55674818e-02,\n",
              "         5.42758591e-02, -3.89169194e-02, -7.57954717e-02,\n",
              "        -1.40139572e-02,  1.48370443e-02,  9.68214497e-02,\n",
              "        -1.03704758e-01,  3.29137146e-02, -6.21125400e-02,\n",
              "         1.86114740e-02, -2.82176267e-02, -7.13014323e-03,\n",
              "         4.11865069e-03, -8.93324912e-02, -5.72975539e-02,\n",
              "         4.44728173e-02,  2.29126122e-02,  4.30734223e-03,\n",
              "        -6.96439147e-02, -6.36359677e-02, -2.61848159e-02,\n",
              "        -6.48371652e-02, -9.65941474e-02,  5.09348139e-02,\n",
              "        -8.90865326e-02, -3.94751914e-02, -2.23109536e-02,\n",
              "        -2.93314215e-02,  3.75236943e-02,  4.67260703e-02,\n",
              "         8.62412080e-02, -2.14184057e-02, -5.29951602e-02,\n",
              "         5.89277968e-02,  1.65255722e-02, -1.04241502e-02,\n",
              "        -2.38159727e-02,  1.38605097e-02,  2.62649842e-02,\n",
              "         5.47960103e-02, -4.24158275e-02,  3.17361066e-03,\n",
              "        -3.96554358e-02, -7.35218003e-02,  2.73186504e-03,\n",
              "        -2.72395392e-03, -3.98468450e-02, -4.29545268e-02,\n",
              "         2.14427803e-02,  3.84629294e-02,  3.88851911e-02,\n",
              "         5.13683306e-03, -4.95571718e-02, -3.24903652e-02,\n",
              "         2.83539910e-02, -4.67896536e-02,  1.97179299e-02,\n",
              "        -4.20575328e-02, -7.54898638e-02, -1.03863399e-03,\n",
              "        -6.73990846e-02,  3.91278006e-02,  4.40352261e-02,\n",
              "        -8.06924552e-02, -2.36365721e-02,  5.99047504e-02,\n",
              "         2.12464621e-03,  2.21580118e-02,  4.36153412e-02,\n",
              "         2.49224412e-03,  4.98775207e-03,  7.48325605e-03,\n",
              "        -2.41463929e-02,  4.05475833e-02,  2.91890893e-02,\n",
              "        -1.10162618e-02, -5.65643162e-02, -6.73807636e-02,\n",
              "         4.05558571e-02, -8.50009471e-02, -5.40723391e-02,\n",
              "         7.34482110e-02, -7.35008046e-02,  7.54501158e-03,\n",
              "        -7.00687692e-02,  4.39716466e-02, -2.71129999e-02,\n",
              "        -6.92854971e-02, -2.58241743e-02,  3.92786302e-02,\n",
              "         5.67648746e-02,  1.59088895e-02,  2.35410146e-02,\n",
              "        -5.06520681e-02,  1.17191877e-02, -6.92344531e-02,\n",
              "         1.38218021e-02,  1.09325098e-02,  7.00728893e-02,\n",
              "        -1.26283066e-02,  7.97541440e-02, -3.13802809e-02,\n",
              "        -4.11442146e-02, -3.50070745e-02, -4.26069349e-02,\n",
              "         4.05677110e-02,  7.93018416e-02, -9.75148305e-02,\n",
              "        -1.42815765e-02,  2.42777336e-02, -7.38642067e-02,\n",
              "        -1.56750157e-02, -3.48734483e-02, -5.93835339e-02,\n",
              "        -4.12432365e-02, -4.60711075e-03,  3.71533111e-02,\n",
              "         2.14900598e-02,  5.58095276e-02,  2.14638896e-02,\n",
              "        -6.75328374e-02,  1.01270585e-03,  5.95025197e-02,\n",
              "         1.24676106e-03,  3.76901664e-02,  4.18491513e-02,\n",
              "        -2.79387459e-02, -4.01746631e-02, -8.21424834e-03,\n",
              "        -5.58206625e-02, -1.60544906e-02, -4.75718491e-02,\n",
              "        -5.95801920e-02, -1.01037407e-02, -7.33452067e-02,\n",
              "        -1.84457712e-02,  3.76496129e-02, -8.28180313e-02,\n",
              "         7.54492171e-03, -2.76729763e-02, -3.70695889e-02,\n",
              "        -4.07462008e-02,  7.34208757e-03, -3.86688090e-03,\n",
              "        -1.10412011e-05,  3.76898386e-02,  1.45606184e-02,\n",
              "         2.78660888e-03, -6.57309070e-02, -2.55980715e-02,\n",
              "        -4.81109843e-02,  1.18657360e-02, -2.13191174e-02,\n",
              "         3.31167621e-03,  4.66567352e-02,  4.63188067e-02,\n",
              "        -3.60700563e-02, -7.05618635e-02, -7.14360178e-02,\n",
              "        -9.04082786e-03,  2.11611893e-02, -4.92307954e-02,\n",
              "         3.87155823e-02,  7.73286894e-02,  1.89449191e-02,\n",
              "         3.85826752e-02, -6.83923960e-02, -5.28842211e-02,\n",
              "         8.54228660e-02,  1.28640411e-02,  2.20266078e-02,\n",
              "         2.16055308e-02,  5.56477928e-04,  1.64826363e-02,\n",
              "        -3.31564397e-02,  8.13280344e-02, -2.25724392e-02,\n",
              "        -4.43336144e-02,  7.10498765e-02, -8.87572840e-02,\n",
              "         5.36288284e-02, -6.93188459e-02, -2.98249465e-03,\n",
              "         4.52212580e-02,  4.61279564e-02,  3.65344770e-02,\n",
              "         4.84847240e-02, -2.92588528e-02,  7.36933053e-02,\n",
              "         3.66693325e-02, -6.80679232e-02,  3.96359526e-03,\n",
              "        -9.04875919e-02, -6.32659942e-02, -5.38307987e-02,\n",
              "         6.08242899e-02, -1.84412934e-02,  4.89365384e-02,\n",
              "        -5.12656756e-02, -1.50806140e-02, -5.71213290e-03,\n",
              "        -5.10706715e-02, -6.49115443e-02, -1.13350083e-03,\n",
              "         1.27703352e-02,  1.82183105e-02, -8.28226283e-02,\n",
              "         2.10518437e-03, -3.31831463e-02,  5.95652163e-02,\n",
              "         3.61991227e-02,  5.35384640e-02, -2.25340743e-02,\n",
              "         2.64133215e-02, -3.91572677e-02, -5.87077700e-02,\n",
              "        -1.03312604e-01,  7.44982332e-04,  1.97312124e-02,\n",
              "         3.94937135e-02,  9.22513306e-02, -2.05244888e-02,\n",
              "         2.21597645e-02, -3.13704535e-02, -1.32244062e-02,\n",
              "         4.00840454e-02, -1.50230555e-02,  6.54290244e-02,\n",
              "        -6.08944334e-02,  7.63139571e-04, -3.62863131e-02,\n",
              "         4.91616279e-02, -6.04683384e-02, -1.77060775e-02,\n",
              "         2.45514186e-03, -4.52068225e-02,  3.63887697e-02,\n",
              "        -9.97238085e-02, -2.95221955e-02,  8.41336604e-03,\n",
              "        -8.18829536e-02,  1.82565190e-02,  1.11088259e-02,\n",
              "        -3.46704014e-02, -1.07370624e-02, -4.20162492e-02,\n",
              "        -2.58049741e-02,  3.06181330e-02,  1.86228398e-02,\n",
              "         2.78460630e-03, -3.67320632e-03,  5.00444323e-02,\n",
              "        -2.75492594e-02,  4.84464467e-02,  7.04697818e-02,\n",
              "         9.36839804e-02,  2.49330979e-02, -4.27237116e-02,\n",
              "        -3.15812379e-02, -4.44082879e-02, -3.41433547e-02,\n",
              "         2.81602386e-02, -8.78943969e-03]], dtype=float32)>"
            ]
          },
          "metadata": {},
          "execution_count": 76
        }
      ]
    },
    {
      "cell_type": "code",
      "source": [
        "def preprocessing_fn(dataset):\n",
        "  dataset = dataset.batch(BATCH_SIZE)\n",
        "  dataset_sequences = dataset.map(lambda text, label: (sentence_encoder_layer(text), label))\n",
        "  return dataset_sequences"
      ],
      "metadata": {
        "id": "26Z6oIjK8eQF"
      },
      "execution_count": null,
      "outputs": []
    },
    {
      "cell_type": "code",
      "source": [
        "train_dataset = train_dataset.apply(preprocessing_fn)\n",
        "test_dataset = test_dataset.apply(preprocessing_fn)\n",
        "val_dataset = val_dataset.apply(preprocessing_fn)"
      ],
      "metadata": {
        "id": "d1M9lb3u8o-W"
      },
      "execution_count": null,
      "outputs": []
    },
    {
      "cell_type": "code",
      "source": [
        "train_dataset_final = (train_dataset.cache().shuffle(SHUFFLE_BUFFER_SIZE).prefetch(PREFETCH_BUFFER_SIZE))\n",
        "test_dataset_final = (test_dataset.cache().prefetch(PREFETCH_BUFFER_SIZE))\n",
        "validation_dataset_final = (val_dataset.cache().prefetch(PREFETCH_BUFFER_SIZE))"
      ],
      "metadata": {
        "id": "8ackzrzg_P0T"
      },
      "execution_count": null,
      "outputs": []
    },
    {
      "cell_type": "code",
      "source": [
        "for example in train_dataset_final.take(2):\n",
        "  print(example)\n",
        "  print()"
      ],
      "metadata": {
        "colab": {
          "base_uri": "https://localhost:8080/"
        },
        "id": "5JmIag738vg0",
        "outputId": "f3b99907-7578-4dcf-e47f-7102b2ec868b"
      },
      "execution_count": null,
      "outputs": [
        {
          "output_type": "stream",
          "name": "stdout",
          "text": [
            "(<tf.Tensor: shape=(32, 512), dtype=float32, numpy=\n",
            "array([[-0.03298512, -0.02759284, -0.04487535, ...,  0.0138586 ,\n",
            "         0.0158374 ,  0.00670457],\n",
            "       [ 0.04023113, -0.05577822, -0.01079957, ..., -0.0600226 ,\n",
            "        -0.06444848, -0.08134638],\n",
            "       [ 0.03250216,  0.00883114,  0.00721379, ..., -0.03032464,\n",
            "         0.05947021,  0.00959871],\n",
            "       ...,\n",
            "       [ 0.03720918, -0.04668706, -0.05853461, ..., -0.04881785,\n",
            "         0.0571765 ,  0.06554002],\n",
            "       [-0.00012232,  0.02434209,  0.01701002, ...,  0.01389242,\n",
            "         0.00435215, -0.08035246],\n",
            "       [ 0.02129035, -0.00326675, -0.00538932, ..., -0.06662047,\n",
            "        -0.01176247,  0.02380305]], dtype=float32)>, <tf.Tensor: shape=(32,), dtype=int64, numpy=\n",
            "array([0, 1, 0, 0, 1, 1, 0, 0, 0, 0, 1, 1, 1, 0, 0, 1, 0, 1, 1, 0, 0, 1,\n",
            "       1, 0, 0, 1, 1, 0, 0, 0, 0, 0])>)\n",
            "\n",
            "(<tf.Tensor: shape=(32, 512), dtype=float32, numpy=\n",
            "array([[ 0.03775797,  0.0064327 ,  0.05779907, ..., -0.01925476,\n",
            "        -0.0515672 , -0.00543367],\n",
            "       [-0.07027914, -0.07631789,  0.03518616, ..., -0.01969983,\n",
            "        -0.04222343, -0.01763809],\n",
            "       [-0.06270927, -0.04716718, -0.03030767, ..., -0.05676905,\n",
            "        -0.07152307, -0.06321511],\n",
            "       ...,\n",
            "       [-0.00501767, -0.03185301, -0.01565432, ..., -0.04555561,\n",
            "         0.01178961, -0.08429538],\n",
            "       [ 0.03399778,  0.05303928,  0.0188318 , ..., -0.03893851,\n",
            "         0.020754  ,  0.01808577],\n",
            "       [ 0.00870016,  0.03570655, -0.05088079, ...,  0.043599  ,\n",
            "         0.01159484,  0.01768066]], dtype=float32)>, <tf.Tensor: shape=(32,), dtype=int64, numpy=\n",
            "array([0, 1, 0, 0, 1, 0, 0, 0, 0, 1, 0, 1, 0, 0, 0, 0, 0, 1, 0, 1, 0, 0,\n",
            "       1, 0, 0, 1, 0, 0, 0, 1, 1, 0])>)\n",
            "\n"
          ]
        }
      ]
    },
    {
      "cell_type": "code",
      "source": [
        "inputs = tf.keras.layers.Input(shape=[512,])\n",
        "x = tf.keras.layers.Reshape((1,512))(inputs)\n",
        "x = tf.keras.layers.Bidirectional(tf.keras.layers.LSTM(64, return_sequences=True))(x)\n",
        "x = tf.keras.layers.Bidirectional(tf.keras.layers.LSTM(128))(x)\n",
        "x = tf.keras.layers.Dense(64, activation=\"relu\")(x)\n",
        "outputs = tf.keras.layers.Dense(1, activation=\"sigmoid\")(x)\n",
        "model_4 = tf.keras.Model(inputs, outputs)\n",
        "\n",
        "# Compile model\n",
        "model_4.compile(loss=\"binary_crossentropy\",optimizer=tf.keras.optimizers.Adam(),metrics=[\"accuracy\"])\n",
        "\n",
        "model_4.summary()"
      ],
      "metadata": {
        "colab": {
          "base_uri": "https://localhost:8080/",
          "height": 327
        },
        "id": "YnLZusyF1zCH",
        "outputId": "801684b4-d7e9-4368-9a14-0416de1afbe9"
      },
      "execution_count": null,
      "outputs": [
        {
          "output_type": "display_data",
          "data": {
            "text/plain": [
              "\u001b[1mModel: \"functional_4\"\u001b[0m\n"
            ],
            "text/html": [
              "<pre style=\"white-space:pre;overflow-x:auto;line-height:normal;font-family:Menlo,'DejaVu Sans Mono',consolas,'Courier New',monospace\"><span style=\"font-weight: bold\">Model: \"functional_4\"</span>\n",
              "</pre>\n"
            ]
          },
          "metadata": {}
        },
        {
          "output_type": "display_data",
          "data": {
            "text/plain": [
              "┏━━━━━━━━━━━━━━━━━━━━━━━━━━━━━━━━━━━━━━┳━━━━━━━━━━━━━━━━━━━━━━━━━━━━━┳━━━━━━━━━━━━━━━━━┓\n",
              "┃\u001b[1m \u001b[0m\u001b[1mLayer (type)                        \u001b[0m\u001b[1m \u001b[0m┃\u001b[1m \u001b[0m\u001b[1mOutput Shape               \u001b[0m\u001b[1m \u001b[0m┃\u001b[1m \u001b[0m\u001b[1m        Param #\u001b[0m\u001b[1m \u001b[0m┃\n",
              "┡━━━━━━━━━━━━━━━━━━━━━━━━━━━━━━━━━━━━━━╇━━━━━━━━━━━━━━━━━━━━━━━━━━━━━╇━━━━━━━━━━━━━━━━━┩\n",
              "│ input_layer_13 (\u001b[38;5;33mInputLayer\u001b[0m)          │ (\u001b[38;5;45mNone\u001b[0m, \u001b[38;5;34m512\u001b[0m)                 │               \u001b[38;5;34m0\u001b[0m │\n",
              "├──────────────────────────────────────┼─────────────────────────────┼─────────────────┤\n",
              "│ reshape_2 (\u001b[38;5;33mReshape\u001b[0m)                  │ (\u001b[38;5;45mNone\u001b[0m, \u001b[38;5;34m1\u001b[0m, \u001b[38;5;34m512\u001b[0m)              │               \u001b[38;5;34m0\u001b[0m │\n",
              "├──────────────────────────────────────┼─────────────────────────────┼─────────────────┤\n",
              "│ bidirectional_10 (\u001b[38;5;33mBidirectional\u001b[0m)     │ (\u001b[38;5;45mNone\u001b[0m, \u001b[38;5;34m1\u001b[0m, \u001b[38;5;34m128\u001b[0m)              │         \u001b[38;5;34m295,424\u001b[0m │\n",
              "├──────────────────────────────────────┼─────────────────────────────┼─────────────────┤\n",
              "│ bidirectional_11 (\u001b[38;5;33mBidirectional\u001b[0m)     │ (\u001b[38;5;45mNone\u001b[0m, \u001b[38;5;34m256\u001b[0m)                 │         \u001b[38;5;34m263,168\u001b[0m │\n",
              "├──────────────────────────────────────┼─────────────────────────────┼─────────────────┤\n",
              "│ dense_10 (\u001b[38;5;33mDense\u001b[0m)                     │ (\u001b[38;5;45mNone\u001b[0m, \u001b[38;5;34m64\u001b[0m)                  │          \u001b[38;5;34m16,448\u001b[0m │\n",
              "├──────────────────────────────────────┼─────────────────────────────┼─────────────────┤\n",
              "│ dense_11 (\u001b[38;5;33mDense\u001b[0m)                     │ (\u001b[38;5;45mNone\u001b[0m, \u001b[38;5;34m1\u001b[0m)                   │              \u001b[38;5;34m65\u001b[0m │\n",
              "└──────────────────────────────────────┴─────────────────────────────┴─────────────────┘\n"
            ],
            "text/html": [
              "<pre style=\"white-space:pre;overflow-x:auto;line-height:normal;font-family:Menlo,'DejaVu Sans Mono',consolas,'Courier New',monospace\">┏━━━━━━━━━━━━━━━━━━━━━━━━━━━━━━━━━━━━━━┳━━━━━━━━━━━━━━━━━━━━━━━━━━━━━┳━━━━━━━━━━━━━━━━━┓\n",
              "┃<span style=\"font-weight: bold\"> Layer (type)                         </span>┃<span style=\"font-weight: bold\"> Output Shape                </span>┃<span style=\"font-weight: bold\">         Param # </span>┃\n",
              "┡━━━━━━━━━━━━━━━━━━━━━━━━━━━━━━━━━━━━━━╇━━━━━━━━━━━━━━━━━━━━━━━━━━━━━╇━━━━━━━━━━━━━━━━━┩\n",
              "│ input_layer_13 (<span style=\"color: #0087ff; text-decoration-color: #0087ff\">InputLayer</span>)          │ (<span style=\"color: #00d7ff; text-decoration-color: #00d7ff\">None</span>, <span style=\"color: #00af00; text-decoration-color: #00af00\">512</span>)                 │               <span style=\"color: #00af00; text-decoration-color: #00af00\">0</span> │\n",
              "├──────────────────────────────────────┼─────────────────────────────┼─────────────────┤\n",
              "│ reshape_2 (<span style=\"color: #0087ff; text-decoration-color: #0087ff\">Reshape</span>)                  │ (<span style=\"color: #00d7ff; text-decoration-color: #00d7ff\">None</span>, <span style=\"color: #00af00; text-decoration-color: #00af00\">1</span>, <span style=\"color: #00af00; text-decoration-color: #00af00\">512</span>)              │               <span style=\"color: #00af00; text-decoration-color: #00af00\">0</span> │\n",
              "├──────────────────────────────────────┼─────────────────────────────┼─────────────────┤\n",
              "│ bidirectional_10 (<span style=\"color: #0087ff; text-decoration-color: #0087ff\">Bidirectional</span>)     │ (<span style=\"color: #00d7ff; text-decoration-color: #00d7ff\">None</span>, <span style=\"color: #00af00; text-decoration-color: #00af00\">1</span>, <span style=\"color: #00af00; text-decoration-color: #00af00\">128</span>)              │         <span style=\"color: #00af00; text-decoration-color: #00af00\">295,424</span> │\n",
              "├──────────────────────────────────────┼─────────────────────────────┼─────────────────┤\n",
              "│ bidirectional_11 (<span style=\"color: #0087ff; text-decoration-color: #0087ff\">Bidirectional</span>)     │ (<span style=\"color: #00d7ff; text-decoration-color: #00d7ff\">None</span>, <span style=\"color: #00af00; text-decoration-color: #00af00\">256</span>)                 │         <span style=\"color: #00af00; text-decoration-color: #00af00\">263,168</span> │\n",
              "├──────────────────────────────────────┼─────────────────────────────┼─────────────────┤\n",
              "│ dense_10 (<span style=\"color: #0087ff; text-decoration-color: #0087ff\">Dense</span>)                     │ (<span style=\"color: #00d7ff; text-decoration-color: #00d7ff\">None</span>, <span style=\"color: #00af00; text-decoration-color: #00af00\">64</span>)                  │          <span style=\"color: #00af00; text-decoration-color: #00af00\">16,448</span> │\n",
              "├──────────────────────────────────────┼─────────────────────────────┼─────────────────┤\n",
              "│ dense_11 (<span style=\"color: #0087ff; text-decoration-color: #0087ff\">Dense</span>)                     │ (<span style=\"color: #00d7ff; text-decoration-color: #00d7ff\">None</span>, <span style=\"color: #00af00; text-decoration-color: #00af00\">1</span>)                   │              <span style=\"color: #00af00; text-decoration-color: #00af00\">65</span> │\n",
              "└──────────────────────────────────────┴─────────────────────────────┴─────────────────┘\n",
              "</pre>\n"
            ]
          },
          "metadata": {}
        },
        {
          "output_type": "display_data",
          "data": {
            "text/plain": [
              "\u001b[1m Total params: \u001b[0m\u001b[38;5;34m575,105\u001b[0m (2.19 MB)\n"
            ],
            "text/html": [
              "<pre style=\"white-space:pre;overflow-x:auto;line-height:normal;font-family:Menlo,'DejaVu Sans Mono',consolas,'Courier New',monospace\"><span style=\"font-weight: bold\"> Total params: </span><span style=\"color: #00af00; text-decoration-color: #00af00\">575,105</span> (2.19 MB)\n",
              "</pre>\n"
            ]
          },
          "metadata": {}
        },
        {
          "output_type": "display_data",
          "data": {
            "text/plain": [
              "\u001b[1m Trainable params: \u001b[0m\u001b[38;5;34m575,105\u001b[0m (2.19 MB)\n"
            ],
            "text/html": [
              "<pre style=\"white-space:pre;overflow-x:auto;line-height:normal;font-family:Menlo,'DejaVu Sans Mono',consolas,'Courier New',monospace\"><span style=\"font-weight: bold\"> Trainable params: </span><span style=\"color: #00af00; text-decoration-color: #00af00\">575,105</span> (2.19 MB)\n",
              "</pre>\n"
            ]
          },
          "metadata": {}
        },
        {
          "output_type": "display_data",
          "data": {
            "text/plain": [
              "\u001b[1m Non-trainable params: \u001b[0m\u001b[38;5;34m0\u001b[0m (0.00 B)\n"
            ],
            "text/html": [
              "<pre style=\"white-space:pre;overflow-x:auto;line-height:normal;font-family:Menlo,'DejaVu Sans Mono',consolas,'Courier New',monospace\"><span style=\"font-weight: bold\"> Non-trainable params: </span><span style=\"color: #00af00; text-decoration-color: #00af00\">0</span> (0.00 B)\n",
              "</pre>\n"
            ]
          },
          "metadata": {}
        }
      ]
    },
    {
      "cell_type": "code",
      "source": [
        "model_4_history = model_4.fit(train_dataset_final,epochs=5,validation_data=(validation_dataset_final),callbacks=[create_tensorboard_callback('model_logs', \"sentence_encoder\")])"
      ],
      "metadata": {
        "colab": {
          "base_uri": "https://localhost:8080/"
        },
        "id": "M_3v6rmJ658I",
        "outputId": "0903b1f9-3630-45dd-a994-c0daf20ca686"
      },
      "execution_count": null,
      "outputs": [
        {
          "output_type": "stream",
          "name": "stdout",
          "text": [
            "Saving TensorBoard log files to: model_logs/sentence_encoder/20241229-104012\n",
            "Epoch 1/5\n",
            "\u001b[1m215/215\u001b[0m \u001b[32m━━━━━━━━━━━━━━━━━━━━\u001b[0m\u001b[37m\u001b[0m \u001b[1m13s\u001b[0m 30ms/step - accuracy: 0.7245 - loss: 0.5571 - val_accuracy: 0.7953 - val_loss: 0.4556\n",
            "Epoch 2/5\n",
            "\u001b[1m215/215\u001b[0m \u001b[32m━━━━━━━━━━━━━━━━━━━━\u001b[0m\u001b[37m\u001b[0m \u001b[1m7s\u001b[0m 15ms/step - accuracy: 0.8219 - loss: 0.4194 - val_accuracy: 0.8058 - val_loss: 0.4500\n",
            "Epoch 3/5\n",
            "\u001b[1m215/215\u001b[0m \u001b[32m━━━━━━━━━━━━━━━━━━━━\u001b[0m\u001b[37m\u001b[0m \u001b[1m9s\u001b[0m 35ms/step - accuracy: 0.8290 - loss: 0.4010 - val_accuracy: 0.8110 - val_loss: 0.4545\n",
            "Epoch 4/5\n",
            "\u001b[1m215/215\u001b[0m \u001b[32m━━━━━━━━━━━━━━━━━━━━\u001b[0m\u001b[37m\u001b[0m \u001b[1m11s\u001b[0m 38ms/step - accuracy: 0.8225 - loss: 0.4005 - val_accuracy: 0.8136 - val_loss: 0.4475\n",
            "Epoch 5/5\n",
            "\u001b[1m215/215\u001b[0m \u001b[32m━━━━━━━━━━━━━━━━━━━━\u001b[0m\u001b[37m\u001b[0m \u001b[1m6s\u001b[0m 30ms/step - accuracy: 0.8283 - loss: 0.3837 - val_accuracy: 0.8058 - val_loss: 0.4670\n"
          ]
        }
      ]
    },
    {
      "cell_type": "code",
      "source": [
        "model_4.evaluate(test_dataset_final)"
      ],
      "metadata": {
        "colab": {
          "base_uri": "https://localhost:8080/"
        },
        "id": "Agpzfxjr_155",
        "outputId": "f496dafc-836a-4ed1-8946-ce591cd6128f"
      },
      "execution_count": null,
      "outputs": [
        {
          "output_type": "stream",
          "name": "stdout",
          "text": [
            "\u001b[1m12/12\u001b[0m \u001b[32m━━━━━━━━━━━━━━━━━━━━\u001b[0m\u001b[37m\u001b[0m \u001b[1m1s\u001b[0m 16ms/step - accuracy: 0.7977 - loss: 0.4560\n"
          ]
        },
        {
          "output_type": "execute_result",
          "data": {
            "text/plain": [
              "[0.43276625871658325, 0.808398962020874]"
            ]
          },
          "metadata": {},
          "execution_count": 106
        }
      ]
    },
    {
      "cell_type": "code",
      "source": [
        "def convert_text_to_number(text):\n",
        "  dataset = tf.data.Dataset.from_tensor_slices([text])\n",
        "  dataset = dataset.map(lambda text: (sentence_encoder_layer(text)))\n",
        "  return dataset"
      ],
      "metadata": {
        "id": "RCEtmQVyARoY"
      },
      "execution_count": null,
      "outputs": []
    },
    {
      "cell_type": "code",
      "source": [
        "test_sentences_vectorized = convert_text_to_number(test_sentences)\n",
        "test_sentences_vectorized"
      ],
      "metadata": {
        "colab": {
          "base_uri": "https://localhost:8080/"
        },
        "id": "la-A_jFbAsqU",
        "outputId": "d46d5715-958c-4253-dcc1-01644390cb70"
      },
      "execution_count": null,
      "outputs": [
        {
          "output_type": "execute_result",
          "data": {
            "text/plain": [
              "<_MapDataset element_spec=TensorSpec(shape=(None, 512), dtype=tf.float32, name=None)>"
            ]
          },
          "metadata": {},
          "execution_count": 110
        }
      ]
    },
    {
      "cell_type": "code",
      "source": [
        "model_4_pred_probs = model_4.predict(test_sentences_vectorized)"
      ],
      "metadata": {
        "colab": {
          "base_uri": "https://localhost:8080/"
        },
        "id": "0kmsU3J2A4iC",
        "outputId": "b6abe103-f60f-411d-d671-8110f686e64e"
      },
      "execution_count": null,
      "outputs": [
        {
          "output_type": "stream",
          "name": "stdout",
          "text": [
            "\u001b[1m1/1\u001b[0m \u001b[32m━━━━━━━━━━━━━━━━━━━━\u001b[0m\u001b[37m\u001b[0m \u001b[1m2s\u001b[0m 2s/step\n"
          ]
        }
      ]
    },
    {
      "cell_type": "code",
      "source": [
        "model_4_preds = tf.squeeze(tf.round(model_4_pred_probs))\n",
        "model_4_preds = model_4_preds.cpu().numpy()\n",
        "model_4_results = calculate_results(y_true=test_labels, y_pred=model_4_preds)\n",
        "model_4_results"
      ],
      "metadata": {
        "colab": {
          "base_uri": "https://localhost:8080/"
        },
        "id": "OZDzuk7FBFlJ",
        "outputId": "b12a0840-c551-4996-c986-ab59e3138824"
      },
      "execution_count": null,
      "outputs": [
        {
          "output_type": "execute_result",
          "data": {
            "text/plain": [
              "{'accuracy': 80.83989501312337,\n",
              " 'precision': 0.8138356212639025,\n",
              " 'recall': 0.8083989501312336,\n",
              " 'f1': 0.806957547982612}"
            ]
          },
          "metadata": {},
          "execution_count": 112
        }
      ]
    },
    {
      "cell_type": "code",
      "source": [
        "compare_baseline_to_new_results(baseline_results=baseline_result, new_model_results=model_4_results)"
      ],
      "metadata": {
        "colab": {
          "base_uri": "https://localhost:8080/"
        },
        "id": "CRtPypXhBQ4v",
        "outputId": "c92f839f-46a5-402c-da1f-6e138da3a3b4"
      },
      "execution_count": null,
      "outputs": [
        {
          "output_type": "stream",
          "name": "stdout",
          "text": [
            "Baseline accuracy: 79.27, New accuracy: 80.84, Difference: 1.57\n",
            "Baseline precision: 0.81, New precision: 0.81, Difference: 0.00\n",
            "Baseline recall: 0.79, New recall: 0.81, Difference: 0.02\n",
            "Baseline f1: 0.79, New f1: 0.81, Difference: 0.02\n"
          ]
        }
      ]
    },
    {
      "cell_type": "markdown",
      "source": [
        "## Compare Model Results"
      ],
      "metadata": {
        "id": "Ag6MnFaYB8uo"
      }
    },
    {
      "cell_type": "code",
      "source": [
        "all_model_results = pd.DataFrame({\"baseline\": baseline_result,\n",
        "                                  \"simple_dense\": model_1_results,\n",
        "                                  \"lstm\": model_2_results,\n",
        "                                  \"conv1d\": model_3_results,\n",
        "                                  \"tf_hub_sentence_encoder\": model_4_results})\n",
        "all_model_results = all_model_results.transpose()\n",
        "all_model_results"
      ],
      "metadata": {
        "colab": {
          "base_uri": "https://localhost:8080/",
          "height": 206
        },
        "id": "peogyXZTBWY5",
        "outputId": "e632bb5f-582e-4061-d186-91ffe23c43db"
      },
      "execution_count": null,
      "outputs": [
        {
          "output_type": "execute_result",
          "data": {
            "text/plain": [
              "                          accuracy  precision    recall        f1\n",
              "baseline                 79.265092   0.811139  0.792651  0.786219\n",
              "simple_dense             73.753281   0.743783  0.737533  0.734599\n",
              "lstm                     48.293963   0.233231  0.482940  0.314552\n",
              "conv1d                   74.540682   0.756713  0.745407  0.741090\n",
              "tf_hub_sentence_encoder  80.839895   0.813836  0.808399  0.806958"
            ],
            "text/html": [
              "\n",
              "  <div id=\"df-39f4f4ca-5eaf-4f56-b00c-d3d7e749ef93\" class=\"colab-df-container\">\n",
              "    <div>\n",
              "<style scoped>\n",
              "    .dataframe tbody tr th:only-of-type {\n",
              "        vertical-align: middle;\n",
              "    }\n",
              "\n",
              "    .dataframe tbody tr th {\n",
              "        vertical-align: top;\n",
              "    }\n",
              "\n",
              "    .dataframe thead th {\n",
              "        text-align: right;\n",
              "    }\n",
              "</style>\n",
              "<table border=\"1\" class=\"dataframe\">\n",
              "  <thead>\n",
              "    <tr style=\"text-align: right;\">\n",
              "      <th></th>\n",
              "      <th>accuracy</th>\n",
              "      <th>precision</th>\n",
              "      <th>recall</th>\n",
              "      <th>f1</th>\n",
              "    </tr>\n",
              "  </thead>\n",
              "  <tbody>\n",
              "    <tr>\n",
              "      <th>baseline</th>\n",
              "      <td>79.265092</td>\n",
              "      <td>0.811139</td>\n",
              "      <td>0.792651</td>\n",
              "      <td>0.786219</td>\n",
              "    </tr>\n",
              "    <tr>\n",
              "      <th>simple_dense</th>\n",
              "      <td>73.753281</td>\n",
              "      <td>0.743783</td>\n",
              "      <td>0.737533</td>\n",
              "      <td>0.734599</td>\n",
              "    </tr>\n",
              "    <tr>\n",
              "      <th>lstm</th>\n",
              "      <td>48.293963</td>\n",
              "      <td>0.233231</td>\n",
              "      <td>0.482940</td>\n",
              "      <td>0.314552</td>\n",
              "    </tr>\n",
              "    <tr>\n",
              "      <th>conv1d</th>\n",
              "      <td>74.540682</td>\n",
              "      <td>0.756713</td>\n",
              "      <td>0.745407</td>\n",
              "      <td>0.741090</td>\n",
              "    </tr>\n",
              "    <tr>\n",
              "      <th>tf_hub_sentence_encoder</th>\n",
              "      <td>80.839895</td>\n",
              "      <td>0.813836</td>\n",
              "      <td>0.808399</td>\n",
              "      <td>0.806958</td>\n",
              "    </tr>\n",
              "  </tbody>\n",
              "</table>\n",
              "</div>\n",
              "    <div class=\"colab-df-buttons\">\n",
              "\n",
              "  <div class=\"colab-df-container\">\n",
              "    <button class=\"colab-df-convert\" onclick=\"convertToInteractive('df-39f4f4ca-5eaf-4f56-b00c-d3d7e749ef93')\"\n",
              "            title=\"Convert this dataframe to an interactive table.\"\n",
              "            style=\"display:none;\">\n",
              "\n",
              "  <svg xmlns=\"http://www.w3.org/2000/svg\" height=\"24px\" viewBox=\"0 -960 960 960\">\n",
              "    <path d=\"M120-120v-720h720v720H120Zm60-500h600v-160H180v160Zm220 220h160v-160H400v160Zm0 220h160v-160H400v160ZM180-400h160v-160H180v160Zm440 0h160v-160H620v160ZM180-180h160v-160H180v160Zm440 0h160v-160H620v160Z\"/>\n",
              "  </svg>\n",
              "    </button>\n",
              "\n",
              "  <style>\n",
              "    .colab-df-container {\n",
              "      display:flex;\n",
              "      gap: 12px;\n",
              "    }\n",
              "\n",
              "    .colab-df-convert {\n",
              "      background-color: #E8F0FE;\n",
              "      border: none;\n",
              "      border-radius: 50%;\n",
              "      cursor: pointer;\n",
              "      display: none;\n",
              "      fill: #1967D2;\n",
              "      height: 32px;\n",
              "      padding: 0 0 0 0;\n",
              "      width: 32px;\n",
              "    }\n",
              "\n",
              "    .colab-df-convert:hover {\n",
              "      background-color: #E2EBFA;\n",
              "      box-shadow: 0px 1px 2px rgba(60, 64, 67, 0.3), 0px 1px 3px 1px rgba(60, 64, 67, 0.15);\n",
              "      fill: #174EA6;\n",
              "    }\n",
              "\n",
              "    .colab-df-buttons div {\n",
              "      margin-bottom: 4px;\n",
              "    }\n",
              "\n",
              "    [theme=dark] .colab-df-convert {\n",
              "      background-color: #3B4455;\n",
              "      fill: #D2E3FC;\n",
              "    }\n",
              "\n",
              "    [theme=dark] .colab-df-convert:hover {\n",
              "      background-color: #434B5C;\n",
              "      box-shadow: 0px 1px 3px 1px rgba(0, 0, 0, 0.15);\n",
              "      filter: drop-shadow(0px 1px 2px rgba(0, 0, 0, 0.3));\n",
              "      fill: #FFFFFF;\n",
              "    }\n",
              "  </style>\n",
              "\n",
              "    <script>\n",
              "      const buttonEl =\n",
              "        document.querySelector('#df-39f4f4ca-5eaf-4f56-b00c-d3d7e749ef93 button.colab-df-convert');\n",
              "      buttonEl.style.display =\n",
              "        google.colab.kernel.accessAllowed ? 'block' : 'none';\n",
              "\n",
              "      async function convertToInteractive(key) {\n",
              "        const element = document.querySelector('#df-39f4f4ca-5eaf-4f56-b00c-d3d7e749ef93');\n",
              "        const dataTable =\n",
              "          await google.colab.kernel.invokeFunction('convertToInteractive',\n",
              "                                                    [key], {});\n",
              "        if (!dataTable) return;\n",
              "\n",
              "        const docLinkHtml = 'Like what you see? Visit the ' +\n",
              "          '<a target=\"_blank\" href=https://colab.research.google.com/notebooks/data_table.ipynb>data table notebook</a>'\n",
              "          + ' to learn more about interactive tables.';\n",
              "        element.innerHTML = '';\n",
              "        dataTable['output_type'] = 'display_data';\n",
              "        await google.colab.output.renderOutput(dataTable, element);\n",
              "        const docLink = document.createElement('div');\n",
              "        docLink.innerHTML = docLinkHtml;\n",
              "        element.appendChild(docLink);\n",
              "      }\n",
              "    </script>\n",
              "  </div>\n",
              "\n",
              "\n",
              "<div id=\"df-d259bd2d-72c9-422c-9274-2d1d09cf298d\">\n",
              "  <button class=\"colab-df-quickchart\" onclick=\"quickchart('df-d259bd2d-72c9-422c-9274-2d1d09cf298d')\"\n",
              "            title=\"Suggest charts\"\n",
              "            style=\"display:none;\">\n",
              "\n",
              "<svg xmlns=\"http://www.w3.org/2000/svg\" height=\"24px\"viewBox=\"0 0 24 24\"\n",
              "     width=\"24px\">\n",
              "    <g>\n",
              "        <path d=\"M19 3H5c-1.1 0-2 .9-2 2v14c0 1.1.9 2 2 2h14c1.1 0 2-.9 2-2V5c0-1.1-.9-2-2-2zM9 17H7v-7h2v7zm4 0h-2V7h2v10zm4 0h-2v-4h2v4z\"/>\n",
              "    </g>\n",
              "</svg>\n",
              "  </button>\n",
              "\n",
              "<style>\n",
              "  .colab-df-quickchart {\n",
              "      --bg-color: #E8F0FE;\n",
              "      --fill-color: #1967D2;\n",
              "      --hover-bg-color: #E2EBFA;\n",
              "      --hover-fill-color: #174EA6;\n",
              "      --disabled-fill-color: #AAA;\n",
              "      --disabled-bg-color: #DDD;\n",
              "  }\n",
              "\n",
              "  [theme=dark] .colab-df-quickchart {\n",
              "      --bg-color: #3B4455;\n",
              "      --fill-color: #D2E3FC;\n",
              "      --hover-bg-color: #434B5C;\n",
              "      --hover-fill-color: #FFFFFF;\n",
              "      --disabled-bg-color: #3B4455;\n",
              "      --disabled-fill-color: #666;\n",
              "  }\n",
              "\n",
              "  .colab-df-quickchart {\n",
              "    background-color: var(--bg-color);\n",
              "    border: none;\n",
              "    border-radius: 50%;\n",
              "    cursor: pointer;\n",
              "    display: none;\n",
              "    fill: var(--fill-color);\n",
              "    height: 32px;\n",
              "    padding: 0;\n",
              "    width: 32px;\n",
              "  }\n",
              "\n",
              "  .colab-df-quickchart:hover {\n",
              "    background-color: var(--hover-bg-color);\n",
              "    box-shadow: 0 1px 2px rgba(60, 64, 67, 0.3), 0 1px 3px 1px rgba(60, 64, 67, 0.15);\n",
              "    fill: var(--button-hover-fill-color);\n",
              "  }\n",
              "\n",
              "  .colab-df-quickchart-complete:disabled,\n",
              "  .colab-df-quickchart-complete:disabled:hover {\n",
              "    background-color: var(--disabled-bg-color);\n",
              "    fill: var(--disabled-fill-color);\n",
              "    box-shadow: none;\n",
              "  }\n",
              "\n",
              "  .colab-df-spinner {\n",
              "    border: 2px solid var(--fill-color);\n",
              "    border-color: transparent;\n",
              "    border-bottom-color: var(--fill-color);\n",
              "    animation:\n",
              "      spin 1s steps(1) infinite;\n",
              "  }\n",
              "\n",
              "  @keyframes spin {\n",
              "    0% {\n",
              "      border-color: transparent;\n",
              "      border-bottom-color: var(--fill-color);\n",
              "      border-left-color: var(--fill-color);\n",
              "    }\n",
              "    20% {\n",
              "      border-color: transparent;\n",
              "      border-left-color: var(--fill-color);\n",
              "      border-top-color: var(--fill-color);\n",
              "    }\n",
              "    30% {\n",
              "      border-color: transparent;\n",
              "      border-left-color: var(--fill-color);\n",
              "      border-top-color: var(--fill-color);\n",
              "      border-right-color: var(--fill-color);\n",
              "    }\n",
              "    40% {\n",
              "      border-color: transparent;\n",
              "      border-right-color: var(--fill-color);\n",
              "      border-top-color: var(--fill-color);\n",
              "    }\n",
              "    60% {\n",
              "      border-color: transparent;\n",
              "      border-right-color: var(--fill-color);\n",
              "    }\n",
              "    80% {\n",
              "      border-color: transparent;\n",
              "      border-right-color: var(--fill-color);\n",
              "      border-bottom-color: var(--fill-color);\n",
              "    }\n",
              "    90% {\n",
              "      border-color: transparent;\n",
              "      border-bottom-color: var(--fill-color);\n",
              "    }\n",
              "  }\n",
              "</style>\n",
              "\n",
              "  <script>\n",
              "    async function quickchart(key) {\n",
              "      const quickchartButtonEl =\n",
              "        document.querySelector('#' + key + ' button');\n",
              "      quickchartButtonEl.disabled = true;  // To prevent multiple clicks.\n",
              "      quickchartButtonEl.classList.add('colab-df-spinner');\n",
              "      try {\n",
              "        const charts = await google.colab.kernel.invokeFunction(\n",
              "            'suggestCharts', [key], {});\n",
              "      } catch (error) {\n",
              "        console.error('Error during call to suggestCharts:', error);\n",
              "      }\n",
              "      quickchartButtonEl.classList.remove('colab-df-spinner');\n",
              "      quickchartButtonEl.classList.add('colab-df-quickchart-complete');\n",
              "    }\n",
              "    (() => {\n",
              "      let quickchartButtonEl =\n",
              "        document.querySelector('#df-d259bd2d-72c9-422c-9274-2d1d09cf298d button');\n",
              "      quickchartButtonEl.style.display =\n",
              "        google.colab.kernel.accessAllowed ? 'block' : 'none';\n",
              "    })();\n",
              "  </script>\n",
              "</div>\n",
              "\n",
              "  <div id=\"id_f0e75559-4525-4579-a209-61853859551b\">\n",
              "    <style>\n",
              "      .colab-df-generate {\n",
              "        background-color: #E8F0FE;\n",
              "        border: none;\n",
              "        border-radius: 50%;\n",
              "        cursor: pointer;\n",
              "        display: none;\n",
              "        fill: #1967D2;\n",
              "        height: 32px;\n",
              "        padding: 0 0 0 0;\n",
              "        width: 32px;\n",
              "      }\n",
              "\n",
              "      .colab-df-generate:hover {\n",
              "        background-color: #E2EBFA;\n",
              "        box-shadow: 0px 1px 2px rgba(60, 64, 67, 0.3), 0px 1px 3px 1px rgba(60, 64, 67, 0.15);\n",
              "        fill: #174EA6;\n",
              "      }\n",
              "\n",
              "      [theme=dark] .colab-df-generate {\n",
              "        background-color: #3B4455;\n",
              "        fill: #D2E3FC;\n",
              "      }\n",
              "\n",
              "      [theme=dark] .colab-df-generate:hover {\n",
              "        background-color: #434B5C;\n",
              "        box-shadow: 0px 1px 3px 1px rgba(0, 0, 0, 0.15);\n",
              "        filter: drop-shadow(0px 1px 2px rgba(0, 0, 0, 0.3));\n",
              "        fill: #FFFFFF;\n",
              "      }\n",
              "    </style>\n",
              "    <button class=\"colab-df-generate\" onclick=\"generateWithVariable('all_model_results')\"\n",
              "            title=\"Generate code using this dataframe.\"\n",
              "            style=\"display:none;\">\n",
              "\n",
              "  <svg xmlns=\"http://www.w3.org/2000/svg\" height=\"24px\"viewBox=\"0 0 24 24\"\n",
              "       width=\"24px\">\n",
              "    <path d=\"M7,19H8.4L18.45,9,17,7.55,7,17.6ZM5,21V16.75L18.45,3.32a2,2,0,0,1,2.83,0l1.4,1.43a1.91,1.91,0,0,1,.58,1.4,1.91,1.91,0,0,1-.58,1.4L9.25,21ZM18.45,9,17,7.55Zm-12,3A5.31,5.31,0,0,0,4.9,8.1,5.31,5.31,0,0,0,1,6.5,5.31,5.31,0,0,0,4.9,4.9,5.31,5.31,0,0,0,6.5,1,5.31,5.31,0,0,0,8.1,4.9,5.31,5.31,0,0,0,12,6.5,5.46,5.46,0,0,0,6.5,12Z\"/>\n",
              "  </svg>\n",
              "    </button>\n",
              "    <script>\n",
              "      (() => {\n",
              "      const buttonEl =\n",
              "        document.querySelector('#id_f0e75559-4525-4579-a209-61853859551b button.colab-df-generate');\n",
              "      buttonEl.style.display =\n",
              "        google.colab.kernel.accessAllowed ? 'block' : 'none';\n",
              "\n",
              "      buttonEl.onclick = () => {\n",
              "        google.colab.notebook.generateWithVariable('all_model_results');\n",
              "      }\n",
              "      })();\n",
              "    </script>\n",
              "  </div>\n",
              "\n",
              "    </div>\n",
              "  </div>\n"
            ],
            "application/vnd.google.colaboratory.intrinsic+json": {
              "type": "dataframe",
              "variable_name": "all_model_results",
              "summary": "{\n  \"name\": \"all_model_results\",\n  \"rows\": 5,\n  \"fields\": [\n    {\n      \"column\": \"accuracy\",\n      \"properties\": {\n        \"dtype\": \"number\",\n        \"std\": 13.23105417440476,\n        \"min\": 48.29396325459317,\n        \"max\": 80.83989501312337,\n        \"num_unique_values\": 5,\n        \"samples\": [\n          73.75328083989501,\n          80.83989501312337,\n          48.29396325459317\n        ],\n        \"semantic_type\": \"\",\n        \"description\": \"\"\n      }\n    },\n    {\n      \"column\": \"precision\",\n      \"properties\": {\n        \"dtype\": \"number\",\n        \"std\": 0.24714586330796087,\n        \"min\": 0.23323068868359959,\n        \"max\": 0.8138356212639025,\n        \"num_unique_values\": 5,\n        \"samples\": [\n          0.7437833907125246,\n          0.8138356212639025,\n          0.23323068868359959\n        ],\n        \"semantic_type\": \"\",\n        \"description\": \"\"\n      }\n    },\n    {\n      \"column\": \"recall\",\n      \"properties\": {\n        \"dtype\": \"number\",\n        \"std\": 0.13231054174404758,\n        \"min\": 0.48293963254593175,\n        \"max\": 0.8083989501312336,\n        \"num_unique_values\": 5,\n        \"samples\": [\n          0.7375328083989501,\n          0.8083989501312336,\n          0.48293963254593175\n        ],\n        \"semantic_type\": \"\",\n        \"description\": \"\"\n      }\n    },\n    {\n      \"column\": \"f1\",\n      \"properties\": {\n        \"dtype\": \"number\",\n        \"std\": 0.20470167660831762,\n        \"min\": 0.31455183146354493,\n        \"max\": 0.806957547982612,\n        \"num_unique_values\": 5,\n        \"samples\": [\n          0.734598798576223,\n          0.806957547982612,\n          0.31455183146354493\n        ],\n        \"semantic_type\": \"\",\n        \"description\": \"\"\n      }\n    }\n  ]\n}"
            }
          },
          "metadata": {},
          "execution_count": 114
        }
      ]
    },
    {
      "cell_type": "code",
      "source": [],
      "metadata": {
        "id": "-9Djr8BUCJ8V"
      },
      "execution_count": null,
      "outputs": []
    }
  ]
}